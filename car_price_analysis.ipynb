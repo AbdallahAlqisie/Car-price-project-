{
  "nbformat": 4,
  "nbformat_minor": 0,
  "metadata": {
    "colab": {
      "provenance": []
    },
    "kernelspec": {
      "name": "python3",
      "display_name": "Python 3"
    },
    "language_info": {
      "name": "python"
    }
  },
  "cells": [
    {
      "cell_type": "code",
      "execution_count": null,
      "metadata": {
        "id": "vh4KQGDFND85"
      },
      "outputs": [],
      "source": [
        "import pandas as pd \n",
        "import numpy as np\n",
        "import matplotlib.pyplot as plt\n",
        "import seaborn as sns"
      ]
    },
    {
      "cell_type": "code",
      "source": [
        "df= pd.read_csv('/content/CarPrice_Assignment (1).csv')"
      ],
      "metadata": {
        "id": "WA6IjA6xNVO6"
      },
      "execution_count": null,
      "outputs": []
    },
    {
      "cell_type": "markdown",
      "source": [],
      "metadata": {
        "id": "8DA0BZD2yk0F"
      }
    },
    {
      "cell_type": "markdown",
      "source": [
        "## first look"
      ],
      "metadata": {
        "id": "yu8GNt95NdJq"
      }
    },
    {
      "cell_type": "code",
      "source": [
        "df.head()"
      ],
      "metadata": {
        "colab": {
          "base_uri": "https://localhost:8080/",
          "height": 352
        },
        "id": "crNNnJ8UNh7N",
        "outputId": "1a0c0742-7a44-429b-b937-82479239dc28"
      },
      "execution_count": null,
      "outputs": [
        {
          "output_type": "execute_result",
          "data": {
            "text/plain": [
              "   car_ID  symboling                   CarName fueltype aspiration doornumber  \\\n",
              "0       1          3        alfa-romero giulia      gas        std        two   \n",
              "1       2          3       alfa-romero stelvio      gas        std        two   \n",
              "2       3          1  alfa-romero Quadrifoglio      gas        std        two   \n",
              "3       4          2               audi 100 ls      gas        std       four   \n",
              "4       5          2                audi 100ls      gas        std       four   \n",
              "\n",
              "       carbody drivewheel enginelocation  wheelbase  ...  enginesize  \\\n",
              "0  convertible        rwd          front       88.6  ...         130   \n",
              "1  convertible        rwd          front       88.6  ...         130   \n",
              "2    hatchback        rwd          front       94.5  ...         152   \n",
              "3        sedan        fwd          front       99.8  ...         109   \n",
              "4        sedan        4wd          front       99.4  ...         136   \n",
              "\n",
              "   fuelsystem  boreratio  stroke compressionratio horsepower  peakrpm citympg  \\\n",
              "0        mpfi       3.47    2.68              9.0        111     5000      21   \n",
              "1        mpfi       3.47    2.68              9.0        111     5000      21   \n",
              "2        mpfi       2.68    3.47              9.0        154     5000      19   \n",
              "3        mpfi       3.19    3.40             10.0        102     5500      24   \n",
              "4        mpfi       3.19    3.40              8.0        115     5500      18   \n",
              "\n",
              "   highwaympg    price  \n",
              "0          27  13495.0  \n",
              "1          27  16500.0  \n",
              "2          26  16500.0  \n",
              "3          30  13950.0  \n",
              "4          22  17450.0  \n",
              "\n",
              "[5 rows x 26 columns]"
            ],
            "text/html": [
              "\n",
              "  <div id=\"df-46ce66d6-911a-493f-9cfc-3af96dc40903\">\n",
              "    <div class=\"colab-df-container\">\n",
              "      <div>\n",
              "<style scoped>\n",
              "    .dataframe tbody tr th:only-of-type {\n",
              "        vertical-align: middle;\n",
              "    }\n",
              "\n",
              "    .dataframe tbody tr th {\n",
              "        vertical-align: top;\n",
              "    }\n",
              "\n",
              "    .dataframe thead th {\n",
              "        text-align: right;\n",
              "    }\n",
              "</style>\n",
              "<table border=\"1\" class=\"dataframe\">\n",
              "  <thead>\n",
              "    <tr style=\"text-align: right;\">\n",
              "      <th></th>\n",
              "      <th>car_ID</th>\n",
              "      <th>symboling</th>\n",
              "      <th>CarName</th>\n",
              "      <th>fueltype</th>\n",
              "      <th>aspiration</th>\n",
              "      <th>doornumber</th>\n",
              "      <th>carbody</th>\n",
              "      <th>drivewheel</th>\n",
              "      <th>enginelocation</th>\n",
              "      <th>wheelbase</th>\n",
              "      <th>...</th>\n",
              "      <th>enginesize</th>\n",
              "      <th>fuelsystem</th>\n",
              "      <th>boreratio</th>\n",
              "      <th>stroke</th>\n",
              "      <th>compressionratio</th>\n",
              "      <th>horsepower</th>\n",
              "      <th>peakrpm</th>\n",
              "      <th>citympg</th>\n",
              "      <th>highwaympg</th>\n",
              "      <th>price</th>\n",
              "    </tr>\n",
              "  </thead>\n",
              "  <tbody>\n",
              "    <tr>\n",
              "      <th>0</th>\n",
              "      <td>1</td>\n",
              "      <td>3</td>\n",
              "      <td>alfa-romero giulia</td>\n",
              "      <td>gas</td>\n",
              "      <td>std</td>\n",
              "      <td>two</td>\n",
              "      <td>convertible</td>\n",
              "      <td>rwd</td>\n",
              "      <td>front</td>\n",
              "      <td>88.6</td>\n",
              "      <td>...</td>\n",
              "      <td>130</td>\n",
              "      <td>mpfi</td>\n",
              "      <td>3.47</td>\n",
              "      <td>2.68</td>\n",
              "      <td>9.0</td>\n",
              "      <td>111</td>\n",
              "      <td>5000</td>\n",
              "      <td>21</td>\n",
              "      <td>27</td>\n",
              "      <td>13495.0</td>\n",
              "    </tr>\n",
              "    <tr>\n",
              "      <th>1</th>\n",
              "      <td>2</td>\n",
              "      <td>3</td>\n",
              "      <td>alfa-romero stelvio</td>\n",
              "      <td>gas</td>\n",
              "      <td>std</td>\n",
              "      <td>two</td>\n",
              "      <td>convertible</td>\n",
              "      <td>rwd</td>\n",
              "      <td>front</td>\n",
              "      <td>88.6</td>\n",
              "      <td>...</td>\n",
              "      <td>130</td>\n",
              "      <td>mpfi</td>\n",
              "      <td>3.47</td>\n",
              "      <td>2.68</td>\n",
              "      <td>9.0</td>\n",
              "      <td>111</td>\n",
              "      <td>5000</td>\n",
              "      <td>21</td>\n",
              "      <td>27</td>\n",
              "      <td>16500.0</td>\n",
              "    </tr>\n",
              "    <tr>\n",
              "      <th>2</th>\n",
              "      <td>3</td>\n",
              "      <td>1</td>\n",
              "      <td>alfa-romero Quadrifoglio</td>\n",
              "      <td>gas</td>\n",
              "      <td>std</td>\n",
              "      <td>two</td>\n",
              "      <td>hatchback</td>\n",
              "      <td>rwd</td>\n",
              "      <td>front</td>\n",
              "      <td>94.5</td>\n",
              "      <td>...</td>\n",
              "      <td>152</td>\n",
              "      <td>mpfi</td>\n",
              "      <td>2.68</td>\n",
              "      <td>3.47</td>\n",
              "      <td>9.0</td>\n",
              "      <td>154</td>\n",
              "      <td>5000</td>\n",
              "      <td>19</td>\n",
              "      <td>26</td>\n",
              "      <td>16500.0</td>\n",
              "    </tr>\n",
              "    <tr>\n",
              "      <th>3</th>\n",
              "      <td>4</td>\n",
              "      <td>2</td>\n",
              "      <td>audi 100 ls</td>\n",
              "      <td>gas</td>\n",
              "      <td>std</td>\n",
              "      <td>four</td>\n",
              "      <td>sedan</td>\n",
              "      <td>fwd</td>\n",
              "      <td>front</td>\n",
              "      <td>99.8</td>\n",
              "      <td>...</td>\n",
              "      <td>109</td>\n",
              "      <td>mpfi</td>\n",
              "      <td>3.19</td>\n",
              "      <td>3.40</td>\n",
              "      <td>10.0</td>\n",
              "      <td>102</td>\n",
              "      <td>5500</td>\n",
              "      <td>24</td>\n",
              "      <td>30</td>\n",
              "      <td>13950.0</td>\n",
              "    </tr>\n",
              "    <tr>\n",
              "      <th>4</th>\n",
              "      <td>5</td>\n",
              "      <td>2</td>\n",
              "      <td>audi 100ls</td>\n",
              "      <td>gas</td>\n",
              "      <td>std</td>\n",
              "      <td>four</td>\n",
              "      <td>sedan</td>\n",
              "      <td>4wd</td>\n",
              "      <td>front</td>\n",
              "      <td>99.4</td>\n",
              "      <td>...</td>\n",
              "      <td>136</td>\n",
              "      <td>mpfi</td>\n",
              "      <td>3.19</td>\n",
              "      <td>3.40</td>\n",
              "      <td>8.0</td>\n",
              "      <td>115</td>\n",
              "      <td>5500</td>\n",
              "      <td>18</td>\n",
              "      <td>22</td>\n",
              "      <td>17450.0</td>\n",
              "    </tr>\n",
              "  </tbody>\n",
              "</table>\n",
              "<p>5 rows × 26 columns</p>\n",
              "</div>\n",
              "      <button class=\"colab-df-convert\" onclick=\"convertToInteractive('df-46ce66d6-911a-493f-9cfc-3af96dc40903')\"\n",
              "              title=\"Convert this dataframe to an interactive table.\"\n",
              "              style=\"display:none;\">\n",
              "        \n",
              "  <svg xmlns=\"http://www.w3.org/2000/svg\" height=\"24px\"viewBox=\"0 0 24 24\"\n",
              "       width=\"24px\">\n",
              "    <path d=\"M0 0h24v24H0V0z\" fill=\"none\"/>\n",
              "    <path d=\"M18.56 5.44l.94 2.06.94-2.06 2.06-.94-2.06-.94-.94-2.06-.94 2.06-2.06.94zm-11 1L8.5 8.5l.94-2.06 2.06-.94-2.06-.94L8.5 2.5l-.94 2.06-2.06.94zm10 10l.94 2.06.94-2.06 2.06-.94-2.06-.94-.94-2.06-.94 2.06-2.06.94z\"/><path d=\"M17.41 7.96l-1.37-1.37c-.4-.4-.92-.59-1.43-.59-.52 0-1.04.2-1.43.59L10.3 9.45l-7.72 7.72c-.78.78-.78 2.05 0 2.83L4 21.41c.39.39.9.59 1.41.59.51 0 1.02-.2 1.41-.59l7.78-7.78 2.81-2.81c.8-.78.8-2.07 0-2.86zM5.41 20L4 18.59l7.72-7.72 1.47 1.35L5.41 20z\"/>\n",
              "  </svg>\n",
              "      </button>\n",
              "      \n",
              "  <style>\n",
              "    .colab-df-container {\n",
              "      display:flex;\n",
              "      flex-wrap:wrap;\n",
              "      gap: 12px;\n",
              "    }\n",
              "\n",
              "    .colab-df-convert {\n",
              "      background-color: #E8F0FE;\n",
              "      border: none;\n",
              "      border-radius: 50%;\n",
              "      cursor: pointer;\n",
              "      display: none;\n",
              "      fill: #1967D2;\n",
              "      height: 32px;\n",
              "      padding: 0 0 0 0;\n",
              "      width: 32px;\n",
              "    }\n",
              "\n",
              "    .colab-df-convert:hover {\n",
              "      background-color: #E2EBFA;\n",
              "      box-shadow: 0px 1px 2px rgba(60, 64, 67, 0.3), 0px 1px 3px 1px rgba(60, 64, 67, 0.15);\n",
              "      fill: #174EA6;\n",
              "    }\n",
              "\n",
              "    [theme=dark] .colab-df-convert {\n",
              "      background-color: #3B4455;\n",
              "      fill: #D2E3FC;\n",
              "    }\n",
              "\n",
              "    [theme=dark] .colab-df-convert:hover {\n",
              "      background-color: #434B5C;\n",
              "      box-shadow: 0px 1px 3px 1px rgba(0, 0, 0, 0.15);\n",
              "      filter: drop-shadow(0px 1px 2px rgba(0, 0, 0, 0.3));\n",
              "      fill: #FFFFFF;\n",
              "    }\n",
              "  </style>\n",
              "\n",
              "      <script>\n",
              "        const buttonEl =\n",
              "          document.querySelector('#df-46ce66d6-911a-493f-9cfc-3af96dc40903 button.colab-df-convert');\n",
              "        buttonEl.style.display =\n",
              "          google.colab.kernel.accessAllowed ? 'block' : 'none';\n",
              "\n",
              "        async function convertToInteractive(key) {\n",
              "          const element = document.querySelector('#df-46ce66d6-911a-493f-9cfc-3af96dc40903');\n",
              "          const dataTable =\n",
              "            await google.colab.kernel.invokeFunction('convertToInteractive',\n",
              "                                                     [key], {});\n",
              "          if (!dataTable) return;\n",
              "\n",
              "          const docLinkHtml = 'Like what you see? Visit the ' +\n",
              "            '<a target=\"_blank\" href=https://colab.research.google.com/notebooks/data_table.ipynb>data table notebook</a>'\n",
              "            + ' to learn more about interactive tables.';\n",
              "          element.innerHTML = '';\n",
              "          dataTable['output_type'] = 'display_data';\n",
              "          await google.colab.output.renderOutput(dataTable, element);\n",
              "          const docLink = document.createElement('div');\n",
              "          docLink.innerHTML = docLinkHtml;\n",
              "          element.appendChild(docLink);\n",
              "        }\n",
              "      </script>\n",
              "    </div>\n",
              "  </div>\n",
              "  "
            ]
          },
          "metadata": {},
          "execution_count": 93
        }
      ]
    },
    {
      "cell_type": "code",
      "source": [
        "df.shape"
      ],
      "metadata": {
        "colab": {
          "base_uri": "https://localhost:8080/"
        },
        "id": "rnD1sNEsNkFt",
        "outputId": "1eef5140-d1d2-46fa-d752-71c5f63063c1"
      },
      "execution_count": null,
      "outputs": [
        {
          "output_type": "execute_result",
          "data": {
            "text/plain": [
              "(205, 26)"
            ]
          },
          "metadata": {},
          "execution_count": 94
        }
      ]
    },
    {
      "cell_type": "code",
      "source": [
        "df.info()"
      ],
      "metadata": {
        "colab": {
          "base_uri": "https://localhost:8080/"
        },
        "id": "n5oPBMnANlyv",
        "outputId": "5a9b33d4-4dd5-4f47-91db-7c90521f500e"
      },
      "execution_count": null,
      "outputs": [
        {
          "output_type": "stream",
          "name": "stdout",
          "text": [
            "<class 'pandas.core.frame.DataFrame'>\n",
            "RangeIndex: 205 entries, 0 to 204\n",
            "Data columns (total 26 columns):\n",
            " #   Column            Non-Null Count  Dtype  \n",
            "---  ------            --------------  -----  \n",
            " 0   car_ID            205 non-null    int64  \n",
            " 1   symboling         205 non-null    int64  \n",
            " 2   CarName           205 non-null    object \n",
            " 3   fueltype          205 non-null    object \n",
            " 4   aspiration        205 non-null    object \n",
            " 5   doornumber        205 non-null    object \n",
            " 6   carbody           205 non-null    object \n",
            " 7   drivewheel        205 non-null    object \n",
            " 8   enginelocation    205 non-null    object \n",
            " 9   wheelbase         205 non-null    float64\n",
            " 10  carlength         205 non-null    float64\n",
            " 11  carwidth          205 non-null    float64\n",
            " 12  carheight         205 non-null    float64\n",
            " 13  curbweight        205 non-null    int64  \n",
            " 14  enginetype        205 non-null    object \n",
            " 15  cylindernumber    205 non-null    object \n",
            " 16  enginesize        205 non-null    int64  \n",
            " 17  fuelsystem        205 non-null    object \n",
            " 18  boreratio         205 non-null    float64\n",
            " 19  stroke            205 non-null    float64\n",
            " 20  compressionratio  205 non-null    float64\n",
            " 21  horsepower        205 non-null    int64  \n",
            " 22  peakrpm           205 non-null    int64  \n",
            " 23  citympg           205 non-null    int64  \n",
            " 24  highwaympg        205 non-null    int64  \n",
            " 25  price             205 non-null    float64\n",
            "dtypes: float64(8), int64(8), object(10)\n",
            "memory usage: 41.8+ KB\n"
          ]
        }
      ]
    },
    {
      "cell_type": "code",
      "source": [
        "df.describe().transpose()"
      ],
      "metadata": {
        "colab": {
          "base_uri": "https://localhost:8080/",
          "height": 551
        },
        "id": "XLkRLErZNnq5",
        "outputId": "90a482ff-5026-4763-ff63-4592b9113355"
      },
      "execution_count": null,
      "outputs": [
        {
          "output_type": "execute_result",
          "data": {
            "text/plain": [
              "                  count          mean          std      min      25%  \\\n",
              "car_ID            205.0    103.000000    59.322565     1.00    52.00   \n",
              "symboling         205.0      0.834146     1.245307    -2.00     0.00   \n",
              "wheelbase         205.0     98.756585     6.021776    86.60    94.50   \n",
              "carlength         205.0    174.049268    12.337289   141.10   166.30   \n",
              "carwidth          205.0     65.907805     2.145204    60.30    64.10   \n",
              "carheight         205.0     53.724878     2.443522    47.80    52.00   \n",
              "curbweight        205.0   2555.565854   520.680204  1488.00  2145.00   \n",
              "enginesize        205.0    126.907317    41.642693    61.00    97.00   \n",
              "boreratio         205.0      3.329756     0.270844     2.54     3.15   \n",
              "stroke            205.0      3.255415     0.313597     2.07     3.11   \n",
              "compressionratio  205.0     10.142537     3.972040     7.00     8.60   \n",
              "horsepower        205.0    104.117073    39.544167    48.00    70.00   \n",
              "peakrpm           205.0   5125.121951   476.985643  4150.00  4800.00   \n",
              "citympg           205.0     25.219512     6.542142    13.00    19.00   \n",
              "highwaympg        205.0     30.751220     6.886443    16.00    25.00   \n",
              "price             205.0  13276.710571  7988.852332  5118.00  7788.00   \n",
              "\n",
              "                       50%       75%       max  \n",
              "car_ID              103.00    154.00    205.00  \n",
              "symboling             1.00      2.00      3.00  \n",
              "wheelbase            97.00    102.40    120.90  \n",
              "carlength           173.20    183.10    208.10  \n",
              "carwidth             65.50     66.90     72.30  \n",
              "carheight            54.10     55.50     59.80  \n",
              "curbweight         2414.00   2935.00   4066.00  \n",
              "enginesize          120.00    141.00    326.00  \n",
              "boreratio             3.31      3.58      3.94  \n",
              "stroke                3.29      3.41      4.17  \n",
              "compressionratio      9.00      9.40     23.00  \n",
              "horsepower           95.00    116.00    288.00  \n",
              "peakrpm            5200.00   5500.00   6600.00  \n",
              "citympg              24.00     30.00     49.00  \n",
              "highwaympg           30.00     34.00     54.00  \n",
              "price             10295.00  16503.00  45400.00  "
            ],
            "text/html": [
              "\n",
              "  <div id=\"df-2894ed2e-0f68-4be1-a8da-da262787079d\">\n",
              "    <div class=\"colab-df-container\">\n",
              "      <div>\n",
              "<style scoped>\n",
              "    .dataframe tbody tr th:only-of-type {\n",
              "        vertical-align: middle;\n",
              "    }\n",
              "\n",
              "    .dataframe tbody tr th {\n",
              "        vertical-align: top;\n",
              "    }\n",
              "\n",
              "    .dataframe thead th {\n",
              "        text-align: right;\n",
              "    }\n",
              "</style>\n",
              "<table border=\"1\" class=\"dataframe\">\n",
              "  <thead>\n",
              "    <tr style=\"text-align: right;\">\n",
              "      <th></th>\n",
              "      <th>count</th>\n",
              "      <th>mean</th>\n",
              "      <th>std</th>\n",
              "      <th>min</th>\n",
              "      <th>25%</th>\n",
              "      <th>50%</th>\n",
              "      <th>75%</th>\n",
              "      <th>max</th>\n",
              "    </tr>\n",
              "  </thead>\n",
              "  <tbody>\n",
              "    <tr>\n",
              "      <th>car_ID</th>\n",
              "      <td>205.0</td>\n",
              "      <td>103.000000</td>\n",
              "      <td>59.322565</td>\n",
              "      <td>1.00</td>\n",
              "      <td>52.00</td>\n",
              "      <td>103.00</td>\n",
              "      <td>154.00</td>\n",
              "      <td>205.00</td>\n",
              "    </tr>\n",
              "    <tr>\n",
              "      <th>symboling</th>\n",
              "      <td>205.0</td>\n",
              "      <td>0.834146</td>\n",
              "      <td>1.245307</td>\n",
              "      <td>-2.00</td>\n",
              "      <td>0.00</td>\n",
              "      <td>1.00</td>\n",
              "      <td>2.00</td>\n",
              "      <td>3.00</td>\n",
              "    </tr>\n",
              "    <tr>\n",
              "      <th>wheelbase</th>\n",
              "      <td>205.0</td>\n",
              "      <td>98.756585</td>\n",
              "      <td>6.021776</td>\n",
              "      <td>86.60</td>\n",
              "      <td>94.50</td>\n",
              "      <td>97.00</td>\n",
              "      <td>102.40</td>\n",
              "      <td>120.90</td>\n",
              "    </tr>\n",
              "    <tr>\n",
              "      <th>carlength</th>\n",
              "      <td>205.0</td>\n",
              "      <td>174.049268</td>\n",
              "      <td>12.337289</td>\n",
              "      <td>141.10</td>\n",
              "      <td>166.30</td>\n",
              "      <td>173.20</td>\n",
              "      <td>183.10</td>\n",
              "      <td>208.10</td>\n",
              "    </tr>\n",
              "    <tr>\n",
              "      <th>carwidth</th>\n",
              "      <td>205.0</td>\n",
              "      <td>65.907805</td>\n",
              "      <td>2.145204</td>\n",
              "      <td>60.30</td>\n",
              "      <td>64.10</td>\n",
              "      <td>65.50</td>\n",
              "      <td>66.90</td>\n",
              "      <td>72.30</td>\n",
              "    </tr>\n",
              "    <tr>\n",
              "      <th>carheight</th>\n",
              "      <td>205.0</td>\n",
              "      <td>53.724878</td>\n",
              "      <td>2.443522</td>\n",
              "      <td>47.80</td>\n",
              "      <td>52.00</td>\n",
              "      <td>54.10</td>\n",
              "      <td>55.50</td>\n",
              "      <td>59.80</td>\n",
              "    </tr>\n",
              "    <tr>\n",
              "      <th>curbweight</th>\n",
              "      <td>205.0</td>\n",
              "      <td>2555.565854</td>\n",
              "      <td>520.680204</td>\n",
              "      <td>1488.00</td>\n",
              "      <td>2145.00</td>\n",
              "      <td>2414.00</td>\n",
              "      <td>2935.00</td>\n",
              "      <td>4066.00</td>\n",
              "    </tr>\n",
              "    <tr>\n",
              "      <th>enginesize</th>\n",
              "      <td>205.0</td>\n",
              "      <td>126.907317</td>\n",
              "      <td>41.642693</td>\n",
              "      <td>61.00</td>\n",
              "      <td>97.00</td>\n",
              "      <td>120.00</td>\n",
              "      <td>141.00</td>\n",
              "      <td>326.00</td>\n",
              "    </tr>\n",
              "    <tr>\n",
              "      <th>boreratio</th>\n",
              "      <td>205.0</td>\n",
              "      <td>3.329756</td>\n",
              "      <td>0.270844</td>\n",
              "      <td>2.54</td>\n",
              "      <td>3.15</td>\n",
              "      <td>3.31</td>\n",
              "      <td>3.58</td>\n",
              "      <td>3.94</td>\n",
              "    </tr>\n",
              "    <tr>\n",
              "      <th>stroke</th>\n",
              "      <td>205.0</td>\n",
              "      <td>3.255415</td>\n",
              "      <td>0.313597</td>\n",
              "      <td>2.07</td>\n",
              "      <td>3.11</td>\n",
              "      <td>3.29</td>\n",
              "      <td>3.41</td>\n",
              "      <td>4.17</td>\n",
              "    </tr>\n",
              "    <tr>\n",
              "      <th>compressionratio</th>\n",
              "      <td>205.0</td>\n",
              "      <td>10.142537</td>\n",
              "      <td>3.972040</td>\n",
              "      <td>7.00</td>\n",
              "      <td>8.60</td>\n",
              "      <td>9.00</td>\n",
              "      <td>9.40</td>\n",
              "      <td>23.00</td>\n",
              "    </tr>\n",
              "    <tr>\n",
              "      <th>horsepower</th>\n",
              "      <td>205.0</td>\n",
              "      <td>104.117073</td>\n",
              "      <td>39.544167</td>\n",
              "      <td>48.00</td>\n",
              "      <td>70.00</td>\n",
              "      <td>95.00</td>\n",
              "      <td>116.00</td>\n",
              "      <td>288.00</td>\n",
              "    </tr>\n",
              "    <tr>\n",
              "      <th>peakrpm</th>\n",
              "      <td>205.0</td>\n",
              "      <td>5125.121951</td>\n",
              "      <td>476.985643</td>\n",
              "      <td>4150.00</td>\n",
              "      <td>4800.00</td>\n",
              "      <td>5200.00</td>\n",
              "      <td>5500.00</td>\n",
              "      <td>6600.00</td>\n",
              "    </tr>\n",
              "    <tr>\n",
              "      <th>citympg</th>\n",
              "      <td>205.0</td>\n",
              "      <td>25.219512</td>\n",
              "      <td>6.542142</td>\n",
              "      <td>13.00</td>\n",
              "      <td>19.00</td>\n",
              "      <td>24.00</td>\n",
              "      <td>30.00</td>\n",
              "      <td>49.00</td>\n",
              "    </tr>\n",
              "    <tr>\n",
              "      <th>highwaympg</th>\n",
              "      <td>205.0</td>\n",
              "      <td>30.751220</td>\n",
              "      <td>6.886443</td>\n",
              "      <td>16.00</td>\n",
              "      <td>25.00</td>\n",
              "      <td>30.00</td>\n",
              "      <td>34.00</td>\n",
              "      <td>54.00</td>\n",
              "    </tr>\n",
              "    <tr>\n",
              "      <th>price</th>\n",
              "      <td>205.0</td>\n",
              "      <td>13276.710571</td>\n",
              "      <td>7988.852332</td>\n",
              "      <td>5118.00</td>\n",
              "      <td>7788.00</td>\n",
              "      <td>10295.00</td>\n",
              "      <td>16503.00</td>\n",
              "      <td>45400.00</td>\n",
              "    </tr>\n",
              "  </tbody>\n",
              "</table>\n",
              "</div>\n",
              "      <button class=\"colab-df-convert\" onclick=\"convertToInteractive('df-2894ed2e-0f68-4be1-a8da-da262787079d')\"\n",
              "              title=\"Convert this dataframe to an interactive table.\"\n",
              "              style=\"display:none;\">\n",
              "        \n",
              "  <svg xmlns=\"http://www.w3.org/2000/svg\" height=\"24px\"viewBox=\"0 0 24 24\"\n",
              "       width=\"24px\">\n",
              "    <path d=\"M0 0h24v24H0V0z\" fill=\"none\"/>\n",
              "    <path d=\"M18.56 5.44l.94 2.06.94-2.06 2.06-.94-2.06-.94-.94-2.06-.94 2.06-2.06.94zm-11 1L8.5 8.5l.94-2.06 2.06-.94-2.06-.94L8.5 2.5l-.94 2.06-2.06.94zm10 10l.94 2.06.94-2.06 2.06-.94-2.06-.94-.94-2.06-.94 2.06-2.06.94z\"/><path d=\"M17.41 7.96l-1.37-1.37c-.4-.4-.92-.59-1.43-.59-.52 0-1.04.2-1.43.59L10.3 9.45l-7.72 7.72c-.78.78-.78 2.05 0 2.83L4 21.41c.39.39.9.59 1.41.59.51 0 1.02-.2 1.41-.59l7.78-7.78 2.81-2.81c.8-.78.8-2.07 0-2.86zM5.41 20L4 18.59l7.72-7.72 1.47 1.35L5.41 20z\"/>\n",
              "  </svg>\n",
              "      </button>\n",
              "      \n",
              "  <style>\n",
              "    .colab-df-container {\n",
              "      display:flex;\n",
              "      flex-wrap:wrap;\n",
              "      gap: 12px;\n",
              "    }\n",
              "\n",
              "    .colab-df-convert {\n",
              "      background-color: #E8F0FE;\n",
              "      border: none;\n",
              "      border-radius: 50%;\n",
              "      cursor: pointer;\n",
              "      display: none;\n",
              "      fill: #1967D2;\n",
              "      height: 32px;\n",
              "      padding: 0 0 0 0;\n",
              "      width: 32px;\n",
              "    }\n",
              "\n",
              "    .colab-df-convert:hover {\n",
              "      background-color: #E2EBFA;\n",
              "      box-shadow: 0px 1px 2px rgba(60, 64, 67, 0.3), 0px 1px 3px 1px rgba(60, 64, 67, 0.15);\n",
              "      fill: #174EA6;\n",
              "    }\n",
              "\n",
              "    [theme=dark] .colab-df-convert {\n",
              "      background-color: #3B4455;\n",
              "      fill: #D2E3FC;\n",
              "    }\n",
              "\n",
              "    [theme=dark] .colab-df-convert:hover {\n",
              "      background-color: #434B5C;\n",
              "      box-shadow: 0px 1px 3px 1px rgba(0, 0, 0, 0.15);\n",
              "      filter: drop-shadow(0px 1px 2px rgba(0, 0, 0, 0.3));\n",
              "      fill: #FFFFFF;\n",
              "    }\n",
              "  </style>\n",
              "\n",
              "      <script>\n",
              "        const buttonEl =\n",
              "          document.querySelector('#df-2894ed2e-0f68-4be1-a8da-da262787079d button.colab-df-convert');\n",
              "        buttonEl.style.display =\n",
              "          google.colab.kernel.accessAllowed ? 'block' : 'none';\n",
              "\n",
              "        async function convertToInteractive(key) {\n",
              "          const element = document.querySelector('#df-2894ed2e-0f68-4be1-a8da-da262787079d');\n",
              "          const dataTable =\n",
              "            await google.colab.kernel.invokeFunction('convertToInteractive',\n",
              "                                                     [key], {});\n",
              "          if (!dataTable) return;\n",
              "\n",
              "          const docLinkHtml = 'Like what you see? Visit the ' +\n",
              "            '<a target=\"_blank\" href=https://colab.research.google.com/notebooks/data_table.ipynb>data table notebook</a>'\n",
              "            + ' to learn more about interactive tables.';\n",
              "          element.innerHTML = '';\n",
              "          dataTable['output_type'] = 'display_data';\n",
              "          await google.colab.output.renderOutput(dataTable, element);\n",
              "          const docLink = document.createElement('div');\n",
              "          docLink.innerHTML = docLinkHtml;\n",
              "          element.appendChild(docLink);\n",
              "        }\n",
              "      </script>\n",
              "    </div>\n",
              "  </div>\n",
              "  "
            ]
          },
          "metadata": {},
          "execution_count": 96
        }
      ]
    },
    {
      "cell_type": "code",
      "source": [
        "df.columns"
      ],
      "metadata": {
        "colab": {
          "base_uri": "https://localhost:8080/"
        },
        "id": "K2DgNxAAN-eN",
        "outputId": "156d06f6-b8ea-47ed-e83c-13f40aeb2d5d"
      },
      "execution_count": null,
      "outputs": [
        {
          "output_type": "execute_result",
          "data": {
            "text/plain": [
              "Index(['car_ID', 'symboling', 'CarName', 'fueltype', 'aspiration',\n",
              "       'doornumber', 'carbody', 'drivewheel', 'enginelocation', 'wheelbase',\n",
              "       'carlength', 'carwidth', 'carheight', 'curbweight', 'enginetype',\n",
              "       'cylindernumber', 'enginesize', 'fuelsystem', 'boreratio', 'stroke',\n",
              "       'compressionratio', 'horsepower', 'peakrpm', 'citympg', 'highwaympg',\n",
              "       'price'],\n",
              "      dtype='object')"
            ]
          },
          "metadata": {},
          "execution_count": 97
        }
      ]
    },
    {
      "cell_type": "markdown",
      "source": [
        "## cleaning"
      ],
      "metadata": {
        "id": "mB9TNastPNHh"
      }
    },
    {
      "cell_type": "code",
      "source": [
        "df.dtypes"
      ],
      "metadata": {
        "colab": {
          "base_uri": "https://localhost:8080/"
        },
        "id": "dGaK6GIDPPrf",
        "outputId": "a97b7e24-9ab6-4a9b-f6be-b793741089e1"
      },
      "execution_count": null,
      "outputs": [
        {
          "output_type": "execute_result",
          "data": {
            "text/plain": [
              "car_ID                int64\n",
              "symboling             int64\n",
              "CarName              object\n",
              "fueltype             object\n",
              "aspiration           object\n",
              "doornumber           object\n",
              "carbody              object\n",
              "drivewheel           object\n",
              "enginelocation       object\n",
              "wheelbase           float64\n",
              "carlength           float64\n",
              "carwidth            float64\n",
              "carheight           float64\n",
              "curbweight            int64\n",
              "enginetype           object\n",
              "cylindernumber       object\n",
              "enginesize            int64\n",
              "fuelsystem           object\n",
              "boreratio           float64\n",
              "stroke              float64\n",
              "compressionratio    float64\n",
              "horsepower            int64\n",
              "peakrpm               int64\n",
              "citympg               int64\n",
              "highwaympg            int64\n",
              "price               float64\n",
              "dtype: object"
            ]
          },
          "metadata": {},
          "execution_count": 98
        }
      ]
    },
    {
      "cell_type": "code",
      "source": [
        "df['symboling'].unique()"
      ],
      "metadata": {
        "colab": {
          "base_uri": "https://localhost:8080/"
        },
        "id": "NvqjhOCCPqYw",
        "outputId": "ac66adb3-9f34-4849-f89e-89151f470239"
      },
      "execution_count": null,
      "outputs": [
        {
          "output_type": "execute_result",
          "data": {
            "text/plain": [
              "array([ 3,  1,  2,  0, -1, -2])"
            ]
          },
          "metadata": {},
          "execution_count": 99
        }
      ]
    },
    {
      "cell_type": "code",
      "source": [
        "df['symboling'].astype('category')"
      ],
      "metadata": {
        "colab": {
          "base_uri": "https://localhost:8080/"
        },
        "id": "w1wyrNzi-Lx6",
        "outputId": "94f24163-b4ae-4afa-b11c-86214b52838c"
      },
      "execution_count": null,
      "outputs": [
        {
          "output_type": "execute_result",
          "data": {
            "text/plain": [
              "0      3\n",
              "1      3\n",
              "2      1\n",
              "3      2\n",
              "4      2\n",
              "      ..\n",
              "200   -1\n",
              "201   -1\n",
              "202   -1\n",
              "203   -1\n",
              "204   -1\n",
              "Name: symboling, Length: 205, dtype: category\n",
              "Categories (6, int64): [-2, -1, 0, 1, 2, 3]"
            ]
          },
          "metadata": {},
          "execution_count": 157
        }
      ]
    },
    {
      "cell_type": "code",
      "source": [
        "df['CarName'].unique()"
      ],
      "metadata": {
        "colab": {
          "base_uri": "https://localhost:8080/"
        },
        "id": "BeRMr-mHPw9J",
        "outputId": "417381c1-93e2-4d77-faf7-2cd6c13048b0"
      },
      "execution_count": null,
      "outputs": [
        {
          "output_type": "execute_result",
          "data": {
            "text/plain": [
              "array(['alfa-romero giulia', 'alfa-romero stelvio',\n",
              "       'alfa-romero Quadrifoglio', 'audi 100 ls', 'audi 100ls',\n",
              "       'audi fox', 'audi 5000', 'audi 4000', 'audi 5000s (diesel)',\n",
              "       'bmw 320i', 'bmw x1', 'bmw x3', 'bmw z4', 'bmw x4', 'bmw x5',\n",
              "       'chevrolet impala', 'chevrolet monte carlo', 'chevrolet vega 2300',\n",
              "       'dodge rampage', 'dodge challenger se', 'dodge d200',\n",
              "       'dodge monaco (sw)', 'dodge colt hardtop', 'dodge colt (sw)',\n",
              "       'dodge coronet custom', 'dodge dart custom',\n",
              "       'dodge coronet custom (sw)', 'honda civic', 'honda civic cvcc',\n",
              "       'honda accord cvcc', 'honda accord lx', 'honda civic 1500 gl',\n",
              "       'honda accord', 'honda civic 1300', 'honda prelude',\n",
              "       'honda civic (auto)', 'isuzu MU-X', 'isuzu D-Max ',\n",
              "       'isuzu D-Max V-Cross', 'jaguar xj', 'jaguar xf', 'jaguar xk',\n",
              "       'maxda rx3', 'maxda glc deluxe', 'mazda rx2 coupe', 'mazda rx-4',\n",
              "       'mazda glc deluxe', 'mazda 626', 'mazda glc', 'mazda rx-7 gs',\n",
              "       'mazda glc 4', 'mazda glc custom l', 'mazda glc custom',\n",
              "       'buick electra 225 custom', 'buick century luxus (sw)',\n",
              "       'buick century', 'buick skyhawk', 'buick opel isuzu deluxe',\n",
              "       'buick skylark', 'buick century special',\n",
              "       'buick regal sport coupe (turbo)', 'mercury cougar',\n",
              "       'mitsubishi mirage', 'mitsubishi lancer', 'mitsubishi outlander',\n",
              "       'mitsubishi g4', 'mitsubishi mirage g4', 'mitsubishi montero',\n",
              "       'mitsubishi pajero', 'Nissan versa', 'nissan gt-r', 'nissan rogue',\n",
              "       'nissan latio', 'nissan titan', 'nissan leaf', 'nissan juke',\n",
              "       'nissan note', 'nissan clipper', 'nissan nv200', 'nissan dayz',\n",
              "       'nissan fuga', 'nissan otti', 'nissan teana', 'nissan kicks',\n",
              "       'peugeot 504', 'peugeot 304', 'peugeot 504 (sw)', 'peugeot 604sl',\n",
              "       'peugeot 505s turbo diesel', 'plymouth fury iii',\n",
              "       'plymouth cricket', 'plymouth satellite custom (sw)',\n",
              "       'plymouth fury gran sedan', 'plymouth valiant', 'plymouth duster',\n",
              "       'porsche macan', 'porcshce panamera', 'porsche cayenne',\n",
              "       'porsche boxter', 'renault 12tl', 'renault 5 gtl', 'saab 99e',\n",
              "       'saab 99le', 'saab 99gle', 'subaru', 'subaru dl', 'subaru brz',\n",
              "       'subaru baja', 'subaru r1', 'subaru r2', 'subaru trezia',\n",
              "       'subaru tribeca', 'toyota corona mark ii', 'toyota corona',\n",
              "       'toyota corolla 1200', 'toyota corona hardtop',\n",
              "       'toyota corolla 1600 (sw)', 'toyota carina', 'toyota mark ii',\n",
              "       'toyota corolla', 'toyota corolla liftback',\n",
              "       'toyota celica gt liftback', 'toyota corolla tercel',\n",
              "       'toyota corona liftback', 'toyota starlet', 'toyota tercel',\n",
              "       'toyota cressida', 'toyota celica gt', 'toyouta tercel',\n",
              "       'vokswagen rabbit', 'volkswagen 1131 deluxe sedan',\n",
              "       'volkswagen model 111', 'volkswagen type 3', 'volkswagen 411 (sw)',\n",
              "       'volkswagen super beetle', 'volkswagen dasher', 'vw dasher',\n",
              "       'vw rabbit', 'volkswagen rabbit', 'volkswagen rabbit custom',\n",
              "       'volvo 145e (sw)', 'volvo 144ea', 'volvo 244dl', 'volvo 245',\n",
              "       'volvo 264gl', 'volvo diesel', 'volvo 246'], dtype=object)"
            ]
          },
          "metadata": {},
          "execution_count": 100
        }
      ]
    },
    {
      "cell_type": "code",
      "source": [
        "df =df.join(df['CarName'].str.split(' ', expand=True).rename(columns={0:'CarCompany', 1:'ModelName'}))"
      ],
      "metadata": {
        "id": "-9pw7ntr2dMC"
      },
      "execution_count": null,
      "outputs": []
    },
    {
      "cell_type": "code",
      "source": [
        "df['CarCompany']"
      ],
      "metadata": {
        "colab": {
          "base_uri": "https://localhost:8080/"
        },
        "id": "FrwjWkot3Bgp",
        "outputId": "e31a1c45-b877-4ec7-d968-a4ffc408c3c9"
      },
      "execution_count": null,
      "outputs": [
        {
          "output_type": "execute_result",
          "data": {
            "text/plain": [
              "0      alfa-romero\n",
              "1      alfa-romero\n",
              "2      alfa-romero\n",
              "3             audi\n",
              "4             audi\n",
              "          ...     \n",
              "200          volvo\n",
              "201          volvo\n",
              "202          volvo\n",
              "203          volvo\n",
              "204          volvo\n",
              "Name: CarCompany, Length: 205, dtype: object"
            ]
          },
          "metadata": {},
          "execution_count": 102
        }
      ]
    },
    {
      "cell_type": "code",
      "source": [
        "df['CarCompany'].unique()"
      ],
      "metadata": {
        "colab": {
          "base_uri": "https://localhost:8080/"
        },
        "id": "rZgq7Ttp3KmK",
        "outputId": "c8152c85-c65e-414a-d8cb-af5a3dd9145b"
      },
      "execution_count": null,
      "outputs": [
        {
          "output_type": "execute_result",
          "data": {
            "text/plain": [
              "array(['alfa-romero', 'audi', 'bmw', 'chevrolet', 'dodge', 'honda',\n",
              "       'isuzu', 'jaguar', 'maxda', 'mazda', 'buick', 'mercury',\n",
              "       'mitsubishi', 'Nissan', 'nissan', 'peugeot', 'plymouth', 'porsche',\n",
              "       'porcshce', 'renault', 'saab', 'subaru', 'toyota', 'toyouta',\n",
              "       'vokswagen', 'volkswagen', 'vw', 'volvo'], dtype=object)"
            ]
          },
          "metadata": {},
          "execution_count": 103
        }
      ]
    },
    {
      "cell_type": "markdown",
      "source": [
        "edit mazda ,toyota, nissan , vw, porcshce"
      ],
      "metadata": {
        "id": "mxG-HbVY3cFV"
      }
    },
    {
      "cell_type": "code",
      "source": [
        "df['CarCompany']=df['CarCompany'].replace('maxda','mazda')\n",
        "df['CarCompany']=df['CarCompany'].replace('toyouta','toyota')\n",
        "df['CarCompany']=df['CarCompany'].replace('Nissan','nissan')\n",
        "df['CarCompany'] =df['CarCompany'].replace('vokswagen','vw')\n",
        "df['CarCompany'] =df['CarCompany'].replace('volkswagen','vw')\n",
        "df['CarCompany'] =df['CarCompany'].replace('porcshce','porsche')"
      ],
      "metadata": {
        "id": "Q-xX3-7S3iqy"
      },
      "execution_count": null,
      "outputs": []
    },
    {
      "cell_type": "code",
      "source": [
        "df['CarCompany'].unique()"
      ],
      "metadata": {
        "colab": {
          "base_uri": "https://localhost:8080/"
        },
        "id": "rhri8-uY4VCY",
        "outputId": "e50bba7c-3ec3-4a8a-cc4e-92f6efa65355"
      },
      "execution_count": null,
      "outputs": [
        {
          "output_type": "execute_result",
          "data": {
            "text/plain": [
              "array(['alfa-romero', 'audi', 'bmw', 'chevrolet', 'dodge', 'honda',\n",
              "       'isuzu', 'jaguar', 'mazda', 'buick', 'mercury', 'mitsubishi',\n",
              "       'nissan', 'peugeot', 'plymouth', 'porsche', 'renault', 'saab',\n",
              "       'subaru', 'toyota', 'vw', 'volvo'], dtype=object)"
            ]
          },
          "metadata": {},
          "execution_count": 105
        }
      ]
    },
    {
      "cell_type": "code",
      "source": [
        "df['ModelName'].unique()"
      ],
      "metadata": {
        "colab": {
          "base_uri": "https://localhost:8080/"
        },
        "id": "SO-ywXPe5d7r",
        "outputId": "a621011e-1c86-47ee-8bfb-426fcd550dcd"
      },
      "execution_count": null,
      "outputs": [
        {
          "output_type": "execute_result",
          "data": {
            "text/plain": [
              "array(['giulia', 'stelvio', 'Quadrifoglio', '100', '100ls', 'fox', '5000',\n",
              "       '4000', '5000s', '320i', 'x1', 'x3', 'z4', 'x4', 'x5', 'impala',\n",
              "       'monte', 'vega', 'rampage', 'challenger', 'd200', 'monaco', 'colt',\n",
              "       'coronet', 'dart', 'civic', 'accord', 'prelude', 'MU-X', 'D-Max',\n",
              "       'xj', 'xf', 'xk', 'rx3', 'glc', 'rx2', 'rx-4', '626', 'rx-7',\n",
              "       'electra', 'century', 'skyhawk', 'opel', 'skylark', 'regal',\n",
              "       'cougar', 'mirage', 'lancer', 'outlander', 'g4', 'montero',\n",
              "       'pajero', 'versa', 'gt-r', 'rogue', 'latio', 'titan', 'leaf',\n",
              "       'juke', 'note', 'clipper', 'nv200', 'dayz', 'fuga', 'otti',\n",
              "       'teana', 'kicks', '504', '304', '604sl', '505s', 'fury', 'cricket',\n",
              "       'satellite', 'valiant', 'duster', 'macan', 'panamera', 'cayenne',\n",
              "       'boxter', '12tl', '5', '99e', '99le', '99gle', None, 'dl', 'brz',\n",
              "       'baja', 'r1', 'r2', 'trezia', 'tribeca', 'corona', 'corolla',\n",
              "       'carina', 'mark', 'celica', 'starlet', 'tercel', 'cressida',\n",
              "       'rabbit', '1131', 'model', 'type', '411', 'super', 'dasher',\n",
              "       '145e', '144ea', '244dl', '245', '264gl', 'diesel', '246'],\n",
              "      dtype=object)"
            ]
          },
          "metadata": {},
          "execution_count": 106
        }
      ]
    },
    {
      "cell_type": "code",
      "source": [
        "df['fueltype'].unique()"
      ],
      "metadata": {
        "colab": {
          "base_uri": "https://localhost:8080/"
        },
        "id": "BbrSKE3G5oFg",
        "outputId": "cd1f93ba-b4c0-4094-dcc8-b216d13d4767"
      },
      "execution_count": null,
      "outputs": [
        {
          "output_type": "execute_result",
          "data": {
            "text/plain": [
              "array(['gas', 'diesel'], dtype=object)"
            ]
          },
          "metadata": {},
          "execution_count": 107
        }
      ]
    },
    {
      "cell_type": "code",
      "source": [
        "df['fueltype']=df['fueltype'].astype('category')"
      ],
      "metadata": {
        "id": "vUr3TI6Z5tZB"
      },
      "execution_count": null,
      "outputs": []
    },
    {
      "cell_type": "code",
      "source": [
        "df['aspiration'].unique()"
      ],
      "metadata": {
        "colab": {
          "base_uri": "https://localhost:8080/"
        },
        "id": "AVJM8-pC9iSW",
        "outputId": "96c1726f-0f45-4248-ebbb-4fd1e685a329"
      },
      "execution_count": null,
      "outputs": [
        {
          "output_type": "execute_result",
          "data": {
            "text/plain": [
              "array(['std', 'turbo'], dtype=object)"
            ]
          },
          "metadata": {},
          "execution_count": 109
        }
      ]
    },
    {
      "cell_type": "code",
      "source": [
        "df['aspiration']=df['aspiration'].astype('category')"
      ],
      "metadata": {
        "id": "8q5LdR6K9tFE"
      },
      "execution_count": null,
      "outputs": []
    },
    {
      "cell_type": "code",
      "source": [
        "df['doornumber'].unique()"
      ],
      "metadata": {
        "colab": {
          "base_uri": "https://localhost:8080/"
        },
        "id": "DKkPRcEe9wkH",
        "outputId": "760afe8e-31fc-4b31-c2b7-12509968514a"
      },
      "execution_count": null,
      "outputs": [
        {
          "output_type": "execute_result",
          "data": {
            "text/plain": [
              "array(['two', 'four'], dtype=object)"
            ]
          },
          "metadata": {},
          "execution_count": 111
        }
      ]
    },
    {
      "cell_type": "code",
      "source": [
        "df['doornumber']=df['doornumber'].replace('two',2)\n",
        "df['doornumber']=df['doornumber'].replace('four',4)"
      ],
      "metadata": {
        "id": "MjfVGtmI95BY"
      },
      "execution_count": null,
      "outputs": []
    },
    {
      "cell_type": "code",
      "source": [
        "df['doornumber']=df['doornumber'].astype('category')"
      ],
      "metadata": {
        "id": "7SUoO3iJ-fwu"
      },
      "execution_count": null,
      "outputs": []
    },
    {
      "cell_type": "code",
      "source": [
        "df['carbody'].unique()"
      ],
      "metadata": {
        "colab": {
          "base_uri": "https://localhost:8080/"
        },
        "id": "aYi4JT7Q-gJ5",
        "outputId": "f119ab90-4c83-4107-df39-9af9a9e4d3c5"
      },
      "execution_count": null,
      "outputs": [
        {
          "output_type": "execute_result",
          "data": {
            "text/plain": [
              "array(['convertible', 'hatchback', 'sedan', 'wagon', 'hardtop'],\n",
              "      dtype=object)"
            ]
          },
          "metadata": {},
          "execution_count": 114
        }
      ]
    },
    {
      "cell_type": "code",
      "source": [
        "df['enginelocation'].unique()"
      ],
      "metadata": {
        "colab": {
          "base_uri": "https://localhost:8080/"
        },
        "id": "Gcr-IaRF-kw9",
        "outputId": "590fc861-2a6b-418b-f007-8f4532119aeb"
      },
      "execution_count": null,
      "outputs": [
        {
          "output_type": "execute_result",
          "data": {
            "text/plain": [
              "array(['front', 'rear'], dtype=object)"
            ]
          },
          "metadata": {},
          "execution_count": 115
        }
      ]
    },
    {
      "cell_type": "code",
      "source": [
        "df['enginelocation']=df['enginelocation'].astype('category')"
      ],
      "metadata": {
        "id": "2ao_g1QSJ1NA"
      },
      "execution_count": null,
      "outputs": []
    },
    {
      "cell_type": "code",
      "source": [
        "df['cylindernumber'].unique()"
      ],
      "metadata": {
        "colab": {
          "base_uri": "https://localhost:8080/"
        },
        "id": "M9hbefJfJ6ow",
        "outputId": "55605138-f7d7-48dd-d446-0b036ce0fa75"
      },
      "execution_count": null,
      "outputs": [
        {
          "output_type": "execute_result",
          "data": {
            "text/plain": [
              "array(['four', 'six', 'five', 'three', 'twelve', 'two', 'eight'],\n",
              "      dtype=object)"
            ]
          },
          "metadata": {},
          "execution_count": 117
        }
      ]
    },
    {
      "cell_type": "code",
      "source": [
        "df['cylindernumber']=df['cylindernumber'].replace('two',2)\n",
        "df['cylindernumber']=df['cylindernumber'].replace('four',4)\n",
        "df['cylindernumber']=df['cylindernumber'].replace('six',6)\n",
        "df['cylindernumber']=df['cylindernumber'].replace('eight',8)\n",
        "df['cylindernumber']=df['cylindernumber'].replace('three',3)\n",
        "df['cylindernumber']=df['cylindernumber'].replace('five',5)\n",
        "df['cylindernumber']=df['cylindernumber'].replace('twelve',12)"
      ],
      "metadata": {
        "id": "rgeGg7eSKdee"
      },
      "execution_count": null,
      "outputs": []
    },
    {
      "cell_type": "code",
      "source": [
        "df['cylindernumber']=df['cylindernumber'].astype('category')"
      ],
      "metadata": {
        "id": "tzcnINIbLELU"
      },
      "execution_count": null,
      "outputs": []
    },
    {
      "cell_type": "code",
      "source": [
        "dup = df.duplicated(subset= ['price','citympg','CarCompany'])\n",
        "df[dup]"
      ],
      "metadata": {
        "colab": {
          "base_uri": "https://localhost:8080/",
          "height": 324
        },
        "id": "PYzSfzO4MdIx",
        "outputId": "2983866e-ea7a-4267-ef14-1eef26cb32b8"
      },
      "execution_count": null,
      "outputs": [
        {
          "output_type": "execute_result",
          "data": {
            "text/plain": [
              "    car_ID  symboling               CarName fueltype aspiration doornumber  \\\n",
              "36      37          0   honda civic 1500 gl      gas        std          4   \n",
              "45      46          0   isuzu D-Max V-Cross      gas        std          4   \n",
              "88      89         -1  mitsubishi mirage g4      gas        std          4   \n",
              "\n",
              "   carbody drivewheel enginelocation  wheelbase  ...  horsepower  peakrpm  \\\n",
              "36   wagon        fwd          front       96.5  ...          76     6000   \n",
              "45   sedan        fwd          front       94.5  ...          70     5400   \n",
              "88   sedan        fwd          front       96.3  ...         116     5500   \n",
              "\n",
              "    citympg  highwaympg   price  CarCompany  ModelName        2     3     4  \n",
              "36       30          34  7295.0       honda      civic     1500    gl  None  \n",
              "45       38          43  8916.5       isuzu      D-Max  V-Cross  None  None  \n",
              "88       23          30  9279.0  mitsubishi     mirage       g4  None  None  \n",
              "\n",
              "[3 rows x 31 columns]"
            ],
            "text/html": [
              "\n",
              "  <div id=\"df-fb2d5bef-0363-4719-b955-4f99a44e64a9\">\n",
              "    <div class=\"colab-df-container\">\n",
              "      <div>\n",
              "<style scoped>\n",
              "    .dataframe tbody tr th:only-of-type {\n",
              "        vertical-align: middle;\n",
              "    }\n",
              "\n",
              "    .dataframe tbody tr th {\n",
              "        vertical-align: top;\n",
              "    }\n",
              "\n",
              "    .dataframe thead th {\n",
              "        text-align: right;\n",
              "    }\n",
              "</style>\n",
              "<table border=\"1\" class=\"dataframe\">\n",
              "  <thead>\n",
              "    <tr style=\"text-align: right;\">\n",
              "      <th></th>\n",
              "      <th>car_ID</th>\n",
              "      <th>symboling</th>\n",
              "      <th>CarName</th>\n",
              "      <th>fueltype</th>\n",
              "      <th>aspiration</th>\n",
              "      <th>doornumber</th>\n",
              "      <th>carbody</th>\n",
              "      <th>drivewheel</th>\n",
              "      <th>enginelocation</th>\n",
              "      <th>wheelbase</th>\n",
              "      <th>...</th>\n",
              "      <th>horsepower</th>\n",
              "      <th>peakrpm</th>\n",
              "      <th>citympg</th>\n",
              "      <th>highwaympg</th>\n",
              "      <th>price</th>\n",
              "      <th>CarCompany</th>\n",
              "      <th>ModelName</th>\n",
              "      <th>2</th>\n",
              "      <th>3</th>\n",
              "      <th>4</th>\n",
              "    </tr>\n",
              "  </thead>\n",
              "  <tbody>\n",
              "    <tr>\n",
              "      <th>36</th>\n",
              "      <td>37</td>\n",
              "      <td>0</td>\n",
              "      <td>honda civic 1500 gl</td>\n",
              "      <td>gas</td>\n",
              "      <td>std</td>\n",
              "      <td>4</td>\n",
              "      <td>wagon</td>\n",
              "      <td>fwd</td>\n",
              "      <td>front</td>\n",
              "      <td>96.5</td>\n",
              "      <td>...</td>\n",
              "      <td>76</td>\n",
              "      <td>6000</td>\n",
              "      <td>30</td>\n",
              "      <td>34</td>\n",
              "      <td>7295.0</td>\n",
              "      <td>honda</td>\n",
              "      <td>civic</td>\n",
              "      <td>1500</td>\n",
              "      <td>gl</td>\n",
              "      <td>None</td>\n",
              "    </tr>\n",
              "    <tr>\n",
              "      <th>45</th>\n",
              "      <td>46</td>\n",
              "      <td>0</td>\n",
              "      <td>isuzu D-Max V-Cross</td>\n",
              "      <td>gas</td>\n",
              "      <td>std</td>\n",
              "      <td>4</td>\n",
              "      <td>sedan</td>\n",
              "      <td>fwd</td>\n",
              "      <td>front</td>\n",
              "      <td>94.5</td>\n",
              "      <td>...</td>\n",
              "      <td>70</td>\n",
              "      <td>5400</td>\n",
              "      <td>38</td>\n",
              "      <td>43</td>\n",
              "      <td>8916.5</td>\n",
              "      <td>isuzu</td>\n",
              "      <td>D-Max</td>\n",
              "      <td>V-Cross</td>\n",
              "      <td>None</td>\n",
              "      <td>None</td>\n",
              "    </tr>\n",
              "    <tr>\n",
              "      <th>88</th>\n",
              "      <td>89</td>\n",
              "      <td>-1</td>\n",
              "      <td>mitsubishi mirage g4</td>\n",
              "      <td>gas</td>\n",
              "      <td>std</td>\n",
              "      <td>4</td>\n",
              "      <td>sedan</td>\n",
              "      <td>fwd</td>\n",
              "      <td>front</td>\n",
              "      <td>96.3</td>\n",
              "      <td>...</td>\n",
              "      <td>116</td>\n",
              "      <td>5500</td>\n",
              "      <td>23</td>\n",
              "      <td>30</td>\n",
              "      <td>9279.0</td>\n",
              "      <td>mitsubishi</td>\n",
              "      <td>mirage</td>\n",
              "      <td>g4</td>\n",
              "      <td>None</td>\n",
              "      <td>None</td>\n",
              "    </tr>\n",
              "  </tbody>\n",
              "</table>\n",
              "<p>3 rows × 31 columns</p>\n",
              "</div>\n",
              "      <button class=\"colab-df-convert\" onclick=\"convertToInteractive('df-fb2d5bef-0363-4719-b955-4f99a44e64a9')\"\n",
              "              title=\"Convert this dataframe to an interactive table.\"\n",
              "              style=\"display:none;\">\n",
              "        \n",
              "  <svg xmlns=\"http://www.w3.org/2000/svg\" height=\"24px\"viewBox=\"0 0 24 24\"\n",
              "       width=\"24px\">\n",
              "    <path d=\"M0 0h24v24H0V0z\" fill=\"none\"/>\n",
              "    <path d=\"M18.56 5.44l.94 2.06.94-2.06 2.06-.94-2.06-.94-.94-2.06-.94 2.06-2.06.94zm-11 1L8.5 8.5l.94-2.06 2.06-.94-2.06-.94L8.5 2.5l-.94 2.06-2.06.94zm10 10l.94 2.06.94-2.06 2.06-.94-2.06-.94-.94-2.06-.94 2.06-2.06.94z\"/><path d=\"M17.41 7.96l-1.37-1.37c-.4-.4-.92-.59-1.43-.59-.52 0-1.04.2-1.43.59L10.3 9.45l-7.72 7.72c-.78.78-.78 2.05 0 2.83L4 21.41c.39.39.9.59 1.41.59.51 0 1.02-.2 1.41-.59l7.78-7.78 2.81-2.81c.8-.78.8-2.07 0-2.86zM5.41 20L4 18.59l7.72-7.72 1.47 1.35L5.41 20z\"/>\n",
              "  </svg>\n",
              "      </button>\n",
              "      \n",
              "  <style>\n",
              "    .colab-df-container {\n",
              "      display:flex;\n",
              "      flex-wrap:wrap;\n",
              "      gap: 12px;\n",
              "    }\n",
              "\n",
              "    .colab-df-convert {\n",
              "      background-color: #E8F0FE;\n",
              "      border: none;\n",
              "      border-radius: 50%;\n",
              "      cursor: pointer;\n",
              "      display: none;\n",
              "      fill: #1967D2;\n",
              "      height: 32px;\n",
              "      padding: 0 0 0 0;\n",
              "      width: 32px;\n",
              "    }\n",
              "\n",
              "    .colab-df-convert:hover {\n",
              "      background-color: #E2EBFA;\n",
              "      box-shadow: 0px 1px 2px rgba(60, 64, 67, 0.3), 0px 1px 3px 1px rgba(60, 64, 67, 0.15);\n",
              "      fill: #174EA6;\n",
              "    }\n",
              "\n",
              "    [theme=dark] .colab-df-convert {\n",
              "      background-color: #3B4455;\n",
              "      fill: #D2E3FC;\n",
              "    }\n",
              "\n",
              "    [theme=dark] .colab-df-convert:hover {\n",
              "      background-color: #434B5C;\n",
              "      box-shadow: 0px 1px 3px 1px rgba(0, 0, 0, 0.15);\n",
              "      filter: drop-shadow(0px 1px 2px rgba(0, 0, 0, 0.3));\n",
              "      fill: #FFFFFF;\n",
              "    }\n",
              "  </style>\n",
              "\n",
              "      <script>\n",
              "        const buttonEl =\n",
              "          document.querySelector('#df-fb2d5bef-0363-4719-b955-4f99a44e64a9 button.colab-df-convert');\n",
              "        buttonEl.style.display =\n",
              "          google.colab.kernel.accessAllowed ? 'block' : 'none';\n",
              "\n",
              "        async function convertToInteractive(key) {\n",
              "          const element = document.querySelector('#df-fb2d5bef-0363-4719-b955-4f99a44e64a9');\n",
              "          const dataTable =\n",
              "            await google.colab.kernel.invokeFunction('convertToInteractive',\n",
              "                                                     [key], {});\n",
              "          if (!dataTable) return;\n",
              "\n",
              "          const docLinkHtml = 'Like what you see? Visit the ' +\n",
              "            '<a target=\"_blank\" href=https://colab.research.google.com/notebooks/data_table.ipynb>data table notebook</a>'\n",
              "            + ' to learn more about interactive tables.';\n",
              "          element.innerHTML = '';\n",
              "          dataTable['output_type'] = 'display_data';\n",
              "          await google.colab.output.renderOutput(dataTable, element);\n",
              "          const docLink = document.createElement('div');\n",
              "          docLink.innerHTML = docLinkHtml;\n",
              "          element.appendChild(docLink);\n",
              "        }\n",
              "      </script>\n",
              "    </div>\n",
              "  </div>\n",
              "  "
            ]
          },
          "metadata": {},
          "execution_count": 120
        }
      ]
    },
    {
      "cell_type": "markdown",
      "source": [
        "## target value price"
      ],
      "metadata": {
        "id": "WrcjouzWklrF"
      }
    },
    {
      "cell_type": "code",
      "source": [
        "sns.distplot(df['price'])\n",
        "plt.show()"
      ],
      "metadata": {
        "colab": {
          "base_uri": "https://localhost:8080/",
          "height": 334
        },
        "id": "xZTvSuBRSuXi",
        "outputId": "a4db70ad-f89d-4540-cec0-eef36008f78e"
      },
      "execution_count": null,
      "outputs": [
        {
          "output_type": "stream",
          "name": "stderr",
          "text": [
            "/usr/local/lib/python3.8/dist-packages/seaborn/distributions.py:2619: FutureWarning: `distplot` is a deprecated function and will be removed in a future version. Please adapt your code to use either `displot` (a figure-level function with similar flexibility) or `histplot` (an axes-level function for histograms).\n",
            "  warnings.warn(msg, FutureWarning)\n"
          ]
        },
        {
          "output_type": "display_data",
          "data": {
            "text/plain": [
              "<Figure size 432x288 with 1 Axes>"
            ],
            "image/png": "[encoded data removed]"
          },
          "metadata": {
            "needs_background": "light"
          }
        }
      ]
    },
    {
      "cell_type": "code",
      "source": [
        "sns.boxplot(y='price',data=df)\n",
        "plt.show()"
      ],
      "metadata": {
        "colab": {
          "base_uri": "https://localhost:8080/",
          "height": 252
        },
        "id": "XeLBRzWdok2Y",
        "outputId": "6e0c3871-7c3a-4346-8f9d-43259440aef9"
      },
      "execution_count": null,
      "outputs": [
        {
          "output_type": "display_data",
          "data": {
            "text/plain": [
              "<Figure size 432x288 with 1 Axes>"
            ],
            "image/png": "[encoded data removed]"
          },
          "metadata": {
            "needs_background": "light"
          }
        }
      ]
    },
    {
      "cell_type": "code",
      "source": [
        "df['price'].describe()"
      ],
      "metadata": {
        "colab": {
          "base_uri": "https://localhost:8080/"
        },
        "id": "jizYPFPSpMEC",
        "outputId": "4b8909f9-71d8-423a-9654-7032cd97963b"
      },
      "execution_count": null,
      "outputs": [
        {
          "output_type": "execute_result",
          "data": {
            "text/plain": [
              "count      205.000000\n",
              "mean     13276.710571\n",
              "std       7988.852332\n",
              "min       5118.000000\n",
              "25%       7788.000000\n",
              "50%      10295.000000\n",
              "75%      16503.000000\n",
              "max      45400.000000\n",
              "Name: price, dtype: float64"
            ]
          },
          "metadata": {},
          "execution_count": 123
        }
      ]
    },
    {
      "cell_type": "code",
      "source": [
        "df.hist(figsize=(15,11))"
      ],
      "metadata": {
        "colab": {
          "base_uri": "https://localhost:8080/",
          "height": 957
        },
        "id": "uA3QcZeJsAgU",
        "outputId": "2c6e94e0-a779-441b-dc43-2d428fd25077"
      },
      "execution_count": null,
      "outputs": [
        {
          "output_type": "execute_result",
          "data": {
            "text/plain": [
              "array([[<matplotlib.axes._subplots.AxesSubplot object at 0x7f3a70c82100>,\n",
              "        <matplotlib.axes._subplots.AxesSubplot object at 0x7f3a70ca1c10>,\n",
              "        <matplotlib.axes._subplots.AxesSubplot object at 0x7f3a70c583a0>,\n",
              "        <matplotlib.axes._subplots.AxesSubplot object at 0x7f3a70c01ac0>],\n",
              "       [<matplotlib.axes._subplots.AxesSubplot object at 0x7f3a70c38220>,\n",
              "        <matplotlib.axes._subplots.AxesSubplot object at 0x7f3a70be28b0>,\n",
              "        <matplotlib.axes._subplots.AxesSubplot object at 0x7f3a70be29a0>,\n",
              "        <matplotlib.axes._subplots.AxesSubplot object at 0x7f3a70b98160>],\n",
              "       [<matplotlib.axes._subplots.AxesSubplot object at 0x7f3a70b6efa0>,\n",
              "        <matplotlib.axes._subplots.AxesSubplot object at 0x7f3a70b24700>,\n",
              "        <matplotlib.axes._subplots.AxesSubplot object at 0x7f3a70acee20>,\n",
              "        <matplotlib.axes._subplots.AxesSubplot object at 0x7f3a70a845b0>],\n",
              "       [<matplotlib.axes._subplots.AxesSubplot object at 0x7f3a70aafcd0>,\n",
              "        <matplotlib.axes._subplots.AxesSubplot object at 0x7f3a70a68430>,\n",
              "        <matplotlib.axes._subplots.AxesSubplot object at 0x7f3a70a11b50>,\n",
              "        <matplotlib.axes._subplots.AxesSubplot object at 0x7f3a709c92b0>]],\n",
              "      dtype=object)"
            ]
          },
          "metadata": {},
          "execution_count": 124
        },
        {
          "output_type": "display_data",
          "data": {
            "text/plain": [
              "<Figure size 1080x792 with 16 Axes>"
            ],
            "image/png": "[encoded data removed]"
          },
          "metadata": {
            "needs_background": "light"
          }
        }
      ]
    },
    {
      "cell_type": "code",
      "source": [
        "fig,ax=plt.subplots(1,7,figsize=(18,7))\n",
        "def box (num1 , title ) :\n",
        "  ax[num1].boxplot(df[title])\n",
        "  ax[num1].set_title(title)\n",
        "box(0,\"price\")\n",
        "box(1,\"symboling\")\n",
        "box(2,\"enginesize\")\n",
        "box(3,\"boreratio\")\n",
        "box(4,\"stroke\")\n",
        "box(5,\"compressionratio\")\n",
        "box(6,\"horsepower\")\n",
        "\n"
      ],
      "metadata": {
        "colab": {
          "base_uri": "https://localhost:8080/",
          "height": 398
        },
        "id": "jwESmpwDsuTX",
        "outputId": "5aea5590-5835-4922-ecf5-d6cf0452fc0e"
      },
      "execution_count": null,
      "outputs": [
        {
          "output_type": "display_data",
          "data": {
            "text/plain": [
              "<Figure size 1296x504 with 7 Axes>"
            ],
            "image/png": "[encoded data removed]"
          },
          "metadata": {
            "needs_background": "light"
          }
        }
      ]
    },
    {
      "cell_type": "code",
      "source": [
        "df_num=df.select_dtypes(include=[\"int\" ,\"float\"])\n",
        "\n",
        "def outliers (col_name) : \n",
        "  \"\"\" filtering the outliers using inter quantile range methid \"\"\"\n",
        "  Q1=np.quantile(df_num[col_name],0.25)\n",
        "  Q3=np.quantile(df_num[col_name],0.75)\n",
        "  IQR=Q3-Q1\n",
        "  upper_limit=Q3+1.5*IQR\n",
        "  lower_limit=Q1-1.5*IQR\n",
        "  return (df_num[col_name] > upper_limit) | (df_num[col_name]<lower_limit)\n",
        "\n",
        "print(df_num)\n"
      ],
      "metadata": {
        "colab": {
          "base_uri": "https://localhost:8080/"
        },
        "id": "4rSvOAIUqAbK",
        "outputId": "0a0d495f-b2df-4044-e946-442a7b04f766"
      },
      "execution_count": null,
      "outputs": [
        {
          "output_type": "stream",
          "name": "stdout",
          "text": [
            "     car_ID  symboling  wheelbase  carlength  carwidth  carheight  curbweight  \\\n",
            "0         1          3       88.6      168.8      64.1       48.8        2548   \n",
            "1         2          3       88.6      168.8      64.1       48.8        2548   \n",
            "2         3          1       94.5      171.2      65.5       52.4        2823   \n",
            "3         4          2       99.8      176.6      66.2       54.3        2337   \n",
            "4         5          2       99.4      176.6      66.4       54.3        2824   \n",
            "..      ...        ...        ...        ...       ...        ...         ...   \n",
            "200     201         -1      109.1      188.8      68.9       55.5        2952   \n",
            "201     202         -1      109.1      188.8      68.8       55.5        3049   \n",
            "202     203         -1      109.1      188.8      68.9       55.5        3012   \n",
            "203     204         -1      109.1      188.8      68.9       55.5        3217   \n",
            "204     205         -1      109.1      188.8      68.9       55.5        3062   \n",
            "\n",
            "     enginesize  boreratio  stroke  compressionratio  horsepower  peakrpm  \\\n",
            "0           130       3.47    2.68               9.0         111     5000   \n",
            "1           130       3.47    2.68               9.0         111     5000   \n",
            "2           152       2.68    3.47               9.0         154     5000   \n",
            "3           109       3.19    3.40              10.0         102     5500   \n",
            "4           136       3.19    3.40               8.0         115     5500   \n",
            "..          ...        ...     ...               ...         ...      ...   \n",
            "200         141       3.78    3.15               9.5         114     5400   \n",
            "201         141       3.78    3.15               8.7         160     5300   \n",
            "202         173       3.58    2.87               8.8         134     5500   \n",
            "203         145       3.01    3.40              23.0         106     4800   \n",
            "204         141       3.78    3.15               9.5         114     5400   \n",
            "\n",
            "     citympg  highwaympg    price  \n",
            "0         21          27  13495.0  \n",
            "1         21          27  16500.0  \n",
            "2         19          26  16500.0  \n",
            "3         24          30  13950.0  \n",
            "4         18          22  17450.0  \n",
            "..       ...         ...      ...  \n",
            "200       23          28  16845.0  \n",
            "201       19          25  19045.0  \n",
            "202       18          23  21485.0  \n",
            "203       26          27  22470.0  \n",
            "204       19          25  22625.0  \n",
            "\n",
            "[205 rows x 16 columns]\n"
          ]
        }
      ]
    },
    {
      "cell_type": "code",
      "source": [
        "\n",
        "x={}\n",
        "for col in df_num.columns : \n",
        "\n",
        "  x[col]=outliers(col).mean()*100\n",
        "  pd.Series(x).plot(kind=\"bar\" , ylabel=\"% of outliers\" ,title=\"percantage of outliers in all features\")"
      ],
      "metadata": {
        "colab": {
          "base_uri": "https://localhost:8080/",
          "height": 357
        },
        "id": "8G1XUTfQqWcV",
        "outputId": "281a869f-9ef9-41d9-a982-298e0a497e83"
      },
      "execution_count": null,
      "outputs": [
        {
          "output_type": "display_data",
          "data": {
            "text/plain": [
              "<Figure size 432x288 with 1 Axes>"
            ],
            "image/png": "[encoded data removed]"
          },
          "metadata": {
            "needs_background": "light"
          }
        }
      ]
    },
    {
      "cell_type": "code",
      "source": [
        "df_wheel=df[outliers(\"horsepower\")]\n",
        "df_wheel"
      ],
      "metadata": {
        "colab": {
          "base_uri": "https://localhost:8080/",
          "height": 418
        },
        "id": "YD5Dgp0_vUR_",
        "outputId": "6ca546a3-e6c3-4d52-cbc6-bd0411786b65"
      },
      "execution_count": null,
      "outputs": [
        {
          "output_type": "execute_result",
          "data": {
            "text/plain": [
              "     car_ID  symboling            CarName fueltype aspiration doornumber  \\\n",
              "49       50          0          jaguar xk      gas        std          2   \n",
              "105     106          3       nissan kicks      gas      turbo          2   \n",
              "126     127          3  porcshce panamera      gas        std          2   \n",
              "127     128          3    porsche cayenne      gas        std          2   \n",
              "128     129          3     porsche boxter      gas        std          2   \n",
              "129     130          1    porsche cayenne      gas        std          2   \n",
              "\n",
              "         carbody drivewheel enginelocation  wheelbase  ...  horsepower  \\\n",
              "49         sedan        rwd          front      102.0  ...         262   \n",
              "105    hatchback        rwd          front       91.3  ...         200   \n",
              "126      hardtop        rwd           rear       89.5  ...         207   \n",
              "127      hardtop        rwd           rear       89.5  ...         207   \n",
              "128  convertible        rwd           rear       89.5  ...         207   \n",
              "129    hatchback        rwd          front       98.4  ...         288   \n",
              "\n",
              "     peakrpm  citympg  highwaympg    price CarCompany  ModelName     2     3  \\\n",
              "49      5000       13          17  36000.0     jaguar         xk  None  None   \n",
              "105     5200       17          23  19699.0     nissan      kicks  None  None   \n",
              "126     5900       17          25  32528.0    porsche   panamera  None  None   \n",
              "127     5900       17          25  34028.0    porsche    cayenne  None  None   \n",
              "128     5900       17          25  37028.0    porsche     boxter  None  None   \n",
              "129     5750       17          28  31400.5    porsche    cayenne  None  None   \n",
              "\n",
              "        4  \n",
              "49   None  \n",
              "105  None  \n",
              "126  None  \n",
              "127  None  \n",
              "128  None  \n",
              "129  None  \n",
              "\n",
              "[6 rows x 31 columns]"
            ],
            "text/html": [
              "\n",
              "  <div id=\"df-1fbc530c-d5ee-4dbf-9925-3888713d8b83\">\n",
              "    <div class=\"colab-df-container\">\n",
              "      <div>\n",
              "<style scoped>\n",
              "    .dataframe tbody tr th:only-of-type {\n",
              "        vertical-align: middle;\n",
              "    }\n",
              "\n",
              "    .dataframe tbody tr th {\n",
              "        vertical-align: top;\n",
              "    }\n",
              "\n",
              "    .dataframe thead th {\n",
              "        text-align: right;\n",
              "    }\n",
              "</style>\n",
              "<table border=\"1\" class=\"dataframe\">\n",
              "  <thead>\n",
              "    <tr style=\"text-align: right;\">\n",
              "      <th></th>\n",
              "      <th>car_ID</th>\n",
              "      <th>symboling</th>\n",
              "      <th>CarName</th>\n",
              "      <th>fueltype</th>\n",
              "      <th>aspiration</th>\n",
              "      <th>doornumber</th>\n",
              "      <th>carbody</th>\n",
              "      <th>drivewheel</th>\n",
              "      <th>enginelocation</th>\n",
              "      <th>wheelbase</th>\n",
              "      <th>...</th>\n",
              "      <th>horsepower</th>\n",
              "      <th>peakrpm</th>\n",
              "      <th>citympg</th>\n",
              "      <th>highwaympg</th>\n",
              "      <th>price</th>\n",
              "      <th>CarCompany</th>\n",
              "      <th>ModelName</th>\n",
              "      <th>2</th>\n",
              "      <th>3</th>\n",
              "      <th>4</th>\n",
              "    </tr>\n",
              "  </thead>\n",
              "  <tbody>\n",
              "    <tr>\n",
              "      <th>49</th>\n",
              "      <td>50</td>\n",
              "      <td>0</td>\n",
              "      <td>jaguar xk</td>\n",
              "      <td>gas</td>\n",
              "      <td>std</td>\n",
              "      <td>2</td>\n",
              "      <td>sedan</td>\n",
              "      <td>rwd</td>\n",
              "      <td>front</td>\n",
              "      <td>102.0</td>\n",
              "      <td>...</td>\n",
              "      <td>262</td>\n",
              "      <td>5000</td>\n",
              "      <td>13</td>\n",
              "      <td>17</td>\n",
              "      <td>36000.0</td>\n",
              "      <td>jaguar</td>\n",
              "      <td>xk</td>\n",
              "      <td>None</td>\n",
              "      <td>None</td>\n",
              "      <td>None</td>\n",
              "    </tr>\n",
              "    <tr>\n",
              "      <th>105</th>\n",
              "      <td>106</td>\n",
              "      <td>3</td>\n",
              "      <td>nissan kicks</td>\n",
              "      <td>gas</td>\n",
              "      <td>turbo</td>\n",
              "      <td>2</td>\n",
              "      <td>hatchback</td>\n",
              "      <td>rwd</td>\n",
              "      <td>front</td>\n",
              "      <td>91.3</td>\n",
              "      <td>...</td>\n",
              "      <td>200</td>\n",
              "      <td>5200</td>\n",
              "      <td>17</td>\n",
              "      <td>23</td>\n",
              "      <td>19699.0</td>\n",
              "      <td>nissan</td>\n",
              "      <td>kicks</td>\n",
              "      <td>None</td>\n",
              "      <td>None</td>\n",
              "      <td>None</td>\n",
              "    </tr>\n",
              "    <tr>\n",
              "      <th>126</th>\n",
              "      <td>127</td>\n",
              "      <td>3</td>\n",
              "      <td>porcshce panamera</td>\n",
              "      <td>gas</td>\n",
              "      <td>std</td>\n",
              "      <td>2</td>\n",
              "      <td>hardtop</td>\n",
              "      <td>rwd</td>\n",
              "      <td>rear</td>\n",
              "      <td>89.5</td>\n",
              "      <td>...</td>\n",
              "      <td>207</td>\n",
              "      <td>5900</td>\n",
              "      <td>17</td>\n",
              "      <td>25</td>\n",
              "      <td>32528.0</td>\n",
              "      <td>porsche</td>\n",
              "      <td>panamera</td>\n",
              "      <td>None</td>\n",
              "      <td>None</td>\n",
              "      <td>None</td>\n",
              "    </tr>\n",
              "    <tr>\n",
              "      <th>127</th>\n",
              "      <td>128</td>\n",
              "      <td>3</td>\n",
              "      <td>porsche cayenne</td>\n",
              "      <td>gas</td>\n",
              "      <td>std</td>\n",
              "      <td>2</td>\n",
              "      <td>hardtop</td>\n",
              "      <td>rwd</td>\n",
              "      <td>rear</td>\n",
              "      <td>89.5</td>\n",
              "      <td>...</td>\n",
              "      <td>207</td>\n",
              "      <td>5900</td>\n",
              "      <td>17</td>\n",
              "      <td>25</td>\n",
              "      <td>34028.0</td>\n",
              "      <td>porsche</td>\n",
              "      <td>cayenne</td>\n",
              "      <td>None</td>\n",
              "      <td>None</td>\n",
              "      <td>None</td>\n",
              "    </tr>\n",
              "    <tr>\n",
              "      <th>128</th>\n",
              "      <td>129</td>\n",
              "      <td>3</td>\n",
              "      <td>porsche boxter</td>\n",
              "      <td>gas</td>\n",
              "      <td>std</td>\n",
              "      <td>2</td>\n",
              "      <td>convertible</td>\n",
              "      <td>rwd</td>\n",
              "      <td>rear</td>\n",
              "      <td>89.5</td>\n",
              "      <td>...</td>\n",
              "      <td>207</td>\n",
              "      <td>5900</td>\n",
              "      <td>17</td>\n",
              "      <td>25</td>\n",
              "      <td>37028.0</td>\n",
              "      <td>porsche</td>\n",
              "      <td>boxter</td>\n",
              "      <td>None</td>\n",
              "      <td>None</td>\n",
              "      <td>None</td>\n",
              "    </tr>\n",
              "    <tr>\n",
              "      <th>129</th>\n",
              "      <td>130</td>\n",
              "      <td>1</td>\n",
              "      <td>porsche cayenne</td>\n",
              "      <td>gas</td>\n",
              "      <td>std</td>\n",
              "      <td>2</td>\n",
              "      <td>hatchback</td>\n",
              "      <td>rwd</td>\n",
              "      <td>front</td>\n",
              "      <td>98.4</td>\n",
              "      <td>...</td>\n",
              "      <td>288</td>\n",
              "      <td>5750</td>\n",
              "      <td>17</td>\n",
              "      <td>28</td>\n",
              "      <td>31400.5</td>\n",
              "      <td>porsche</td>\n",
              "      <td>cayenne</td>\n",
              "      <td>None</td>\n",
              "      <td>None</td>\n",
              "      <td>None</td>\n",
              "    </tr>\n",
              "  </tbody>\n",
              "</table>\n",
              "<p>6 rows × 31 columns</p>\n",
              "</div>\n",
              "      <button class=\"colab-df-convert\" onclick=\"convertToInteractive('df-1fbc530c-d5ee-4dbf-9925-3888713d8b83')\"\n",
              "              title=\"Convert this dataframe to an interactive table.\"\n",
              "              style=\"display:none;\">\n",
              "        \n",
              "  <svg xmlns=\"http://www.w3.org/2000/svg\" height=\"24px\"viewBox=\"0 0 24 24\"\n",
              "       width=\"24px\">\n",
              "    <path d=\"M0 0h24v24H0V0z\" fill=\"none\"/>\n",
              "    <path d=\"M18.56 5.44l.94 2.06.94-2.06 2.06-.94-2.06-.94-.94-2.06-.94 2.06-2.06.94zm-11 1L8.5 8.5l.94-2.06 2.06-.94-2.06-.94L8.5 2.5l-.94 2.06-2.06.94zm10 10l.94 2.06.94-2.06 2.06-.94-2.06-.94-.94-2.06-.94 2.06-2.06.94z\"/><path d=\"M17.41 7.96l-1.37-1.37c-.4-.4-.92-.59-1.43-.59-.52 0-1.04.2-1.43.59L10.3 9.45l-7.72 7.72c-.78.78-.78 2.05 0 2.83L4 21.41c.39.39.9.59 1.41.59.51 0 1.02-.2 1.41-.59l7.78-7.78 2.81-2.81c.8-.78.8-2.07 0-2.86zM5.41 20L4 18.59l7.72-7.72 1.47 1.35L5.41 20z\"/>\n",
              "  </svg>\n",
              "      </button>\n",
              "      \n",
              "  <style>\n",
              "    .colab-df-container {\n",
              "      display:flex;\n",
              "      flex-wrap:wrap;\n",
              "      gap: 12px;\n",
              "    }\n",
              "\n",
              "    .colab-df-convert {\n",
              "      background-color: #E8F0FE;\n",
              "      border: none;\n",
              "      border-radius: 50%;\n",
              "      cursor: pointer;\n",
              "      display: none;\n",
              "      fill: #1967D2;\n",
              "      height: 32px;\n",
              "      padding: 0 0 0 0;\n",
              "      width: 32px;\n",
              "    }\n",
              "\n",
              "    .colab-df-convert:hover {\n",
              "      background-color: #E2EBFA;\n",
              "      box-shadow: 0px 1px 2px rgba(60, 64, 67, 0.3), 0px 1px 3px 1px rgba(60, 64, 67, 0.15);\n",
              "      fill: #174EA6;\n",
              "    }\n",
              "\n",
              "    [theme=dark] .colab-df-convert {\n",
              "      background-color: #3B4455;\n",
              "      fill: #D2E3FC;\n",
              "    }\n",
              "\n",
              "    [theme=dark] .colab-df-convert:hover {\n",
              "      background-color: #434B5C;\n",
              "      box-shadow: 0px 1px 3px 1px rgba(0, 0, 0, 0.15);\n",
              "      filter: drop-shadow(0px 1px 2px rgba(0, 0, 0, 0.3));\n",
              "      fill: #FFFFFF;\n",
              "    }\n",
              "  </style>\n",
              "\n",
              "      <script>\n",
              "        const buttonEl =\n",
              "          document.querySelector('#df-1fbc530c-d5ee-4dbf-9925-3888713d8b83 button.colab-df-convert');\n",
              "        buttonEl.style.display =\n",
              "          google.colab.kernel.accessAllowed ? 'block' : 'none';\n",
              "\n",
              "        async function convertToInteractive(key) {\n",
              "          const element = document.querySelector('#df-1fbc530c-d5ee-4dbf-9925-3888713d8b83');\n",
              "          const dataTable =\n",
              "            await google.colab.kernel.invokeFunction('convertToInteractive',\n",
              "                                                     [key], {});\n",
              "          if (!dataTable) return;\n",
              "\n",
              "          const docLinkHtml = 'Like what you see? Visit the ' +\n",
              "            '<a target=\"_blank\" href=https://colab.research.google.com/notebooks/data_table.ipynb>data table notebook</a>'\n",
              "            + ' to learn more about interactive tables.';\n",
              "          element.innerHTML = '';\n",
              "          dataTable['output_type'] = 'display_data';\n",
              "          await google.colab.output.renderOutput(dataTable, element);\n",
              "          const docLink = document.createElement('div');\n",
              "          docLink.innerHTML = docLinkHtml;\n",
              "          element.appendChild(docLink);\n",
              "        }\n",
              "      </script>\n",
              "    </div>\n",
              "  </div>\n",
              "  "
            ]
          },
          "metadata": {},
          "execution_count": 128
        }
      ]
    },
    {
      "cell_type": "code",
      "source": [
        "df_stroke=df[outliers(\"stroke\")]\n",
        "df_stroke"
      ],
      "metadata": {
        "colab": {
          "base_uri": "https://localhost:8080/",
          "height": 1000
        },
        "id": "QCLQWlL4xk4C",
        "outputId": "89014c3f-342b-44e3-f819-c65c07129917"
      },
      "execution_count": null,
      "outputs": [
        {
          "output_type": "execute_result",
          "data": {
            "text/plain": [
              "     car_ID  symboling                    CarName fueltype aspiration  \\\n",
              "29       30          3  dodge coronet custom (sw)      gas      turbo   \n",
              "47       48          0                  jaguar xj      gas        std   \n",
              "48       49          0                  jaguar xf      gas        std   \n",
              "111     112          0                peugeot 504      gas        std   \n",
              "113     114          0                peugeot 504      gas        std   \n",
              "130     131          0               renault 12tl      gas        std   \n",
              "131     132          2              renault 5 gtl      gas        std   \n",
              "134     135          3                  saab 99le      gas        std   \n",
              "138     139          2                     subaru      gas        std   \n",
              "139     140          2                  subaru dl      gas        std   \n",
              "140     141          2                  subaru dl      gas        std   \n",
              "141     142          0                     subaru      gas        std   \n",
              "142     143          0                 subaru brz      gas        std   \n",
              "143     144          0                subaru baja      gas        std   \n",
              "144     145          0                  subaru r1      gas        std   \n",
              "145     146          0                  subaru r2      gas      turbo   \n",
              "146     147          0              subaru trezia      gas        std   \n",
              "147     148          0             subaru tribeca      gas        std   \n",
              "148     149          0                  subaru dl      gas        std   \n",
              "149     150          0                  subaru dl      gas      turbo   \n",
              "\n",
              "    doornumber    carbody drivewheel enginelocation  wheelbase  ...  \\\n",
              "29           2  hatchback        fwd          front       95.9  ...   \n",
              "47           4      sedan        rwd          front      113.0  ...   \n",
              "48           4      sedan        rwd          front      113.0  ...   \n",
              "111          4      sedan        rwd          front      107.9  ...   \n",
              "113          4      wagon        rwd          front      114.2  ...   \n",
              "130          4      wagon        fwd          front       96.1  ...   \n",
              "131          2  hatchback        fwd          front       96.1  ...   \n",
              "134          2  hatchback        fwd          front       99.1  ...   \n",
              "138          2  hatchback        fwd          front       93.7  ...   \n",
              "139          2  hatchback        fwd          front       93.7  ...   \n",
              "140          2  hatchback        4wd          front       93.3  ...   \n",
              "141          4      sedan        fwd          front       97.2  ...   \n",
              "142          4      sedan        fwd          front       97.2  ...   \n",
              "143          4      sedan        fwd          front       97.2  ...   \n",
              "144          4      sedan        4wd          front       97.0  ...   \n",
              "145          4      sedan        4wd          front       97.0  ...   \n",
              "146          4      wagon        fwd          front       97.0  ...   \n",
              "147          4      wagon        fwd          front       97.0  ...   \n",
              "148          4      wagon        4wd          front       96.9  ...   \n",
              "149          4      wagon        4wd          front       96.9  ...   \n",
              "\n",
              "     horsepower  peakrpm  citympg  highwaympg    price CarCompany  ModelName  \\\n",
              "29          145     5000       19          24  12964.0      dodge    coronet   \n",
              "47          176     4750       15          19  32250.0     jaguar         xj   \n",
              "48          176     4750       15          19  35550.0     jaguar         xf   \n",
              "111          95     5000       19          24  15580.0    peugeot        504   \n",
              "113          95     5000       19          24  16695.0    peugeot        504   \n",
              "130          90     5100       23          31   9295.0    renault       12tl   \n",
              "131          90     5100       23          31   9895.0    renault          5   \n",
              "134         110     5250       21          28  15040.0       saab       99le   \n",
              "138          69     4900       31          36   5118.0     subaru       None   \n",
              "139          73     4400       26          31   7053.0     subaru         dl   \n",
              "140          73     4400       26          31   7603.0     subaru         dl   \n",
              "141          82     4800       32          37   7126.0     subaru       None   \n",
              "142          82     4400       28          33   7775.0     subaru        brz   \n",
              "143          94     5200       26          32   9960.0     subaru       baja   \n",
              "144          82     4800       24          25   9233.0     subaru         r1   \n",
              "145         111     4800       24          29  11259.0     subaru         r2   \n",
              "146          82     4800       28          32   7463.0     subaru     trezia   \n",
              "147          94     5200       25          31  10198.0     subaru    tribeca   \n",
              "148          82     4800       23          29   8013.0     subaru         dl   \n",
              "149         111     4800       23          23  11694.0     subaru         dl   \n",
              "\n",
              "          2     3     4  \n",
              "29   custom  (sw)  None  \n",
              "47     None  None  None  \n",
              "48     None  None  None  \n",
              "111    None  None  None  \n",
              "113    None  None  None  \n",
              "130    None  None  None  \n",
              "131     gtl  None  None  \n",
              "134    None  None  None  \n",
              "138    None  None  None  \n",
              "139    None  None  None  \n",
              "140    None  None  None  \n",
              "141    None  None  None  \n",
              "142    None  None  None  \n",
              "143    None  None  None  \n",
              "144    None  None  None  \n",
              "145    None  None  None  \n",
              "146    None  None  None  \n",
              "147    None  None  None  \n",
              "148    None  None  None  \n",
              "149    None  None  None  \n",
              "\n",
              "[20 rows x 31 columns]"
            ],
            "text/html": [
              "\n",
              "  <div id=\"df-c2bf1b78-febb-4ce3-8b0e-a39977666712\">\n",
              "    <div class=\"colab-df-container\">\n",
              "      <div>\n",
              "<style scoped>\n",
              "    .dataframe tbody tr th:only-of-type {\n",
              "        vertical-align: middle;\n",
              "    }\n",
              "\n",
              "    .dataframe tbody tr th {\n",
              "        vertical-align: top;\n",
              "    }\n",
              "\n",
              "    .dataframe thead th {\n",
              "        text-align: right;\n",
              "    }\n",
              "</style>\n",
              "<table border=\"1\" class=\"dataframe\">\n",
              "  <thead>\n",
              "    <tr style=\"text-align: right;\">\n",
              "      <th></th>\n",
              "      <th>car_ID</th>\n",
              "      <th>symboling</th>\n",
              "      <th>CarName</th>\n",
              "      <th>fueltype</th>\n",
              "      <th>aspiration</th>\n",
              "      <th>doornumber</th>\n",
              "      <th>carbody</th>\n",
              "      <th>drivewheel</th>\n",
              "      <th>enginelocation</th>\n",
              "      <th>wheelbase</th>\n",
              "      <th>...</th>\n",
              "      <th>horsepower</th>\n",
              "      <th>peakrpm</th>\n",
              "      <th>citympg</th>\n",
              "      <th>highwaympg</th>\n",
              "      <th>price</th>\n",
              "      <th>CarCompany</th>\n",
              "      <th>ModelName</th>\n",
              "      <th>2</th>\n",
              "      <th>3</th>\n",
              "      <th>4</th>\n",
              "    </tr>\n",
              "  </thead>\n",
              "  <tbody>\n",
              "    <tr>\n",
              "      <th>29</th>\n",
              "      <td>30</td>\n",
              "      <td>3</td>\n",
              "      <td>dodge coronet custom (sw)</td>\n",
              "      <td>gas</td>\n",
              "      <td>turbo</td>\n",
              "      <td>2</td>\n",
              "      <td>hatchback</td>\n",
              "      <td>fwd</td>\n",
              "      <td>front</td>\n",
              "      <td>95.9</td>\n",
              "      <td>...</td>\n",
              "      <td>145</td>\n",
              "      <td>5000</td>\n",
              "      <td>19</td>\n",
              "      <td>24</td>\n",
              "      <td>12964.0</td>\n",
              "      <td>dodge</td>\n",
              "      <td>coronet</td>\n",
              "      <td>custom</td>\n",
              "      <td>(sw)</td>\n",
              "      <td>None</td>\n",
              "    </tr>\n",
              "    <tr>\n",
              "      <th>47</th>\n",
              "      <td>48</td>\n",
              "      <td>0</td>\n",
              "      <td>jaguar xj</td>\n",
              "      <td>gas</td>\n",
              "      <td>std</td>\n",
              "      <td>4</td>\n",
              "      <td>sedan</td>\n",
              "      <td>rwd</td>\n",
              "      <td>front</td>\n",
              "      <td>113.0</td>\n",
              "      <td>...</td>\n",
              "      <td>176</td>\n",
              "      <td>4750</td>\n",
              "      <td>15</td>\n",
              "      <td>19</td>\n",
              "      <td>32250.0</td>\n",
              "      <td>jaguar</td>\n",
              "      <td>xj</td>\n",
              "      <td>None</td>\n",
              "      <td>None</td>\n",
              "      <td>None</td>\n",
              "    </tr>\n",
              "    <tr>\n",
              "      <th>48</th>\n",
              "      <td>49</td>\n",
              "      <td>0</td>\n",
              "      <td>jaguar xf</td>\n",
              "      <td>gas</td>\n",
              "      <td>std</td>\n",
              "      <td>4</td>\n",
              "      <td>sedan</td>\n",
              "      <td>rwd</td>\n",
              "      <td>front</td>\n",
              "      <td>113.0</td>\n",
              "      <td>...</td>\n",
              "      <td>176</td>\n",
              "      <td>4750</td>\n",
              "      <td>15</td>\n",
              "      <td>19</td>\n",
              "      <td>35550.0</td>\n",
              "      <td>jaguar</td>\n",
              "      <td>xf</td>\n",
              "      <td>None</td>\n",
              "      <td>None</td>\n",
              "      <td>None</td>\n",
              "    </tr>\n",
              "    <tr>\n",
              "      <th>111</th>\n",
              "      <td>112</td>\n",
              "      <td>0</td>\n",
              "      <td>peugeot 504</td>\n",
              "      <td>gas</td>\n",
              "      <td>std</td>\n",
              "      <td>4</td>\n",
              "      <td>sedan</td>\n",
              "      <td>rwd</td>\n",
              "      <td>front</td>\n",
              "      <td>107.9</td>\n",
              "      <td>...</td>\n",
              "      <td>95</td>\n",
              "      <td>5000</td>\n",
              "      <td>19</td>\n",
              "      <td>24</td>\n",
              "      <td>15580.0</td>\n",
              "      <td>peugeot</td>\n",
              "      <td>504</td>\n",
              "      <td>None</td>\n",
              "      <td>None</td>\n",
              "      <td>None</td>\n",
              "    </tr>\n",
              "    <tr>\n",
              "      <th>113</th>\n",
              "      <td>114</td>\n",
              "      <td>0</td>\n",
              "      <td>peugeot 504</td>\n",
              "      <td>gas</td>\n",
              "      <td>std</td>\n",
              "      <td>4</td>\n",
              "      <td>wagon</td>\n",
              "      <td>rwd</td>\n",
              "      <td>front</td>\n",
              "      <td>114.2</td>\n",
              "      <td>...</td>\n",
              "      <td>95</td>\n",
              "      <td>5000</td>\n",
              "      <td>19</td>\n",
              "      <td>24</td>\n",
              "      <td>16695.0</td>\n",
              "      <td>peugeot</td>\n",
              "      <td>504</td>\n",
              "      <td>None</td>\n",
              "      <td>None</td>\n",
              "      <td>None</td>\n",
              "    </tr>\n",
              "    <tr>\n",
              "      <th>130</th>\n",
              "      <td>131</td>\n",
              "      <td>0</td>\n",
              "      <td>renault 12tl</td>\n",
              "      <td>gas</td>\n",
              "      <td>std</td>\n",
              "      <td>4</td>\n",
              "      <td>wagon</td>\n",
              "      <td>fwd</td>\n",
              "      <td>front</td>\n",
              "      <td>96.1</td>\n",
              "      <td>...</td>\n",
              "      <td>90</td>\n",
              "      <td>5100</td>\n",
              "      <td>23</td>\n",
              "      <td>31</td>\n",
              "      <td>9295.0</td>\n",
              "      <td>renault</td>\n",
              "      <td>12tl</td>\n",
              "      <td>None</td>\n",
              "      <td>None</td>\n",
              "      <td>None</td>\n",
              "    </tr>\n",
              "    <tr>\n",
              "      <th>131</th>\n",
              "      <td>132</td>\n",
              "      <td>2</td>\n",
              "      <td>renault 5 gtl</td>\n",
              "      <td>gas</td>\n",
              "      <td>std</td>\n",
              "      <td>2</td>\n",
              "      <td>hatchback</td>\n",
              "      <td>fwd</td>\n",
              "      <td>front</td>\n",
              "      <td>96.1</td>\n",
              "      <td>...</td>\n",
              "      <td>90</td>\n",
              "      <td>5100</td>\n",
              "      <td>23</td>\n",
              "      <td>31</td>\n",
              "      <td>9895.0</td>\n",
              "      <td>renault</td>\n",
              "      <td>5</td>\n",
              "      <td>gtl</td>\n",
              "      <td>None</td>\n",
              "      <td>None</td>\n",
              "    </tr>\n",
              "    <tr>\n",
              "      <th>134</th>\n",
              "      <td>135</td>\n",
              "      <td>3</td>\n",
              "      <td>saab 99le</td>\n",
              "      <td>gas</td>\n",
              "      <td>std</td>\n",
              "      <td>2</td>\n",
              "      <td>hatchback</td>\n",
              "      <td>fwd</td>\n",
              "      <td>front</td>\n",
              "      <td>99.1</td>\n",
              "      <td>...</td>\n",
              "      <td>110</td>\n",
              "      <td>5250</td>\n",
              "      <td>21</td>\n",
              "      <td>28</td>\n",
              "      <td>15040.0</td>\n",
              "      <td>saab</td>\n",
              "      <td>99le</td>\n",
              "      <td>None</td>\n",
              "      <td>None</td>\n",
              "      <td>None</td>\n",
              "    </tr>\n",
              "    <tr>\n",
              "      <th>138</th>\n",
              "      <td>139</td>\n",
              "      <td>2</td>\n",
              "      <td>subaru</td>\n",
              "      <td>gas</td>\n",
              "      <td>std</td>\n",
              "      <td>2</td>\n",
              "      <td>hatchback</td>\n",
              "      <td>fwd</td>\n",
              "      <td>front</td>\n",
              "      <td>93.7</td>\n",
              "      <td>...</td>\n",
              "      <td>69</td>\n",
              "      <td>4900</td>\n",
              "      <td>31</td>\n",
              "      <td>36</td>\n",
              "      <td>5118.0</td>\n",
              "      <td>subaru</td>\n",
              "      <td>None</td>\n",
              "      <td>None</td>\n",
              "      <td>None</td>\n",
              "      <td>None</td>\n",
              "    </tr>\n",
              "    <tr>\n",
              "      <th>139</th>\n",
              "      <td>140</td>\n",
              "      <td>2</td>\n",
              "      <td>subaru dl</td>\n",
              "      <td>gas</td>\n",
              "      <td>std</td>\n",
              "      <td>2</td>\n",
              "      <td>hatchback</td>\n",
              "      <td>fwd</td>\n",
              "      <td>front</td>\n",
              "      <td>93.7</td>\n",
              "      <td>...</td>\n",
              "      <td>73</td>\n",
              "      <td>4400</td>\n",
              "      <td>26</td>\n",
              "      <td>31</td>\n",
              "      <td>7053.0</td>\n",
              "      <td>subaru</td>\n",
              "      <td>dl</td>\n",
              "      <td>None</td>\n",
              "      <td>None</td>\n",
              "      <td>None</td>\n",
              "    </tr>\n",
              "    <tr>\n",
              "      <th>140</th>\n",
              "      <td>141</td>\n",
              "      <td>2</td>\n",
              "      <td>subaru dl</td>\n",
              "      <td>gas</td>\n",
              "      <td>std</td>\n",
              "      <td>2</td>\n",
              "      <td>hatchback</td>\n",
              "      <td>4wd</td>\n",
              "      <td>front</td>\n",
              "      <td>93.3</td>\n",
              "      <td>...</td>\n",
              "      <td>73</td>\n",
              "      <td>4400</td>\n",
              "      <td>26</td>\n",
              "      <td>31</td>\n",
              "      <td>7603.0</td>\n",
              "      <td>subaru</td>\n",
              "      <td>dl</td>\n",
              "      <td>None</td>\n",
              "      <td>None</td>\n",
              "      <td>None</td>\n",
              "    </tr>\n",
              "    <tr>\n",
              "      <th>141</th>\n",
              "      <td>142</td>\n",
              "      <td>0</td>\n",
              "      <td>subaru</td>\n",
              "      <td>gas</td>\n",
              "      <td>std</td>\n",
              "      <td>4</td>\n",
              "      <td>sedan</td>\n",
              "      <td>fwd</td>\n",
              "      <td>front</td>\n",
              "      <td>97.2</td>\n",
              "      <td>...</td>\n",
              "      <td>82</td>\n",
              "      <td>4800</td>\n",
              "      <td>32</td>\n",
              "      <td>37</td>\n",
              "      <td>7126.0</td>\n",
              "      <td>subaru</td>\n",
              "      <td>None</td>\n",
              "      <td>None</td>\n",
              "      <td>None</td>\n",
              "      <td>None</td>\n",
              "    </tr>\n",
              "    <tr>\n",
              "      <th>142</th>\n",
              "      <td>143</td>\n",
              "      <td>0</td>\n",
              "      <td>subaru brz</td>\n",
              "      <td>gas</td>\n",
              "      <td>std</td>\n",
              "      <td>4</td>\n",
              "      <td>sedan</td>\n",
              "      <td>fwd</td>\n",
              "      <td>front</td>\n",
              "      <td>97.2</td>\n",
              "      <td>...</td>\n",
              "      <td>82</td>\n",
              "      <td>4400</td>\n",
              "      <td>28</td>\n",
              "      <td>33</td>\n",
              "      <td>7775.0</td>\n",
              "      <td>subaru</td>\n",
              "      <td>brz</td>\n",
              "      <td>None</td>\n",
              "      <td>None</td>\n",
              "      <td>None</td>\n",
              "    </tr>\n",
              "    <tr>\n",
              "      <th>143</th>\n",
              "      <td>144</td>\n",
              "      <td>0</td>\n",
              "      <td>subaru baja</td>\n",
              "      <td>gas</td>\n",
              "      <td>std</td>\n",
              "      <td>4</td>\n",
              "      <td>sedan</td>\n",
              "      <td>fwd</td>\n",
              "      <td>front</td>\n",
              "      <td>97.2</td>\n",
              "      <td>...</td>\n",
              "      <td>94</td>\n",
              "      <td>5200</td>\n",
              "      <td>26</td>\n",
              "      <td>32</td>\n",
              "      <td>9960.0</td>\n",
              "      <td>subaru</td>\n",
              "      <td>baja</td>\n",
              "      <td>None</td>\n",
              "      <td>None</td>\n",
              "      <td>None</td>\n",
              "    </tr>\n",
              "    <tr>\n",
              "      <th>144</th>\n",
              "      <td>145</td>\n",
              "      <td>0</td>\n",
              "      <td>subaru r1</td>\n",
              "      <td>gas</td>\n",
              "      <td>std</td>\n",
              "      <td>4</td>\n",
              "      <td>sedan</td>\n",
              "      <td>4wd</td>\n",
              "      <td>front</td>\n",
              "      <td>97.0</td>\n",
              "      <td>...</td>\n",
              "      <td>82</td>\n",
              "      <td>4800</td>\n",
              "      <td>24</td>\n",
              "      <td>25</td>\n",
              "      <td>9233.0</td>\n",
              "      <td>subaru</td>\n",
              "      <td>r1</td>\n",
              "      <td>None</td>\n",
              "      <td>None</td>\n",
              "      <td>None</td>\n",
              "    </tr>\n",
              "    <tr>\n",
              "      <th>145</th>\n",
              "      <td>146</td>\n",
              "      <td>0</td>\n",
              "      <td>subaru r2</td>\n",
              "      <td>gas</td>\n",
              "      <td>turbo</td>\n",
              "      <td>4</td>\n",
              "      <td>sedan</td>\n",
              "      <td>4wd</td>\n",
              "      <td>front</td>\n",
              "      <td>97.0</td>\n",
              "      <td>...</td>\n",
              "      <td>111</td>\n",
              "      <td>4800</td>\n",
              "      <td>24</td>\n",
              "      <td>29</td>\n",
              "      <td>11259.0</td>\n",
              "      <td>subaru</td>\n",
              "      <td>r2</td>\n",
              "      <td>None</td>\n",
              "      <td>None</td>\n",
              "      <td>None</td>\n",
              "    </tr>\n",
              "    <tr>\n",
              "      <th>146</th>\n",
              "      <td>147</td>\n",
              "      <td>0</td>\n",
              "      <td>subaru trezia</td>\n",
              "      <td>gas</td>\n",
              "      <td>std</td>\n",
              "      <td>4</td>\n",
              "      <td>wagon</td>\n",
              "      <td>fwd</td>\n",
              "      <td>front</td>\n",
              "      <td>97.0</td>\n",
              "      <td>...</td>\n",
              "      <td>82</td>\n",
              "      <td>4800</td>\n",
              "      <td>28</td>\n",
              "      <td>32</td>\n",
              "      <td>7463.0</td>\n",
              "      <td>subaru</td>\n",
              "      <td>trezia</td>\n",
              "      <td>None</td>\n",
              "      <td>None</td>\n",
              "      <td>None</td>\n",
              "    </tr>\n",
              "    <tr>\n",
              "      <th>147</th>\n",
              "      <td>148</td>\n",
              "      <td>0</td>\n",
              "      <td>subaru tribeca</td>\n",
              "      <td>gas</td>\n",
              "      <td>std</td>\n",
              "      <td>4</td>\n",
              "      <td>wagon</td>\n",
              "      <td>fwd</td>\n",
              "      <td>front</td>\n",
              "      <td>97.0</td>\n",
              "      <td>...</td>\n",
              "      <td>94</td>\n",
              "      <td>5200</td>\n",
              "      <td>25</td>\n",
              "      <td>31</td>\n",
              "      <td>10198.0</td>\n",
              "      <td>subaru</td>\n",
              "      <td>tribeca</td>\n",
              "      <td>None</td>\n",
              "      <td>None</td>\n",
              "      <td>None</td>\n",
              "    </tr>\n",
              "    <tr>\n",
              "      <th>148</th>\n",
              "      <td>149</td>\n",
              "      <td>0</td>\n",
              "      <td>subaru dl</td>\n",
              "      <td>gas</td>\n",
              "      <td>std</td>\n",
              "      <td>4</td>\n",
              "      <td>wagon</td>\n",
              "      <td>4wd</td>\n",
              "      <td>front</td>\n",
              "      <td>96.9</td>\n",
              "      <td>...</td>\n",
              "      <td>82</td>\n",
              "      <td>4800</td>\n",
              "      <td>23</td>\n",
              "      <td>29</td>\n",
              "      <td>8013.0</td>\n",
              "      <td>subaru</td>\n",
              "      <td>dl</td>\n",
              "      <td>None</td>\n",
              "      <td>None</td>\n",
              "      <td>None</td>\n",
              "    </tr>\n",
              "    <tr>\n",
              "      <th>149</th>\n",
              "      <td>150</td>\n",
              "      <td>0</td>\n",
              "      <td>subaru dl</td>\n",
              "      <td>gas</td>\n",
              "      <td>turbo</td>\n",
              "      <td>4</td>\n",
              "      <td>wagon</td>\n",
              "      <td>4wd</td>\n",
              "      <td>front</td>\n",
              "      <td>96.9</td>\n",
              "      <td>...</td>\n",
              "      <td>111</td>\n",
              "      <td>4800</td>\n",
              "      <td>23</td>\n",
              "      <td>23</td>\n",
              "      <td>11694.0</td>\n",
              "      <td>subaru</td>\n",
              "      <td>dl</td>\n",
              "      <td>None</td>\n",
              "      <td>None</td>\n",
              "      <td>None</td>\n",
              "    </tr>\n",
              "  </tbody>\n",
              "</table>\n",
              "<p>20 rows × 31 columns</p>\n",
              "</div>\n",
              "      <button class=\"colab-df-convert\" onclick=\"convertToInteractive('df-c2bf1b78-febb-4ce3-8b0e-a39977666712')\"\n",
              "              title=\"Convert this dataframe to an interactive table.\"\n",
              "              style=\"display:none;\">\n",
              "        \n",
              "  <svg xmlns=\"http://www.w3.org/2000/svg\" height=\"24px\"viewBox=\"0 0 24 24\"\n",
              "       width=\"24px\">\n",
              "    <path d=\"M0 0h24v24H0V0z\" fill=\"none\"/>\n",
              "    <path d=\"M18.56 5.44l.94 2.06.94-2.06 2.06-.94-2.06-.94-.94-2.06-.94 2.06-2.06.94zm-11 1L8.5 8.5l.94-2.06 2.06-.94-2.06-.94L8.5 2.5l-.94 2.06-2.06.94zm10 10l.94 2.06.94-2.06 2.06-.94-2.06-.94-.94-2.06-.94 2.06-2.06.94z\"/><path d=\"M17.41 7.96l-1.37-1.37c-.4-.4-.92-.59-1.43-.59-.52 0-1.04.2-1.43.59L10.3 9.45l-7.72 7.72c-.78.78-.78 2.05 0 2.83L4 21.41c.39.39.9.59 1.41.59.51 0 1.02-.2 1.41-.59l7.78-7.78 2.81-2.81c.8-.78.8-2.07 0-2.86zM5.41 20L4 18.59l7.72-7.72 1.47 1.35L5.41 20z\"/>\n",
              "  </svg>\n",
              "      </button>\n",
              "      \n",
              "  <style>\n",
              "    .colab-df-container {\n",
              "      display:flex;\n",
              "      flex-wrap:wrap;\n",
              "      gap: 12px;\n",
              "    }\n",
              "\n",
              "    .colab-df-convert {\n",
              "      background-color: #E8F0FE;\n",
              "      border: none;\n",
              "      border-radius: 50%;\n",
              "      cursor: pointer;\n",
              "      display: none;\n",
              "      fill: #1967D2;\n",
              "      height: 32px;\n",
              "      padding: 0 0 0 0;\n",
              "      width: 32px;\n",
              "    }\n",
              "\n",
              "    .colab-df-convert:hover {\n",
              "      background-color: #E2EBFA;\n",
              "      box-shadow: 0px 1px 2px rgba(60, 64, 67, 0.3), 0px 1px 3px 1px rgba(60, 64, 67, 0.15);\n",
              "      fill: #174EA6;\n",
              "    }\n",
              "\n",
              "    [theme=dark] .colab-df-convert {\n",
              "      background-color: #3B4455;\n",
              "      fill: #D2E3FC;\n",
              "    }\n",
              "\n",
              "    [theme=dark] .colab-df-convert:hover {\n",
              "      background-color: #434B5C;\n",
              "      box-shadow: 0px 1px 3px 1px rgba(0, 0, 0, 0.15);\n",
              "      filter: drop-shadow(0px 1px 2px rgba(0, 0, 0, 0.3));\n",
              "      fill: #FFFFFF;\n",
              "    }\n",
              "  </style>\n",
              "\n",
              "      <script>\n",
              "        const buttonEl =\n",
              "          document.querySelector('#df-c2bf1b78-febb-4ce3-8b0e-a39977666712 button.colab-df-convert');\n",
              "        buttonEl.style.display =\n",
              "          google.colab.kernel.accessAllowed ? 'block' : 'none';\n",
              "\n",
              "        async function convertToInteractive(key) {\n",
              "          const element = document.querySelector('#df-c2bf1b78-febb-4ce3-8b0e-a39977666712');\n",
              "          const dataTable =\n",
              "            await google.colab.kernel.invokeFunction('convertToInteractive',\n",
              "                                                     [key], {});\n",
              "          if (!dataTable) return;\n",
              "\n",
              "          const docLinkHtml = 'Like what you see? Visit the ' +\n",
              "            '<a target=\"_blank\" href=https://colab.research.google.com/notebooks/data_table.ipynb>data table notebook</a>'\n",
              "            + ' to learn more about interactive tables.';\n",
              "          element.innerHTML = '';\n",
              "          dataTable['output_type'] = 'display_data';\n",
              "          await google.colab.output.renderOutput(dataTable, element);\n",
              "          const docLink = document.createElement('div');\n",
              "          docLink.innerHTML = docLinkHtml;\n",
              "          element.appendChild(docLink);\n",
              "        }\n",
              "      </script>\n",
              "    </div>\n",
              "  </div>\n",
              "  "
            ]
          },
          "metadata": {},
          "execution_count": 129
        }
      ]
    },
    {
      "cell_type": "code",
      "source": [
        "df[\"fueltype\"].value_counts(normalize=True).plot(kind=\"bar\")"
      ],
      "metadata": {
        "colab": {
          "base_uri": "https://localhost:8080/",
          "height": 302
        },
        "id": "EaZfzbMNiHg6",
        "outputId": "b2323427-4577-4324-f3cc-95622ab1a299"
      },
      "execution_count": null,
      "outputs": [
        {
          "output_type": "execute_result",
          "data": {
            "text/plain": [
              "<matplotlib.axes._subplots.AxesSubplot at 0x7f3a70815ac0>"
            ]
          },
          "metadata": {},
          "execution_count": 130
        },
        {
          "output_type": "display_data",
          "data": {
            "text/plain": [
              "<Figure size 432x288 with 1 Axes>"
            ],
            "image/png": "[encoded data removed]"
          },
          "metadata": {
            "needs_background": "light"
          }
        }
      ]
    },
    {
      "cell_type": "code",
      "source": [
        "df.groupby(\"fueltype\")[\"compressionratio\"].mean()"
      ],
      "metadata": {
        "colab": {
          "base_uri": "https://localhost:8080/"
        },
        "id": "GjZGb6mohtaq",
        "outputId": "3ea51ba4-f592-4898-9b72-9326f26879e6"
      },
      "execution_count": null,
      "outputs": [
        {
          "output_type": "execute_result",
          "data": {
            "text/plain": [
              "fueltype\n",
              "diesel    22.005000\n",
              "gas        8.860108\n",
              "Name: compressionratio, dtype: float64"
            ]
          },
          "metadata": {},
          "execution_count": 131
        }
      ]
    },
    {
      "cell_type": "markdown",
      "source": [],
      "metadata": {
        "id": "cJDdDXHY245L"
      }
    },
    {
      "cell_type": "code",
      "source": [
        "df_comp_out=df[outliers(\"compressionratio\")]\n",
        "df_comp_out[df_comp_out[\"compressionratio\"]==7]"
      ],
      "metadata": {
        "colab": {
          "base_uri": "https://localhost:8080/",
          "height": 536
        },
        "id": "5Wn-phghinQt",
        "outputId": "b2c7767c-699d-4ec8-c5ff-7db5beb60652"
      },
      "execution_count": null,
      "outputs": [
        {
          "output_type": "execute_result",
          "data": {
            "text/plain": [
              "     car_ID  symboling                    CarName fueltype aspiration  \\\n",
              "9        10          0        audi 5000s (diesel)      gas      turbo   \n",
              "29       30          3  dodge coronet custom (sw)      gas      turbo   \n",
              "82       83          3       mitsubishi outlander      gas      turbo   \n",
              "83       84          3              mitsubishi g4      gas      turbo   \n",
              "84       85          3       mitsubishi mirage g4      gas      turbo   \n",
              "117     118          0              peugeot 604sl      gas      turbo   \n",
              "124     125          3            plymouth duster      gas      turbo   \n",
              "\n",
              "    doornumber    carbody drivewheel enginelocation  wheelbase  ...  \\\n",
              "9            2  hatchback        4wd          front       99.5  ...   \n",
              "29           2  hatchback        fwd          front       95.9  ...   \n",
              "82           2  hatchback        fwd          front       95.9  ...   \n",
              "83           2  hatchback        fwd          front       95.9  ...   \n",
              "84           2  hatchback        fwd          front       95.9  ...   \n",
              "117          4      sedan        rwd          front      108.0  ...   \n",
              "124          2  hatchback        rwd          front       95.9  ...   \n",
              "\n",
              "     horsepower  peakrpm  citympg  highwaympg      price  CarCompany  \\\n",
              "9           160     5500       16          22  17859.167        audi   \n",
              "29          145     5000       19          24  12964.000       dodge   \n",
              "82          145     5000       19          24  12629.000  mitsubishi   \n",
              "83          145     5000       19          24  14869.000  mitsubishi   \n",
              "84          145     5000       19          24  14489.000  mitsubishi   \n",
              "117         142     5600       18          24  18150.000     peugeot   \n",
              "124         145     5000       19          24  12764.000    plymouth   \n",
              "\n",
              "     ModelName         2     3     4  \n",
              "9        5000s  (diesel)  None  None  \n",
              "29     coronet    custom  (sw)  None  \n",
              "82   outlander      None  None  None  \n",
              "83          g4      None  None  None  \n",
              "84      mirage        g4  None  None  \n",
              "117      604sl      None  None  None  \n",
              "124     duster      None  None  None  \n",
              "\n",
              "[7 rows x 31 columns]"
            ],
            "text/html": [
              "\n",
              "  <div id=\"df-4dee98a2-7e28-4207-974d-1749ad962d17\">\n",
              "    <div class=\"colab-df-container\">\n",
              "      <div>\n",
              "<style scoped>\n",
              "    .dataframe tbody tr th:only-of-type {\n",
              "        vertical-align: middle;\n",
              "    }\n",
              "\n",
              "    .dataframe tbody tr th {\n",
              "        vertical-align: top;\n",
              "    }\n",
              "\n",
              "    .dataframe thead th {\n",
              "        text-align: right;\n",
              "    }\n",
              "</style>\n",
              "<table border=\"1\" class=\"dataframe\">\n",
              "  <thead>\n",
              "    <tr style=\"text-align: right;\">\n",
              "      <th></th>\n",
              "      <th>car_ID</th>\n",
              "      <th>symboling</th>\n",
              "      <th>CarName</th>\n",
              "      <th>fueltype</th>\n",
              "      <th>aspiration</th>\n",
              "      <th>doornumber</th>\n",
              "      <th>carbody</th>\n",
              "      <th>drivewheel</th>\n",
              "      <th>enginelocation</th>\n",
              "      <th>wheelbase</th>\n",
              "      <th>...</th>\n",
              "      <th>horsepower</th>\n",
              "      <th>peakrpm</th>\n",
              "      <th>citympg</th>\n",
              "      <th>highwaympg</th>\n",
              "      <th>price</th>\n",
              "      <th>CarCompany</th>\n",
              "      <th>ModelName</th>\n",
              "      <th>2</th>\n",
              "      <th>3</th>\n",
              "      <th>4</th>\n",
              "    </tr>\n",
              "  </thead>\n",
              "  <tbody>\n",
              "    <tr>\n",
              "      <th>9</th>\n",
              "      <td>10</td>\n",
              "      <td>0</td>\n",
              "      <td>audi 5000s (diesel)</td>\n",
              "      <td>gas</td>\n",
              "      <td>turbo</td>\n",
              "      <td>2</td>\n",
              "      <td>hatchback</td>\n",
              "      <td>4wd</td>\n",
              "      <td>front</td>\n",
              "      <td>99.5</td>\n",
              "      <td>...</td>\n",
              "      <td>160</td>\n",
              "      <td>5500</td>\n",
              "      <td>16</td>\n",
              "      <td>22</td>\n",
              "      <td>17859.167</td>\n",
              "      <td>audi</td>\n",
              "      <td>5000s</td>\n",
              "      <td>(diesel)</td>\n",
              "      <td>None</td>\n",
              "      <td>None</td>\n",
              "    </tr>\n",
              "    <tr>\n",
              "      <th>29</th>\n",
              "      <td>30</td>\n",
              "      <td>3</td>\n",
              "      <td>dodge coronet custom (sw)</td>\n",
              "      <td>gas</td>\n",
              "      <td>turbo</td>\n",
              "      <td>2</td>\n",
              "      <td>hatchback</td>\n",
              "      <td>fwd</td>\n",
              "      <td>front</td>\n",
              "      <td>95.9</td>\n",
              "      <td>...</td>\n",
              "      <td>145</td>\n",
              "      <td>5000</td>\n",
              "      <td>19</td>\n",
              "      <td>24</td>\n",
              "      <td>12964.000</td>\n",
              "      <td>dodge</td>\n",
              "      <td>coronet</td>\n",
              "      <td>custom</td>\n",
              "      <td>(sw)</td>\n",
              "      <td>None</td>\n",
              "    </tr>\n",
              "    <tr>\n",
              "      <th>82</th>\n",
              "      <td>83</td>\n",
              "      <td>3</td>\n",
              "      <td>mitsubishi outlander</td>\n",
              "      <td>gas</td>\n",
              "      <td>turbo</td>\n",
              "      <td>2</td>\n",
              "      <td>hatchback</td>\n",
              "      <td>fwd</td>\n",
              "      <td>front</td>\n",
              "      <td>95.9</td>\n",
              "      <td>...</td>\n",
              "      <td>145</td>\n",
              "      <td>5000</td>\n",
              "      <td>19</td>\n",
              "      <td>24</td>\n",
              "      <td>12629.000</td>\n",
              "      <td>mitsubishi</td>\n",
              "      <td>outlander</td>\n",
              "      <td>None</td>\n",
              "      <td>None</td>\n",
              "      <td>None</td>\n",
              "    </tr>\n",
              "    <tr>\n",
              "      <th>83</th>\n",
              "      <td>84</td>\n",
              "      <td>3</td>\n",
              "      <td>mitsubishi g4</td>\n",
              "      <td>gas</td>\n",
              "      <td>turbo</td>\n",
              "      <td>2</td>\n",
              "      <td>hatchback</td>\n",
              "      <td>fwd</td>\n",
              "      <td>front</td>\n",
              "      <td>95.9</td>\n",
              "      <td>...</td>\n",
              "      <td>145</td>\n",
              "      <td>5000</td>\n",
              "      <td>19</td>\n",
              "      <td>24</td>\n",
              "      <td>14869.000</td>\n",
              "      <td>mitsubishi</td>\n",
              "      <td>g4</td>\n",
              "      <td>None</td>\n",
              "      <td>None</td>\n",
              "      <td>None</td>\n",
              "    </tr>\n",
              "    <tr>\n",
              "      <th>84</th>\n",
              "      <td>85</td>\n",
              "      <td>3</td>\n",
              "      <td>mitsubishi mirage g4</td>\n",
              "      <td>gas</td>\n",
              "      <td>turbo</td>\n",
              "      <td>2</td>\n",
              "      <td>hatchback</td>\n",
              "      <td>fwd</td>\n",
              "      <td>front</td>\n",
              "      <td>95.9</td>\n",
              "      <td>...</td>\n",
              "      <td>145</td>\n",
              "      <td>5000</td>\n",
              "      <td>19</td>\n",
              "      <td>24</td>\n",
              "      <td>14489.000</td>\n",
              "      <td>mitsubishi</td>\n",
              "      <td>mirage</td>\n",
              "      <td>g4</td>\n",
              "      <td>None</td>\n",
              "      <td>None</td>\n",
              "    </tr>\n",
              "    <tr>\n",
              "      <th>117</th>\n",
              "      <td>118</td>\n",
              "      <td>0</td>\n",
              "      <td>peugeot 604sl</td>\n",
              "      <td>gas</td>\n",
              "      <td>turbo</td>\n",
              "      <td>4</td>\n",
              "      <td>sedan</td>\n",
              "      <td>rwd</td>\n",
              "      <td>front</td>\n",
              "      <td>108.0</td>\n",
              "      <td>...</td>\n",
              "      <td>142</td>\n",
              "      <td>5600</td>\n",
              "      <td>18</td>\n",
              "      <td>24</td>\n",
              "      <td>18150.000</td>\n",
              "      <td>peugeot</td>\n",
              "      <td>604sl</td>\n",
              "      <td>None</td>\n",
              "      <td>None</td>\n",
              "      <td>None</td>\n",
              "    </tr>\n",
              "    <tr>\n",
              "      <th>124</th>\n",
              "      <td>125</td>\n",
              "      <td>3</td>\n",
              "      <td>plymouth duster</td>\n",
              "      <td>gas</td>\n",
              "      <td>turbo</td>\n",
              "      <td>2</td>\n",
              "      <td>hatchback</td>\n",
              "      <td>rwd</td>\n",
              "      <td>front</td>\n",
              "      <td>95.9</td>\n",
              "      <td>...</td>\n",
              "      <td>145</td>\n",
              "      <td>5000</td>\n",
              "      <td>19</td>\n",
              "      <td>24</td>\n",
              "      <td>12764.000</td>\n",
              "      <td>plymouth</td>\n",
              "      <td>duster</td>\n",
              "      <td>None</td>\n",
              "      <td>None</td>\n",
              "      <td>None</td>\n",
              "    </tr>\n",
              "  </tbody>\n",
              "</table>\n",
              "<p>7 rows × 31 columns</p>\n",
              "</div>\n",
              "      <button class=\"colab-df-convert\" onclick=\"convertToInteractive('df-4dee98a2-7e28-4207-974d-1749ad962d17')\"\n",
              "              title=\"Convert this dataframe to an interactive table.\"\n",
              "              style=\"display:none;\">\n",
              "        \n",
              "  <svg xmlns=\"http://www.w3.org/2000/svg\" height=\"24px\"viewBox=\"0 0 24 24\"\n",
              "       width=\"24px\">\n",
              "    <path d=\"M0 0h24v24H0V0z\" fill=\"none\"/>\n",
              "    <path d=\"M18.56 5.44l.94 2.06.94-2.06 2.06-.94-2.06-.94-.94-2.06-.94 2.06-2.06.94zm-11 1L8.5 8.5l.94-2.06 2.06-.94-2.06-.94L8.5 2.5l-.94 2.06-2.06.94zm10 10l.94 2.06.94-2.06 2.06-.94-2.06-.94-.94-2.06-.94 2.06-2.06.94z\"/><path d=\"M17.41 7.96l-1.37-1.37c-.4-.4-.92-.59-1.43-.59-.52 0-1.04.2-1.43.59L10.3 9.45l-7.72 7.72c-.78.78-.78 2.05 0 2.83L4 21.41c.39.39.9.59 1.41.59.51 0 1.02-.2 1.41-.59l7.78-7.78 2.81-2.81c.8-.78.8-2.07 0-2.86zM5.41 20L4 18.59l7.72-7.72 1.47 1.35L5.41 20z\"/>\n",
              "  </svg>\n",
              "      </button>\n",
              "      \n",
              "  <style>\n",
              "    .colab-df-container {\n",
              "      display:flex;\n",
              "      flex-wrap:wrap;\n",
              "      gap: 12px;\n",
              "    }\n",
              "\n",
              "    .colab-df-convert {\n",
              "      background-color: #E8F0FE;\n",
              "      border: none;\n",
              "      border-radius: 50%;\n",
              "      cursor: pointer;\n",
              "      display: none;\n",
              "      fill: #1967D2;\n",
              "      height: 32px;\n",
              "      padding: 0 0 0 0;\n",
              "      width: 32px;\n",
              "    }\n",
              "\n",
              "    .colab-df-convert:hover {\n",
              "      background-color: #E2EBFA;\n",
              "      box-shadow: 0px 1px 2px rgba(60, 64, 67, 0.3), 0px 1px 3px 1px rgba(60, 64, 67, 0.15);\n",
              "      fill: #174EA6;\n",
              "    }\n",
              "\n",
              "    [theme=dark] .colab-df-convert {\n",
              "      background-color: #3B4455;\n",
              "      fill: #D2E3FC;\n",
              "    }\n",
              "\n",
              "    [theme=dark] .colab-df-convert:hover {\n",
              "      background-color: #434B5C;\n",
              "      box-shadow: 0px 1px 3px 1px rgba(0, 0, 0, 0.15);\n",
              "      filter: drop-shadow(0px 1px 2px rgba(0, 0, 0, 0.3));\n",
              "      fill: #FFFFFF;\n",
              "    }\n",
              "  </style>\n",
              "\n",
              "      <script>\n",
              "        const buttonEl =\n",
              "          document.querySelector('#df-4dee98a2-7e28-4207-974d-1749ad962d17 button.colab-df-convert');\n",
              "        buttonEl.style.display =\n",
              "          google.colab.kernel.accessAllowed ? 'block' : 'none';\n",
              "\n",
              "        async function convertToInteractive(key) {\n",
              "          const element = document.querySelector('#df-4dee98a2-7e28-4207-974d-1749ad962d17');\n",
              "          const dataTable =\n",
              "            await google.colab.kernel.invokeFunction('convertToInteractive',\n",
              "                                                     [key], {});\n",
              "          if (!dataTable) return;\n",
              "\n",
              "          const docLinkHtml = 'Like what you see? Visit the ' +\n",
              "            '<a target=\"_blank\" href=https://colab.research.google.com/notebooks/data_table.ipynb>data table notebook</a>'\n",
              "            + ' to learn more about interactive tables.';\n",
              "          element.innerHTML = '';\n",
              "          dataTable['output_type'] = 'display_data';\n",
              "          await google.colab.output.renderOutput(dataTable, element);\n",
              "          const docLink = document.createElement('div');\n",
              "          docLink.innerHTML = docLinkHtml;\n",
              "          element.appendChild(docLink);\n",
              "        }\n",
              "      </script>\n",
              "    </div>\n",
              "  </div>\n",
              "  "
            ]
          },
          "metadata": {},
          "execution_count": 132
        }
      ]
    },
    {
      "cell_type": "code",
      "source": [
        "df[outliers(\"price\")] \n",
        "#brands higher "
      ],
      "metadata": {
        "colab": {
          "base_uri": "https://localhost:8080/",
          "height": 856
        },
        "id": "6TD1H5t1Y2hZ",
        "outputId": "a8609930-1b06-497b-d0a6-7dfdde3bf767"
      },
      "execution_count": null,
      "outputs": [
        {
          "output_type": "execute_result",
          "data": {
            "text/plain": [
              "     car_ID  symboling                          CarName fueltype aspiration  \\\n",
              "15       16          0                           bmw x4      gas        std   \n",
              "16       17          0                           bmw x5      gas        std   \n",
              "17       18          0                           bmw x3      gas        std   \n",
              "47       48          0                        jaguar xj      gas        std   \n",
              "48       49          0                        jaguar xf      gas        std   \n",
              "49       50          0                        jaguar xk      gas        std   \n",
              "70       71         -1                    buick skyhawk   diesel      turbo   \n",
              "71       72         -1          buick opel isuzu deluxe      gas        std   \n",
              "72       73          3                    buick skylark      gas        std   \n",
              "73       74          0            buick century special      gas        std   \n",
              "74       75          1  buick regal sport coupe (turbo)      gas        std   \n",
              "126     127          3                porcshce panamera      gas        std   \n",
              "127     128          3                  porsche cayenne      gas        std   \n",
              "128     129          3                   porsche boxter      gas        std   \n",
              "129     130          1                  porsche cayenne      gas        std   \n",
              "\n",
              "    doornumber      carbody drivewheel enginelocation  wheelbase  ...  \\\n",
              "15           4        sedan        rwd          front      103.5  ...   \n",
              "16           2        sedan        rwd          front      103.5  ...   \n",
              "17           4        sedan        rwd          front      110.0  ...   \n",
              "47           4        sedan        rwd          front      113.0  ...   \n",
              "48           4        sedan        rwd          front      113.0  ...   \n",
              "49           2        sedan        rwd          front      102.0  ...   \n",
              "70           4        sedan        rwd          front      115.6  ...   \n",
              "71           4        sedan        rwd          front      115.6  ...   \n",
              "72           2  convertible        rwd          front       96.6  ...   \n",
              "73           4        sedan        rwd          front      120.9  ...   \n",
              "74           2      hardtop        rwd          front      112.0  ...   \n",
              "126          2      hardtop        rwd           rear       89.5  ...   \n",
              "127          2      hardtop        rwd           rear       89.5  ...   \n",
              "128          2  convertible        rwd           rear       89.5  ...   \n",
              "129          2    hatchback        rwd          front       98.4  ...   \n",
              "\n",
              "     horsepower  peakrpm  citympg  highwaympg    price CarCompany  ModelName  \\\n",
              "15          182     5400       16          22  30760.0        bmw         x4   \n",
              "16          182     5400       16          22  41315.0        bmw         x5   \n",
              "17          182     5400       15          20  36880.0        bmw         x3   \n",
              "47          176     4750       15          19  32250.0     jaguar         xj   \n",
              "48          176     4750       15          19  35550.0     jaguar         xf   \n",
              "49          262     5000       13          17  36000.0     jaguar         xk   \n",
              "70          123     4350       22          25  31600.0      buick    skyhawk   \n",
              "71          155     4750       16          18  34184.0      buick       opel   \n",
              "72          155     4750       16          18  35056.0      buick    skylark   \n",
              "73          184     4500       14          16  40960.0      buick    century   \n",
              "74          184     4500       14          16  45400.0      buick      regal   \n",
              "126         207     5900       17          25  32528.0    porsche   panamera   \n",
              "127         207     5900       17          25  34028.0    porsche    cayenne   \n",
              "128         207     5900       17          25  37028.0    porsche     boxter   \n",
              "129         288     5750       17          28  31400.5    porsche    cayenne   \n",
              "\n",
              "           2       3        4  \n",
              "15      None    None     None  \n",
              "16      None    None     None  \n",
              "17      None    None     None  \n",
              "47      None    None     None  \n",
              "48      None    None     None  \n",
              "49      None    None     None  \n",
              "70      None    None     None  \n",
              "71     isuzu  deluxe     None  \n",
              "72      None    None     None  \n",
              "73   special    None     None  \n",
              "74     sport   coupe  (turbo)  \n",
              "126     None    None     None  \n",
              "127     None    None     None  \n",
              "128     None    None     None  \n",
              "129     None    None     None  \n",
              "\n",
              "[15 rows x 31 columns]"
            ],
            "text/html": [
              "\n",
              "  <div id=\"df-1efac3ee-f187-45ed-ba9b-9552705dba51\">\n",
              "    <div class=\"colab-df-container\">\n",
              "      <div>\n",
              "<style scoped>\n",
              "    .dataframe tbody tr th:only-of-type {\n",
              "        vertical-align: middle;\n",
              "    }\n",
              "\n",
              "    .dataframe tbody tr th {\n",
              "        vertical-align: top;\n",
              "    }\n",
              "\n",
              "    .dataframe thead th {\n",
              "        text-align: right;\n",
              "    }\n",
              "</style>\n",
              "<table border=\"1\" class=\"dataframe\">\n",
              "  <thead>\n",
              "    <tr style=\"text-align: right;\">\n",
              "      <th></th>\n",
              "      <th>car_ID</th>\n",
              "      <th>symboling</th>\n",
              "      <th>CarName</th>\n",
              "      <th>fueltype</th>\n",
              "      <th>aspiration</th>\n",
              "      <th>doornumber</th>\n",
              "      <th>carbody</th>\n",
              "      <th>drivewheel</th>\n",
              "      <th>enginelocation</th>\n",
              "      <th>wheelbase</th>\n",
              "      <th>...</th>\n",
              "      <th>horsepower</th>\n",
              "      <th>peakrpm</th>\n",
              "      <th>citympg</th>\n",
              "      <th>highwaympg</th>\n",
              "      <th>price</th>\n",
              "      <th>CarCompany</th>\n",
              "      <th>ModelName</th>\n",
              "      <th>2</th>\n",
              "      <th>3</th>\n",
              "      <th>4</th>\n",
              "    </tr>\n",
              "  </thead>\n",
              "  <tbody>\n",
              "    <tr>\n",
              "      <th>15</th>\n",
              "      <td>16</td>\n",
              "      <td>0</td>\n",
              "      <td>bmw x4</td>\n",
              "      <td>gas</td>\n",
              "      <td>std</td>\n",
              "      <td>4</td>\n",
              "      <td>sedan</td>\n",
              "      <td>rwd</td>\n",
              "      <td>front</td>\n",
              "      <td>103.5</td>\n",
              "      <td>...</td>\n",
              "      <td>182</td>\n",
              "      <td>5400</td>\n",
              "      <td>16</td>\n",
              "      <td>22</td>\n",
              "      <td>30760.0</td>\n",
              "      <td>bmw</td>\n",
              "      <td>x4</td>\n",
              "      <td>None</td>\n",
              "      <td>None</td>\n",
              "      <td>None</td>\n",
              "    </tr>\n",
              "    <tr>\n",
              "      <th>16</th>\n",
              "      <td>17</td>\n",
              "      <td>0</td>\n",
              "      <td>bmw x5</td>\n",
              "      <td>gas</td>\n",
              "      <td>std</td>\n",
              "      <td>2</td>\n",
              "      <td>sedan</td>\n",
              "      <td>rwd</td>\n",
              "      <td>front</td>\n",
              "      <td>103.5</td>\n",
              "      <td>...</td>\n",
              "      <td>182</td>\n",
              "      <td>5400</td>\n",
              "      <td>16</td>\n",
              "      <td>22</td>\n",
              "      <td>41315.0</td>\n",
              "      <td>bmw</td>\n",
              "      <td>x5</td>\n",
              "      <td>None</td>\n",
              "      <td>None</td>\n",
              "      <td>None</td>\n",
              "    </tr>\n",
              "    <tr>\n",
              "      <th>17</th>\n",
              "      <td>18</td>\n",
              "      <td>0</td>\n",
              "      <td>bmw x3</td>\n",
              "      <td>gas</td>\n",
              "      <td>std</td>\n",
              "      <td>4</td>\n",
              "      <td>sedan</td>\n",
              "      <td>rwd</td>\n",
              "      <td>front</td>\n",
              "      <td>110.0</td>\n",
              "      <td>...</td>\n",
              "      <td>182</td>\n",
              "      <td>5400</td>\n",
              "      <td>15</td>\n",
              "      <td>20</td>\n",
              "      <td>36880.0</td>\n",
              "      <td>bmw</td>\n",
              "      <td>x3</td>\n",
              "      <td>None</td>\n",
              "      <td>None</td>\n",
              "      <td>None</td>\n",
              "    </tr>\n",
              "    <tr>\n",
              "      <th>47</th>\n",
              "      <td>48</td>\n",
              "      <td>0</td>\n",
              "      <td>jaguar xj</td>\n",
              "      <td>gas</td>\n",
              "      <td>std</td>\n",
              "      <td>4</td>\n",
              "      <td>sedan</td>\n",
              "      <td>rwd</td>\n",
              "      <td>front</td>\n",
              "      <td>113.0</td>\n",
              "      <td>...</td>\n",
              "      <td>176</td>\n",
              "      <td>4750</td>\n",
              "      <td>15</td>\n",
              "      <td>19</td>\n",
              "      <td>32250.0</td>\n",
              "      <td>jaguar</td>\n",
              "      <td>xj</td>\n",
              "      <td>None</td>\n",
              "      <td>None</td>\n",
              "      <td>None</td>\n",
              "    </tr>\n",
              "    <tr>\n",
              "      <th>48</th>\n",
              "      <td>49</td>\n",
              "      <td>0</td>\n",
              "      <td>jaguar xf</td>\n",
              "      <td>gas</td>\n",
              "      <td>std</td>\n",
              "      <td>4</td>\n",
              "      <td>sedan</td>\n",
              "      <td>rwd</td>\n",
              "      <td>front</td>\n",
              "      <td>113.0</td>\n",
              "      <td>...</td>\n",
              "      <td>176</td>\n",
              "      <td>4750</td>\n",
              "      <td>15</td>\n",
              "      <td>19</td>\n",
              "      <td>35550.0</td>\n",
              "      <td>jaguar</td>\n",
              "      <td>xf</td>\n",
              "      <td>None</td>\n",
              "      <td>None</td>\n",
              "      <td>None</td>\n",
              "    </tr>\n",
              "    <tr>\n",
              "      <th>49</th>\n",
              "      <td>50</td>\n",
              "      <td>0</td>\n",
              "      <td>jaguar xk</td>\n",
              "      <td>gas</td>\n",
              "      <td>std</td>\n",
              "      <td>2</td>\n",
              "      <td>sedan</td>\n",
              "      <td>rwd</td>\n",
              "      <td>front</td>\n",
              "      <td>102.0</td>\n",
              "      <td>...</td>\n",
              "      <td>262</td>\n",
              "      <td>5000</td>\n",
              "      <td>13</td>\n",
              "      <td>17</td>\n",
              "      <td>36000.0</td>\n",
              "      <td>jaguar</td>\n",
              "      <td>xk</td>\n",
              "      <td>None</td>\n",
              "      <td>None</td>\n",
              "      <td>None</td>\n",
              "    </tr>\n",
              "    <tr>\n",
              "      <th>70</th>\n",
              "      <td>71</td>\n",
              "      <td>-1</td>\n",
              "      <td>buick skyhawk</td>\n",
              "      <td>diesel</td>\n",
              "      <td>turbo</td>\n",
              "      <td>4</td>\n",
              "      <td>sedan</td>\n",
              "      <td>rwd</td>\n",
              "      <td>front</td>\n",
              "      <td>115.6</td>\n",
              "      <td>...</td>\n",
              "      <td>123</td>\n",
              "      <td>4350</td>\n",
              "      <td>22</td>\n",
              "      <td>25</td>\n",
              "      <td>31600.0</td>\n",
              "      <td>buick</td>\n",
              "      <td>skyhawk</td>\n",
              "      <td>None</td>\n",
              "      <td>None</td>\n",
              "      <td>None</td>\n",
              "    </tr>\n",
              "    <tr>\n",
              "      <th>71</th>\n",
              "      <td>72</td>\n",
              "      <td>-1</td>\n",
              "      <td>buick opel isuzu deluxe</td>\n",
              "      <td>gas</td>\n",
              "      <td>std</td>\n",
              "      <td>4</td>\n",
              "      <td>sedan</td>\n",
              "      <td>rwd</td>\n",
              "      <td>front</td>\n",
              "      <td>115.6</td>\n",
              "      <td>...</td>\n",
              "      <td>155</td>\n",
              "      <td>4750</td>\n",
              "      <td>16</td>\n",
              "      <td>18</td>\n",
              "      <td>34184.0</td>\n",
              "      <td>buick</td>\n",
              "      <td>opel</td>\n",
              "      <td>isuzu</td>\n",
              "      <td>deluxe</td>\n",
              "      <td>None</td>\n",
              "    </tr>\n",
              "    <tr>\n",
              "      <th>72</th>\n",
              "      <td>73</td>\n",
              "      <td>3</td>\n",
              "      <td>buick skylark</td>\n",
              "      <td>gas</td>\n",
              "      <td>std</td>\n",
              "      <td>2</td>\n",
              "      <td>convertible</td>\n",
              "      <td>rwd</td>\n",
              "      <td>front</td>\n",
              "      <td>96.6</td>\n",
              "      <td>...</td>\n",
              "      <td>155</td>\n",
              "      <td>4750</td>\n",
              "      <td>16</td>\n",
              "      <td>18</td>\n",
              "      <td>35056.0</td>\n",
              "      <td>buick</td>\n",
              "      <td>skylark</td>\n",
              "      <td>None</td>\n",
              "      <td>None</td>\n",
              "      <td>None</td>\n",
              "    </tr>\n",
              "    <tr>\n",
              "      <th>73</th>\n",
              "      <td>74</td>\n",
              "      <td>0</td>\n",
              "      <td>buick century special</td>\n",
              "      <td>gas</td>\n",
              "      <td>std</td>\n",
              "      <td>4</td>\n",
              "      <td>sedan</td>\n",
              "      <td>rwd</td>\n",
              "      <td>front</td>\n",
              "      <td>120.9</td>\n",
              "      <td>...</td>\n",
              "      <td>184</td>\n",
              "      <td>4500</td>\n",
              "      <td>14</td>\n",
              "      <td>16</td>\n",
              "      <td>40960.0</td>\n",
              "      <td>buick</td>\n",
              "      <td>century</td>\n",
              "      <td>special</td>\n",
              "      <td>None</td>\n",
              "      <td>None</td>\n",
              "    </tr>\n",
              "    <tr>\n",
              "      <th>74</th>\n",
              "      <td>75</td>\n",
              "      <td>1</td>\n",
              "      <td>buick regal sport coupe (turbo)</td>\n",
              "      <td>gas</td>\n",
              "      <td>std</td>\n",
              "      <td>2</td>\n",
              "      <td>hardtop</td>\n",
              "      <td>rwd</td>\n",
              "      <td>front</td>\n",
              "      <td>112.0</td>\n",
              "      <td>...</td>\n",
              "      <td>184</td>\n",
              "      <td>4500</td>\n",
              "      <td>14</td>\n",
              "      <td>16</td>\n",
              "      <td>45400.0</td>\n",
              "      <td>buick</td>\n",
              "      <td>regal</td>\n",
              "      <td>sport</td>\n",
              "      <td>coupe</td>\n",
              "      <td>(turbo)</td>\n",
              "    </tr>\n",
              "    <tr>\n",
              "      <th>126</th>\n",
              "      <td>127</td>\n",
              "      <td>3</td>\n",
              "      <td>porcshce panamera</td>\n",
              "      <td>gas</td>\n",
              "      <td>std</td>\n",
              "      <td>2</td>\n",
              "      <td>hardtop</td>\n",
              "      <td>rwd</td>\n",
              "      <td>rear</td>\n",
              "      <td>89.5</td>\n",
              "      <td>...</td>\n",
              "      <td>207</td>\n",
              "      <td>5900</td>\n",
              "      <td>17</td>\n",
              "      <td>25</td>\n",
              "      <td>32528.0</td>\n",
              "      <td>porsche</td>\n",
              "      <td>panamera</td>\n",
              "      <td>None</td>\n",
              "      <td>None</td>\n",
              "      <td>None</td>\n",
              "    </tr>\n",
              "    <tr>\n",
              "      <th>127</th>\n",
              "      <td>128</td>\n",
              "      <td>3</td>\n",
              "      <td>porsche cayenne</td>\n",
              "      <td>gas</td>\n",
              "      <td>std</td>\n",
              "      <td>2</td>\n",
              "      <td>hardtop</td>\n",
              "      <td>rwd</td>\n",
              "      <td>rear</td>\n",
              "      <td>89.5</td>\n",
              "      <td>...</td>\n",
              "      <td>207</td>\n",
              "      <td>5900</td>\n",
              "      <td>17</td>\n",
              "      <td>25</td>\n",
              "      <td>34028.0</td>\n",
              "      <td>porsche</td>\n",
              "      <td>cayenne</td>\n",
              "      <td>None</td>\n",
              "      <td>None</td>\n",
              "      <td>None</td>\n",
              "    </tr>\n",
              "    <tr>\n",
              "      <th>128</th>\n",
              "      <td>129</td>\n",
              "      <td>3</td>\n",
              "      <td>porsche boxter</td>\n",
              "      <td>gas</td>\n",
              "      <td>std</td>\n",
              "      <td>2</td>\n",
              "      <td>convertible</td>\n",
              "      <td>rwd</td>\n",
              "      <td>rear</td>\n",
              "      <td>89.5</td>\n",
              "      <td>...</td>\n",
              "      <td>207</td>\n",
              "      <td>5900</td>\n",
              "      <td>17</td>\n",
              "      <td>25</td>\n",
              "      <td>37028.0</td>\n",
              "      <td>porsche</td>\n",
              "      <td>boxter</td>\n",
              "      <td>None</td>\n",
              "      <td>None</td>\n",
              "      <td>None</td>\n",
              "    </tr>\n",
              "    <tr>\n",
              "      <th>129</th>\n",
              "      <td>130</td>\n",
              "      <td>1</td>\n",
              "      <td>porsche cayenne</td>\n",
              "      <td>gas</td>\n",
              "      <td>std</td>\n",
              "      <td>2</td>\n",
              "      <td>hatchback</td>\n",
              "      <td>rwd</td>\n",
              "      <td>front</td>\n",
              "      <td>98.4</td>\n",
              "      <td>...</td>\n",
              "      <td>288</td>\n",
              "      <td>5750</td>\n",
              "      <td>17</td>\n",
              "      <td>28</td>\n",
              "      <td>31400.5</td>\n",
              "      <td>porsche</td>\n",
              "      <td>cayenne</td>\n",
              "      <td>None</td>\n",
              "      <td>None</td>\n",
              "      <td>None</td>\n",
              "    </tr>\n",
              "  </tbody>\n",
              "</table>\n",
              "<p>15 rows × 31 columns</p>\n",
              "</div>\n",
              "      <button class=\"colab-df-convert\" onclick=\"convertToInteractive('df-1efac3ee-f187-45ed-ba9b-9552705dba51')\"\n",
              "              title=\"Convert this dataframe to an interactive table.\"\n",
              "              style=\"display:none;\">\n",
              "        \n",
              "  <svg xmlns=\"http://www.w3.org/2000/svg\" height=\"24px\"viewBox=\"0 0 24 24\"\n",
              "       width=\"24px\">\n",
              "    <path d=\"M0 0h24v24H0V0z\" fill=\"none\"/>\n",
              "    <path d=\"M18.56 5.44l.94 2.06.94-2.06 2.06-.94-2.06-.94-.94-2.06-.94 2.06-2.06.94zm-11 1L8.5 8.5l.94-2.06 2.06-.94-2.06-.94L8.5 2.5l-.94 2.06-2.06.94zm10 10l.94 2.06.94-2.06 2.06-.94-2.06-.94-.94-2.06-.94 2.06-2.06.94z\"/><path d=\"M17.41 7.96l-1.37-1.37c-.4-.4-.92-.59-1.43-.59-.52 0-1.04.2-1.43.59L10.3 9.45l-7.72 7.72c-.78.78-.78 2.05 0 2.83L4 21.41c.39.39.9.59 1.41.59.51 0 1.02-.2 1.41-.59l7.78-7.78 2.81-2.81c.8-.78.8-2.07 0-2.86zM5.41 20L4 18.59l7.72-7.72 1.47 1.35L5.41 20z\"/>\n",
              "  </svg>\n",
              "      </button>\n",
              "      \n",
              "  <style>\n",
              "    .colab-df-container {\n",
              "      display:flex;\n",
              "      flex-wrap:wrap;\n",
              "      gap: 12px;\n",
              "    }\n",
              "\n",
              "    .colab-df-convert {\n",
              "      background-color: #E8F0FE;\n",
              "      border: none;\n",
              "      border-radius: 50%;\n",
              "      cursor: pointer;\n",
              "      display: none;\n",
              "      fill: #1967D2;\n",
              "      height: 32px;\n",
              "      padding: 0 0 0 0;\n",
              "      width: 32px;\n",
              "    }\n",
              "\n",
              "    .colab-df-convert:hover {\n",
              "      background-color: #E2EBFA;\n",
              "      box-shadow: 0px 1px 2px rgba(60, 64, 67, 0.3), 0px 1px 3px 1px rgba(60, 64, 67, 0.15);\n",
              "      fill: #174EA6;\n",
              "    }\n",
              "\n",
              "    [theme=dark] .colab-df-convert {\n",
              "      background-color: #3B4455;\n",
              "      fill: #D2E3FC;\n",
              "    }\n",
              "\n",
              "    [theme=dark] .colab-df-convert:hover {\n",
              "      background-color: #434B5C;\n",
              "      box-shadow: 0px 1px 3px 1px rgba(0, 0, 0, 0.15);\n",
              "      filter: drop-shadow(0px 1px 2px rgba(0, 0, 0, 0.3));\n",
              "      fill: #FFFFFF;\n",
              "    }\n",
              "  </style>\n",
              "\n",
              "      <script>\n",
              "        const buttonEl =\n",
              "          document.querySelector('#df-1efac3ee-f187-45ed-ba9b-9552705dba51 button.colab-df-convert');\n",
              "        buttonEl.style.display =\n",
              "          google.colab.kernel.accessAllowed ? 'block' : 'none';\n",
              "\n",
              "        async function convertToInteractive(key) {\n",
              "          const element = document.querySelector('#df-1efac3ee-f187-45ed-ba9b-9552705dba51');\n",
              "          const dataTable =\n",
              "            await google.colab.kernel.invokeFunction('convertToInteractive',\n",
              "                                                     [key], {});\n",
              "          if (!dataTable) return;\n",
              "\n",
              "          const docLinkHtml = 'Like what you see? Visit the ' +\n",
              "            '<a target=\"_blank\" href=https://colab.research.google.com/notebooks/data_table.ipynb>data table notebook</a>'\n",
              "            + ' to learn more about interactive tables.';\n",
              "          element.innerHTML = '';\n",
              "          dataTable['output_type'] = 'display_data';\n",
              "          await google.colab.output.renderOutput(dataTable, element);\n",
              "          const docLink = document.createElement('div');\n",
              "          docLink.innerHTML = docLinkHtml;\n",
              "          element.appendChild(docLink);\n",
              "        }\n",
              "      </script>\n",
              "    </div>\n",
              "  </div>\n",
              "  "
            ]
          },
          "metadata": {},
          "execution_count": 133
        }
      ]
    },
    {
      "cell_type": "code",
      "source": [
        "##df[outliers(\"peakrpm\")]\n",
        "df[df[\"peakrpm\"]<4500]"
      ],
      "metadata": {
        "colab": {
          "base_uri": "https://localhost:8080/",
          "height": 1000
        },
        "id": "iQlmbOYc5AIe",
        "outputId": "815bf4e3-833d-4969-c95f-ce73af3b446a"
      },
      "execution_count": null,
      "outputs": [
        {
          "output_type": "execute_result",
          "data": {
            "text/plain": [
              "     car_ID  symboling                    CarName fueltype aspiration  \\\n",
              "12       13          0                     bmw x1      gas        std   \n",
              "13       14          0                     bmw x3      gas        std   \n",
              "14       15          1                     bmw z4      gas        std   \n",
              "66       67          0              mazda rx-7 gs   diesel        std   \n",
              "67       68         -1   buick electra 225 custom   diesel      turbo   \n",
              "68       69         -1   buick century luxus (sw)   diesel      turbo   \n",
              "69       70          0              buick century   diesel      turbo   \n",
              "70       71         -1              buick skyhawk   diesel      turbo   \n",
              "108     109          0                peugeot 304   diesel      turbo   \n",
              "110     111          0                peugeot 504   diesel      turbo   \n",
              "112     113          0              peugeot 604sl   diesel      turbo   \n",
              "114     115          0  peugeot 505s turbo diesel   diesel      turbo   \n",
              "116     117          0                peugeot 504   diesel      turbo   \n",
              "139     140          2                  subaru dl      gas        std   \n",
              "140     141          2                  subaru dl      gas        std   \n",
              "142     143          0                 subaru brz      gas        std   \n",
              "173     174         -1             toyota corolla      gas        std   \n",
              "175     176         -1              toyota corona      gas        std   \n",
              "176     177         -1             toyota corolla      gas        std   \n",
              "177     178         -1             toyota mark ii      gas        std   \n",
              "\n",
              "    doornumber    carbody drivewheel enginelocation  wheelbase  ...  \\\n",
              "12           2      sedan        rwd          front      101.2  ...   \n",
              "13           4      sedan        rwd          front      101.2  ...   \n",
              "14           4      sedan        rwd          front      103.5  ...   \n",
              "66           4      sedan        rwd          front      104.9  ...   \n",
              "67           4      sedan        rwd          front      110.0  ...   \n",
              "68           4      wagon        rwd          front      110.0  ...   \n",
              "69           2    hardtop        rwd          front      106.7  ...   \n",
              "70           4      sedan        rwd          front      115.6  ...   \n",
              "108          4      sedan        rwd          front      107.9  ...   \n",
              "110          4      wagon        rwd          front      114.2  ...   \n",
              "112          4      sedan        rwd          front      107.9  ...   \n",
              "114          4      wagon        rwd          front      114.2  ...   \n",
              "116          4      sedan        rwd          front      107.9  ...   \n",
              "139          2  hatchback        fwd          front       93.7  ...   \n",
              "140          2  hatchback        4wd          front       93.3  ...   \n",
              "142          4      sedan        fwd          front       97.2  ...   \n",
              "173          4      sedan        fwd          front      102.4  ...   \n",
              "175          4  hatchback        fwd          front      102.4  ...   \n",
              "176          4      sedan        fwd          front      102.4  ...   \n",
              "177          4  hatchback        fwd          front      102.4  ...   \n",
              "\n",
              "     horsepower  peakrpm  citympg  highwaympg    price CarCompany  ModelName  \\\n",
              "12          121     4250       21          28  20970.0        bmw         x1   \n",
              "13          121     4250       21          28  21105.0        bmw         x3   \n",
              "14          121     4250       20          25  24565.0        bmw         z4   \n",
              "66           72     4200       31          39  18344.0      mazda       rx-7   \n",
              "67          123     4350       22          25  25552.0      buick    electra   \n",
              "68          123     4350       22          25  28248.0      buick    century   \n",
              "69          123     4350       22          25  28176.0      buick    century   \n",
              "70          123     4350       22          25  31600.0      buick    skyhawk   \n",
              "108          95     4150       28          33  13200.0    peugeot        304   \n",
              "110          95     4150       25          25  13860.0    peugeot        504   \n",
              "112          95     4150       28          33  16900.0    peugeot      604sl   \n",
              "114          95     4150       25          25  17075.0    peugeot       505s   \n",
              "116          95     4150       28          33  17950.0    peugeot        504   \n",
              "139          73     4400       26          31   7053.0     subaru         dl   \n",
              "140          73     4400       26          31   7603.0     subaru         dl   \n",
              "142          82     4400       28          33   7775.0     subaru        brz   \n",
              "173          92     4200       29          34   8948.0     toyota    corolla   \n",
              "175          92     4200       27          32   9988.0     toyota     corona   \n",
              "176          92     4200       27          32  10898.0     toyota    corolla   \n",
              "177          92     4200       27          32  11248.0     toyota       mark   \n",
              "\n",
              "         2       3     4  \n",
              "12    None    None  None  \n",
              "13    None    None  None  \n",
              "14    None    None  None  \n",
              "66      gs    None  None  \n",
              "67     225  custom  None  \n",
              "68   luxus    (sw)  None  \n",
              "69    None    None  None  \n",
              "70    None    None  None  \n",
              "108   None    None  None  \n",
              "110   None    None  None  \n",
              "112   None    None  None  \n",
              "114  turbo  diesel  None  \n",
              "116   None    None  None  \n",
              "139   None    None  None  \n",
              "140   None    None  None  \n",
              "142   None    None  None  \n",
              "173   None    None  None  \n",
              "175   None    None  None  \n",
              "176   None    None  None  \n",
              "177     ii    None  None  \n",
              "\n",
              "[20 rows x 31 columns]"
            ],
            "text/html": [
              "\n",
              "  <div id=\"df-c521e3fb-d629-451a-89e6-23d77a75ecf9\">\n",
              "    <div class=\"colab-df-container\">\n",
              "      <div>\n",
              "<style scoped>\n",
              "    .dataframe tbody tr th:only-of-type {\n",
              "        vertical-align: middle;\n",
              "    }\n",
              "\n",
              "    .dataframe tbody tr th {\n",
              "        vertical-align: top;\n",
              "    }\n",
              "\n",
              "    .dataframe thead th {\n",
              "        text-align: right;\n",
              "    }\n",
              "</style>\n",
              "<table border=\"1\" class=\"dataframe\">\n",
              "  <thead>\n",
              "    <tr style=\"text-align: right;\">\n",
              "      <th></th>\n",
              "      <th>car_ID</th>\n",
              "      <th>symboling</th>\n",
              "      <th>CarName</th>\n",
              "      <th>fueltype</th>\n",
              "      <th>aspiration</th>\n",
              "      <th>doornumber</th>\n",
              "      <th>carbody</th>\n",
              "      <th>drivewheel</th>\n",
              "      <th>enginelocation</th>\n",
              "      <th>wheelbase</th>\n",
              "      <th>...</th>\n",
              "      <th>horsepower</th>\n",
              "      <th>peakrpm</th>\n",
              "      <th>citympg</th>\n",
              "      <th>highwaympg</th>\n",
              "      <th>price</th>\n",
              "      <th>CarCompany</th>\n",
              "      <th>ModelName</th>\n",
              "      <th>2</th>\n",
              "      <th>3</th>\n",
              "      <th>4</th>\n",
              "    </tr>\n",
              "  </thead>\n",
              "  <tbody>\n",
              "    <tr>\n",
              "      <th>12</th>\n",
              "      <td>13</td>\n",
              "      <td>0</td>\n",
              "      <td>bmw x1</td>\n",
              "      <td>gas</td>\n",
              "      <td>std</td>\n",
              "      <td>2</td>\n",
              "      <td>sedan</td>\n",
              "      <td>rwd</td>\n",
              "      <td>front</td>\n",
              "      <td>101.2</td>\n",
              "      <td>...</td>\n",
              "      <td>121</td>\n",
              "      <td>4250</td>\n",
              "      <td>21</td>\n",
              "      <td>28</td>\n",
              "      <td>20970.0</td>\n",
              "      <td>bmw</td>\n",
              "      <td>x1</td>\n",
              "      <td>None</td>\n",
              "      <td>None</td>\n",
              "      <td>None</td>\n",
              "    </tr>\n",
              "    <tr>\n",
              "      <th>13</th>\n",
              "      <td>14</td>\n",
              "      <td>0</td>\n",
              "      <td>bmw x3</td>\n",
              "      <td>gas</td>\n",
              "      <td>std</td>\n",
              "      <td>4</td>\n",
              "      <td>sedan</td>\n",
              "      <td>rwd</td>\n",
              "      <td>front</td>\n",
              "      <td>101.2</td>\n",
              "      <td>...</td>\n",
              "      <td>121</td>\n",
              "      <td>4250</td>\n",
              "      <td>21</td>\n",
              "      <td>28</td>\n",
              "      <td>21105.0</td>\n",
              "      <td>bmw</td>\n",
              "      <td>x3</td>\n",
              "      <td>None</td>\n",
              "      <td>None</td>\n",
              "      <td>None</td>\n",
              "    </tr>\n",
              "    <tr>\n",
              "      <th>14</th>\n",
              "      <td>15</td>\n",
              "      <td>1</td>\n",
              "      <td>bmw z4</td>\n",
              "      <td>gas</td>\n",
              "      <td>std</td>\n",
              "      <td>4</td>\n",
              "      <td>sedan</td>\n",
              "      <td>rwd</td>\n",
              "      <td>front</td>\n",
              "      <td>103.5</td>\n",
              "      <td>...</td>\n",
              "      <td>121</td>\n",
              "      <td>4250</td>\n",
              "      <td>20</td>\n",
              "      <td>25</td>\n",
              "      <td>24565.0</td>\n",
              "      <td>bmw</td>\n",
              "      <td>z4</td>\n",
              "      <td>None</td>\n",
              "      <td>None</td>\n",
              "      <td>None</td>\n",
              "    </tr>\n",
              "    <tr>\n",
              "      <th>66</th>\n",
              "      <td>67</td>\n",
              "      <td>0</td>\n",
              "      <td>mazda rx-7 gs</td>\n",
              "      <td>diesel</td>\n",
              "      <td>std</td>\n",
              "      <td>4</td>\n",
              "      <td>sedan</td>\n",
              "      <td>rwd</td>\n",
              "      <td>front</td>\n",
              "      <td>104.9</td>\n",
              "      <td>...</td>\n",
              "      <td>72</td>\n",
              "      <td>4200</td>\n",
              "      <td>31</td>\n",
              "      <td>39</td>\n",
              "      <td>18344.0</td>\n",
              "      <td>mazda</td>\n",
              "      <td>rx-7</td>\n",
              "      <td>gs</td>\n",
              "      <td>None</td>\n",
              "      <td>None</td>\n",
              "    </tr>\n",
              "    <tr>\n",
              "      <th>67</th>\n",
              "      <td>68</td>\n",
              "      <td>-1</td>\n",
              "      <td>buick electra 225 custom</td>\n",
              "      <td>diesel</td>\n",
              "      <td>turbo</td>\n",
              "      <td>4</td>\n",
              "      <td>sedan</td>\n",
              "      <td>rwd</td>\n",
              "      <td>front</td>\n",
              "      <td>110.0</td>\n",
              "      <td>...</td>\n",
              "      <td>123</td>\n",
              "      <td>4350</td>\n",
              "      <td>22</td>\n",
              "      <td>25</td>\n",
              "      <td>25552.0</td>\n",
              "      <td>buick</td>\n",
              "      <td>electra</td>\n",
              "      <td>225</td>\n",
              "      <td>custom</td>\n",
              "      <td>None</td>\n",
              "    </tr>\n",
              "    <tr>\n",
              "      <th>68</th>\n",
              "      <td>69</td>\n",
              "      <td>-1</td>\n",
              "      <td>buick century luxus (sw)</td>\n",
              "      <td>diesel</td>\n",
              "      <td>turbo</td>\n",
              "      <td>4</td>\n",
              "      <td>wagon</td>\n",
              "      <td>rwd</td>\n",
              "      <td>front</td>\n",
              "      <td>110.0</td>\n",
              "      <td>...</td>\n",
              "      <td>123</td>\n",
              "      <td>4350</td>\n",
              "      <td>22</td>\n",
              "      <td>25</td>\n",
              "      <td>28248.0</td>\n",
              "      <td>buick</td>\n",
              "      <td>century</td>\n",
              "      <td>luxus</td>\n",
              "      <td>(sw)</td>\n",
              "      <td>None</td>\n",
              "    </tr>\n",
              "    <tr>\n",
              "      <th>69</th>\n",
              "      <td>70</td>\n",
              "      <td>0</td>\n",
              "      <td>buick century</td>\n",
              "      <td>diesel</td>\n",
              "      <td>turbo</td>\n",
              "      <td>2</td>\n",
              "      <td>hardtop</td>\n",
              "      <td>rwd</td>\n",
              "      <td>front</td>\n",
              "      <td>106.7</td>\n",
              "      <td>...</td>\n",
              "      <td>123</td>\n",
              "      <td>4350</td>\n",
              "      <td>22</td>\n",
              "      <td>25</td>\n",
              "      <td>28176.0</td>\n",
              "      <td>buick</td>\n",
              "      <td>century</td>\n",
              "      <td>None</td>\n",
              "      <td>None</td>\n",
              "      <td>None</td>\n",
              "    </tr>\n",
              "    <tr>\n",
              "      <th>70</th>\n",
              "      <td>71</td>\n",
              "      <td>-1</td>\n",
              "      <td>buick skyhawk</td>\n",
              "      <td>diesel</td>\n",
              "      <td>turbo</td>\n",
              "      <td>4</td>\n",
              "      <td>sedan</td>\n",
              "      <td>rwd</td>\n",
              "      <td>front</td>\n",
              "      <td>115.6</td>\n",
              "      <td>...</td>\n",
              "      <td>123</td>\n",
              "      <td>4350</td>\n",
              "      <td>22</td>\n",
              "      <td>25</td>\n",
              "      <td>31600.0</td>\n",
              "      <td>buick</td>\n",
              "      <td>skyhawk</td>\n",
              "      <td>None</td>\n",
              "      <td>None</td>\n",
              "      <td>None</td>\n",
              "    </tr>\n",
              "    <tr>\n",
              "      <th>108</th>\n",
              "      <td>109</td>\n",
              "      <td>0</td>\n",
              "      <td>peugeot 304</td>\n",
              "      <td>diesel</td>\n",
              "      <td>turbo</td>\n",
              "      <td>4</td>\n",
              "      <td>sedan</td>\n",
              "      <td>rwd</td>\n",
              "      <td>front</td>\n",
              "      <td>107.9</td>\n",
              "      <td>...</td>\n",
              "      <td>95</td>\n",
              "      <td>4150</td>\n",
              "      <td>28</td>\n",
              "      <td>33</td>\n",
              "      <td>13200.0</td>\n",
              "      <td>peugeot</td>\n",
              "      <td>304</td>\n",
              "      <td>None</td>\n",
              "      <td>None</td>\n",
              "      <td>None</td>\n",
              "    </tr>\n",
              "    <tr>\n",
              "      <th>110</th>\n",
              "      <td>111</td>\n",
              "      <td>0</td>\n",
              "      <td>peugeot 504</td>\n",
              "      <td>diesel</td>\n",
              "      <td>turbo</td>\n",
              "      <td>4</td>\n",
              "      <td>wagon</td>\n",
              "      <td>rwd</td>\n",
              "      <td>front</td>\n",
              "      <td>114.2</td>\n",
              "      <td>...</td>\n",
              "      <td>95</td>\n",
              "      <td>4150</td>\n",
              "      <td>25</td>\n",
              "      <td>25</td>\n",
              "      <td>13860.0</td>\n",
              "      <td>peugeot</td>\n",
              "      <td>504</td>\n",
              "      <td>None</td>\n",
              "      <td>None</td>\n",
              "      <td>None</td>\n",
              "    </tr>\n",
              "    <tr>\n",
              "      <th>112</th>\n",
              "      <td>113</td>\n",
              "      <td>0</td>\n",
              "      <td>peugeot 604sl</td>\n",
              "      <td>diesel</td>\n",
              "      <td>turbo</td>\n",
              "      <td>4</td>\n",
              "      <td>sedan</td>\n",
              "      <td>rwd</td>\n",
              "      <td>front</td>\n",
              "      <td>107.9</td>\n",
              "      <td>...</td>\n",
              "      <td>95</td>\n",
              "      <td>4150</td>\n",
              "      <td>28</td>\n",
              "      <td>33</td>\n",
              "      <td>16900.0</td>\n",
              "      <td>peugeot</td>\n",
              "      <td>604sl</td>\n",
              "      <td>None</td>\n",
              "      <td>None</td>\n",
              "      <td>None</td>\n",
              "    </tr>\n",
              "    <tr>\n",
              "      <th>114</th>\n",
              "      <td>115</td>\n",
              "      <td>0</td>\n",
              "      <td>peugeot 505s turbo diesel</td>\n",
              "      <td>diesel</td>\n",
              "      <td>turbo</td>\n",
              "      <td>4</td>\n",
              "      <td>wagon</td>\n",
              "      <td>rwd</td>\n",
              "      <td>front</td>\n",
              "      <td>114.2</td>\n",
              "      <td>...</td>\n",
              "      <td>95</td>\n",
              "      <td>4150</td>\n",
              "      <td>25</td>\n",
              "      <td>25</td>\n",
              "      <td>17075.0</td>\n",
              "      <td>peugeot</td>\n",
              "      <td>505s</td>\n",
              "      <td>turbo</td>\n",
              "      <td>diesel</td>\n",
              "      <td>None</td>\n",
              "    </tr>\n",
              "    <tr>\n",
              "      <th>116</th>\n",
              "      <td>117</td>\n",
              "      <td>0</td>\n",
              "      <td>peugeot 504</td>\n",
              "      <td>diesel</td>\n",
              "      <td>turbo</td>\n",
              "      <td>4</td>\n",
              "      <td>sedan</td>\n",
              "      <td>rwd</td>\n",
              "      <td>front</td>\n",
              "      <td>107.9</td>\n",
              "      <td>...</td>\n",
              "      <td>95</td>\n",
              "      <td>4150</td>\n",
              "      <td>28</td>\n",
              "      <td>33</td>\n",
              "      <td>17950.0</td>\n",
              "      <td>peugeot</td>\n",
              "      <td>504</td>\n",
              "      <td>None</td>\n",
              "      <td>None</td>\n",
              "      <td>None</td>\n",
              "    </tr>\n",
              "    <tr>\n",
              "      <th>139</th>\n",
              "      <td>140</td>\n",
              "      <td>2</td>\n",
              "      <td>subaru dl</td>\n",
              "      <td>gas</td>\n",
              "      <td>std</td>\n",
              "      <td>2</td>\n",
              "      <td>hatchback</td>\n",
              "      <td>fwd</td>\n",
              "      <td>front</td>\n",
              "      <td>93.7</td>\n",
              "      <td>...</td>\n",
              "      <td>73</td>\n",
              "      <td>4400</td>\n",
              "      <td>26</td>\n",
              "      <td>31</td>\n",
              "      <td>7053.0</td>\n",
              "      <td>subaru</td>\n",
              "      <td>dl</td>\n",
              "      <td>None</td>\n",
              "      <td>None</td>\n",
              "      <td>None</td>\n",
              "    </tr>\n",
              "    <tr>\n",
              "      <th>140</th>\n",
              "      <td>141</td>\n",
              "      <td>2</td>\n",
              "      <td>subaru dl</td>\n",
              "      <td>gas</td>\n",
              "      <td>std</td>\n",
              "      <td>2</td>\n",
              "      <td>hatchback</td>\n",
              "      <td>4wd</td>\n",
              "      <td>front</td>\n",
              "      <td>93.3</td>\n",
              "      <td>...</td>\n",
              "      <td>73</td>\n",
              "      <td>4400</td>\n",
              "      <td>26</td>\n",
              "      <td>31</td>\n",
              "      <td>7603.0</td>\n",
              "      <td>subaru</td>\n",
              "      <td>dl</td>\n",
              "      <td>None</td>\n",
              "      <td>None</td>\n",
              "      <td>None</td>\n",
              "    </tr>\n",
              "    <tr>\n",
              "      <th>142</th>\n",
              "      <td>143</td>\n",
              "      <td>0</td>\n",
              "      <td>subaru brz</td>\n",
              "      <td>gas</td>\n",
              "      <td>std</td>\n",
              "      <td>4</td>\n",
              "      <td>sedan</td>\n",
              "      <td>fwd</td>\n",
              "      <td>front</td>\n",
              "      <td>97.2</td>\n",
              "      <td>...</td>\n",
              "      <td>82</td>\n",
              "      <td>4400</td>\n",
              "      <td>28</td>\n",
              "      <td>33</td>\n",
              "      <td>7775.0</td>\n",
              "      <td>subaru</td>\n",
              "      <td>brz</td>\n",
              "      <td>None</td>\n",
              "      <td>None</td>\n",
              "      <td>None</td>\n",
              "    </tr>\n",
              "    <tr>\n",
              "      <th>173</th>\n",
              "      <td>174</td>\n",
              "      <td>-1</td>\n",
              "      <td>toyota corolla</td>\n",
              "      <td>gas</td>\n",
              "      <td>std</td>\n",
              "      <td>4</td>\n",
              "      <td>sedan</td>\n",
              "      <td>fwd</td>\n",
              "      <td>front</td>\n",
              "      <td>102.4</td>\n",
              "      <td>...</td>\n",
              "      <td>92</td>\n",
              "      <td>4200</td>\n",
              "      <td>29</td>\n",
              "      <td>34</td>\n",
              "      <td>8948.0</td>\n",
              "      <td>toyota</td>\n",
              "      <td>corolla</td>\n",
              "      <td>None</td>\n",
              "      <td>None</td>\n",
              "      <td>None</td>\n",
              "    </tr>\n",
              "    <tr>\n",
              "      <th>175</th>\n",
              "      <td>176</td>\n",
              "      <td>-1</td>\n",
              "      <td>toyota corona</td>\n",
              "      <td>gas</td>\n",
              "      <td>std</td>\n",
              "      <td>4</td>\n",
              "      <td>hatchback</td>\n",
              "      <td>fwd</td>\n",
              "      <td>front</td>\n",
              "      <td>102.4</td>\n",
              "      <td>...</td>\n",
              "      <td>92</td>\n",
              "      <td>4200</td>\n",
              "      <td>27</td>\n",
              "      <td>32</td>\n",
              "      <td>9988.0</td>\n",
              "      <td>toyota</td>\n",
              "      <td>corona</td>\n",
              "      <td>None</td>\n",
              "      <td>None</td>\n",
              "      <td>None</td>\n",
              "    </tr>\n",
              "    <tr>\n",
              "      <th>176</th>\n",
              "      <td>177</td>\n",
              "      <td>-1</td>\n",
              "      <td>toyota corolla</td>\n",
              "      <td>gas</td>\n",
              "      <td>std</td>\n",
              "      <td>4</td>\n",
              "      <td>sedan</td>\n",
              "      <td>fwd</td>\n",
              "      <td>front</td>\n",
              "      <td>102.4</td>\n",
              "      <td>...</td>\n",
              "      <td>92</td>\n",
              "      <td>4200</td>\n",
              "      <td>27</td>\n",
              "      <td>32</td>\n",
              "      <td>10898.0</td>\n",
              "      <td>toyota</td>\n",
              "      <td>corolla</td>\n",
              "      <td>None</td>\n",
              "      <td>None</td>\n",
              "      <td>None</td>\n",
              "    </tr>\n",
              "    <tr>\n",
              "      <th>177</th>\n",
              "      <td>178</td>\n",
              "      <td>-1</td>\n",
              "      <td>toyota mark ii</td>\n",
              "      <td>gas</td>\n",
              "      <td>std</td>\n",
              "      <td>4</td>\n",
              "      <td>hatchback</td>\n",
              "      <td>fwd</td>\n",
              "      <td>front</td>\n",
              "      <td>102.4</td>\n",
              "      <td>...</td>\n",
              "      <td>92</td>\n",
              "      <td>4200</td>\n",
              "      <td>27</td>\n",
              "      <td>32</td>\n",
              "      <td>11248.0</td>\n",
              "      <td>toyota</td>\n",
              "      <td>mark</td>\n",
              "      <td>ii</td>\n",
              "      <td>None</td>\n",
              "      <td>None</td>\n",
              "    </tr>\n",
              "  </tbody>\n",
              "</table>\n",
              "<p>20 rows × 31 columns</p>\n",
              "</div>\n",
              "      <button class=\"colab-df-convert\" onclick=\"convertToInteractive('df-c521e3fb-d629-451a-89e6-23d77a75ecf9')\"\n",
              "              title=\"Convert this dataframe to an interactive table.\"\n",
              "              style=\"display:none;\">\n",
              "        \n",
              "  <svg xmlns=\"http://www.w3.org/2000/svg\" height=\"24px\"viewBox=\"0 0 24 24\"\n",
              "       width=\"24px\">\n",
              "    <path d=\"M0 0h24v24H0V0z\" fill=\"none\"/>\n",
              "    <path d=\"M18.56 5.44l.94 2.06.94-2.06 2.06-.94-2.06-.94-.94-2.06-.94 2.06-2.06.94zm-11 1L8.5 8.5l.94-2.06 2.06-.94-2.06-.94L8.5 2.5l-.94 2.06-2.06.94zm10 10l.94 2.06.94-2.06 2.06-.94-2.06-.94-.94-2.06-.94 2.06-2.06.94z\"/><path d=\"M17.41 7.96l-1.37-1.37c-.4-.4-.92-.59-1.43-.59-.52 0-1.04.2-1.43.59L10.3 9.45l-7.72 7.72c-.78.78-.78 2.05 0 2.83L4 21.41c.39.39.9.59 1.41.59.51 0 1.02-.2 1.41-.59l7.78-7.78 2.81-2.81c.8-.78.8-2.07 0-2.86zM5.41 20L4 18.59l7.72-7.72 1.47 1.35L5.41 20z\"/>\n",
              "  </svg>\n",
              "      </button>\n",
              "      \n",
              "  <style>\n",
              "    .colab-df-container {\n",
              "      display:flex;\n",
              "      flex-wrap:wrap;\n",
              "      gap: 12px;\n",
              "    }\n",
              "\n",
              "    .colab-df-convert {\n",
              "      background-color: #E8F0FE;\n",
              "      border: none;\n",
              "      border-radius: 50%;\n",
              "      cursor: pointer;\n",
              "      display: none;\n",
              "      fill: #1967D2;\n",
              "      height: 32px;\n",
              "      padding: 0 0 0 0;\n",
              "      width: 32px;\n",
              "    }\n",
              "\n",
              "    .colab-df-convert:hover {\n",
              "      background-color: #E2EBFA;\n",
              "      box-shadow: 0px 1px 2px rgba(60, 64, 67, 0.3), 0px 1px 3px 1px rgba(60, 64, 67, 0.15);\n",
              "      fill: #174EA6;\n",
              "    }\n",
              "\n",
              "    [theme=dark] .colab-df-convert {\n",
              "      background-color: #3B4455;\n",
              "      fill: #D2E3FC;\n",
              "    }\n",
              "\n",
              "    [theme=dark] .colab-df-convert:hover {\n",
              "      background-color: #434B5C;\n",
              "      box-shadow: 0px 1px 3px 1px rgba(0, 0, 0, 0.15);\n",
              "      filter: drop-shadow(0px 1px 2px rgba(0, 0, 0, 0.3));\n",
              "      fill: #FFFFFF;\n",
              "    }\n",
              "  </style>\n",
              "\n",
              "      <script>\n",
              "        const buttonEl =\n",
              "          document.querySelector('#df-c521e3fb-d629-451a-89e6-23d77a75ecf9 button.colab-df-convert');\n",
              "        buttonEl.style.display =\n",
              "          google.colab.kernel.accessAllowed ? 'block' : 'none';\n",
              "\n",
              "        async function convertToInteractive(key) {\n",
              "          const element = document.querySelector('#df-c521e3fb-d629-451a-89e6-23d77a75ecf9');\n",
              "          const dataTable =\n",
              "            await google.colab.kernel.invokeFunction('convertToInteractive',\n",
              "                                                     [key], {});\n",
              "          if (!dataTable) return;\n",
              "\n",
              "          const docLinkHtml = 'Like what you see? Visit the ' +\n",
              "            '<a target=\"_blank\" href=https://colab.research.google.com/notebooks/data_table.ipynb>data table notebook</a>'\n",
              "            + ' to learn more about interactive tables.';\n",
              "          element.innerHTML = '';\n",
              "          dataTable['output_type'] = 'display_data';\n",
              "          await google.colab.output.renderOutput(dataTable, element);\n",
              "          const docLink = document.createElement('div');\n",
              "          docLink.innerHTML = docLinkHtml;\n",
              "          element.appendChild(docLink);\n",
              "        }\n",
              "      </script>\n",
              "    </div>\n",
              "  </div>\n",
              "  "
            ]
          },
          "metadata": {},
          "execution_count": 134
        }
      ]
    },
    {
      "cell_type": "markdown",
      "source": [
        "#Relations "
      ],
      "metadata": {
        "id": "iH4kdO4qfmIl"
      }
    },
    {
      "cell_type": "code",
      "source": [
        "\n",
        "sns.lmplot(y='price',x='horsepower',data=df ,ci=None)# "
      ],
      "metadata": {
        "id": "oJAoSMO7yBU7",
        "colab": {
          "base_uri": "https://localhost:8080/",
          "height": 386
        },
        "outputId": "e102fa13-4461-4a18-c4cd-ce15e80d27d3"
      },
      "execution_count": null,
      "outputs": [
        {
          "output_type": "execute_result",
          "data": {
            "text/plain": [
              "<seaborn.axisgrid.FacetGrid at 0x7f3a7071ad90>"
            ]
          },
          "metadata": {},
          "execution_count": 135
        },
        {
          "output_type": "display_data",
          "data": {
            "text/plain": [
              "<Figure size 360x360 with 1 Axes>"
            ],
            "image/png": "[encoded data removed]"
          },
          "metadata": {
            "needs_background": "light"
          }
        }
      ]
    },
    {
      "cell_type": "code",
      "source": [
        "sns.barplot(x='highwaympg',y='price',data=df)\n",
        "plt.xticks(rotation=90)"
      ],
      "metadata": {
        "colab": {
          "base_uri": "https://localhost:8080/",
          "height": 334
        },
        "id": "lKxHj36-befe",
        "outputId": "5d77ccd4-3eda-41d8-819b-20fe895399d8"
      },
      "execution_count": null,
      "outputs": [
        {
          "output_type": "execute_result",
          "data": {
            "text/plain": [
              "(array([ 0,  1,  2,  3,  4,  5,  6,  7,  8,  9, 10, 11, 12, 13, 14, 15, 16,\n",
              "        17, 18, 19, 20, 21, 22, 23, 24, 25, 26, 27, 28, 29]),\n",
              " <a list of 30 Text major ticklabel objects>)"
            ]
          },
          "metadata": {},
          "execution_count": 136
        },
        {
          "output_type": "display_data",
          "data": {
            "text/plain": [
              "<Figure size 432x288 with 1 Axes>"
            ],
            "image/png": "[encoded data removed]"
          },
          "metadata": {
            "needs_background": "light"
          }
        }
      ]
    },
    {
      "cell_type": "code",
      "source": [
        "sns.scatterplot(y='price',x='highwaympg',data=df ,hue=\"cylindernumber\")"
      ],
      "metadata": {
        "colab": {
          "base_uri": "https://localhost:8080/",
          "height": 296
        },
        "id": "DTjDaCKml1Y9",
        "outputId": "4a5cf406-d21c-4a95-ea28-b73311e9e8d7"
      },
      "execution_count": null,
      "outputs": [
        {
          "output_type": "execute_result",
          "data": {
            "text/plain": [
              "<matplotlib.axes._subplots.AxesSubplot at 0x7f3a71a20340>"
            ]
          },
          "metadata": {},
          "execution_count": 137
        },
        {
          "output_type": "display_data",
          "data": {
            "text/plain": [
              "<Figure size 432x288 with 1 Axes>"
            ],
            "image/png": "[encoded data removed]"
          },
          "metadata": {
            "needs_background": "light"
          }
        }
      ]
    },
    {
      "cell_type": "code",
      "source": [
        "sns.scatterplot(y='price',x='citympg',data=df)"
      ],
      "metadata": {
        "colab": {
          "base_uri": "https://localhost:8080/",
          "height": 296
        },
        "id": "zzH-ndv0l-ag",
        "outputId": "23b85be9-ec0a-44c6-cc30-e48505234ec9"
      },
      "execution_count": null,
      "outputs": [
        {
          "output_type": "execute_result",
          "data": {
            "text/plain": [
              "<matplotlib.axes._subplots.AxesSubplot at 0x7f3a719ff700>"
            ]
          },
          "metadata": {},
          "execution_count": 138
        },
        {
          "output_type": "display_data",
          "data": {
            "text/plain": [
              "<Figure size 432x288 with 1 Axes>"
            ],
            "image/png": "[encoded data removed]"
          },
          "metadata": {
            "needs_background": "light"
          }
        }
      ]
    },
    {
      "cell_type": "code",
      "source": [
        "sns.scatterplot(y='price',x='peakrpm',data=df)"
      ],
      "metadata": {
        "colab": {
          "base_uri": "https://localhost:8080/",
          "height": 296
        },
        "id": "yaOMz352mBcN",
        "outputId": "454f2364-e997-4947-ea7f-6a432010a84b"
      },
      "execution_count": null,
      "outputs": [
        {
          "output_type": "execute_result",
          "data": {
            "text/plain": [
              "<matplotlib.axes._subplots.AxesSubplot at 0x7f3a7492d9d0>"
            ]
          },
          "metadata": {},
          "execution_count": 139
        },
        {
          "output_type": "display_data",
          "data": {
            "text/plain": [
              "<Figure size 432x288 with 1 Axes>"
            ],
            "image/png": "[encoded data removed]"
          },
          "metadata": {
            "needs_background": "light"
          }
        }
      ]
    },
    {
      "cell_type": "markdown",
      "source": [],
      "metadata": {
        "id": "_TbjdvPH5yNm"
      }
    },
    {
      "cell_type": "code",
      "source": [
        "df.columns"
      ],
      "metadata": {
        "colab": {
          "base_uri": "https://localhost:8080/"
        },
        "id": "W-EnHsV8c4Qm",
        "outputId": "173778fd-ec72-445a-885a-ef359089656b"
      },
      "execution_count": null,
      "outputs": [
        {
          "output_type": "execute_result",
          "data": {
            "text/plain": [
              "Index([          'car_ID',        'symboling',          'CarName',\n",
              "               'fueltype',       'aspiration',       'doornumber',\n",
              "                'carbody',       'drivewheel',   'enginelocation',\n",
              "              'wheelbase',        'carlength',         'carwidth',\n",
              "              'carheight',       'curbweight',       'enginetype',\n",
              "         'cylindernumber',       'enginesize',       'fuelsystem',\n",
              "              'boreratio',           'stroke', 'compressionratio',\n",
              "             'horsepower',          'peakrpm',          'citympg',\n",
              "             'highwaympg',            'price',       'CarCompany',\n",
              "              'ModelName',                  2,                  3,\n",
              "                        4],\n",
              "      dtype='object')"
            ]
          },
          "metadata": {},
          "execution_count": 140
        }
      ]
    },
    {
      "cell_type": "code",
      "source": [
        "sns.scatterplot(y='price',x='compressionratio',data=df)"
      ],
      "metadata": {
        "colab": {
          "base_uri": "https://localhost:8080/",
          "height": 296
        },
        "id": "v7q0nL3BdAsQ",
        "outputId": "00e0b59a-29ce-4b4c-d955-cb14ca0e08ae"
      },
      "execution_count": null,
      "outputs": [
        {
          "output_type": "execute_result",
          "data": {
            "text/plain": [
              "<matplotlib.axes._subplots.AxesSubplot at 0x7f3a716a1940>"
            ]
          },
          "metadata": {},
          "execution_count": 141
        },
        {
          "output_type": "display_data",
          "data": {
            "text/plain": [
              "<Figure size 432x288 with 1 Axes>"
            ],
            "image/png": "[encoded data removed]"
          },
          "metadata": {
            "needs_background": "light"
          }
        }
      ]
    },
    {
      "cell_type": "code",
      "source": [
        "sns.scatterplot(y='price',x='compressionratio',data=df,hue=\"fueltype\")"
      ],
      "metadata": {
        "colab": {
          "base_uri": "https://localhost:8080/",
          "height": 296
        },
        "id": "RZ63jKKOmJBO",
        "outputId": "c24745c0-0f2f-4a68-c46c-37dd17fc304b"
      },
      "execution_count": null,
      "outputs": [
        {
          "output_type": "execute_result",
          "data": {
            "text/plain": [
              "<matplotlib.axes._subplots.AxesSubplot at 0x7f3a71b1a460>"
            ]
          },
          "metadata": {},
          "execution_count": 142
        },
        {
          "output_type": "display_data",
          "data": {
            "text/plain": [
              "<Figure size 432x288 with 1 Axes>"
            ],
            "image/png": "[encoded data removed]"
          },
          "metadata": {
            "needs_background": "light"
          }
        }
      ]
    },
    {
      "cell_type": "code",
      "source": [
        "df[\"stroke\"].value_counts()"
      ],
      "metadata": {
        "colab": {
          "base_uri": "https://localhost:8080/"
        },
        "id": "fvrQU1IidQ7q",
        "outputId": "78f87d27-026f-41aa-9bdf-f0a15157f10c"
      },
      "execution_count": null,
      "outputs": [
        {
          "output_type": "execute_result",
          "data": {
            "text/plain": [
              "3.400    20\n",
              "3.230    14\n",
              "3.150    14\n",
              "3.030    14\n",
              "3.390    13\n",
              "2.640    11\n",
              "3.290     9\n",
              "3.350     9\n",
              "3.460     8\n",
              "3.110     6\n",
              "3.270     6\n",
              "3.410     6\n",
              "3.070     6\n",
              "3.580     6\n",
              "3.190     6\n",
              "3.500     6\n",
              "3.640     5\n",
              "3.520     5\n",
              "3.860     4\n",
              "3.540     4\n",
              "3.470     4\n",
              "3.255     4\n",
              "3.900     3\n",
              "2.900     3\n",
              "3.100     2\n",
              "4.170     2\n",
              "2.800     2\n",
              "2.190     2\n",
              "3.080     2\n",
              "2.680     2\n",
              "2.360     1\n",
              "3.160     1\n",
              "2.070     1\n",
              "3.210     1\n",
              "3.120     1\n",
              "2.760     1\n",
              "2.870     1\n",
              "Name: stroke, dtype: int64"
            ]
          },
          "metadata": {},
          "execution_count": 143
        }
      ]
    },
    {
      "cell_type": "code",
      "source": [],
      "metadata": {
        "id": "2-ynWD24dgV4"
      },
      "execution_count": null,
      "outputs": []
    },
    {
      "cell_type": "code",
      "source": [
        "sns.barplot(x='stroke',y='price',data=df)"
      ],
      "metadata": {
        "colab": {
          "base_uri": "https://localhost:8080/",
          "height": 296
        },
        "id": "dhd5DgzGmSBp",
        "outputId": "14f7ae1f-ae5d-4124-ac74-b3a3bc09de7f"
      },
      "execution_count": null,
      "outputs": [
        {
          "output_type": "execute_result",
          "data": {
            "text/plain": [
              "<matplotlib.axes._subplots.AxesSubplot at 0x7f3a719ded60>"
            ]
          },
          "metadata": {},
          "execution_count": 144
        },
        {
          "output_type": "display_data",
          "data": {
            "text/plain": [
              "<Figure size 432x288 with 1 Axes>"
            ],
            "image/png": "[encoded data removed]"
          },
          "metadata": {
            "needs_background": "light"
          }
        }
      ]
    },
    {
      "cell_type": "code",
      "source": [
        "sns.scatterplot(y='price',x='enginesize',data=df)"
      ],
      "metadata": {
        "colab": {
          "base_uri": "https://localhost:8080/",
          "height": 296
        },
        "id": "Xbr6B7LdmVsQ",
        "outputId": "ba6a0e3b-85e7-4124-f13a-c28ad3c43a15"
      },
      "execution_count": null,
      "outputs": [
        {
          "output_type": "execute_result",
          "data": {
            "text/plain": [
              "<matplotlib.axes._subplots.AxesSubplot at 0x7f3a6de78a00>"
            ]
          },
          "metadata": {},
          "execution_count": 145
        },
        {
          "output_type": "display_data",
          "data": {
            "text/plain": [
              "<Figure size 432x288 with 1 Axes>"
            ],
            "image/png": "[encoded data removed]"
          },
          "metadata": {
            "needs_background": "light"
          }
        }
      ]
    },
    {
      "cell_type": "code",
      "source": [
        "sns.scatterplot(y='price',x='wheelbase',data=df)"
      ],
      "metadata": {
        "colab": {
          "base_uri": "https://localhost:8080/",
          "height": 296
        },
        "id": "iQ7v1rAYmcLU",
        "outputId": "acef49e0-3e34-4220-bb26-4d547dd3bf0e"
      },
      "execution_count": null,
      "outputs": [
        {
          "output_type": "execute_result",
          "data": {
            "text/plain": [
              "<matplotlib.axes._subplots.AxesSubplot at 0x7f3a6de6a5e0>"
            ]
          },
          "metadata": {},
          "execution_count": 146
        },
        {
          "output_type": "display_data",
          "data": {
            "text/plain": [
              "<Figure size 432x288 with 1 Axes>"
            ],
            "image/png": "[encoded data removed]"
          },
          "metadata": {
            "needs_background": "light"
          }
        }
      ]
    },
    {
      "cell_type": "code",
      "source": [
        "sns.scatterplot(y='price',x='carlength',data=df)"
      ],
      "metadata": {
        "colab": {
          "base_uri": "https://localhost:8080/",
          "height": 296
        },
        "id": "wUKMtUTrmlMS",
        "outputId": "1e0a091e-a118-42ae-c3e3-772e1663d69b"
      },
      "execution_count": null,
      "outputs": [
        {
          "output_type": "execute_result",
          "data": {
            "text/plain": [
              "<matplotlib.axes._subplots.AxesSubplot at 0x7f3a6dd45520>"
            ]
          },
          "metadata": {},
          "execution_count": 147
        },
        {
          "output_type": "display_data",
          "data": {
            "text/plain": [
              "<Figure size 432x288 with 1 Axes>"
            ],
            "image/png": "[encoded data removed]"
          },
          "metadata": {
            "needs_background": "light"
          }
        }
      ]
    },
    {
      "cell_type": "code",
      "source": [
        "sns.scatterplot(y='price',x='carwidth',data=df)"
      ],
      "metadata": {
        "colab": {
          "base_uri": "https://localhost:8080/",
          "height": 296
        },
        "id": "j_F1Y3ifmsk2",
        "outputId": "9c3bcd04-edc8-45d0-e98c-826b7b0ceab8"
      },
      "execution_count": null,
      "outputs": [
        {
          "output_type": "execute_result",
          "data": {
            "text/plain": [
              "<matplotlib.axes._subplots.AxesSubplot at 0x7f3a6dd22940>"
            ]
          },
          "metadata": {},
          "execution_count": 148
        },
        {
          "output_type": "display_data",
          "data": {
            "text/plain": [
              "<Figure size 432x288 with 1 Axes>"
            ],
            "image/png": "[encoded data removed]"
          },
          "metadata": {
            "needs_background": "light"
          }
        }
      ]
    },
    {
      "cell_type": "code",
      "source": [
        "df['cylinders']=df['cylindernumber'].astype('int')\n",
        "sns.barplot(y='price',x='cylinders',data=df)"
      ],
      "metadata": {
        "colab": {
          "base_uri": "https://localhost:8080/",
          "height": 296
        },
        "id": "YPYni0ISmzLC",
        "outputId": "d9dd800a-26a4-44a6-cd9c-c78440461660"
      },
      "execution_count": null,
      "outputs": [
        {
          "output_type": "execute_result",
          "data": {
            "text/plain": [
              "<matplotlib.axes._subplots.AxesSubplot at 0x7f3a6dcf5a60>"
            ]
          },
          "metadata": {},
          "execution_count": 149
        },
        {
          "output_type": "display_data",
          "data": {
            "text/plain": [
              "<Figure size 432x288 with 1 Axes>"
            ],
            "image/png": "[encoded data removed]"
          },
          "metadata": {
            "needs_background": "light"
          }
        }
      ]
    },
    {
      "cell_type": "code",
      "source": [
        "hue_colors={2:'black',3:'cyan',4:'red',5:'#808080',6:'yellow',8:'magenta',10:'blue',12:'green'}\n",
        "sns.scatterplot(y='price',x='enginesize',data=df,hue='cylindernumber',palette=hue_colors)"
      ],
      "metadata": {
        "colab": {
          "base_uri": "https://localhost:8080/",
          "height": 296
        },
        "id": "CAaGnZPvSnw2",
        "outputId": "b860b6ec-f6a3-415e-de92-f0409814c6e1"
      },
      "execution_count": null,
      "outputs": [
        {
          "output_type": "execute_result",
          "data": {
            "text/plain": [
              "<matplotlib.axes._subplots.AxesSubplot at 0x7f3a6dc6ac40>"
            ]
          },
          "metadata": {},
          "execution_count": 150
        },
        {
          "output_type": "display_data",
          "data": {
            "text/plain": [
              "<Figure size 432x288 with 1 Axes>"
            ],
            "image/png": "[encoded data removed]"
          },
          "metadata": {
            "needs_background": "light"
          }
        }
      ]
    },
    {
      "cell_type": "code",
      "source": [
        "hue_colors={2:'black',3:'cyan',4:'red',5:'#808080',6:'yellow',8:'magenta',10:'blue',12:'green'}\n",
        "plt.figure(figsize=(30,20))\n",
        "sns.relplot(x='price',y='enginesize',data=df,kind='scatter',col='cylindernumber',col_wrap=2,hue='cylindernumber',palette=hue_colors)"
      ],
      "metadata": {
        "colab": {
          "base_uri": "https://localhost:8080/",
          "height": 1000
        },
        "id": "O_szyGRxUEy_",
        "outputId": "a3171e0f-2434-41b4-aff0-4df13945f9d0"
      },
      "execution_count": null,
      "outputs": [
        {
          "output_type": "execute_result",
          "data": {
            "text/plain": [
              "<seaborn.axisgrid.FacetGrid at 0x7f3a6dcaed00>"
            ]
          },
          "metadata": {},
          "execution_count": 151
        },
        {
          "output_type": "display_data",
          "data": {
            "text/plain": [
              "<Figure size 2160x1440 with 0 Axes>"
            ]
          },
          "metadata": {}
        },
        {
          "output_type": "display_data",
          "data": {
            "text/plain": [
              "<Figure size 806.875x1440 with 7 Axes>"
            ],
            "image/png": "[encoded data removed]"
          },
          "metadata": {
            "needs_background": "light"
          }
        }
      ]
    },
    {
      "cell_type": "code",
      "source": [
        "df.columns"
      ],
      "metadata": {
        "colab": {
          "base_uri": "https://localhost:8080/"
        },
        "id": "TkkAc69hTnu2",
        "outputId": "51b1a6d0-00e0-4d1a-ec49-04f16bf290ec"
      },
      "execution_count": null,
      "outputs": [
        {
          "output_type": "execute_result",
          "data": {
            "text/plain": [
              "Index([          'car_ID',        'symboling',          'CarName',\n",
              "               'fueltype',       'aspiration',       'doornumber',\n",
              "                'carbody',       'drivewheel',   'enginelocation',\n",
              "              'wheelbase',        'carlength',         'carwidth',\n",
              "              'carheight',       'curbweight',       'enginetype',\n",
              "         'cylindernumber',       'enginesize',       'fuelsystem',\n",
              "              'boreratio',           'stroke', 'compressionratio',\n",
              "             'horsepower',          'peakrpm',          'citympg',\n",
              "             'highwaympg',            'price',       'CarCompany',\n",
              "              'ModelName',                  2,                  3,\n",
              "                        4,        'cylinders'],\n",
              "      dtype='object')"
            ]
          },
          "metadata": {},
          "execution_count": 152
        }
      ]
    },
    {
      "cell_type": "code",
      "source": [
        "sns.scatterplot(y='price',x='enginesize',data=df,hue='aspiration',palette='bright')"
      ],
      "metadata": {
        "colab": {
          "base_uri": "https://localhost:8080/",
          "height": 296
        },
        "id": "m5FEJH-OTz8y",
        "outputId": "f13df773-a7fd-4aa0-927f-b800316b9b2d"
      },
      "execution_count": null,
      "outputs": [
        {
          "output_type": "execute_result",
          "data": {
            "text/plain": [
              "<matplotlib.axes._subplots.AxesSubplot at 0x7f3a6d957220>"
            ]
          },
          "metadata": {},
          "execution_count": 153
        },
        {
          "output_type": "display_data",
          "data": {
            "text/plain": [
              "<Figure size 432x288 with 1 Axes>"
            ],
            "image/png": "[encoded data removed]"
          },
          "metadata": {
            "needs_background": "light"
          }
        }
      ]
    },
    {
      "cell_type": "code",
      "source": [
        "sns.barplot(y='price',x='enginelocation',data=df,palette='bright')"
      ],
      "metadata": {
        "colab": {
          "base_uri": "https://localhost:8080/",
          "height": 296
        },
        "id": "QSPXd425fImC",
        "outputId": "44ab8c8a-41c1-4b13-a261-de6a62e40627"
      },
      "execution_count": null,
      "outputs": [
        {
          "output_type": "execute_result",
          "data": {
            "text/plain": [
              "<matplotlib.axes._subplots.AxesSubplot at 0x7f3a70962610>"
            ]
          },
          "metadata": {},
          "execution_count": 154
        },
        {
          "output_type": "display_data",
          "data": {
            "text/plain": [
              "<Figure size 432x288 with 1 Axes>"
            ],
            "image/png": "[encoded data removed]"
          },
          "metadata": {
            "needs_background": "light"
          }
        }
      ]
    },
    {
      "cell_type": "code",
      "source": [
        "sns.barplot(y='price',x=\"cylindernumber\",hue='enginelocation',data=df,palette='bright')"
      ],
      "metadata": {
        "colab": {
          "base_uri": "https://localhost:8080/",
          "height": 296
        },
        "id": "Y4b9uCr8fOWF",
        "outputId": "7969ac44-d87c-40fd-e4e3-1f6186353a80"
      },
      "execution_count": null,
      "outputs": [
        {
          "output_type": "execute_result",
          "data": {
            "text/plain": [
              "<matplotlib.axes._subplots.AxesSubplot at 0x7f3a719bdca0>"
            ]
          },
          "metadata": {},
          "execution_count": 155
        },
        {
          "output_type": "display_data",
          "data": {
            "text/plain": [
              "<Figure size 432x288 with 1 Axes>"
            ],
            "image/png": "[encoded data removed]"
          },
          "metadata": {
            "needs_background": "light"
          }
        }
      ]
    },
    {
      "cell_type": "code",
      "source": [
        "sns.barplot(y='price',x=\"enginelocation\",hue='drivewheel',data=df,palette='bright')\n"
      ],
      "metadata": {
        "colab": {
          "base_uri": "https://localhost:8080/",
          "height": 296
        },
        "id": "M-CeQ3UpgE3-",
        "outputId": "3fe31714-54a0-4516-f5a9-19dd57bc3f59"
      },
      "execution_count": null,
      "outputs": [
        {
          "output_type": "execute_result",
          "data": {
            "text/plain": [
              "<matplotlib.axes._subplots.AxesSubplot at 0x7f3a6d823880>"
            ]
          },
          "metadata": {},
          "execution_count": 156
        },
        {
          "output_type": "display_data",
          "data": {
            "text/plain": [
              "<Figure size 432x288 with 1 Axes>"
            ],
            "image/png": "[encoded data removed]"
          },
          "metadata": {
            "needs_background": "light"
          }
        }
      ]
    },
    {
      "cell_type": "code",
      "source": [
        "sns.barplot(y='price',x='fueltype',data=df,hue=\"fuelsystem\")"
      ],
      "metadata": {
        "id": "UBw2vW_Mg2g7",
        "colab": {
          "base_uri": "https://localhost:8080/",
          "height": 296
        },
        "outputId": "d1d0299e-f441-49f3-b203-6a696d9b23f1"
      },
      "execution_count": null,
      "outputs": [
        {
          "output_type": "execute_result",
          "data": {
            "text/plain": [
              "<matplotlib.axes._subplots.AxesSubplot at 0x7f3a6ca52250>"
            ]
          },
          "metadata": {},
          "execution_count": 162
        },
        {
          "output_type": "display_data",
          "data": {
            "text/plain": [
              "<Figure size 432x288 with 1 Axes>"
            ],
            "image/png": "[encoded data removed]"
          },
          "metadata": {
            "needs_background": "light"
          }
        }
      ]
    },
    {
      "cell_type": "code",
      "source": [
        "sns.barplot(y='price',x='enginetype',data=df)"
      ],
      "metadata": {
        "id": "hlrbDtBpSZP3",
        "outputId": "dbd5ef58-5648-4dd1-e1a4-15f4564d3b87",
        "colab": {
          "base_uri": "https://localhost:8080/",
          "height": 296
        }
      },
      "execution_count": null,
      "outputs": [
        {
          "output_type": "execute_result",
          "data": {
            "text/plain": [
              "<matplotlib.axes._subplots.AxesSubplot at 0x7f3a6cab1f10>"
            ]
          },
          "metadata": {},
          "execution_count": 163
        },
        {
          "output_type": "display_data",
          "data": {
            "text/plain": [
              "<Figure size 432x288 with 1 Axes>"
            ],
            "image/png": "[encoded data removed]"
          },
          "metadata": {
            "needs_background": "light"
          }
        }
      ]
    }
  ]
}