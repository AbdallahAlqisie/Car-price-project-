{
  "nbformat": 4,
  "nbformat_minor": 0,
  "metadata": {
    "colab": {
      "provenance": []
    },
    "kernelspec": {
      "name": "python3",
      "display_name": "Python 3"
    },
    "language_info": {
      "name": "python"
    }
  },
  "cells": [
    {
      "cell_type": "code",
      "execution_count": null,
      "metadata": {
        "id": "gDSGsF327lS1"
      },
      "outputs": [],
      "source": [
        "import pandas as pd \n",
        "import numpy as np\n",
        "import matplotlib.pyplot as plt\n",
        "import seaborn as sns"
      ]
    },
    {
      "cell_type": "code",
      "source": [
        "df= pd.read_csv('/content/CarPrice_Assignment (1).csv')"
      ],
      "metadata": {
        "id": "NCOHBJhB-UaG"
      },
      "execution_count": null,
      "outputs": []
    },
    {
      "cell_type": "code",
      "source": [
        "df.head()"
      ],
      "metadata": {
        "colab": {
          "base_uri": "https://localhost:8080/",
          "height": 351
        },
        "id": "4Ioim4j_-k5V",
        "outputId": "2acdcf00-beec-4d74-864b-5053921bc5ac"
      },
      "execution_count": null,
      "outputs": [
        {
          "output_type": "execute_result",
          "data": {
            "text/plain": [
              "   car_ID  symboling                   CarName fueltype aspiration doornumber  \\\n",
              "0       1          3        alfa-romero giulia      gas        std        two   \n",
              "1       2          3       alfa-romero stelvio      gas        std        two   \n",
              "2       3          1  alfa-romero Quadrifoglio      gas        std        two   \n",
              "3       4          2               audi 100 ls      gas        std       four   \n",
              "4       5          2                audi 100ls      gas        std       four   \n",
              "\n",
              "       carbody drivewheel enginelocation  wheelbase  ...  enginesize  \\\n",
              "0  convertible        rwd          front       88.6  ...         130   \n",
              "1  convertible        rwd          front       88.6  ...         130   \n",
              "2    hatchback        rwd          front       94.5  ...         152   \n",
              "3        sedan        fwd          front       99.8  ...         109   \n",
              "4        sedan        4wd          front       99.4  ...         136   \n",
              "\n",
              "   fuelsystem  boreratio  stroke compressionratio horsepower  peakrpm citympg  \\\n",
              "0        mpfi       3.47    2.68              9.0        111     5000      21   \n",
              "1        mpfi       3.47    2.68              9.0        111     5000      21   \n",
              "2        mpfi       2.68    3.47              9.0        154     5000      19   \n",
              "3        mpfi       3.19    3.40             10.0        102     5500      24   \n",
              "4        mpfi       3.19    3.40              8.0        115     5500      18   \n",
              "\n",
              "   highwaympg    price  \n",
              "0          27  13495.0  \n",
              "1          27  16500.0  \n",
              "2          26  16500.0  \n",
              "3          30  13950.0  \n",
              "4          22  17450.0  \n",
              "\n",
              "[5 rows x 26 columns]"
            ],
            "text/html": [
              "\n",
              "  <div id=\"df-cee838f5-e96d-464e-adae-719f2c126aa6\">\n",
              "    <div class=\"colab-df-container\">\n",
              "      <div>\n",
              "<style scoped>\n",
              "    .dataframe tbody tr th:only-of-type {\n",
              "        vertical-align: middle;\n",
              "    }\n",
              "\n",
              "    .dataframe tbody tr th {\n",
              "        vertical-align: top;\n",
              "    }\n",
              "\n",
              "    .dataframe thead th {\n",
              "        text-align: right;\n",
              "    }\n",
              "</style>\n",
              "<table border=\"1\" class=\"dataframe\">\n",
              "  <thead>\n",
              "    <tr style=\"text-align: right;\">\n",
              "      <th></th>\n",
              "      <th>car_ID</th>\n",
              "      <th>symboling</th>\n",
              "      <th>CarName</th>\n",
              "      <th>fueltype</th>\n",
              "      <th>aspiration</th>\n",
              "      <th>doornumber</th>\n",
              "      <th>carbody</th>\n",
              "      <th>drivewheel</th>\n",
              "      <th>enginelocation</th>\n",
              "      <th>wheelbase</th>\n",
              "      <th>...</th>\n",
              "      <th>enginesize</th>\n",
              "      <th>fuelsystem</th>\n",
              "      <th>boreratio</th>\n",
              "      <th>stroke</th>\n",
              "      <th>compressionratio</th>\n",
              "      <th>horsepower</th>\n",
              "      <th>peakrpm</th>\n",
              "      <th>citympg</th>\n",
              "      <th>highwaympg</th>\n",
              "      <th>price</th>\n",
              "    </tr>\n",
              "  </thead>\n",
              "  <tbody>\n",
              "    <tr>\n",
              "      <th>0</th>\n",
              "      <td>1</td>\n",
              "      <td>3</td>\n",
              "      <td>alfa-romero giulia</td>\n",
              "      <td>gas</td>\n",
              "      <td>std</td>\n",
              "      <td>two</td>\n",
              "      <td>convertible</td>\n",
              "      <td>rwd</td>\n",
              "      <td>front</td>\n",
              "      <td>88.6</td>\n",
              "      <td>...</td>\n",
              "      <td>130</td>\n",
              "      <td>mpfi</td>\n",
              "      <td>3.47</td>\n",
              "      <td>2.68</td>\n",
              "      <td>9.0</td>\n",
              "      <td>111</td>\n",
              "      <td>5000</td>\n",
              "      <td>21</td>\n",
              "      <td>27</td>\n",
              "      <td>13495.0</td>\n",
              "    </tr>\n",
              "    <tr>\n",
              "      <th>1</th>\n",
              "      <td>2</td>\n",
              "      <td>3</td>\n",
              "      <td>alfa-romero stelvio</td>\n",
              "      <td>gas</td>\n",
              "      <td>std</td>\n",
              "      <td>two</td>\n",
              "      <td>convertible</td>\n",
              "      <td>rwd</td>\n",
              "      <td>front</td>\n",
              "      <td>88.6</td>\n",
              "      <td>...</td>\n",
              "      <td>130</td>\n",
              "      <td>mpfi</td>\n",
              "      <td>3.47</td>\n",
              "      <td>2.68</td>\n",
              "      <td>9.0</td>\n",
              "      <td>111</td>\n",
              "      <td>5000</td>\n",
              "      <td>21</td>\n",
              "      <td>27</td>\n",
              "      <td>16500.0</td>\n",
              "    </tr>\n",
              "    <tr>\n",
              "      <th>2</th>\n",
              "      <td>3</td>\n",
              "      <td>1</td>\n",
              "      <td>alfa-romero Quadrifoglio</td>\n",
              "      <td>gas</td>\n",
              "      <td>std</td>\n",
              "      <td>two</td>\n",
              "      <td>hatchback</td>\n",
              "      <td>rwd</td>\n",
              "      <td>front</td>\n",
              "      <td>94.5</td>\n",
              "      <td>...</td>\n",
              "      <td>152</td>\n",
              "      <td>mpfi</td>\n",
              "      <td>2.68</td>\n",
              "      <td>3.47</td>\n",
              "      <td>9.0</td>\n",
              "      <td>154</td>\n",
              "      <td>5000</td>\n",
              "      <td>19</td>\n",
              "      <td>26</td>\n",
              "      <td>16500.0</td>\n",
              "    </tr>\n",
              "    <tr>\n",
              "      <th>3</th>\n",
              "      <td>4</td>\n",
              "      <td>2</td>\n",
              "      <td>audi 100 ls</td>\n",
              "      <td>gas</td>\n",
              "      <td>std</td>\n",
              "      <td>four</td>\n",
              "      <td>sedan</td>\n",
              "      <td>fwd</td>\n",
              "      <td>front</td>\n",
              "      <td>99.8</td>\n",
              "      <td>...</td>\n",
              "      <td>109</td>\n",
              "      <td>mpfi</td>\n",
              "      <td>3.19</td>\n",
              "      <td>3.40</td>\n",
              "      <td>10.0</td>\n",
              "      <td>102</td>\n",
              "      <td>5500</td>\n",
              "      <td>24</td>\n",
              "      <td>30</td>\n",
              "      <td>13950.0</td>\n",
              "    </tr>\n",
              "    <tr>\n",
              "      <th>4</th>\n",
              "      <td>5</td>\n",
              "      <td>2</td>\n",
              "      <td>audi 100ls</td>\n",
              "      <td>gas</td>\n",
              "      <td>std</td>\n",
              "      <td>four</td>\n",
              "      <td>sedan</td>\n",
              "      <td>4wd</td>\n",
              "      <td>front</td>\n",
              "      <td>99.4</td>\n",
              "      <td>...</td>\n",
              "      <td>136</td>\n",
              "      <td>mpfi</td>\n",
              "      <td>3.19</td>\n",
              "      <td>3.40</td>\n",
              "      <td>8.0</td>\n",
              "      <td>115</td>\n",
              "      <td>5500</td>\n",
              "      <td>18</td>\n",
              "      <td>22</td>\n",
              "      <td>17450.0</td>\n",
              "    </tr>\n",
              "  </tbody>\n",
              "</table>\n",
              "<p>5 rows × 26 columns</p>\n",
              "</div>\n",
              "      <button class=\"colab-df-convert\" onclick=\"convertToInteractive('df-cee838f5-e96d-464e-adae-719f2c126aa6')\"\n",
              "              title=\"Convert this dataframe to an interactive table.\"\n",
              "              style=\"display:none;\">\n",
              "        \n",
              "  <svg xmlns=\"http://www.w3.org/2000/svg\" height=\"24px\"viewBox=\"0 0 24 24\"\n",
              "       width=\"24px\">\n",
              "    <path d=\"M0 0h24v24H0V0z\" fill=\"none\"/>\n",
              "    <path d=\"M18.56 5.44l.94 2.06.94-2.06 2.06-.94-2.06-.94-.94-2.06-.94 2.06-2.06.94zm-11 1L8.5 8.5l.94-2.06 2.06-.94-2.06-.94L8.5 2.5l-.94 2.06-2.06.94zm10 10l.94 2.06.94-2.06 2.06-.94-2.06-.94-.94-2.06-.94 2.06-2.06.94z\"/><path d=\"M17.41 7.96l-1.37-1.37c-.4-.4-.92-.59-1.43-.59-.52 0-1.04.2-1.43.59L10.3 9.45l-7.72 7.72c-.78.78-.78 2.05 0 2.83L4 21.41c.39.39.9.59 1.41.59.51 0 1.02-.2 1.41-.59l7.78-7.78 2.81-2.81c.8-.78.8-2.07 0-2.86zM5.41 20L4 18.59l7.72-7.72 1.47 1.35L5.41 20z\"/>\n",
              "  </svg>\n",
              "      </button>\n",
              "      \n",
              "  <style>\n",
              "    .colab-df-container {\n",
              "      display:flex;\n",
              "      flex-wrap:wrap;\n",
              "      gap: 12px;\n",
              "    }\n",
              "\n",
              "    .colab-df-convert {\n",
              "      background-color: #E8F0FE;\n",
              "      border: none;\n",
              "      border-radius: 50%;\n",
              "      cursor: pointer;\n",
              "      display: none;\n",
              "      fill: #1967D2;\n",
              "      height: 32px;\n",
              "      padding: 0 0 0 0;\n",
              "      width: 32px;\n",
              "    }\n",
              "\n",
              "    .colab-df-convert:hover {\n",
              "      background-color: #E2EBFA;\n",
              "      box-shadow: 0px 1px 2px rgba(60, 64, 67, 0.3), 0px 1px 3px 1px rgba(60, 64, 67, 0.15);\n",
              "      fill: #174EA6;\n",
              "    }\n",
              "\n",
              "    [theme=dark] .colab-df-convert {\n",
              "      background-color: #3B4455;\n",
              "      fill: #D2E3FC;\n",
              "    }\n",
              "\n",
              "    [theme=dark] .colab-df-convert:hover {\n",
              "      background-color: #434B5C;\n",
              "      box-shadow: 0px 1px 3px 1px rgba(0, 0, 0, 0.15);\n",
              "      filter: drop-shadow(0px 1px 2px rgba(0, 0, 0, 0.3));\n",
              "      fill: #FFFFFF;\n",
              "    }\n",
              "  </style>\n",
              "\n",
              "      <script>\n",
              "        const buttonEl =\n",
              "          document.querySelector('#df-cee838f5-e96d-464e-adae-719f2c126aa6 button.colab-df-convert');\n",
              "        buttonEl.style.display =\n",
              "          google.colab.kernel.accessAllowed ? 'block' : 'none';\n",
              "\n",
              "        async function convertToInteractive(key) {\n",
              "          const element = document.querySelector('#df-cee838f5-e96d-464e-adae-719f2c126aa6');\n",
              "          const dataTable =\n",
              "            await google.colab.kernel.invokeFunction('convertToInteractive',\n",
              "                                                     [key], {});\n",
              "          if (!dataTable) return;\n",
              "\n",
              "          const docLinkHtml = 'Like what you see? Visit the ' +\n",
              "            '<a target=\"_blank\" href=https://colab.research.google.com/notebooks/data_table.ipynb>data table notebook</a>'\n",
              "            + ' to learn more about interactive tables.';\n",
              "          element.innerHTML = '';\n",
              "          dataTable['output_type'] = 'display_data';\n",
              "          await google.colab.output.renderOutput(dataTable, element);\n",
              "          const docLink = document.createElement('div');\n",
              "          docLink.innerHTML = docLinkHtml;\n",
              "          element.appendChild(docLink);\n",
              "        }\n",
              "      </script>\n",
              "    </div>\n",
              "  </div>\n",
              "  "
            ]
          },
          "metadata": {},
          "execution_count": 3
        }
      ]
    },
    {
      "cell_type": "code",
      "source": [
        "df['symboling'].astype('category')"
      ],
      "metadata": {
        "colab": {
          "base_uri": "https://localhost:8080/"
        },
        "id": "TY-ONR0b-nyl",
        "outputId": "6dcbda70-e222-45fc-9c8c-4f37cb54eafc"
      },
      "execution_count": null,
      "outputs": [
        {
          "output_type": "execute_result",
          "data": {
            "text/plain": [
              "0      3\n",
              "1      3\n",
              "2      1\n",
              "3      2\n",
              "4      2\n",
              "      ..\n",
              "200   -1\n",
              "201   -1\n",
              "202   -1\n",
              "203   -1\n",
              "204   -1\n",
              "Name: symboling, Length: 205, dtype: category\n",
              "Categories (6, int64): [-2, -1, 0, 1, 2, 3]"
            ]
          },
          "metadata": {},
          "execution_count": 4
        }
      ]
    },
    {
      "cell_type": "code",
      "source": [
        "df =df.join(df['CarName'].str.split(' ', expand=True).rename(columns={0:'CarCompany', 1:'ModelName'}))"
      ],
      "metadata": {
        "id": "ogTxfd4Q-w4f"
      },
      "execution_count": null,
      "outputs": []
    },
    {
      "cell_type": "code",
      "source": [
        "df['CarCompany']=df['CarCompany'].replace('maxda','mazda')\n",
        "df['CarCompany']=df['CarCompany'].replace('toyouta','toyota')\n",
        "df['CarCompany']=df['CarCompany'].replace('Nissan','nissan')\n",
        "df['CarCompany'] =df['CarCompany'].replace('vokswagen','vw')\n",
        "df['CarCompany'] =df['CarCompany'].replace('volkswagen','vw')\n",
        "df['CarCompany'] =df['CarCompany'].replace('porcshce','porsche')"
      ],
      "metadata": {
        "id": "Q-5rZczF-zqx"
      },
      "execution_count": null,
      "outputs": []
    },
    {
      "cell_type": "code",
      "source": [
        "df['fueltype']=df['fueltype'].astype('category')"
      ],
      "metadata": {
        "id": "05qBMaPzKJ6q"
      },
      "execution_count": null,
      "outputs": []
    },
    {
      "cell_type": "code",
      "source": [
        "df['aspiration']=df['aspiration'].astype('category')"
      ],
      "metadata": {
        "id": "S8QcJ5krKMPg"
      },
      "execution_count": null,
      "outputs": []
    },
    {
      "cell_type": "code",
      "source": [
        "df['doornumber']=df['doornumber'].replace('two',2)\n",
        "df['doornumber']=df['doornumber'].replace('four',4)"
      ],
      "metadata": {
        "id": "k8Moo_opKOGq"
      },
      "execution_count": null,
      "outputs": []
    },
    {
      "cell_type": "code",
      "source": [
        "df['doornumber']=df['doornumber'].astype('category')"
      ],
      "metadata": {
        "id": "BltzIIFrKP6E"
      },
      "execution_count": null,
      "outputs": []
    },
    {
      "cell_type": "code",
      "source": [
        "df['enginelocation']=df['enginelocation'].astype('category')"
      ],
      "metadata": {
        "id": "pcTQ43blKSqD"
      },
      "execution_count": null,
      "outputs": []
    },
    {
      "cell_type": "code",
      "source": [
        "df['cylindernumber']=df['cylindernumber'].replace('two',2)\n",
        "df['cylindernumber']=df['cylindernumber'].replace('four',4)\n",
        "df['cylindernumber']=df['cylindernumber'].replace('six',6)\n",
        "df['cylindernumber']=df['cylindernumber'].replace('eight',8)\n",
        "df['cylindernumber']=df['cylindernumber'].replace('three',3)\n",
        "df['cylindernumber']=df['cylindernumber'].replace('five',5)\n",
        "df['cylindernumber']=df['cylindernumber'].replace('twelve',12)"
      ],
      "metadata": {
        "id": "3ojqvsoDKVp_"
      },
      "execution_count": null,
      "outputs": []
    },
    {
      "cell_type": "code",
      "source": [
        "df['cylindernumber']=df['cylindernumber'].astype('category')"
      ],
      "metadata": {
        "id": "ricaQ8ItKVkC"
      },
      "execution_count": null,
      "outputs": []
    },
    {
      "cell_type": "code",
      "source": [
        "df.dtypes"
      ],
      "metadata": {
        "colab": {
          "base_uri": "https://localhost:8080/"
        },
        "id": "n6bB8bzUKZZ5",
        "outputId": "3f7cb846-ebf5-45e1-ffd5-03712b22829b"
      },
      "execution_count": null,
      "outputs": [
        {
          "output_type": "execute_result",
          "data": {
            "text/plain": [
              "car_ID                 int64\n",
              "symboling              int64\n",
              "CarName               object\n",
              "fueltype            category\n",
              "aspiration          category\n",
              "doornumber          category\n",
              "carbody               object\n",
              "drivewheel            object\n",
              "enginelocation      category\n",
              "wheelbase            float64\n",
              "carlength            float64\n",
              "carwidth             float64\n",
              "carheight            float64\n",
              "curbweight             int64\n",
              "enginetype            object\n",
              "cylindernumber      category\n",
              "enginesize             int64\n",
              "fuelsystem            object\n",
              "boreratio            float64\n",
              "stroke               float64\n",
              "compressionratio     float64\n",
              "horsepower             int64\n",
              "peakrpm                int64\n",
              "citympg                int64\n",
              "highwaympg             int64\n",
              "price                float64\n",
              "CarCompany            object\n",
              "ModelName             object\n",
              "2                     object\n",
              "3                     object\n",
              "4                     object\n",
              "dtype: object"
            ]
          },
          "metadata": {},
          "execution_count": 14
        }
      ]
    },
    {
      "cell_type": "code",
      "source": [
        "df['carbody'].unique()"
      ],
      "metadata": {
        "colab": {
          "base_uri": "https://localhost:8080/"
        },
        "id": "11wdrXtmLgQl",
        "outputId": "8f39a11b-d84f-4798-f218-9d7e0ed0f44a"
      },
      "execution_count": null,
      "outputs": [
        {
          "output_type": "execute_result",
          "data": {
            "text/plain": [
              "array(['convertible', 'hatchback', 'sedan', 'wagon', 'hardtop'],\n",
              "      dtype=object)"
            ]
          },
          "metadata": {},
          "execution_count": 15
        }
      ]
    },
    {
      "cell_type": "code",
      "source": [
        "df['carbody']=df['carbody'].astype('category')"
      ],
      "metadata": {
        "id": "DObUioXPLmsy"
      },
      "execution_count": null,
      "outputs": []
    },
    {
      "cell_type": "code",
      "source": [
        "df['fuelsystem'].unique()"
      ],
      "metadata": {
        "colab": {
          "base_uri": "https://localhost:8080/"
        },
        "id": "2fVjZXcoLyrg",
        "outputId": "fde7768e-7d3e-46bc-c1b7-59b98120e9b4"
      },
      "execution_count": null,
      "outputs": [
        {
          "output_type": "execute_result",
          "data": {
            "text/plain": [
              "array(['mpfi', '2bbl', 'mfi', '1bbl', 'spfi', '4bbl', 'idi', 'spdi'],\n",
              "      dtype=object)"
            ]
          },
          "metadata": {},
          "execution_count": 17
        }
      ]
    },
    {
      "cell_type": "code",
      "source": [
        "df['fuelsystem']=df['fuelsystem'].astype('category')"
      ],
      "metadata": {
        "id": "ONT03JA4MhvN"
      },
      "execution_count": null,
      "outputs": []
    },
    {
      "cell_type": "code",
      "source": [
        "#pd.get_dummies(music_df[\"genre\"], drop_first=True)"
      ],
      "metadata": {
        "id": "E-cli38RO5eM"
      },
      "execution_count": null,
      "outputs": []
    },
    {
      "cell_type": "code",
      "source": [
        "df['enginelocation'].unique()"
      ],
      "metadata": {
        "colab": {
          "base_uri": "https://localhost:8080/"
        },
        "id": "IaFJ0pcnO7_F",
        "outputId": "3ec8ff4c-9a44-4d52-a350-6e8db0ff6b3d"
      },
      "execution_count": null,
      "outputs": [
        {
          "output_type": "execute_result",
          "data": {
            "text/plain": [
              "['front', 'rear']\n",
              "Categories (2, object): ['front', 'rear']"
            ]
          },
          "metadata": {},
          "execution_count": 20
        }
      ]
    },
    {
      "cell_type": "code",
      "source": [
        "df['enginelocation']=df['enginelocation'].replace('front',1)\n",
        "df['enginelocation']=df['enginelocation'].replace('rear',0)"
      ],
      "metadata": {
        "id": "bkQZiKWnPF9z"
      },
      "execution_count": null,
      "outputs": []
    },
    {
      "cell_type": "code",
      "source": [
        "df['enginelocation']=df['enginelocation'].astype('category')"
      ],
      "metadata": {
        "id": "PP-GZfs0P4Pp"
      },
      "execution_count": null,
      "outputs": []
    },
    {
      "cell_type": "code",
      "source": [
        "df['carbody'].unique()"
      ],
      "metadata": {
        "colab": {
          "base_uri": "https://localhost:8080/"
        },
        "id": "FB2eiQ7EQAeH",
        "outputId": "629d3b79-b49c-4d9c-8c17-1e599d5fd7ba"
      },
      "execution_count": null,
      "outputs": [
        {
          "output_type": "execute_result",
          "data": {
            "text/plain": [
              "['convertible', 'hatchback', 'sedan', 'wagon', 'hardtop']\n",
              "Categories (5, object): ['convertible', 'hardtop', 'hatchback', 'sedan', 'wagon']"
            ]
          },
          "metadata": {},
          "execution_count": 23
        }
      ]
    },
    {
      "cell_type": "code",
      "source": [
        "df['carbody']=df['carbody'].astype('category')"
      ],
      "metadata": {
        "id": "sY1YcuVHQIt6"
      },
      "execution_count": null,
      "outputs": []
    },
    {
      "cell_type": "code",
      "source": [
        "df['drivewheel'].unique()"
      ],
      "metadata": {
        "colab": {
          "base_uri": "https://localhost:8080/"
        },
        "id": "xljheOoYQLHV",
        "outputId": "dbc98021-69eb-4b89-cac3-23fcac864349"
      },
      "execution_count": null,
      "outputs": [
        {
          "output_type": "execute_result",
          "data": {
            "text/plain": [
              "array(['rwd', 'fwd', '4wd'], dtype=object)"
            ]
          },
          "metadata": {},
          "execution_count": 25
        }
      ]
    },
    {
      "cell_type": "code",
      "source": [
        "df['drivewheel']=df['drivewheel'].replace('rwd',1)\n",
        "df['drivewheel']=df['drivewheel'].replace('fwd',0)\n",
        "df['drivewheel']=df['drivewheel'].replace('4wd',2)"
      ],
      "metadata": {
        "id": "ITG9tpLIQUgQ"
      },
      "execution_count": null,
      "outputs": []
    },
    {
      "cell_type": "code",
      "source": [
        "df['drivewheel']=df['drivewheel'].astype('category')"
      ],
      "metadata": {
        "id": "hHt8Q2gDQjKL"
      },
      "execution_count": null,
      "outputs": []
    },
    {
      "cell_type": "code",
      "source": [
        "df['enginetype'].unique()"
      ],
      "metadata": {
        "colab": {
          "base_uri": "https://localhost:8080/"
        },
        "id": "tZakgR9bQoBf",
        "outputId": "5559027d-4312-4ff3-a328-14c6dcb0ec7c"
      },
      "execution_count": null,
      "outputs": [
        {
          "output_type": "execute_result",
          "data": {
            "text/plain": [
              "array(['dohc', 'ohcv', 'ohc', 'l', 'rotor', 'ohcf', 'dohcv'], dtype=object)"
            ]
          },
          "metadata": {},
          "execution_count": 28
        }
      ]
    },
    {
      "cell_type": "code",
      "source": [
        "df['enginetype']=df['enginetype'].replace('ohcv','ohc')\n",
        "df['enginetype']=df['enginetype'].replace('ohcf','ohc')\n",
        "df['enginetype']=df['enginetype'].replace('dohcv','dohc')"
      ],
      "metadata": {
        "id": "jE2TbkbKYA10"
      },
      "execution_count": null,
      "outputs": []
    },
    {
      "cell_type": "code",
      "source": [
        "df['enginetype']=df['enginetype'].astype('category')\n"
      ],
      "metadata": {
        "id": "WYrmqhpvYRhw"
      },
      "execution_count": null,
      "outputs": []
    },
    {
      "cell_type": "code",
      "source": [
        "df.dtypes"
      ],
      "metadata": {
        "colab": {
          "base_uri": "https://localhost:8080/"
        },
        "id": "D3gPWsvaYVwo",
        "outputId": "97cc71d1-e278-46c6-9fd4-e1463cc0b83d"
      },
      "execution_count": null,
      "outputs": [
        {
          "output_type": "execute_result",
          "data": {
            "text/plain": [
              "car_ID                 int64\n",
              "symboling              int64\n",
              "CarName               object\n",
              "fueltype            category\n",
              "aspiration          category\n",
              "doornumber          category\n",
              "carbody             category\n",
              "drivewheel          category\n",
              "enginelocation      category\n",
              "wheelbase            float64\n",
              "carlength            float64\n",
              "carwidth             float64\n",
              "carheight            float64\n",
              "curbweight             int64\n",
              "enginetype          category\n",
              "cylindernumber      category\n",
              "enginesize             int64\n",
              "fuelsystem          category\n",
              "boreratio            float64\n",
              "stroke               float64\n",
              "compressionratio     float64\n",
              "horsepower             int64\n",
              "peakrpm                int64\n",
              "citympg                int64\n",
              "highwaympg             int64\n",
              "price                float64\n",
              "CarCompany            object\n",
              "ModelName             object\n",
              "2                     object\n",
              "3                     object\n",
              "4                     object\n",
              "dtype: object"
            ]
          },
          "metadata": {},
          "execution_count": 31
        }
      ]
    },
    {
      "cell_type": "code",
      "source": [
        "df['CarCompany']=df['CarCompany'].astype('category')"
      ],
      "metadata": {
        "id": "0D3pVgNIYZm3"
      },
      "execution_count": null,
      "outputs": []
    },
    {
      "cell_type": "code",
      "source": [
        "df.columns"
      ],
      "metadata": {
        "colab": {
          "base_uri": "https://localhost:8080/"
        },
        "id": "sK6ONLGzZdmh",
        "outputId": "4b6c47cc-e1e6-4e89-ec21-f3b4e18633f9"
      },
      "execution_count": null,
      "outputs": [
        {
          "output_type": "execute_result",
          "data": {
            "text/plain": [
              "Index([          'car_ID',        'symboling',          'CarName',\n",
              "               'fueltype',       'aspiration',       'doornumber',\n",
              "                'carbody',       'drivewheel',   'enginelocation',\n",
              "              'wheelbase',        'carlength',         'carwidth',\n",
              "              'carheight',       'curbweight',       'enginetype',\n",
              "         'cylindernumber',       'enginesize',       'fuelsystem',\n",
              "              'boreratio',           'stroke', 'compressionratio',\n",
              "             'horsepower',          'peakrpm',          'citympg',\n",
              "             'highwaympg',            'price',       'CarCompany',\n",
              "              'ModelName',                  2,                  3,\n",
              "                        4],\n",
              "      dtype='object')"
            ]
          },
          "metadata": {},
          "execution_count": 33
        }
      ]
    },
    {
      "cell_type": "code",
      "source": [
        "df1=df.drop(['CarName', 'car_ID','ModelName',2,3,4], axis=1)"
      ],
      "metadata": {
        "id": "2IPQWkKUZn9g"
      },
      "execution_count": null,
      "outputs": []
    },
    {
      "cell_type": "code",
      "source": [
        "df_dummies = pd.get_dummies(df1,drop_first=True)"
      ],
      "metadata": {
        "id": "E3AyMTjwYnVu"
      },
      "execution_count": null,
      "outputs": []
    },
    {
      "cell_type": "markdown",
      "source": [
        "(205, 369)"
      ],
      "metadata": {
        "id": "RJVjgIshaYnv"
      }
    },
    {
      "cell_type": "code",
      "source": [
        "df_dummies.shape"
      ],
      "metadata": {
        "colab": {
          "base_uri": "https://localhost:8080/"
        },
        "id": "6c94LLLnY5iN",
        "outputId": "f5a4a076-bca3-43ad-c1a9-07a9658b0ae0"
      },
      "execution_count": null,
      "outputs": [
        {
          "output_type": "execute_result",
          "data": {
            "text/plain": [
              "(205, 62)"
            ]
          },
          "metadata": {},
          "execution_count": 36
        }
      ]
    },
    {
      "cell_type": "code",
      "source": [
        "df_dummies.head()"
      ],
      "metadata": {
        "colab": {
          "base_uri": "https://localhost:8080/",
          "height": 299
        },
        "id": "f50Vo0xdZQAz",
        "outputId": "97954795-4700-48c5-d24f-3c5cdf21996c"
      },
      "execution_count": null,
      "outputs": [
        {
          "output_type": "execute_result",
          "data": {
            "text/plain": [
              "   symboling  wheelbase  carlength  carwidth  carheight  curbweight  \\\n",
              "0          3       88.6      168.8      64.1       48.8        2548   \n",
              "1          3       88.6      168.8      64.1       48.8        2548   \n",
              "2          1       94.5      171.2      65.5       52.4        2823   \n",
              "3          2       99.8      176.6      66.2       54.3        2337   \n",
              "4          2       99.4      176.6      66.4       54.3        2824   \n",
              "\n",
              "   enginesize  boreratio  stroke  compressionratio  ...  CarCompany_nissan  \\\n",
              "0         130       3.47    2.68               9.0  ...                  0   \n",
              "1         130       3.47    2.68               9.0  ...                  0   \n",
              "2         152       2.68    3.47               9.0  ...                  0   \n",
              "3         109       3.19    3.40              10.0  ...                  0   \n",
              "4         136       3.19    3.40               8.0  ...                  0   \n",
              "\n",
              "   CarCompany_peugeot  CarCompany_plymouth  CarCompany_porsche  \\\n",
              "0                   0                    0                   0   \n",
              "1                   0                    0                   0   \n",
              "2                   0                    0                   0   \n",
              "3                   0                    0                   0   \n",
              "4                   0                    0                   0   \n",
              "\n",
              "   CarCompany_renault  CarCompany_saab  CarCompany_subaru  CarCompany_toyota  \\\n",
              "0                   0                0                  0                  0   \n",
              "1                   0                0                  0                  0   \n",
              "2                   0                0                  0                  0   \n",
              "3                   0                0                  0                  0   \n",
              "4                   0                0                  0                  0   \n",
              "\n",
              "   CarCompany_volvo  CarCompany_vw  \n",
              "0                 0              0  \n",
              "1                 0              0  \n",
              "2                 0              0  \n",
              "3                 0              0  \n",
              "4                 0              0  \n",
              "\n",
              "[5 rows x 62 columns]"
            ],
            "text/html": [
              "\n",
              "  <div id=\"df-ce277c1b-d511-4ca9-b592-bbe67ed4e335\">\n",
              "    <div class=\"colab-df-container\">\n",
              "      <div>\n",
              "<style scoped>\n",
              "    .dataframe tbody tr th:only-of-type {\n",
              "        vertical-align: middle;\n",
              "    }\n",
              "\n",
              "    .dataframe tbody tr th {\n",
              "        vertical-align: top;\n",
              "    }\n",
              "\n",
              "    .dataframe thead th {\n",
              "        text-align: right;\n",
              "    }\n",
              "</style>\n",
              "<table border=\"1\" class=\"dataframe\">\n",
              "  <thead>\n",
              "    <tr style=\"text-align: right;\">\n",
              "      <th></th>\n",
              "      <th>symboling</th>\n",
              "      <th>wheelbase</th>\n",
              "      <th>carlength</th>\n",
              "      <th>carwidth</th>\n",
              "      <th>carheight</th>\n",
              "      <th>curbweight</th>\n",
              "      <th>enginesize</th>\n",
              "      <th>boreratio</th>\n",
              "      <th>stroke</th>\n",
              "      <th>compressionratio</th>\n",
              "      <th>...</th>\n",
              "      <th>CarCompany_nissan</th>\n",
              "      <th>CarCompany_peugeot</th>\n",
              "      <th>CarCompany_plymouth</th>\n",
              "      <th>CarCompany_porsche</th>\n",
              "      <th>CarCompany_renault</th>\n",
              "      <th>CarCompany_saab</th>\n",
              "      <th>CarCompany_subaru</th>\n",
              "      <th>CarCompany_toyota</th>\n",
              "      <th>CarCompany_volvo</th>\n",
              "      <th>CarCompany_vw</th>\n",
              "    </tr>\n",
              "  </thead>\n",
              "  <tbody>\n",
              "    <tr>\n",
              "      <th>0</th>\n",
              "      <td>3</td>\n",
              "      <td>88.6</td>\n",
              "      <td>168.8</td>\n",
              "      <td>64.1</td>\n",
              "      <td>48.8</td>\n",
              "      <td>2548</td>\n",
              "      <td>130</td>\n",
              "      <td>3.47</td>\n",
              "      <td>2.68</td>\n",
              "      <td>9.0</td>\n",
              "      <td>...</td>\n",
              "      <td>0</td>\n",
              "      <td>0</td>\n",
              "      <td>0</td>\n",
              "      <td>0</td>\n",
              "      <td>0</td>\n",
              "      <td>0</td>\n",
              "      <td>0</td>\n",
              "      <td>0</td>\n",
              "      <td>0</td>\n",
              "      <td>0</td>\n",
              "    </tr>\n",
              "    <tr>\n",
              "      <th>1</th>\n",
              "      <td>3</td>\n",
              "      <td>88.6</td>\n",
              "      <td>168.8</td>\n",
              "      <td>64.1</td>\n",
              "      <td>48.8</td>\n",
              "      <td>2548</td>\n",
              "      <td>130</td>\n",
              "      <td>3.47</td>\n",
              "      <td>2.68</td>\n",
              "      <td>9.0</td>\n",
              "      <td>...</td>\n",
              "      <td>0</td>\n",
              "      <td>0</td>\n",
              "      <td>0</td>\n",
              "      <td>0</td>\n",
              "      <td>0</td>\n",
              "      <td>0</td>\n",
              "      <td>0</td>\n",
              "      <td>0</td>\n",
              "      <td>0</td>\n",
              "      <td>0</td>\n",
              "    </tr>\n",
              "    <tr>\n",
              "      <th>2</th>\n",
              "      <td>1</td>\n",
              "      <td>94.5</td>\n",
              "      <td>171.2</td>\n",
              "      <td>65.5</td>\n",
              "      <td>52.4</td>\n",
              "      <td>2823</td>\n",
              "      <td>152</td>\n",
              "      <td>2.68</td>\n",
              "      <td>3.47</td>\n",
              "      <td>9.0</td>\n",
              "      <td>...</td>\n",
              "      <td>0</td>\n",
              "      <td>0</td>\n",
              "      <td>0</td>\n",
              "      <td>0</td>\n",
              "      <td>0</td>\n",
              "      <td>0</td>\n",
              "      <td>0</td>\n",
              "      <td>0</td>\n",
              "      <td>0</td>\n",
              "      <td>0</td>\n",
              "    </tr>\n",
              "    <tr>\n",
              "      <th>3</th>\n",
              "      <td>2</td>\n",
              "      <td>99.8</td>\n",
              "      <td>176.6</td>\n",
              "      <td>66.2</td>\n",
              "      <td>54.3</td>\n",
              "      <td>2337</td>\n",
              "      <td>109</td>\n",
              "      <td>3.19</td>\n",
              "      <td>3.40</td>\n",
              "      <td>10.0</td>\n",
              "      <td>...</td>\n",
              "      <td>0</td>\n",
              "      <td>0</td>\n",
              "      <td>0</td>\n",
              "      <td>0</td>\n",
              "      <td>0</td>\n",
              "      <td>0</td>\n",
              "      <td>0</td>\n",
              "      <td>0</td>\n",
              "      <td>0</td>\n",
              "      <td>0</td>\n",
              "    </tr>\n",
              "    <tr>\n",
              "      <th>4</th>\n",
              "      <td>2</td>\n",
              "      <td>99.4</td>\n",
              "      <td>176.6</td>\n",
              "      <td>66.4</td>\n",
              "      <td>54.3</td>\n",
              "      <td>2824</td>\n",
              "      <td>136</td>\n",
              "      <td>3.19</td>\n",
              "      <td>3.40</td>\n",
              "      <td>8.0</td>\n",
              "      <td>...</td>\n",
              "      <td>0</td>\n",
              "      <td>0</td>\n",
              "      <td>0</td>\n",
              "      <td>0</td>\n",
              "      <td>0</td>\n",
              "      <td>0</td>\n",
              "      <td>0</td>\n",
              "      <td>0</td>\n",
              "      <td>0</td>\n",
              "      <td>0</td>\n",
              "    </tr>\n",
              "  </tbody>\n",
              "</table>\n",
              "<p>5 rows × 62 columns</p>\n",
              "</div>\n",
              "      <button class=\"colab-df-convert\" onclick=\"convertToInteractive('df-ce277c1b-d511-4ca9-b592-bbe67ed4e335')\"\n",
              "              title=\"Convert this dataframe to an interactive table.\"\n",
              "              style=\"display:none;\">\n",
              "        \n",
              "  <svg xmlns=\"http://www.w3.org/2000/svg\" height=\"24px\"viewBox=\"0 0 24 24\"\n",
              "       width=\"24px\">\n",
              "    <path d=\"M0 0h24v24H0V0z\" fill=\"none\"/>\n",
              "    <path d=\"M18.56 5.44l.94 2.06.94-2.06 2.06-.94-2.06-.94-.94-2.06-.94 2.06-2.06.94zm-11 1L8.5 8.5l.94-2.06 2.06-.94-2.06-.94L8.5 2.5l-.94 2.06-2.06.94zm10 10l.94 2.06.94-2.06 2.06-.94-2.06-.94-.94-2.06-.94 2.06-2.06.94z\"/><path d=\"M17.41 7.96l-1.37-1.37c-.4-.4-.92-.59-1.43-.59-.52 0-1.04.2-1.43.59L10.3 9.45l-7.72 7.72c-.78.78-.78 2.05 0 2.83L4 21.41c.39.39.9.59 1.41.59.51 0 1.02-.2 1.41-.59l7.78-7.78 2.81-2.81c.8-.78.8-2.07 0-2.86zM5.41 20L4 18.59l7.72-7.72 1.47 1.35L5.41 20z\"/>\n",
              "  </svg>\n",
              "      </button>\n",
              "      \n",
              "  <style>\n",
              "    .colab-df-container {\n",
              "      display:flex;\n",
              "      flex-wrap:wrap;\n",
              "      gap: 12px;\n",
              "    }\n",
              "\n",
              "    .colab-df-convert {\n",
              "      background-color: #E8F0FE;\n",
              "      border: none;\n",
              "      border-radius: 50%;\n",
              "      cursor: pointer;\n",
              "      display: none;\n",
              "      fill: #1967D2;\n",
              "      height: 32px;\n",
              "      padding: 0 0 0 0;\n",
              "      width: 32px;\n",
              "    }\n",
              "\n",
              "    .colab-df-convert:hover {\n",
              "      background-color: #E2EBFA;\n",
              "      box-shadow: 0px 1px 2px rgba(60, 64, 67, 0.3), 0px 1px 3px 1px rgba(60, 64, 67, 0.15);\n",
              "      fill: #174EA6;\n",
              "    }\n",
              "\n",
              "    [theme=dark] .colab-df-convert {\n",
              "      background-color: #3B4455;\n",
              "      fill: #D2E3FC;\n",
              "    }\n",
              "\n",
              "    [theme=dark] .colab-df-convert:hover {\n",
              "      background-color: #434B5C;\n",
              "      box-shadow: 0px 1px 3px 1px rgba(0, 0, 0, 0.15);\n",
              "      filter: drop-shadow(0px 1px 2px rgba(0, 0, 0, 0.3));\n",
              "      fill: #FFFFFF;\n",
              "    }\n",
              "  </style>\n",
              "\n",
              "      <script>\n",
              "        const buttonEl =\n",
              "          document.querySelector('#df-ce277c1b-d511-4ca9-b592-bbe67ed4e335 button.colab-df-convert');\n",
              "        buttonEl.style.display =\n",
              "          google.colab.kernel.accessAllowed ? 'block' : 'none';\n",
              "\n",
              "        async function convertToInteractive(key) {\n",
              "          const element = document.querySelector('#df-ce277c1b-d511-4ca9-b592-bbe67ed4e335');\n",
              "          const dataTable =\n",
              "            await google.colab.kernel.invokeFunction('convertToInteractive',\n",
              "                                                     [key], {});\n",
              "          if (!dataTable) return;\n",
              "\n",
              "          const docLinkHtml = 'Like what you see? Visit the ' +\n",
              "            '<a target=\"_blank\" href=https://colab.research.google.com/notebooks/data_table.ipynb>data table notebook</a>'\n",
              "            + ' to learn more about interactive tables.';\n",
              "          element.innerHTML = '';\n",
              "          dataTable['output_type'] = 'display_data';\n",
              "          await google.colab.output.renderOutput(dataTable, element);\n",
              "          const docLink = document.createElement('div');\n",
              "          docLink.innerHTML = docLinkHtml;\n",
              "          element.appendChild(docLink);\n",
              "        }\n",
              "      </script>\n",
              "    </div>\n",
              "  </div>\n",
              "  "
            ]
          },
          "metadata": {},
          "execution_count": 37
        }
      ]
    },
    {
      "cell_type": "code",
      "source": [
        "df_dummies.columns"
      ],
      "metadata": {
        "colab": {
          "base_uri": "https://localhost:8080/"
        },
        "id": "IFCz8QSjZWwB",
        "outputId": "9ab02883-9b91-442f-a231-8374e9101e7e"
      },
      "execution_count": null,
      "outputs": [
        {
          "output_type": "execute_result",
          "data": {
            "text/plain": [
              "Index(['symboling', 'wheelbase', 'carlength', 'carwidth', 'carheight',\n",
              "       'curbweight', 'enginesize', 'boreratio', 'stroke', 'compressionratio',\n",
              "       'horsepower', 'peakrpm', 'citympg', 'highwaympg', 'price',\n",
              "       'fueltype_gas', 'aspiration_turbo', 'doornumber_4', 'carbody_hardtop',\n",
              "       'carbody_hatchback', 'carbody_sedan', 'carbody_wagon', 'drivewheel_1',\n",
              "       'drivewheel_2', 'enginelocation_0', 'enginetype_l', 'enginetype_ohc',\n",
              "       'enginetype_rotor', 'cylindernumber_3', 'cylindernumber_4',\n",
              "       'cylindernumber_5', 'cylindernumber_6', 'cylindernumber_8',\n",
              "       'cylindernumber_12', 'fuelsystem_2bbl', 'fuelsystem_4bbl',\n",
              "       'fuelsystem_idi', 'fuelsystem_mfi', 'fuelsystem_mpfi',\n",
              "       'fuelsystem_spdi', 'fuelsystem_spfi', 'CarCompany_audi',\n",
              "       'CarCompany_bmw', 'CarCompany_buick', 'CarCompany_chevrolet',\n",
              "       'CarCompany_dodge', 'CarCompany_honda', 'CarCompany_isuzu',\n",
              "       'CarCompany_jaguar', 'CarCompany_mazda', 'CarCompany_mercury',\n",
              "       'CarCompany_mitsubishi', 'CarCompany_nissan', 'CarCompany_peugeot',\n",
              "       'CarCompany_plymouth', 'CarCompany_porsche', 'CarCompany_renault',\n",
              "       'CarCompany_saab', 'CarCompany_subaru', 'CarCompany_toyota',\n",
              "       'CarCompany_volvo', 'CarCompany_vw'],\n",
              "      dtype='object')"
            ]
          },
          "metadata": {},
          "execution_count": 38
        }
      ]
    },
    {
      "cell_type": "code",
      "source": [
        "x=df_dummies.drop(\"price\" ,axis=1)\n",
        "y=df_dummies[\"price\"]"
      ],
      "metadata": {
        "id": "Bmw_A_MkbfzI"
      },
      "execution_count": null,
      "outputs": []
    },
    {
      "cell_type": "code",
      "source": [
        "x=x.values # conver to 2d array\n",
        "y=y.values # convert to 1d array \n",
        "x.shape"
      ],
      "metadata": {
        "colab": {
          "base_uri": "https://localhost:8080/"
        },
        "id": "-BST7iEVaw5J",
        "outputId": "b4346ce5-1dea-4a6b-b480-84a5e6375072"
      },
      "execution_count": null,
      "outputs": [
        {
          "output_type": "execute_result",
          "data": {
            "text/plain": [
              "(205, 61)"
            ]
          },
          "metadata": {},
          "execution_count": 40
        }
      ]
    },
    {
      "cell_type": "code",
      "source": [
        "x=np.append(arr=np.ones((205,1)).astype(\"int\"),values=x,axis=1)"
      ],
      "metadata": {
        "id": "mP5Craksbt2Q"
      },
      "execution_count": null,
      "outputs": []
    },
    {
      "cell_type": "code",
      "source": [
        "x.shape"
      ],
      "metadata": {
        "colab": {
          "base_uri": "https://localhost:8080/"
        },
        "id": "8HVSm1Jrb1tN",
        "outputId": "064a5090-2538-433e-d58c-ab081810bc07"
      },
      "execution_count": null,
      "outputs": [
        {
          "output_type": "execute_result",
          "data": {
            "text/plain": [
              "(205, 62)"
            ]
          },
          "metadata": {},
          "execution_count": 42
        }
      ]
    },
    {
      "cell_type": "code",
      "source": [
        "import  statsmodels.api as sm "
      ],
      "metadata": {
        "id": "i8Mmtcz2b3C6"
      },
      "execution_count": null,
      "outputs": []
    },
    {
      "cell_type": "code",
      "source": [
        "x_opt=x[: , [0,1,2,3,4,5,6,7,8,9,10,11,12,13,14,15,16,17,18,19,20,21,22,23,24,25,26,27,28,29,30,31,32,33,34,35,36,37,38,39,40,41,42,43,44,45,46,47,48,49,50,51,52,53,54,55,56,57,58,59,60,61]]\n",
        "ols_reg =sm.OLS(endog=y ,exog=x_opt).fit()\n",
        "print(ols_reg.summary())"
      ],
      "metadata": {
        "colab": {
          "base_uri": "https://localhost:8080/"
        },
        "id": "bC4hsJjHb599",
        "outputId": "a034e401-d9a1-4b38-b51f-fa5e72332850"
      },
      "execution_count": null,
      "outputs": [
        {
          "output_type": "stream",
          "name": "stdout",
          "text": [
            "                            OLS Regression Results                            \n",
            "==============================================================================\n",
            "Dep. Variable:                      y   R-squared:                       0.965\n",
            "Model:                            OLS   Adj. R-squared:                  0.951\n",
            "Method:                 Least Squares   F-statistic:                     69.60\n",
            "Date:                Tue, 03 Jan 2023   Prob (F-statistic):           1.11e-82\n",
            "Time:                        15:45:03   Log-Likelihood:                -1788.6\n",
            "No. Observations:                 205   AIC:                             3695.\n",
            "Df Residuals:                     146   BIC:                             3891.\n",
            "Df Model:                          58                                         \n",
            "Covariance Type:            nonrobust                                         \n",
            "==============================================================================\n",
            "                 coef    std err          t      P>|t|      [0.025      0.975]\n",
            "------------------------------------------------------------------------------\n",
            "const      -1.474e+04   9512.343     -1.550      0.123   -3.35e+04    4057.214\n",
            "x1          -206.5643    253.755     -0.814      0.417    -708.071     294.942\n",
            "x2           269.0524     89.963      2.991      0.003      91.255     446.850\n",
            "x3          -134.6692     49.809     -2.704      0.008    -233.110     -36.229\n",
            "x4           691.3116    225.212      3.070      0.003     246.214    1136.409\n",
            "x5          -323.8630    137.286     -2.359      0.020    -595.187     -52.539\n",
            "x6             6.0338      1.693      3.565      0.000       2.688       9.379\n",
            "x7           108.3315     22.629      4.787      0.000      63.608     153.055\n",
            "x8         -5131.3244   1676.236     -3.061      0.003   -8444.146   -1818.503\n",
            "x9          -400.1603    931.710     -0.429      0.668   -2241.540    1441.220\n",
            "x10         -897.6626    467.760     -1.919      0.057   -1822.118      26.793\n",
            "x11          -11.9263     19.510     -0.611      0.542     -50.484      26.631\n",
            "x12            2.1388      0.606      3.527      0.001       0.940       3.337\n",
            "x13          -10.0199    134.202     -0.075      0.941    -275.250     255.210\n",
            "x14          112.3426    114.693      0.980      0.329    -114.331     339.016\n",
            "x15        -1.373e+04   4920.599     -2.791      0.006   -2.35e+04   -4008.515\n",
            "x16         1920.4991    788.672      2.435      0.016     361.810    3479.188\n",
            "x17          225.3316    486.329      0.463      0.644    -735.822    1186.485\n",
            "x18        -2527.1629   1194.095     -2.116      0.036   -4887.107    -167.218\n",
            "x19        -3633.1929   1087.610     -3.341      0.001   -5782.685   -1483.700\n",
            "x20        -2912.9835   1181.730     -2.465      0.015   -5248.491    -577.476\n",
            "x21        -3084.2624   1281.923     -2.406      0.017   -5617.785    -550.740\n",
            "x22          680.8415    753.789      0.903      0.368    -808.907    2170.589\n",
            "x23           95.9610    887.559      0.108      0.914   -1658.162    1850.084\n",
            "x24         1.197e+04   2577.875      4.643      0.000    6873.233    1.71e+04\n",
            "x25         -888.6345   1394.633     -0.637      0.525   -3644.911    1867.642\n",
            "x26         -785.7395    974.677     -0.806      0.421   -2712.039    1140.560\n",
            "x27         4931.9625   2725.273      1.810      0.072    -454.120    1.03e+04\n",
            "x28         3716.1958   1949.177      1.907      0.059    -136.052    7568.444\n",
            "x29        -2192.8393   2009.111     -1.091      0.277   -6163.537    1777.859\n",
            "x30        -5629.3923   2069.580     -2.720      0.007   -9719.599   -1539.186\n",
            "x31        -5025.2343   1612.312     -3.117      0.002   -8211.721   -1838.748\n",
            "x32        -4269.0617   2160.717     -1.976      0.050   -8539.385       1.262\n",
            "x33        -6274.0954   4481.361     -1.400      0.164   -1.51e+04    2582.622\n",
            "x34         2640.0964   1494.632      1.766      0.079    -313.814    5594.006\n",
            "x35         -767.4075   2561.909     -0.300      0.765   -5830.625    4295.810\n",
            "x36        -1009.1466   6464.965     -0.156      0.876   -1.38e+04    1.18e+04\n",
            "x37          338.7171   2684.493      0.126      0.900   -4966.768    5644.202\n",
            "x38         1330.7538   1566.867      0.849      0.397   -1765.917    4427.425\n",
            "x39          918.1742   1844.300      0.498      0.619   -2726.799    4563.148\n",
            "x40         2123.3035   2710.837      0.783      0.435   -3234.247    7480.854\n",
            "x41         2140.3418   2165.049      0.989      0.325   -2138.544    6419.227\n",
            "x42         8622.3143   1798.403      4.794      0.000    5068.048    1.22e+04\n",
            "x43         3207.3464   2360.156      1.359      0.176   -1457.138    7871.831\n",
            "x44        -3766.0693   2144.946     -1.756      0.081   -8005.224     473.085\n",
            "x45        -4655.4495   1750.948     -2.659      0.009   -8115.928   -1194.971\n",
            "x46        -1585.1012   2101.302     -0.754      0.452   -5738.001    2567.798\n",
            "x47        -2141.8401   1938.206     -1.105      0.271   -5972.406    1688.726\n",
            "x48        -1421.9886   2683.346     -0.530      0.597   -6725.209    3881.231\n",
            "x49        -1376.2942   1588.155     -0.867      0.388   -4515.038    1762.450\n",
            "x50        -1014.2693   2633.654     -0.385      0.701   -6219.279    4190.741\n",
            "x51        -5053.1995   1772.884     -2.850      0.005   -8557.031   -1549.369\n",
            "x52        -2111.7674   1607.696     -1.314      0.191   -5289.130    1065.595\n",
            "x53        -4604.8303   1460.824     -3.152      0.002   -7491.923   -1717.737\n",
            "x54        -4745.8380   1753.881     -2.706      0.008   -8212.113   -1279.563\n",
            "x55         5938.4240   2581.972      2.300      0.023     835.554     1.1e+04\n",
            "x56        -2913.0623   2164.026     -1.346      0.180   -7189.925    1363.801\n",
            "x57         3078.8985   1938.233      1.589      0.114    -751.719    6909.516\n",
            "x58         -526.8742   1966.083     -0.268      0.789   -4412.533    3358.785\n",
            "x59        -2368.3362   1441.862     -1.643      0.103   -5217.954     481.282\n",
            "x60         -396.8609   1940.762     -0.204      0.838   -4232.478    3438.757\n",
            "x61        -1005.6200   1691.622     -0.594      0.553   -4348.849    2337.609\n",
            "==============================================================================\n",
            "Omnibus:                       62.426   Durbin-Watson:                   1.623\n",
            "Prob(Omnibus):                  0.000   Jarque-Bera (JB):              349.031\n",
            "Skew:                           1.021   Prob(JB):                     1.62e-76\n",
            "Kurtosis:                       9.058   Cond. No.                     1.00e+16\n",
            "==============================================================================\n",
            "\n",
            "Notes:\n",
            "[1] Standard Errors assume that the covariance matrix of the errors is correctly specified.\n",
            "[2] The smallest eigenvalue is 6.73e-23. This might indicate that there are\n",
            "strong multicollinearity problems or that the design matrix is singular.\n"
          ]
        }
      ]
    },
    {
      "cell_type": "code",
      "source": [
        "#13,13\n",
        "x_opt=x[: , [0,1,2,3,4,5,6,7,8,9,10,11,12,14,15,16,17,18,19,20,21,22,23,24,25,26,27,28,29,30,31,32,33,34,35,36,37,38,39,40,41,42,43,44,45,46,47,48,49,50,51,52,53,54,55,56,57,58,59,60,61]]\n",
        "ols_reg =sm.OLS(endog=y ,exog=x_opt).fit()\n",
        "print(ols_reg.summary())"
      ],
      "metadata": {
        "colab": {
          "base_uri": "https://localhost:8080/"
        },
        "id": "vi0ku7qMcXXm",
        "outputId": "a2276e80-8e92-4629-cca3-6dcfcf8eb065"
      },
      "execution_count": null,
      "outputs": [
        {
          "output_type": "stream",
          "name": "stdout",
          "text": [
            "                            OLS Regression Results                            \n",
            "==============================================================================\n",
            "Dep. Variable:                      y   R-squared:                       0.965\n",
            "Model:                            OLS   Adj. R-squared:                  0.952\n",
            "Method:                 Least Squares   F-statistic:                     71.31\n",
            "Date:                Tue, 03 Jan 2023   Prob (F-statistic):           1.30e-83\n",
            "Time:                        15:46:12   Log-Likelihood:                -1788.6\n",
            "No. Observations:                 205   AIC:                             3693.\n",
            "Df Residuals:                     147   BIC:                             3886.\n",
            "Df Model:                          57                                         \n",
            "Covariance Type:            nonrobust                                         \n",
            "==============================================================================\n",
            "                 coef    std err          t      P>|t|      [0.025      0.975]\n",
            "------------------------------------------------------------------------------\n",
            "const      -1.469e+04   9453.551     -1.554      0.122   -3.34e+04    3993.086\n",
            "x1          -205.9914    252.779     -0.815      0.416    -705.542     293.559\n",
            "x2           269.5545     89.407      3.015      0.003      92.865     446.244\n",
            "x3          -134.5582     49.618     -2.712      0.007    -232.616     -36.501\n",
            "x4           689.2509    222.757      3.094      0.002     249.030    1129.472\n",
            "x5          -324.3258    136.681     -2.373      0.019    -594.439     -54.213\n",
            "x6             6.0522      1.669      3.626      0.000       2.754       9.351\n",
            "x7           108.0039     22.125      4.882      0.000      64.280     151.728\n",
            "x8         -5109.9172   1645.937     -3.105      0.002   -8362.672   -1857.163\n",
            "x9          -407.0738    923.956     -0.441      0.660   -2233.026    1418.878\n",
            "x10         -904.1648    458.024     -1.974      0.050   -1809.328       0.998\n",
            "x11          -11.6129     18.988     -0.612      0.542     -49.138      25.912\n",
            "x12            2.1377      0.604      3.539      0.001       0.944       3.332\n",
            "x13          105.0636     60.210      1.745      0.083     -13.926     224.053\n",
            "x14        -1.374e+04   4901.910     -2.804      0.006   -2.34e+04   -4056.536\n",
            "x15         1909.1206    771.186      2.476      0.014     385.077    3433.164\n",
            "x16          229.9213    480.793      0.478      0.633    -720.238    1180.081\n",
            "x17        -2520.3687   1186.589     -2.124      0.035   -4865.345    -175.393\n",
            "x18        -3632.0460   1083.816     -3.351      0.001   -5773.920   -1490.172\n",
            "x19        -2911.7077   1177.603     -2.473      0.015   -5238.927    -584.489\n",
            "x20        -3088.9901   1276.020     -2.421      0.017   -5610.704    -567.277\n",
            "x21          684.4780    749.665      0.913      0.363    -797.036    2165.992\n",
            "x22           89.9005    880.845      0.102      0.919   -1650.854    1830.655\n",
            "x23         1.195e+04   2554.394      4.677      0.000    6899.334     1.7e+04\n",
            "x24         -895.9973   1386.429     -0.646      0.519   -3635.904    1843.909\n",
            "x25         -772.8669    956.057     -0.808      0.420   -2662.259    1116.525\n",
            "x26         4952.0425   2702.782      1.832      0.069    -389.285    1.03e+04\n",
            "x27         3722.4214   1940.795      1.918      0.057    -113.042    7557.885\n",
            "x28        -2195.4508   2002.000     -1.097      0.275   -6151.871    1760.969\n",
            "x29        -5628.4556   2062.531     -2.729      0.007   -9704.497   -1552.414\n",
            "x30        -5017.1863   1603.255     -3.129      0.002   -8185.591   -1848.781\n",
            "x31        -4272.0132   2153.036     -1.984      0.049   -8526.914     -17.112\n",
            "x32        -6250.6930   4455.239     -1.403      0.163   -1.51e+04    2553.900\n",
            "x33         2645.9336   1487.529      1.779      0.077    -293.771    5585.638\n",
            "x34         -766.0802   2553.167     -0.300      0.765   -5811.735    4279.574\n",
            "x35         -945.4811   6386.771     -0.148      0.883   -1.36e+04    1.17e+04\n",
            "x36          338.0674   2675.383      0.126      0.900   -4949.114    5625.249\n",
            "x37         1332.5403   1561.376      0.853      0.395   -1753.104    4418.184\n",
            "x38          924.7053   1835.982      0.504      0.615   -2703.624    4553.035\n",
            "x39         2139.0116   2693.503      0.794      0.428   -3183.980    7462.003\n",
            "x40         2134.4998   2156.304      0.990      0.324   -2126.860    6395.860\n",
            "x41         8598.2784   1763.360      4.876      0.000    5113.468    1.21e+04\n",
            "x42         3182.7564   2329.146      1.366      0.174   -1420.179    7785.692\n",
            "x43        -3808.5103   2061.246     -1.848      0.067   -7882.013     264.992\n",
            "x44        -4667.6533   1737.396     -2.687      0.008   -8101.153   -1234.154\n",
            "x45        -1601.4737   2082.748     -0.769      0.443   -5717.470    2514.523\n",
            "x46        -2180.3934   1861.827     -1.171      0.243   -5859.798    1499.011\n",
            "x47        -1443.5715   2658.692     -0.543      0.588   -6697.766    3810.623\n",
            "x48        -1391.7608   1569.252     -0.887      0.377   -4492.969    1709.448\n",
            "x49        -1048.9695   2583.538     -0.406      0.685   -6154.644    4056.705\n",
            "x50        -5067.2935   1756.833     -2.884      0.005   -8539.205   -1595.382\n",
            "x51        -2130.6230   1582.357     -1.346      0.180   -5257.730     996.484\n",
            "x52        -4618.4187   1444.532     -3.197      0.002   -7473.150   -1763.687\n",
            "x53        -4763.2832   1732.358     -2.750      0.007   -8186.827   -1339.740\n",
            "x54         5945.3692   2571.554      2.312      0.022     863.379     1.1e+04\n",
            "x55        -2896.5329   2145.378     -1.350      0.179   -7136.300    1343.235\n",
            "x56         3077.9697   1931.626      1.593      0.113    -739.374    6895.313\n",
            "x57         -562.6451   1900.355     -0.296      0.768   -4318.189    3192.899\n",
            "x58        -2390.7577   1405.464     -1.701      0.091   -5168.283     386.768\n",
            "x59         -428.5432   1887.388     -0.227      0.821   -4158.462    3301.376\n",
            "x60        -1009.9005   1684.922     -0.599      0.550   -4339.699    2319.898\n",
            "==============================================================================\n",
            "Omnibus:                       62.454   Durbin-Watson:                   1.625\n",
            "Prob(Omnibus):                  0.000   Jarque-Bera (JB):              348.955\n",
            "Skew:                           1.021   Prob(JB):                     1.68e-76\n",
            "Kurtosis:                       9.056   Cond. No.                     1.00e+16\n",
            "==============================================================================\n",
            "\n",
            "Notes:\n",
            "[1] Standard Errors assume that the covariance matrix of the errors is correctly specified.\n",
            "[2] The smallest eigenvalue is 6.73e-23. This might indicate that there are\n",
            "strong multicollinearity problems or that the design matrix is singular.\n"
          ]
        }
      ]
    },
    {
      "cell_type": "code",
      "source": [
        "#23,22\n",
        "x_opt=x[: , [0,1,2,3,4,5,6,7,8,9,10,11,12,14,15,16,17,18,19,20,21,22,24,25,26,27,28,29,30,31,32,33,34,35,36,37,38,39,40,41,42,43,44,45,46,47,48,49,50,51,52,53,54,55,56,57,58,59,60,61]]\n",
        "ols_reg =sm.OLS(endog=y ,exog=x_opt).fit()\n",
        "print(ols_reg.summary())"
      ],
      "metadata": {
        "colab": {
          "base_uri": "https://localhost:8080/"
        },
        "id": "X7EC0kl6cqrP",
        "outputId": "e5f51096-41b2-41e5-bb59-ec04cf5fb2aa"
      },
      "execution_count": null,
      "outputs": [
        {
          "output_type": "stream",
          "name": "stdout",
          "text": [
            "                            OLS Regression Results                            \n",
            "==============================================================================\n",
            "Dep. Variable:                      y   R-squared:                       0.965\n",
            "Model:                            OLS   Adj. R-squared:                  0.952\n",
            "Method:                 Least Squares   F-statistic:                     73.07\n",
            "Date:                Tue, 03 Jan 2023   Prob (F-statistic):           1.52e-84\n",
            "Time:                        15:48:22   Log-Likelihood:                -1788.6\n",
            "No. Observations:                 205   AIC:                             3691.\n",
            "Df Residuals:                     148   BIC:                             3881.\n",
            "Df Model:                          56                                         \n",
            "Covariance Type:            nonrobust                                         \n",
            "==============================================================================\n",
            "                 coef    std err          t      P>|t|      [0.025      0.975]\n",
            "------------------------------------------------------------------------------\n",
            "const      -1.447e+04   9171.290     -1.578      0.117   -3.26e+04    3655.307\n",
            "x1          -206.0009    251.933     -0.818      0.415    -703.851     291.849\n",
            "x2           268.8785     88.863      3.026      0.003      93.275     444.482\n",
            "x3          -135.4831     48.621     -2.787      0.006    -231.563     -39.403\n",
            "x4           686.5143    220.397      3.115      0.002     250.982    1122.046\n",
            "x5          -323.0675    135.668     -2.381      0.019    -591.164     -54.971\n",
            "x6             6.1228      1.514      4.044      0.000       3.131       9.115\n",
            "x7           107.8871     22.021      4.899      0.000      64.370     151.404\n",
            "x8         -5127.0844   1631.836     -3.142      0.002   -8351.793   -1902.376\n",
            "x9          -404.8920    920.615     -0.440      0.661   -2224.140    1414.356\n",
            "x10         -910.4979    452.282     -2.013      0.046   -1804.262     -16.734\n",
            "x11          -11.9078     18.704     -0.637      0.525     -48.869      25.054\n",
            "x12            2.1380      0.602      3.551      0.001       0.948       3.328\n",
            "x13          104.6664     59.883      1.748      0.083     -13.670     223.002\n",
            "x14        -1.367e+04   4832.158     -2.829      0.005   -2.32e+04   -4121.194\n",
            "x15         1911.9138    768.119      2.489      0.014     394.016    3429.811\n",
            "x16          229.1879    479.130      0.478      0.633    -717.631    1176.007\n",
            "x17        -2498.0855   1162.424     -2.149      0.033   -4795.177    -200.994\n",
            "x18        -3615.7052   1068.336     -3.384      0.001   -5726.867   -1504.543\n",
            "x19        -2892.9434   1159.268     -2.495      0.014   -5183.798    -602.088\n",
            "x20        -3075.6493   1265.057     -2.431      0.016   -5575.556    -575.742\n",
            "x21          679.7984    745.756      0.912      0.363    -793.907    2153.504\n",
            "x22         1.197e+04   2539.174      4.713      0.000    6948.550     1.7e+04\n",
            "x23         -903.1768   1380.006     -0.654      0.514   -3630.238    1823.884\n",
            "x24         -782.0057    948.667     -0.824      0.411   -2656.688    1092.677\n",
            "x25         4973.3385   2685.692      1.852      0.066    -333.917    1.03e+04\n",
            "x26         3737.8351   1928.430      1.938      0.054     -72.980    7548.650\n",
            "x27        -2169.3741   1978.980     -1.096      0.275   -6080.082    1741.333\n",
            "x28        -5605.0725   2042.902     -2.744      0.007   -9642.097   -1568.048\n",
            "x29        -5004.3458   1592.958     -3.142      0.002   -8152.226   -1856.465\n",
            "x30        -4229.1950   2104.694     -2.009      0.046   -8388.328     -70.062\n",
            "x31        -6171.4720   4372.410     -1.411      0.160   -1.48e+04    2468.946\n",
            "x32         2647.9207   1482.421      1.786      0.076    -281.524    5577.365\n",
            "x33         -769.6865   2544.374     -0.303      0.763   -5797.681    4258.308\n",
            "x34         -798.1565   6200.676     -0.129      0.898   -1.31e+04    1.15e+04\n",
            "x35          325.9993   2663.818      0.122      0.903   -4938.032    5590.031\n",
            "x36         1331.7827   1556.130      0.856      0.393   -1743.321    4406.886\n",
            "x37          909.9204   1824.129      0.499      0.619   -2694.783    4514.623\n",
            "x38         2125.3714   2681.177      0.793      0.429   -3172.963    7423.705\n",
            "x39         2153.9231   2140.697      1.006      0.316   -2076.356    6384.202\n",
            "x40         8606.3338   1755.693      4.902      0.000    5136.869    1.21e+04\n",
            "x41         3158.7851   2309.513      1.368      0.173   -1405.096    7722.666\n",
            "x42        -3802.1431   2053.402     -1.852      0.066   -7859.917     255.631\n",
            "x43        -4674.7616   1730.186     -2.702      0.008   -8093.820   -1255.703\n",
            "x44        -1605.9761   2075.308     -0.774      0.440   -5707.038    2495.086\n",
            "x45        -2184.1246   1855.234     -1.177      0.241   -5850.295    1482.045\n",
            "x46        -1472.8941   2634.272     -0.559      0.577   -6678.537    3732.749\n",
            "x47        -1390.8570   1563.972     -0.889      0.375   -4481.458    1699.744\n",
            "x48        -1043.3381   2574.299     -0.405      0.686   -6130.468    4043.792\n",
            "x49        -5068.9155   1750.878     -2.895      0.004   -8528.865   -1608.966\n",
            "x50        -2127.8055   1576.818     -1.349      0.179   -5243.791     988.180\n",
            "x51        -4641.0119   1422.689     -3.262      0.001   -7452.419   -1829.605\n",
            "x52        -4766.5918   1726.254     -2.761      0.006   -8177.882   -1355.302\n",
            "x53         5962.7860   2557.292      2.332      0.021     909.263     1.1e+04\n",
            "x54        -2894.6715   2138.116     -1.354      0.178   -7119.851    1330.508\n",
            "x55         3073.7715   1924.721      1.597      0.112    -729.712    6877.255\n",
            "x56         -525.3265   1858.601     -0.283      0.778   -4198.149    3147.496\n",
            "x57        -2387.4129   1400.377     -1.705      0.090   -5154.729     379.903\n",
            "x58         -425.6573   1880.856     -0.226      0.821   -4142.460    3291.145\n",
            "x59        -1010.1601   1679.277     -0.602      0.548   -4328.618    2308.297\n",
            "==============================================================================\n",
            "Omnibus:                       62.525   Durbin-Watson:                   1.625\n",
            "Prob(Omnibus):                  0.000   Jarque-Bera (JB):              348.893\n",
            "Skew:                           1.023   Prob(JB):                     1.73e-76\n",
            "Kurtosis:                       9.055   Cond. No.                     1.00e+16\n",
            "==============================================================================\n",
            "\n",
            "Notes:\n",
            "[1] Standard Errors assume that the covariance matrix of the errors is correctly specified.\n",
            "[2] The smallest eigenvalue is 6.73e-23. This might indicate that there are\n",
            "strong multicollinearity problems or that the design matrix is singular.\n"
          ]
        }
      ]
    },
    {
      "cell_type": "code",
      "source": [
        "#37 ,35\n",
        "x_opt=x[: , [0,1,2,3,4,5,6,7,8,9,10,11,12,14,15,16,17,18,19,20,21,22,24,25,26,27,28,29,30,31,32,33,34,35,36,38,39,40,41,42,43,44,45,46,47,48,49,50,51,52,53,54,55,56,57,58,59,60,61]]\n",
        "ols_reg =sm.OLS(endog=y ,exog=x_opt).fit()\n",
        "print(ols_reg.summary())"
      ],
      "metadata": {
        "colab": {
          "base_uri": "https://localhost:8080/"
        },
        "id": "BA7plZLafOBt",
        "outputId": "39759049-c223-4760-e2f9-376f0d12f45c"
      },
      "execution_count": null,
      "outputs": [
        {
          "output_type": "stream",
          "name": "stdout",
          "text": [
            "                            OLS Regression Results                            \n",
            "==============================================================================\n",
            "Dep. Variable:                      y   R-squared:                       0.965\n",
            "Model:                            OLS   Adj. R-squared:                  0.952\n",
            "Method:                 Least Squares   F-statistic:                     74.89\n",
            "Date:                Tue, 03 Jan 2023   Prob (F-statistic):           1.76e-85\n",
            "Time:                        15:48:53   Log-Likelihood:                -1788.6\n",
            "No. Observations:                 205   AIC:                             3689.\n",
            "Df Residuals:                     149   BIC:                             3875.\n",
            "Df Model:                          55                                         \n",
            "Covariance Type:            nonrobust                                         \n",
            "==============================================================================\n",
            "                 coef    std err          t      P>|t|      [0.025      0.975]\n",
            "------------------------------------------------------------------------------\n",
            "const      -1.439e+04   9115.975     -1.578      0.117   -3.24e+04    3627.871\n",
            "x1          -199.6053    245.637     -0.813      0.418    -684.987     285.776\n",
            "x2           268.5163     88.519      3.033      0.003      93.601     443.432\n",
            "x3          -134.8904     48.219     -2.797      0.006    -230.171     -39.610\n",
            "x4           687.3413    219.564      3.130      0.002     253.480    1121.203\n",
            "x5          -324.9544    134.342     -2.419      0.017    -590.417     -59.492\n",
            "x6             6.1299      1.508      4.065      0.000       3.150       9.110\n",
            "x7           107.6164     21.837      4.928      0.000      64.465     150.767\n",
            "x8         -5128.8947   1626.366     -3.154      0.002   -8342.616   -1915.173\n",
            "x9          -398.4926    916.086     -0.435      0.664   -2208.690    1411.705\n",
            "x10         -914.3220    449.707     -2.033      0.044   -1802.949     -25.695\n",
            "x11          -11.5661     18.433     -0.627      0.531     -47.990      24.858\n",
            "x12            2.1287      0.595      3.576      0.000       0.952       3.305\n",
            "x13          103.5184     58.948      1.756      0.081     -12.963     220.000\n",
            "x14         -1.36e+04   4785.671     -2.843      0.005   -2.31e+04   -4147.146\n",
            "x15         1898.4528    757.686      2.506      0.013     401.255    3395.650\n",
            "x16          224.4302    475.969      0.472      0.638    -716.090    1164.951\n",
            "x17        -2492.7530   1157.761     -2.153      0.033   -4780.503    -205.003\n",
            "x18        -3605.5442   1061.578     -3.396      0.001   -5703.236   -1507.852\n",
            "x19        -2874.0302   1145.116     -2.510      0.013   -5136.795    -611.265\n",
            "x20        -3059.1369   1253.676     -2.440      0.016   -5536.417    -581.856\n",
            "x21          658.6170    722.992      0.911      0.364    -770.025    2087.259\n",
            "x22         1.199e+04   2523.458      4.751      0.000    7003.481     1.7e+04\n",
            "x23         -889.2979   1370.785     -0.649      0.517   -3597.986    1819.391\n",
            "x24         -781.2708    945.507     -0.826      0.410   -2649.605    1087.064\n",
            "x25         4973.7113   2676.798      1.858      0.065    -315.677    1.03e+04\n",
            "x26         3766.2601   1908.053      1.974      0.050      -4.078    7536.599\n",
            "x27        -2143.7747   1961.379     -1.093      0.276   -6019.485    1731.935\n",
            "x28        -5592.7895   2033.679     -2.750      0.007   -9611.367   -1574.212\n",
            "x29        -4997.1453   1586.601     -3.150      0.002   -8132.289   -1862.001\n",
            "x30        -4224.0730   2097.311     -2.014      0.046   -8368.387     -79.759\n",
            "x31        -6167.6046   4357.820     -1.415      0.159   -1.48e+04    2443.504\n",
            "x32         2536.5245   1166.180      2.175      0.031     232.138    4840.911\n",
            "x33         -878.9282   2374.763     -0.370      0.712   -5571.491    3813.635\n",
            "x34         -781.7213   6178.697     -0.127      0.899    -1.3e+04    1.14e+04\n",
            "x35         1212.7859   1210.915      1.002      0.318   -1179.997    3605.569\n",
            "x36          775.2791   1450.187      0.535      0.594   -2090.309    3640.867\n",
            "x37         1995.1558   2452.861      0.813      0.417   -2851.729    6842.041\n",
            "x38         2133.2817   2126.976      1.003      0.318   -2069.651    6336.215\n",
            "x39         8614.6252   1748.577      4.927      0.000    5159.414    1.21e+04\n",
            "x40         3165.3933   2301.237      1.376      0.171   -1381.882    7712.669\n",
            "x41        -3786.5467   2042.658     -1.854      0.066   -7822.866     249.772\n",
            "x42        -4654.4849   1716.532     -2.712      0.007   -8046.375   -1262.595\n",
            "x43        -1696.7699   1931.749     -0.878      0.381   -5513.932    2120.392\n",
            "x44        -2173.4078   1847.031     -1.177      0.241   -5823.165    1476.349\n",
            "x45        -1481.2106   2624.676     -0.564      0.573   -6667.605    3705.184\n",
            "x46        -1395.1852   1558.395     -0.895      0.372   -4474.595    1684.225\n",
            "x47        -1054.5027   2564.164     -0.411      0.681   -6121.325    4012.319\n",
            "x48        -5082.5119   1741.564     -2.918      0.004   -8523.866   -1641.158\n",
            "x49        -2130.7002   1571.421     -1.356      0.177   -5235.848     974.447\n",
            "x50        -4655.5580   1413.021     -3.295      0.001   -7447.706   -1863.410\n",
            "x51        -4763.4333   1720.347     -2.769      0.006   -8162.861   -1364.006\n",
            "x52         5945.3022   2544.845      2.336      0.021     916.655     1.1e+04\n",
            "x53        -2910.8596   2126.955     -1.369      0.173   -7113.751    1292.032\n",
            "x54         3043.3441   1902.275      1.600      0.112    -715.577    6802.265\n",
            "x55         -531.7591   1851.706     -0.287      0.774   -4190.755    3127.237\n",
            "x56        -2383.5947   1395.394     -1.708      0.090   -5140.911     373.722\n",
            "x57         -409.2671   1869.871     -0.219      0.827   -4104.156    3285.622\n",
            "x58        -1018.8560   1672.218     -0.609      0.543   -4323.181    2285.469\n",
            "==============================================================================\n",
            "Omnibus:                       62.246   Durbin-Watson:                   1.623\n",
            "Prob(Omnibus):                  0.000   Jarque-Bera (JB):              344.527\n",
            "Skew:                           1.021   Prob(JB):                     1.54e-75\n",
            "Kurtosis:                       9.014   Cond. No.                     1.00e+16\n",
            "==============================================================================\n",
            "\n",
            "Notes:\n",
            "[1] Standard Errors assume that the covariance matrix of the errors is correctly specified.\n",
            "[2] The smallest eigenvalue is 6.73e-23. This might indicate that there are\n",
            "strong multicollinearity problems or that the design matrix is singular.\n"
          ]
        }
      ]
    },
    {
      "cell_type": "code",
      "source": [
        "#36 ,34\n",
        "x_opt=x[: , [0,1,2,3,4,5,6,7,8,9,10,11,12,14,15,16,17,18,19,20,21,22,24,25,26,27,28,29,30,31,32,33,34,35,38,39,40,41,42,43,44,45,46,47,48,49,50,51,52,53,54,55,56,57,58,59,60,61]]\n",
        "ols_reg =sm.OLS(endog=y ,exog=x_opt).fit()\n",
        "print(ols_reg.summary())"
      ],
      "metadata": {
        "colab": {
          "base_uri": "https://localhost:8080/"
        },
        "id": "JeTvSZVCfiIX",
        "outputId": "3a56bde8-5990-40de-9dc6-972dcf8e25c7"
      },
      "execution_count": null,
      "outputs": [
        {
          "output_type": "stream",
          "name": "stdout",
          "text": [
            "                            OLS Regression Results                            \n",
            "==============================================================================\n",
            "Dep. Variable:                      y   R-squared:                       0.965\n",
            "Model:                            OLS   Adj. R-squared:                  0.952\n",
            "Method:                 Least Squares   F-statistic:                     74.89\n",
            "Date:                Tue, 03 Jan 2023   Prob (F-statistic):           1.76e-85\n",
            "Time:                        15:49:21   Log-Likelihood:                -1788.6\n",
            "No. Observations:                 205   AIC:                             3689.\n",
            "Df Residuals:                     149   BIC:                             3875.\n",
            "Df Model:                          55                                         \n",
            "Covariance Type:            nonrobust                                         \n",
            "==============================================================================\n",
            "                 coef    std err          t      P>|t|      [0.025      0.975]\n",
            "------------------------------------------------------------------------------\n",
            "const      -1.507e+04   1.41e+04     -1.072      0.285   -4.28e+04    1.27e+04\n",
            "x1          -199.6053    245.637     -0.813      0.418    -684.987     285.776\n",
            "x2           268.5163     88.519      3.033      0.003      93.601     443.432\n",
            "x3          -134.8904     48.219     -2.797      0.006    -230.171     -39.610\n",
            "x4           687.3413    219.564      3.130      0.002     253.480    1121.203\n",
            "x5          -324.9544    134.342     -2.419      0.017    -590.417     -59.492\n",
            "x6             6.1299      1.508      4.065      0.000       3.150       9.110\n",
            "x7           107.6164     21.837      4.928      0.000      64.465     150.767\n",
            "x8         -5128.8947   1626.366     -3.154      0.002   -8342.616   -1915.173\n",
            "x9          -398.4926    916.086     -0.435      0.664   -2208.690    1411.705\n",
            "x10         -914.3220    449.707     -2.033      0.044   -1802.949     -25.695\n",
            "x11          -11.5661     18.433     -0.627      0.531     -47.990      24.858\n",
            "x12            2.1287      0.595      3.576      0.000       0.952       3.305\n",
            "x13          103.5184     58.948      1.756      0.081     -12.963     220.000\n",
            "x14        -1.282e+04   6249.549     -2.052      0.042   -2.52e+04    -472.782\n",
            "x15         1898.4528    757.686      2.506      0.013     401.255    3395.650\n",
            "x16          224.4302    475.969      0.472      0.638    -716.090    1164.951\n",
            "x17        -2492.7530   1157.761     -2.153      0.033   -4780.503    -205.003\n",
            "x18        -3605.5442   1061.578     -3.396      0.001   -5703.236   -1507.852\n",
            "x19        -2874.0302   1145.116     -2.510      0.013   -5136.795    -611.265\n",
            "x20        -3059.1369   1253.676     -2.440      0.016   -5536.417    -581.856\n",
            "x21          658.6170    722.992      0.911      0.364    -770.025    2087.259\n",
            "x22         1.199e+04   2523.458      4.751      0.000    7003.481     1.7e+04\n",
            "x23         -923.2858   1436.112     -0.643      0.521   -3761.063    1914.491\n",
            "x24         -781.2708    945.507     -0.826      0.410   -2649.605    1087.064\n",
            "x25         4871.7476   3060.888      1.592      0.114   -1176.608    1.09e+04\n",
            "x26         3698.2844   2106.192      1.756      0.081    -463.580    7860.148\n",
            "x27        -2245.7383   2479.518     -0.906      0.367   -7145.299    2653.823\n",
            "x28        -5694.7531   2503.645     -2.275      0.024   -1.06e+04    -747.518\n",
            "x29        -5099.1089   2218.010     -2.299      0.023   -9481.925    -716.293\n",
            "x30        -4326.0367   2582.750     -1.675      0.096   -9429.584     777.511\n",
            "x31        -6269.5683   4862.888     -1.289      0.199   -1.59e+04    3339.563\n",
            "x32         2536.5245   1166.180      2.175      0.031     232.138    4840.911\n",
            "x33         -878.9282   2374.763     -0.370      0.712   -5571.491    3813.635\n",
            "x34         1212.7859   1210.915      1.002      0.318   -1179.997    3605.569\n",
            "x35          775.2791   1450.187      0.535      0.594   -2090.309    3640.867\n",
            "x36         1995.1558   2452.861      0.813      0.417   -2851.729    6842.041\n",
            "x37         2133.2817   2126.976      1.003      0.318   -2069.651    6336.215\n",
            "x38         8614.6252   1748.577      4.927      0.000    5159.414    1.21e+04\n",
            "x39         3165.3933   2301.237      1.376      0.171   -1381.882    7712.669\n",
            "x40        -3786.5467   2042.658     -1.854      0.066   -7822.866     249.772\n",
            "x41        -4654.4849   1716.532     -2.712      0.007   -8046.375   -1262.595\n",
            "x42        -1696.7699   1931.749     -0.878      0.381   -5513.932    2120.392\n",
            "x43        -2173.4078   1847.031     -1.177      0.241   -5823.165    1476.349\n",
            "x44        -1481.2106   2624.676     -0.564      0.573   -6667.605    3705.184\n",
            "x45        -1395.1852   1558.395     -0.895      0.372   -4474.595    1684.225\n",
            "x46        -1054.5027   2564.164     -0.411      0.681   -6121.325    4012.319\n",
            "x47        -5082.5119   1741.564     -2.918      0.004   -8523.866   -1641.158\n",
            "x48        -2130.7002   1571.421     -1.356      0.177   -5235.848     974.447\n",
            "x49        -4621.5701   1486.926     -3.108      0.002   -7559.756   -1683.384\n",
            "x50        -4763.4333   1720.347     -2.769      0.006   -8162.861   -1364.006\n",
            "x51         5945.3022   2544.845      2.336      0.021     916.655     1.1e+04\n",
            "x52        -2910.8596   2126.955     -1.369      0.173   -7113.751    1292.032\n",
            "x53         3043.3441   1902.275      1.600      0.112    -715.577    6802.265\n",
            "x54         -531.7591   1851.706     -0.287      0.774   -4190.755    3127.237\n",
            "x55        -2383.5947   1395.394     -1.708      0.090   -5140.911     373.722\n",
            "x56         -409.2671   1869.871     -0.219      0.827   -4104.156    3285.622\n",
            "x57        -1018.8560   1672.218     -0.609      0.543   -4323.181    2285.469\n",
            "==============================================================================\n",
            "Omnibus:                       62.246   Durbin-Watson:                   1.623\n",
            "Prob(Omnibus):                  0.000   Jarque-Bera (JB):              344.527\n",
            "Skew:                           1.021   Prob(JB):                     1.54e-75\n",
            "Kurtosis:                       9.014   Cond. No.                     1.00e+16\n",
            "==============================================================================\n",
            "\n",
            "Notes:\n",
            "[1] Standard Errors assume that the covariance matrix of the errors is correctly specified.\n",
            "[2] The smallest eigenvalue is 6.73e-23. This might indicate that there are\n",
            "strong multicollinearity problems or that the design matrix is singular.\n"
          ]
        }
      ]
    },
    {
      "cell_type": "code",
      "source": [
        "#60,56\n",
        "x_opt=x[: , [0,1,2,3,4,5,6,7,8,9,10,11,12,14,15,16,17,18,19,20,21,22,24,25,26,27,28,29,30,31,32,33,34,35,38,39,40,41,42,43,44,45,46,47,48,49,50,51,52,53,54,55,56,57,58,59,61]]\n",
        "ols_reg =sm.OLS(endog=y ,exog=x_opt).fit()\n",
        "print(ols_reg.summary())"
      ],
      "metadata": {
        "colab": {
          "base_uri": "https://localhost:8080/"
        },
        "id": "VbiISSM8fzml",
        "outputId": "a92cb107-b384-45f7-8bc8-487192a57da5"
      },
      "execution_count": null,
      "outputs": [
        {
          "output_type": "stream",
          "name": "stdout",
          "text": [
            "                            OLS Regression Results                            \n",
            "==============================================================================\n",
            "Dep. Variable:                      y   R-squared:                       0.965\n",
            "Model:                            OLS   Adj. R-squared:                  0.953\n",
            "Method:                 Least Squares   F-statistic:                     76.76\n",
            "Date:                Tue, 03 Jan 2023   Prob (F-statistic):           2.05e-86\n",
            "Time:                        15:50:37   Log-Likelihood:                -1788.6\n",
            "No. Observations:                 205   AIC:                             3687.\n",
            "Df Residuals:                     150   BIC:                             3870.\n",
            "Df Model:                          54                                         \n",
            "Covariance Type:            nonrobust                                         \n",
            "==============================================================================\n",
            "                 coef    std err          t      P>|t|      [0.025      0.975]\n",
            "------------------------------------------------------------------------------\n",
            "const      -1.391e+04    1.3e+04     -1.072      0.286   -3.96e+04    1.17e+04\n",
            "x1          -195.1612    244.018     -0.800      0.425    -677.318     286.995\n",
            "x2           265.0974     86.853      3.052      0.003      93.483     436.711\n",
            "x3          -134.2562     47.978     -2.798      0.006    -229.057     -39.455\n",
            "x4           682.1446    217.583      3.135      0.002     252.222    1112.068\n",
            "x5          -329.4230    132.360     -2.489      0.014    -590.954     -67.892\n",
            "x6             6.1074      1.500      4.073      0.000       3.144       9.071\n",
            "x7           108.4977     21.395      5.071      0.000      66.223     150.772\n",
            "x8         -5273.6524   1481.095     -3.561      0.000   -8200.155   -2347.150\n",
            "x9          -391.3281    912.591     -0.429      0.669   -2194.521    1411.864\n",
            "x10         -918.6651    447.841     -2.051      0.042   -1803.557     -33.774\n",
            "x11          -11.0031     18.195     -0.605      0.546     -46.954      24.948\n",
            "x12            2.0863      0.561      3.718      0.000       0.978       3.195\n",
            "x13          101.4474     57.999      1.749      0.082     -13.152     216.047\n",
            "x14         -1.29e+04   6219.206     -2.074      0.040   -2.52e+04    -612.711\n",
            "x15         1853.5757    727.098      2.549      0.012     416.899    3290.253\n",
            "x16          233.8661    472.506      0.495      0.621    -699.760    1167.492\n",
            "x17        -2530.1585   1141.438     -2.217      0.028   -4785.532    -274.785\n",
            "x18        -3653.5941   1035.329     -3.529      0.001   -5699.307   -1607.881\n",
            "x19        -2920.7395   1121.479     -2.604      0.010   -5136.676    -704.803\n",
            "x20        -3098.0686   1237.049     -2.504      0.013   -5542.360    -653.777\n",
            "x21          637.0079    713.943      0.892      0.374    -773.675    2047.691\n",
            "x22         1.193e+04   2499.075      4.773      0.000    6989.038    1.69e+04\n",
            "x23         -770.2456   1250.412     -0.616      0.539   -3240.941    1700.450\n",
            "x24         -856.9729    877.179     -0.977      0.330   -2590.195     876.249\n",
            "x25         5076.9101   2904.568      1.748      0.083    -662.242    1.08e+04\n",
            "x26         3725.7159   2095.777      1.778      0.077    -415.341    7866.773\n",
            "x27        -1985.5884   2169.155     -0.915      0.361   -6271.633    2300.456\n",
            "x28        -5444.9686   2221.335     -2.451      0.015   -9834.116   -1055.821\n",
            "x29        -4920.7210   2056.282     -2.393      0.018   -8983.739    -857.703\n",
            "x30        -4210.5994   2520.289     -1.671      0.097   -9190.452     769.253\n",
            "x31        -6148.4457   4815.941     -1.277      0.204   -1.57e+04    3367.398\n",
            "x32         2530.0688   1162.101      2.177      0.031     233.868    4826.270\n",
            "x33         -853.2023   2364.313     -0.361      0.719   -5524.861    3818.457\n",
            "x34         1213.2187   1207.064      1.005      0.316   -1171.825    3598.263\n",
            "x35          773.0481   1445.541      0.535      0.594   -2083.205    3629.301\n",
            "x36         2010.0729   2444.120      0.822      0.412   -2819.276    6839.422\n",
            "x37         2392.7206   1760.460      1.359      0.176   -1085.782    5871.223\n",
            "x38         8925.0809   1019.301      8.756      0.000    6911.040    1.09e+04\n",
            "x39         3486.2852   1768.128      1.972      0.050      -7.368    6979.938\n",
            "x40        -3516.4537   1622.608     -2.167      0.032   -6722.573    -310.334\n",
            "x41        -4403.4637   1273.111     -3.459      0.001   -6919.011   -1887.916\n",
            "x42        -1441.1637   1533.890     -0.940      0.349   -4471.986    1589.659\n",
            "x43        -1911.7717   1403.577     -1.362      0.175   -4685.107     861.564\n",
            "x44        -1285.6194   2460.021     -0.523      0.602   -6146.389    3575.150\n",
            "x45        -1129.8552    976.200     -1.157      0.249   -3058.734     799.023\n",
            "x46         -706.6055   2005.688     -0.352      0.725   -4669.656    3256.445\n",
            "x47        -4839.6457   1338.046     -3.617      0.000   -7483.497   -2195.794\n",
            "x48        -1866.7243   1004.161     -1.859      0.065   -3850.852     117.403\n",
            "x49        -4495.9615   1367.357     -3.288      0.001   -7197.729   -1794.194\n",
            "x50        -4510.1648   1268.989     -3.554      0.001   -7017.566   -2002.763\n",
            "x51         6265.7475   2074.913      3.020      0.003    2165.916    1.04e+04\n",
            "x52        -2662.0290   1791.917     -1.486      0.139   -6202.687     878.629\n",
            "x53         3292.1142   1520.543      2.165      0.032     287.664    6296.564\n",
            "x54         -229.4667   1229.497     -0.187      0.852   -2658.836    2199.902\n",
            "x55        -2135.1475    808.989     -2.639      0.009   -3733.634    -536.661\n",
            "x56         -768.3131   1215.143     -0.632      0.528   -3169.321    1632.695\n",
            "==============================================================================\n",
            "Omnibus:                       62.251   Durbin-Watson:                   1.622\n",
            "Prob(Omnibus):                  0.000   Jarque-Bera (JB):              344.425\n",
            "Skew:                           1.021   Prob(JB):                     1.62e-75\n",
            "Kurtosis:                       9.013   Cond. No.                     1.00e+16\n",
            "==============================================================================\n",
            "\n",
            "Notes:\n",
            "[1] Standard Errors assume that the covariance matrix of the errors is correctly specified.\n",
            "[2] The smallest eigenvalue is 6.73e-23. This might indicate that there are\n",
            "strong multicollinearity problems or that the design matrix is singular.\n"
          ]
        }
      ]
    },
    {
      "cell_type": "code",
      "source": [
        "#58,54\n",
        "x_opt=x[: , [0,1,2,3,4,5,6,7,8,9,10,11,12,14,15,16,17,18,19,20,21,22,24,25,26,27,28,29,30,31,32,33,34,35,38,39,40,41,42,43,44,45,46,47,48,49,50,51,52,53,54,55,56,57,59,61]]\n",
        "ols_reg =sm.OLS(endog=y ,exog=x_opt).fit()\n",
        "print(ols_reg.summary())"
      ],
      "metadata": {
        "colab": {
          "base_uri": "https://localhost:8080/"
        },
        "id": "5oNMSD_8gj5U",
        "outputId": "1f67df92-d17f-4874-d417-43b5136bc6c1"
      },
      "execution_count": null,
      "outputs": [
        {
          "output_type": "stream",
          "name": "stdout",
          "text": [
            "                            OLS Regression Results                            \n",
            "==============================================================================\n",
            "Dep. Variable:                      y   R-squared:                       0.965\n",
            "Model:                            OLS   Adj. R-squared:                  0.953\n",
            "Method:                 Least Squares   F-statistic:                     78.71\n",
            "Date:                Tue, 03 Jan 2023   Prob (F-statistic):           2.33e-87\n",
            "Time:                        15:51:37   Log-Likelihood:                -1788.6\n",
            "No. Observations:                 205   AIC:                             3685.\n",
            "Df Residuals:                     151   BIC:                             3865.\n",
            "Df Model:                          53                                         \n",
            "Covariance Type:            nonrobust                                         \n",
            "==============================================================================\n",
            "                 coef    std err          t      P>|t|      [0.025      0.975]\n",
            "------------------------------------------------------------------------------\n",
            "const      -1.446e+04   1.26e+04     -1.149      0.253   -3.93e+04    1.04e+04\n",
            "x1          -204.4523    238.121     -0.859      0.392    -674.932     266.027\n",
            "x2           264.8983     86.569      3.060      0.003      93.856     435.941\n",
            "x3          -133.9266     47.792     -2.802      0.006    -228.355     -39.498\n",
            "x4           683.3993    216.783      3.152      0.002     255.080    1111.718\n",
            "x5          -326.4692    130.990     -2.492      0.014    -585.279     -67.660\n",
            "x6             6.1455      1.481      4.150      0.000       3.219       9.071\n",
            "x7           109.4864     20.662      5.299      0.000      68.662     150.311\n",
            "x8         -5410.4068   1283.022     -4.217      0.000   -7945.401   -2875.413\n",
            "x9          -332.8650    854.401     -0.390      0.697   -2020.989    1355.259\n",
            "x10         -910.6901    444.371     -2.049      0.042   -1788.677     -32.703\n",
            "x11          -11.5122     17.932     -0.642      0.522     -46.941      23.917\n",
            "x12            2.1122      0.542      3.896      0.000       1.041       3.183\n",
            "x13          103.2706     56.987      1.812      0.072      -9.324     215.865\n",
            "x14        -1.275e+04   6149.161     -2.074      0.040   -2.49e+04    -604.444\n",
            "x15         1879.3229    711.606      2.641      0.009     473.334    3285.312\n",
            "x16          237.1461    470.667      0.504      0.615    -692.798    1167.090\n",
            "x17        -2576.5844   1110.437     -2.320      0.022   -4770.585    -382.584\n",
            "x18        -3699.1724   1002.894     -3.688      0.000   -5680.690   -1717.655\n",
            "x19        -2975.6687   1078.707     -2.759      0.007   -5106.977    -844.361\n",
            "x20        -3167.3088   1176.330     -2.693      0.008   -5491.501    -843.117\n",
            "x21          698.9395    630.117      1.109      0.269    -546.044    1943.923\n",
            "x22         1.194e+04   2490.583      4.793      0.000    7015.354    1.69e+04\n",
            "x23         -769.8704   1246.408     -0.618      0.538   -3232.522    1692.781\n",
            "x24         -860.0722    874.214     -0.984      0.327   -2587.344     867.199\n",
            "x25         5032.5986   2885.582      1.744      0.083    -668.731    1.07e+04\n",
            "x26         3690.6974   2080.679      1.774      0.078    -420.307    7801.702\n",
            "x27        -2044.1853   2139.442     -0.955      0.341   -6271.293    2182.923\n",
            "x28        -5527.1606   2170.273     -2.547      0.012   -9815.184   -1239.137\n",
            "x29        -5047.6085   1934.424     -2.609      0.010   -8869.642   -1225.575\n",
            "x30        -4334.4930   2423.511     -1.789      0.076   -9122.863     453.877\n",
            "x31        -6233.8547   4778.803     -1.304      0.194   -1.57e+04    3208.099\n",
            "x32         2528.5044   1158.351      2.183      0.031     239.836    4817.172\n",
            "x33         -851.9283   2356.735     -0.361      0.718   -5508.363    3804.506\n",
            "x34         1217.4082   1202.992      1.012      0.313   -1159.462    3594.278\n",
            "x35          767.7607   1440.637      0.533      0.595   -2078.649    3614.170\n",
            "x36         1992.8092   2434.551      0.819      0.414   -2817.373    6802.992\n",
            "x37         2458.0041   1719.836      1.429      0.155    -940.047    5856.055\n",
            "x38         8990.1733    954.709      9.417      0.000    7103.859    1.09e+04\n",
            "x39         3477.5649   1761.852      1.974      0.050      -3.501    6958.631\n",
            "x40        -3444.5281   1571.133     -2.192      0.030   -6548.770    -340.286\n",
            "x41        -4332.4721   1211.070     -3.577      0.000   -6725.302   -1939.642\n",
            "x42        -1400.5019   1513.479     -0.925      0.356   -4390.831    1589.828\n",
            "x43        -1843.9960   1351.445     -1.364      0.174   -4514.180     826.188\n",
            "x44        -1340.3199   2434.681     -0.551      0.583   -6150.760    3470.120\n",
            "x45        -1047.1033    866.913     -1.208      0.229   -2759.948     665.741\n",
            "x46         -620.6663   1945.867     -0.319      0.750   -4465.308    3223.975\n",
            "x47        -4752.1481   1249.215     -3.804      0.000   -7220.345   -2283.951\n",
            "x48        -1778.8625    884.131     -2.012      0.046   -3525.727     -31.998\n",
            "x49        -4460.5679   1349.807     -3.305      0.001   -7127.515   -1793.620\n",
            "x50        -4449.1701   1222.258     -3.640      0.000   -6864.106   -2034.234\n",
            "x51         6392.7136   1953.947      3.272      0.001    2532.108    1.03e+04\n",
            "x52        -2602.9817   1758.120     -1.481      0.141   -6076.674     870.710\n",
            "x53         3400.9480   1399.785      2.430      0.016     635.255    6166.641\n",
            "x54        -2068.8525    724.507     -2.856      0.005   -3500.333    -637.372\n",
            "x55         -702.3890   1158.950     -0.606      0.545   -2992.241    1587.462\n",
            "==============================================================================\n",
            "Omnibus:                       61.802   Durbin-Watson:                   1.626\n",
            "Prob(Omnibus):                  0.000   Jarque-Bera (JB):              339.179\n",
            "Skew:                           1.015   Prob(JB):                     2.23e-74\n",
            "Kurtosis:                       8.966   Cond. No.                     1.00e+16\n",
            "==============================================================================\n",
            "\n",
            "Notes:\n",
            "[1] Standard Errors assume that the covariance matrix of the errors is correctly specified.\n",
            "[2] The smallest eigenvalue is 6.73e-23. This might indicate that there are\n",
            "strong multicollinearity problems or that the design matrix is singular.\n"
          ]
        }
      ]
    },
    {
      "cell_type": "code",
      "source": [
        "#50,46\n",
        "x_opt=x[: , [0,1,2,3,4,5,6,7,8,9,10,11,12,14,15,16,17,18,19,20,21,22,24,25,26,27,28,29,30,31,32,33,34,35,38,39,40,41,42,43,44,45,46,47,48,49,51,52,53,54,55,56,57,59,61]]\n",
        "ols_reg =sm.OLS(endog=y ,exog=x_opt).fit()\n",
        "print(ols_reg.summary())"
      ],
      "metadata": {
        "colab": {
          "base_uri": "https://localhost:8080/"
        },
        "id": "sSlFeS6BhJF0",
        "outputId": "ec10beec-fd32-4380-8016-382b3f14a1c5"
      },
      "execution_count": null,
      "outputs": [
        {
          "output_type": "stream",
          "name": "stdout",
          "text": [
            "                            OLS Regression Results                            \n",
            "==============================================================================\n",
            "Dep. Variable:                      y   R-squared:                       0.965\n",
            "Model:                            OLS   Adj. R-squared:                  0.953\n",
            "Method:                 Least Squares   F-statistic:                     80.70\n",
            "Date:                Tue, 03 Jan 2023   Prob (F-statistic):           2.71e-88\n",
            "Time:                        15:53:07   Log-Likelihood:                -1788.7\n",
            "No. Observations:                 205   AIC:                             3683.\n",
            "Df Residuals:                     152   BIC:                             3860.\n",
            "Df Model:                          52                                         \n",
            "Covariance Type:            nonrobust                                         \n",
            "==============================================================================\n",
            "                 coef    std err          t      P>|t|      [0.025      0.975]\n",
            "------------------------------------------------------------------------------\n",
            "const      -1.408e+04   1.25e+04     -1.127      0.262   -3.88e+04    1.06e+04\n",
            "x1          -213.2150    235.831     -0.904      0.367    -679.145     252.715\n",
            "x2           263.5894     86.216      3.057      0.003      93.254     433.925\n",
            "x3          -133.8329     47.650     -2.809      0.006    -227.975     -39.691\n",
            "x4           680.8251    215.991      3.152      0.002     254.092    1107.558\n",
            "x5          -331.9286    129.482     -2.564      0.011    -587.746     -76.111\n",
            "x6             6.1915      1.470      4.213      0.000       3.288       9.095\n",
            "x7           110.1606     20.493      5.376      0.000      69.673     150.648\n",
            "x8         -5401.3101   1278.909     -4.223      0.000   -7928.044   -2874.576\n",
            "x9          -320.3134    850.968     -0.376      0.707   -2001.567    1360.940\n",
            "x10         -912.6734    443.012     -2.060      0.041   -1787.930     -37.416\n",
            "x11          -13.1544     17.126     -0.768      0.444     -46.990      20.681\n",
            "x12            2.1320      0.537      3.971      0.000       1.071       3.193\n",
            "x13          103.4293     56.816      1.820      0.071      -8.822     215.681\n",
            "x14        -1.274e+04   6130.799     -2.078      0.039   -2.49e+04    -626.957\n",
            "x15         1895.1995    707.762      2.678      0.008     496.879    3293.520\n",
            "x16          237.3081    469.274      0.506      0.614    -689.834    1164.450\n",
            "x17        -2558.5662   1105.717     -2.314      0.022   -4743.125    -374.007\n",
            "x18        -3702.0646    999.886     -3.702      0.000   -5677.533   -1726.596\n",
            "x19        -2969.6162   1075.348     -2.762      0.006   -5094.175    -845.057\n",
            "x20        -3156.2958   1172.344     -2.692      0.008   -5472.488    -840.103\n",
            "x21          687.9124    627.306      1.097      0.275    -551.452    1927.276\n",
            "x22          1.19e+04   2480.881      4.797      0.000    7000.363    1.68e+04\n",
            "x23         -773.6177   1242.664     -0.623      0.535   -3228.742    1681.507\n",
            "x24         -894.9546    864.780     -1.035      0.302   -2603.496     813.587\n",
            "x25         5092.8373   2870.874      1.774      0.078    -579.132    1.08e+04\n",
            "x26         3691.3749   2074.521      1.779      0.077    -407.244    7789.994\n",
            "x27        -2029.9441   2132.647     -0.952      0.343   -6243.401    2183.513\n",
            "x28        -5497.2805   2161.834     -2.543      0.012   -9768.403   -1226.158\n",
            "x29        -4996.2806   1922.015     -2.600      0.010   -8793.594   -1198.967\n",
            "x30        -4281.0240   2410.552     -1.776      0.078   -9043.536     481.488\n",
            "x31        -6064.5292   4735.172     -1.281      0.202   -1.54e+04    3290.722\n",
            "x32         2519.8344   1154.605      2.182      0.031     238.689    4800.980\n",
            "x33         -898.6301   2345.222     -0.383      0.702   -5532.071    3734.811\n",
            "x34         1214.3484   1199.394      1.012      0.313   -1155.287    3583.984\n",
            "x35          790.1167   1434.673      0.551      0.583   -2044.359    3624.592\n",
            "x36         1999.0200   2427.269      0.824      0.411   -2796.520    6794.560\n",
            "x37         2480.0969   1713.356      1.448      0.150    -904.970    5865.164\n",
            "x38         9010.3397    949.795      9.487      0.000    7133.836    1.09e+04\n",
            "x39         3472.2994   1756.562      1.977      0.050       1.871    6942.727\n",
            "x40        -3444.0599   1566.483     -2.199      0.029   -6538.950    -349.170\n",
            "x41        -4333.0853   1207.484     -3.589      0.000   -6718.705   -1947.466\n",
            "x42        -1408.4411   1508.796     -0.933      0.352   -4389.360    1572.478\n",
            "x43        -1849.5824   1347.333     -1.373      0.172   -4511.500     812.335\n",
            "x44        -1419.6207   2414.787     -0.588      0.557   -6190.500    3351.259\n",
            "x45        -1031.6156    862.990     -1.195      0.234   -2736.620     673.389\n",
            "x46        -4756.0408   1245.459     -3.819      0.000   -7216.686   -2295.396\n",
            "x47        -1771.0932    881.180     -2.010      0.046   -3512.035     -30.151\n",
            "x48        -4464.9925   1345.742     -3.318      0.001   -7123.766   -1806.219\n",
            "x49        -4456.6541   1218.417     -3.658      0.000   -6863.873   -2049.436\n",
            "x50         6504.5536   1916.541      3.394      0.001    2718.056    1.03e+04\n",
            "x51        -2626.0775   1751.430     -1.499      0.136   -6086.368     834.213\n",
            "x52         3464.8581   1381.271      2.508      0.013     735.890    6193.826\n",
            "x53        -2060.0913    721.844     -2.854      0.005   -3486.234    -633.948\n",
            "x54         -680.5491   1153.502     -0.590      0.556   -2959.515    1598.417\n",
            "==============================================================================\n",
            "Omnibus:                       61.655   Durbin-Watson:                   1.633\n",
            "Prob(Omnibus):                  0.000   Jarque-Bera (JB):              335.653\n",
            "Skew:                           1.015   Prob(JB):                     1.30e-73\n",
            "Kurtosis:                       8.931   Cond. No.                     1.00e+16\n",
            "==============================================================================\n",
            "\n",
            "Notes:\n",
            "[1] Standard Errors assume that the covariance matrix of the errors is correctly specified.\n",
            "[2] The smallest eigenvalue is 6.73e-23. This might indicate that there are\n",
            "strong multicollinearity problems or that the design matrix is singular.\n"
          ]
        }
      ]
    },
    {
      "cell_type": "code",
      "source": [
        "#9,9\n",
        "x_opt=x[: , [0,1,2,3,4,5,6,7,8,10,11,12,14,15,16,17,18,19,20,21,22,24,25,26,27,28,29,30,31,32,33,34,35,38,39,40,41,42,43,44,45,46,47,48,49,51,52,53,54,55,56,57,59,61]]\n",
        "ols_reg =sm.OLS(endog=y ,exog=x_opt).fit()\n",
        "print(ols_reg.summary())"
      ],
      "metadata": {
        "colab": {
          "base_uri": "https://localhost:8080/"
        },
        "id": "Ks5vInRHlcHM",
        "outputId": "834dc434-0f10-4fac-bf8a-27740081ce74"
      },
      "execution_count": null,
      "outputs": [
        {
          "output_type": "stream",
          "name": "stdout",
          "text": [
            "                            OLS Regression Results                            \n",
            "==============================================================================\n",
            "Dep. Variable:                      y   R-squared:                       0.965\n",
            "Model:                            OLS   Adj. R-squared:                  0.953\n",
            "Method:                 Least Squares   F-statistic:                     82.75\n",
            "Date:                Tue, 03 Jan 2023   Prob (F-statistic):           3.17e-89\n",
            "Time:                        15:54:41   Log-Likelihood:                -1788.8\n",
            "No. Observations:                 205   AIC:                             3682.\n",
            "Df Residuals:                     153   BIC:                             3854.\n",
            "Df Model:                          51                                         \n",
            "Covariance Type:            nonrobust                                         \n",
            "==============================================================================\n",
            "                 coef    std err          t      P>|t|      [0.025      0.975]\n",
            "------------------------------------------------------------------------------\n",
            "const      -1.396e+04   1.25e+04     -1.120      0.264   -3.86e+04    1.07e+04\n",
            "x1          -202.1280    233.327     -0.866      0.388    -663.087     258.831\n",
            "x2           266.0792     85.720      3.104      0.002      96.731     435.427\n",
            "x3          -135.9208     47.193     -2.880      0.005    -229.155     -42.686\n",
            "x4           678.0122    215.256      3.150      0.002     252.755    1103.269\n",
            "x5          -340.3396    127.181     -2.676      0.008    -591.598     -89.081\n",
            "x6             6.2726      1.450      4.327      0.000       3.409       9.136\n",
            "x7           108.3020     19.833      5.461      0.000      69.119     147.484\n",
            "x8         -5411.3733   1275.038     -4.244      0.000   -7930.327   -2892.420\n",
            "x9          -921.9419    441.085     -2.090      0.038   -1793.346     -50.538\n",
            "x10          -14.0193     16.923     -0.828      0.409     -47.453      19.414\n",
            "x11            2.1587      0.531      4.067      0.000       1.110       3.207\n",
            "x12          102.8415     56.635      1.816      0.071      -9.047     214.729\n",
            "x13        -1.281e+04   6111.026     -2.096      0.038   -2.49e+04    -733.340\n",
            "x14         1865.8059    701.465      2.660      0.009     479.998    3251.613\n",
            "x15          243.6515    467.654      0.521      0.603    -680.241    1167.544\n",
            "x16        -2539.5503   1101.460     -2.306      0.022   -4715.584    -363.516\n",
            "x17        -3678.5171    995.124     -3.697      0.000   -5644.474   -1712.560\n",
            "x18        -2936.1658   1068.660     -2.748      0.007   -5047.400    -824.932\n",
            "x19        -3107.3575   1161.840     -2.675      0.008   -5402.677    -812.038\n",
            "x20          657.4642    620.321      1.060      0.291    -568.036    1882.965\n",
            "x21         1.205e+04   2441.741      4.936      0.000    7228.055    1.69e+04\n",
            "x22         -846.1099   1224.202     -0.691      0.491   -3264.631    1572.411\n",
            "x23         -906.1486    861.841     -1.051      0.295   -2608.794     796.497\n",
            "x24         4862.5201   2797.032      1.738      0.084    -663.270    1.04e+04\n",
            "x25         3596.6755   2053.425      1.752      0.082    -460.051    7653.402\n",
            "x26        -2156.6868   2099.983     -1.027      0.306   -6305.392    1992.019\n",
            "x27        -5595.1573   2140.111     -2.614      0.010   -9823.140   -1367.175\n",
            "x28        -5045.2997   1912.212     -2.638      0.009   -8823.047   -1267.553\n",
            "x29        -4180.1062   2388.867     -1.750      0.082   -8899.528     539.316\n",
            "x30        -5439.7827   4422.303     -1.230      0.221   -1.42e+04    3296.876\n",
            "x31         2532.3565   1150.884      2.200      0.029     258.682    4806.031\n",
            "x32         -923.0764   2337.738     -0.395      0.693   -5541.488    3695.335\n",
            "x33         1228.2960   1195.454      1.027      0.306   -1133.431    3590.023\n",
            "x34          777.3127   1430.241      0.543      0.588   -2048.258    3602.883\n",
            "x35         2021.6874   2419.706      0.836      0.405   -2758.660    6802.034\n",
            "x36         2263.1252   1608.950      1.407      0.162    -915.501    5441.751\n",
            "x37         8953.1424    934.927      9.576      0.000    7106.109    1.08e+04\n",
            "x38         3409.3961   1743.683      1.955      0.052     -35.406    6854.198\n",
            "x39        -3627.8874   1484.229     -2.444      0.016   -6560.115    -695.660\n",
            "x40        -4585.9694   1000.507     -4.584      0.000   -6562.562   -2609.377\n",
            "x41        -1683.8380   1315.827     -1.280      0.203   -4283.373     915.697\n",
            "x42        -2026.8694   1258.782     -1.610      0.109   -4513.706     459.968\n",
            "x43        -1716.7775   2275.687     -0.754      0.452   -6212.602    2779.047\n",
            "x44        -1190.3686    750.796     -1.585      0.115   -2673.634     292.897\n",
            "x45        -5006.7951   1049.366     -4.771      0.000   -7079.913   -2933.677\n",
            "x46        -1947.5182    744.091     -2.617      0.010   -3417.537    -477.499\n",
            "x47        -4442.7854   1340.672     -3.314      0.001   -7091.403   -1794.168\n",
            "x48        -4691.6455   1043.385     -4.497      0.000   -6752.947   -2630.344\n",
            "x49         6440.3529   1903.574      3.383      0.001    2679.670    1.02e+04\n",
            "x50        -2979.3267   1474.625     -2.020      0.045   -5892.581     -66.073\n",
            "x51         3451.6420   1376.946      2.507      0.013     731.362    6171.922\n",
            "x52        -2208.2654    603.361     -3.660      0.000   -3400.259   -1016.272\n",
            "x53         -888.8570   1009.238     -0.881      0.380   -2882.698    1104.984\n",
            "==============================================================================\n",
            "Omnibus:                       62.445   Durbin-Watson:                   1.643\n",
            "Prob(Omnibus):                  0.000   Jarque-Bera (JB):              335.256\n",
            "Skew:                           1.036   Prob(JB):                     1.59e-73\n",
            "Kurtosis:                       8.913   Cond. No.                     1.00e+16\n",
            "==============================================================================\n",
            "\n",
            "Notes:\n",
            "[1] Standard Errors assume that the covariance matrix of the errors is correctly specified.\n",
            "[2] The smallest eigenvalue is 6.73e-23. This might indicate that there are\n",
            "strong multicollinearity problems or that the design matrix is singular.\n"
          ]
        }
      ]
    },
    {
      "cell_type": "code",
      "source": [
        "#35,32\n",
        "x_opt=x[: , [0,1,2,3,4,5,6,7,8,10,11,12,14,15,16,17,18,19,20,21,22,24,25,26,27,28,29,30,31,32,33,34,38,39,40,41,42,43,44,45,46,47,48,49,51,52,53,54,55,56,57,59,61]]\n",
        "ols_reg =sm.OLS(endog=y ,exog=x_opt).fit()\n",
        "print(ols_reg.summary())"
      ],
      "metadata": {
        "colab": {
          "base_uri": "https://localhost:8080/"
        },
        "id": "ai5F4SPdlriu",
        "outputId": "6e4f88f0-898f-4652-a0e4-5cd39e74ccfd"
      },
      "execution_count": null,
      "outputs": [
        {
          "output_type": "stream",
          "name": "stdout",
          "text": [
            "                            OLS Regression Results                            \n",
            "==============================================================================\n",
            "Dep. Variable:                      y   R-squared:                       0.965\n",
            "Model:                            OLS   Adj. R-squared:                  0.954\n",
            "Method:                 Least Squares   F-statistic:                     84.86\n",
            "Date:                Tue, 03 Jan 2023   Prob (F-statistic):           3.69e-90\n",
            "Time:                        15:56:24   Log-Likelihood:                -1788.9\n",
            "No. Observations:                 205   AIC:                             3680.\n",
            "Df Residuals:                     154   BIC:                             3849.\n",
            "Df Model:                          50                                         \n",
            "Covariance Type:            nonrobust                                         \n",
            "==============================================================================\n",
            "                 coef    std err          t      P>|t|      [0.025      0.975]\n",
            "------------------------------------------------------------------------------\n",
            "const      -1.402e+04   1.24e+04     -1.128      0.261   -3.86e+04    1.05e+04\n",
            "x1          -196.8430    232.304     -0.847      0.398    -655.757     262.071\n",
            "x2           266.2498     85.484      3.115      0.002      97.378     435.122\n",
            "x3          -136.2742     47.055     -2.896      0.004    -229.231     -43.317\n",
            "x4           672.5271    214.218      3.139      0.002     249.343    1095.711\n",
            "x5          -337.5872    126.642     -2.666      0.009    -587.767     -87.408\n",
            "x6             6.2680      1.446      4.336      0.000       3.412       9.124\n",
            "x7           108.7282     19.750      5.505      0.000      69.713     147.743\n",
            "x8         -5436.3807   1269.970     -4.281      0.000   -7945.191   -2927.570\n",
            "x9          -915.6652    439.589     -2.083      0.039   -1784.068     -47.262\n",
            "x10          -13.2897     16.776     -0.792      0.429     -46.430      19.851\n",
            "x11            2.1563      0.529      4.074      0.000       1.111       3.202\n",
            "x12          104.5085     56.323      1.856      0.065      -6.756     215.773\n",
            "x13        -1.294e+04   6084.634     -2.127      0.035    -2.5e+04    -921.636\n",
            "x14         1864.6097    699.533      2.666      0.009     482.690    3246.530\n",
            "x15          253.3960    465.721      0.544      0.587    -666.630    1173.422\n",
            "x16        -2543.5591   1098.391     -2.316      0.022   -4713.417    -373.701\n",
            "x17        -3665.3530    991.836     -3.696      0.000   -5624.713   -1705.993\n",
            "x18        -2934.6874   1065.721     -2.754      0.007   -5040.006    -829.369\n",
            "x19        -3101.3081   1158.550     -2.677      0.008   -5390.011    -812.606\n",
            "x20          641.6295    617.325      1.039      0.300    -577.888    1861.147\n",
            "x21         1.204e+04   2434.732      4.944      0.000    7226.831    1.68e+04\n",
            "x22         -807.8550   1217.013     -0.664      0.508   -3212.049    1596.339\n",
            "x23         -895.1871    859.030     -1.042      0.299   -2592.191     801.817\n",
            "x24         4463.6861   2601.128      1.716      0.088    -674.810    9602.183\n",
            "x25         3644.9059   2044.164      1.783      0.077    -393.315    7683.127\n",
            "x26        -2052.9142   2077.755     -0.988      0.325   -6157.494    2051.666\n",
            "x27        -5485.0847   2116.055     -2.592      0.010   -9665.326   -1304.844\n",
            "x28        -4982.4051   1900.337     -2.622      0.010   -8736.498   -1228.313\n",
            "x29        -4131.6869   2379.170     -1.737      0.084   -8831.709     568.336\n",
            "x30        -5471.6978   4409.430     -1.241      0.217   -1.42e+04    3239.079\n",
            "x31         2734.6063   1027.791      2.661      0.009     704.217    4764.995\n",
            "x32         1452.3686   1049.292      1.384      0.168    -620.496    3525.233\n",
            "x33          975.2036   1335.883      0.730      0.466   -1663.818    3614.225\n",
            "x34         2243.6727   2347.032      0.956      0.341   -2392.861    6880.207\n",
            "x35         2237.9051   1603.270      1.396      0.165    -929.335    5405.145\n",
            "x36         8949.6806    932.320      9.599      0.000    7107.893    1.08e+04\n",
            "x37         3415.5583   1738.828      1.964      0.051     -19.475    6850.592\n",
            "x38        -3645.3903   1479.495     -2.464      0.015   -6568.115    -722.665\n",
            "x39        -4577.0556    997.508     -4.588      0.000   -6547.620   -2606.491\n",
            "x40        -1524.8904   1249.303     -1.221      0.224   -3992.874     943.093\n",
            "x41        -2029.7159   1255.307     -1.617      0.108   -4509.559     450.127\n",
            "x42        -1718.1969   2269.439     -0.757      0.450   -6201.446    2765.052\n",
            "x43        -1192.0073    748.724     -1.592      0.113   -2671.103     287.089\n",
            "x44        -5012.6001   1046.384     -4.790      0.000   -7079.719   -2945.482\n",
            "x45        -1961.3672    741.224     -2.646      0.009   -3425.647    -497.088\n",
            "x46        -4452.7609   1336.755     -3.331      0.001   -7093.504   -1812.018\n",
            "x47        -4698.6597   1040.371     -4.516      0.000   -6753.900   -2643.419\n",
            "x48         6397.8650   1895.315      3.376      0.001    2653.693    1.01e+04\n",
            "x49        -2996.1662   1469.963     -2.038      0.043   -5900.060     -92.273\n",
            "x50         3406.4680   1368.419      2.489      0.014     703.173    6109.763\n",
            "x51        -2217.7265    601.230     -3.689      0.000   -3405.450   -1030.003\n",
            "x52         -918.2357   1003.730     -0.915      0.362   -2901.092    1064.620\n",
            "==============================================================================\n",
            "Omnibus:                       61.985   Durbin-Watson:                   1.647\n",
            "Prob(Omnibus):                  0.000   Jarque-Bera (JB):              332.664\n",
            "Skew:                           1.026   Prob(JB):                     5.79e-73\n",
            "Kurtosis:                       8.893   Cond. No.                     1.00e+16\n",
            "==============================================================================\n",
            "\n",
            "Notes:\n",
            "[1] Standard Errors assume that the covariance matrix of the errors is correctly specified.\n",
            "[2] The smallest eigenvalue is 6.73e-23. This might indicate that there are\n",
            "strong multicollinearity problems or that the design matrix is singular.\n"
          ]
        }
      ]
    },
    {
      "cell_type": "code",
      "source": [
        "#17,15\n",
        "x_opt=x[: , [0,1,2,3,4,5,6,7,8,10,11,12,14,15,16,18,19,20,21,22,24,25,26,27,28,29,30,31,32,33,34,38,39,40,41,42,43,44,45,46,47,48,49,51,52,53,54,55,56,57,59,61]]\n",
        "ols_reg =sm.OLS(endog=y ,exog=x_opt).fit()\n",
        "print(ols_reg.summary())"
      ],
      "metadata": {
        "colab": {
          "base_uri": "https://localhost:8080/"
        },
        "id": "QXTNV2P0lzxz",
        "outputId": "2a18144d-0038-4fe7-91da-3c9c6864ea4a"
      },
      "execution_count": null,
      "outputs": [
        {
          "output_type": "stream",
          "name": "stdout",
          "text": [
            "                            OLS Regression Results                            \n",
            "==============================================================================\n",
            "Dep. Variable:                      y   R-squared:                       0.965\n",
            "Model:                            OLS   Adj. R-squared:                  0.954\n",
            "Method:                 Least Squares   F-statistic:                     86.99\n",
            "Date:                Tue, 03 Jan 2023   Prob (F-statistic):           4.55e-91\n",
            "Time:                        15:58:33   Log-Likelihood:                -1789.1\n",
            "No. Observations:                 205   AIC:                             3678.\n",
            "Df Residuals:                     155   BIC:                             3844.\n",
            "Df Model:                          49                                         \n",
            "Covariance Type:            nonrobust                                         \n",
            "==============================================================================\n",
            "                 coef    std err          t      P>|t|      [0.025      0.975]\n",
            "------------------------------------------------------------------------------\n",
            "const      -1.455e+04   1.24e+04     -1.178      0.241    -3.9e+04    9857.134\n",
            "x1          -242.6190    216.041     -1.123      0.263    -669.384     184.146\n",
            "x2           262.9335     85.072      3.091      0.002      94.883     430.984\n",
            "x3          -134.7297     46.863     -2.875      0.005    -227.302     -42.158\n",
            "x4           677.5560    213.532      3.173      0.002     255.749    1099.364\n",
            "x5          -339.8233    126.287     -2.691      0.008    -589.290     -90.357\n",
            "x6             6.3325      1.437      4.406      0.000       3.493       9.172\n",
            "x7           108.3942     19.695      5.504      0.000      69.489     147.300\n",
            "x8         -5391.9227   1264.457     -4.264      0.000   -7889.715   -2894.130\n",
            "x9          -898.0019    437.392     -2.053      0.042   -1762.020     -33.983\n",
            "x10          -13.5503     16.731     -0.810      0.419     -46.600      19.500\n",
            "x11            2.1328      0.526      4.053      0.000       1.093       3.172\n",
            "x12          104.3505     56.194      1.857      0.065      -6.654     215.355\n",
            "x13        -1.264e+04   6044.936     -2.090      0.038   -2.46e+04    -695.391\n",
            "x14         1856.1860    697.772      2.660      0.009     477.816    3234.556\n",
            "x15        -2580.4665   1093.802     -2.359      0.020   -4741.149    -419.784\n",
            "x16        -3682.2017    989.099     -3.723      0.000   -5636.054   -1728.349\n",
            "x17        -2830.6130   1046.031     -2.706      0.008   -4896.928    -764.297\n",
            "x18        -2994.4103   1139.174     -2.629      0.009   -5244.721    -744.100\n",
            "x19          576.7852    604.334      0.954      0.341    -617.009    1770.579\n",
            "x20          1.21e+04   2426.376      4.987      0.000    7307.411    1.69e+04\n",
            "x21         -781.5410   1213.287     -0.644      0.520   -3178.252    1615.170\n",
            "x22         -892.5555    857.064     -1.041      0.299   -2585.588     800.477\n",
            "x23         4465.0485   2595.213      1.720      0.087    -661.502    9591.599\n",
            "x24         3633.6517   2039.412      1.782      0.077    -394.977    7662.280\n",
            "x25        -2079.3063   2072.466     -1.003      0.317   -6173.230    2014.617\n",
            "x26        -5581.8864   2103.769     -2.653      0.009   -9737.644   -1426.129\n",
            "x27        -4995.2326   1895.871     -2.635      0.009   -8740.311   -1250.154\n",
            "x28        -4215.6033   2368.768     -1.780      0.077   -8894.838     463.631\n",
            "x29        -5778.9306   4363.183     -1.324      0.187   -1.44e+04    2840.046\n",
            "x30         2694.5625   1022.822      2.634      0.009     674.093    4715.032\n",
            "x31         1408.2419   1043.775      1.349      0.179    -653.618    3470.102\n",
            "x32          932.7828   1330.574      0.701      0.484   -1695.617    3561.183\n",
            "x33         2196.5016   2340.098      0.939      0.349   -2426.098    6819.101\n",
            "x34         2322.5730   1592.072      1.459      0.147    -822.386    5467.532\n",
            "x35         8941.1578    930.070      9.613      0.000    7103.910    1.08e+04\n",
            "x36         3476.5201   1731.269      2.008      0.046      56.593    6896.447\n",
            "x37        -3621.2601   1475.468     -2.454      0.015   -6535.881    -706.639\n",
            "x38        -4541.7713    993.134     -4.573      0.000   -6503.596   -2579.946\n",
            "x39        -1554.0410   1245.316     -1.248      0.214   -4014.022     905.940\n",
            "x40        -2020.9585   1252.350     -1.614      0.109   -4494.834     452.917\n",
            "x41        -1700.8603   2264.056     -0.751      0.454   -6173.248    2771.527\n",
            "x42        -1168.1761    745.743     -1.566      0.119   -2641.307     304.955\n",
            "x43        -4972.9633   1041.472     -4.775      0.000   -7030.273   -2915.654\n",
            "x44        -1963.7856    739.526     -2.655      0.009   -3424.635    -502.936\n",
            "x45        -4415.1927   1331.936     -3.315      0.001   -7046.281   -1784.104\n",
            "x46        -4626.6517   1029.573     -4.494      0.000   -6660.457   -2592.847\n",
            "x47         6419.9473   1890.572      3.396      0.001    2685.335    1.02e+04\n",
            "x48        -3021.2322   1465.900     -2.061      0.041   -5916.953    -125.511\n",
            "x49         3452.3210   1362.716      2.533      0.012     760.429    6144.213\n",
            "x50        -2184.6356    596.787     -3.661      0.000   -3363.520   -1005.751\n",
            "x51         -861.2708    995.985     -0.865      0.389   -2828.727    1106.185\n",
            "==============================================================================\n",
            "Omnibus:                       56.924   Durbin-Watson:                   1.633\n",
            "Prob(Omnibus):                  0.000   Jarque-Bera (JB):              277.609\n",
            "Skew:                           0.958   Prob(JB):                     5.22e-61\n",
            "Kurtosis:                       8.369   Cond. No.                     1.00e+16\n",
            "==============================================================================\n",
            "\n",
            "Notes:\n",
            "[1] Standard Errors assume that the covariance matrix of the errors is correctly specified.\n",
            "[2] The smallest eigenvalue is 6.73e-23. This might indicate that there are\n",
            "strong multicollinearity problems or that the design matrix is singular.\n"
          ]
        }
      ]
    },
    {
      "cell_type": "code",
      "source": [
        "#25,21\n",
        "x_opt=x[: , [0,1,2,3,4,5,6,7,8,10,11,12,14,15,16,18,19,20,21,22,24,26,27,28,29,30,31,32,33,34,38,39,40,41,42,43,44,45,46,47,48,49,51,52,53,54,55,56,57,59,61]]\n",
        "ols_reg =sm.OLS(endog=y ,exog=x_opt).fit()\n",
        "print(ols_reg.summary())"
      ],
      "metadata": {
        "colab": {
          "base_uri": "https://localhost:8080/"
        },
        "id": "CZ-4JFBsmC4k",
        "outputId": "69bd0562-9ca1-4153-aba8-aec834d8d8b2"
      },
      "execution_count": null,
      "outputs": [
        {
          "output_type": "stream",
          "name": "stdout",
          "text": [
            "                            OLS Regression Results                            \n",
            "==============================================================================\n",
            "Dep. Variable:                      y   R-squared:                       0.965\n",
            "Model:                            OLS   Adj. R-squared:                  0.954\n",
            "Method:                 Least Squares   F-statistic:                     86.99\n",
            "Date:                Tue, 03 Jan 2023   Prob (F-statistic):           4.55e-91\n",
            "Time:                        16:05:39   Log-Likelihood:                -1789.1\n",
            "No. Observations:                 205   AIC:                             3678.\n",
            "Df Residuals:                     155   BIC:                             3844.\n",
            "Df Model:                          49                                         \n",
            "Covariance Type:            nonrobust                                         \n",
            "==============================================================================\n",
            "                 coef    std err          t      P>|t|      [0.025      0.975]\n",
            "------------------------------------------------------------------------------\n",
            "const      -1.465e+04   1.24e+04     -1.180      0.240   -3.92e+04    9876.707\n",
            "x1          -242.6190    216.041     -1.123      0.263    -669.384     184.146\n",
            "x2           262.9335     85.072      3.091      0.002      94.883     430.984\n",
            "x3          -134.7297     46.863     -2.875      0.005    -227.302     -42.158\n",
            "x4           677.5560    213.532      3.173      0.002     255.749    1099.364\n",
            "x5          -339.8233    126.287     -2.691      0.008    -589.290     -90.357\n",
            "x6             6.3325      1.437      4.406      0.000       3.493       9.172\n",
            "x7           108.3942     19.695      5.504      0.000      69.489     147.300\n",
            "x8         -5391.9227   1264.457     -4.264      0.000   -7889.715   -2894.130\n",
            "x9          -898.0019    437.392     -2.053      0.042   -1762.020     -33.983\n",
            "x10          -13.5503     16.731     -0.810      0.419     -46.600      19.500\n",
            "x11            2.1328      0.526      4.053      0.000       1.093       3.172\n",
            "x12          104.3505     56.194      1.857      0.065      -6.654     215.355\n",
            "x13        -1.264e+04   6044.936     -2.090      0.038   -2.46e+04    -695.391\n",
            "x14         1856.1860    697.772      2.660      0.009     477.816    3234.556\n",
            "x15        -2580.4665   1093.802     -2.359      0.020   -4741.149    -419.784\n",
            "x16        -3682.2017    989.099     -3.723      0.000   -5636.054   -1728.349\n",
            "x17        -2830.6130   1046.031     -2.706      0.008   -4896.928    -764.297\n",
            "x18        -2994.4103   1139.174     -2.629      0.009   -5244.721    -744.100\n",
            "x19          576.7852    604.334      0.954      0.341    -617.009    1770.579\n",
            "x20          1.21e+04   2426.376      4.987      0.000    7307.411    1.69e+04\n",
            "x21         -892.5555    857.064     -1.041      0.299   -2585.588     800.477\n",
            "x22         4562.7411   2534.404      1.800      0.074    -443.687    9569.170\n",
            "x23         2949.8034   2943.011      1.002      0.318   -2863.783    8763.390\n",
            "x24        -1981.6137   1999.338     -0.991      0.323   -5931.079    1967.852\n",
            "x25        -5484.1937   2043.904     -2.683      0.008   -9521.696   -1446.692\n",
            "x26        -4897.5400   1841.809     -2.659      0.009   -8535.826   -1259.254\n",
            "x27        -4117.9107   2342.028     -1.758      0.081   -8744.323     508.502\n",
            "x28        -5681.2380   4404.084     -1.290      0.199   -1.44e+04    3018.532\n",
            "x29         2694.5625   1022.822      2.634      0.009     674.093    4715.032\n",
            "x30         1408.2419   1043.775      1.349      0.179    -653.618    3470.102\n",
            "x31          932.7828   1330.574      0.701      0.484   -1695.617    3561.183\n",
            "x32         2196.5016   2340.098      0.939      0.349   -2426.098    6819.101\n",
            "x33         2322.5730   1592.072      1.459      0.147    -822.386    5467.532\n",
            "x34         8941.1578    930.070      9.613      0.000    7103.910    1.08e+04\n",
            "x35         3476.5201   1731.269      2.008      0.046      56.593    6896.447\n",
            "x36        -3621.2601   1475.468     -2.454      0.015   -6535.881    -706.639\n",
            "x37        -4541.7713    993.134     -4.573      0.000   -6503.596   -2579.946\n",
            "x38        -1554.0410   1245.316     -1.248      0.214   -4014.022     905.940\n",
            "x39        -2020.9585   1252.350     -1.614      0.109   -4494.834     452.917\n",
            "x40        -1700.8603   2264.056     -0.751      0.454   -6173.248    2771.527\n",
            "x41        -1168.1761    745.743     -1.566      0.119   -2641.307     304.955\n",
            "x42        -4972.9633   1041.472     -4.775      0.000   -7030.273   -2915.654\n",
            "x43        -1963.7856    739.526     -2.655      0.009   -3424.635    -502.936\n",
            "x44        -5196.7337   1527.427     -3.402      0.001   -8213.993   -2179.475\n",
            "x45        -4626.6517   1029.573     -4.494      0.000   -6660.457   -2592.847\n",
            "x46         6419.9473   1890.572      3.396      0.001    2685.335    1.02e+04\n",
            "x47        -3021.2322   1465.900     -2.061      0.041   -5916.953    -125.511\n",
            "x48         3452.3210   1362.716      2.533      0.012     760.429    6144.213\n",
            "x49        -2184.6356    596.787     -3.661      0.000   -3363.520   -1005.751\n",
            "x50         -861.2708    995.985     -0.865      0.389   -2828.727    1106.185\n",
            "==============================================================================\n",
            "Omnibus:                       56.924   Durbin-Watson:                   1.633\n",
            "Prob(Omnibus):                  0.000   Jarque-Bera (JB):              277.609\n",
            "Skew:                           0.958   Prob(JB):                     5.22e-61\n",
            "Kurtosis:                       8.369   Cond. No.                     2.59e+15\n",
            "==============================================================================\n",
            "\n",
            "Notes:\n",
            "[1] Standard Errors assume that the covariance matrix of the errors is correctly specified.\n",
            "[2] The smallest eigenvalue is 1.01e-21. This might indicate that there are\n",
            "strong multicollinearity problems or that the design matrix is singular.\n"
          ]
        }
      ]
    },
    {
      "cell_type": "code",
      "source": [
        "#39,31\n",
        "x_opt=x[: , [0,1,2,3,4,5,6,7,8,10,11,12,14,15,16,18,19,20,21,22,24,26,27,28,29,30,31,32,33,34,38,40,41,42,43,44,45,46,47,48,49,51,52,53,54,55,56,57,59,61]]\n",
        "ols_reg =sm.OLS(endog=y ,exog=x_opt).fit()\n",
        "print(ols_reg.summary())"
      ],
      "metadata": {
        "colab": {
          "base_uri": "https://localhost:8080/"
        },
        "id": "OA0xnIvrmTpe",
        "outputId": "325182db-634d-4952-fa96-d4574979cc95"
      },
      "execution_count": null,
      "outputs": [
        {
          "output_type": "stream",
          "name": "stdout",
          "text": [
            "                            OLS Regression Results                            \n",
            "==============================================================================\n",
            "Dep. Variable:                      y   R-squared:                       0.965\n",
            "Model:                            OLS   Adj. R-squared:                  0.954\n",
            "Method:                 Least Squares   F-statistic:                     89.08\n",
            "Date:                Tue, 03 Jan 2023   Prob (F-statistic):           6.10e-92\n",
            "Time:                        16:06:30   Log-Likelihood:                -1789.4\n",
            "No. Observations:                 205   AIC:                             3677.\n",
            "Df Residuals:                     156   BIC:                             3840.\n",
            "Df Model:                          48                                         \n",
            "Covariance Type:            nonrobust                                         \n",
            "==============================================================================\n",
            "                 coef    std err          t      P>|t|      [0.025      0.975]\n",
            "------------------------------------------------------------------------------\n",
            "const      -1.344e+04   1.23e+04     -1.095      0.275   -3.77e+04    1.08e+04\n",
            "x1          -238.8497    215.622     -1.108      0.270    -664.765     187.066\n",
            "x2           263.5527     84.929      3.103      0.002      95.794     431.312\n",
            "x3          -133.9323     46.773     -2.863      0.005    -226.322     -41.543\n",
            "x4           673.4647    213.104      3.160      0.002     252.524    1094.406\n",
            "x5          -346.1442    125.760     -2.752      0.007    -594.556     -97.733\n",
            "x6             6.3205      1.435      4.405      0.000       3.486       9.155\n",
            "x7           107.4602     19.618      5.478      0.000      68.709     146.211\n",
            "x8         -5457.5589   1258.929     -4.335      0.000   -7944.306   -2970.812\n",
            "x9          -925.8131    434.879     -2.129      0.035   -1784.823     -66.803\n",
            "x10          -12.1212     16.579     -0.731      0.466     -44.870      20.627\n",
            "x11            2.1143      0.525      4.029      0.000       1.078       3.151\n",
            "x12          100.5942     55.847      1.801      0.074      -9.719     210.907\n",
            "x13        -1.258e+04   6034.472     -2.084      0.039   -2.45e+04    -656.786\n",
            "x14         1850.3649    696.585      2.656      0.009     474.410    3226.320\n",
            "x15        -2570.3113   1091.922     -2.354      0.020   -4727.171    -413.452\n",
            "x16        -3682.4984    987.485     -3.729      0.000   -5633.065   -1731.932\n",
            "x17        -2803.3250   1043.601     -2.686      0.008   -4864.737    -741.913\n",
            "x18        -2970.4703   1136.805     -2.613      0.010   -5215.987    -724.954\n",
            "x19          560.4756    602.901      0.930      0.354    -630.428    1751.379\n",
            "x20          1.21e+04   2422.416      4.994      0.000    7313.743    1.69e+04\n",
            "x21         -855.3702    854.025     -1.002      0.318   -2542.315     831.575\n",
            "x22         4404.4546   2520.208      1.748      0.082    -573.681    9382.590\n",
            "x23         3284.9882   2899.176      1.133      0.259   -2441.718    9011.694\n",
            "x24        -1723.4636   1961.928     -0.878      0.381   -5598.835    2151.908\n",
            "x25        -5291.7885   2022.089     -2.617      0.010   -9285.996   -1297.581\n",
            "x26        -4697.8090   1816.672     -2.586      0.011   -8286.258   -1109.360\n",
            "x27        -3907.7556   2318.974     -1.685      0.094   -8488.396     672.885\n",
            "x28        -5508.1016   4389.980     -1.255      0.211   -1.42e+04    3163.372\n",
            "x29         2200.6363    740.244      2.973      0.003     738.441    3662.832\n",
            "x30          930.1776    788.918      1.179      0.240    -628.162    2488.517\n",
            "x31         1710.9504   2231.603      0.767      0.444   -2697.107    6119.008\n",
            "x32         2297.4164   1589.071      1.446      0.150    -841.456    5436.289\n",
            "x33         8940.4120    928.552      9.628      0.000    7106.255    1.08e+04\n",
            "x34         3512.7922   1727.673      2.033      0.044     100.141    6925.443\n",
            "x35        -3569.6038   1471.223     -2.426      0.016   -6475.693    -663.515\n",
            "x36        -4614.3346    986.114     -4.679      0.000   -6562.194   -2666.475\n",
            "x37        -1948.7416   1108.961     -1.757      0.081   -4139.259     241.775\n",
            "x38        -1999.8612   1249.946     -1.600      0.112   -4468.864     469.141\n",
            "x39        -1653.7248   2259.366     -0.732      0.465   -6116.622    2809.172\n",
            "x40        -1149.4773    744.050     -1.545      0.124   -2619.190     320.235\n",
            "x41        -4784.2438   1004.438     -4.763      0.000   -6768.297   -2800.191\n",
            "x42        -1947.5412    737.957     -2.639      0.009   -3405.218    -489.864\n",
            "x43        -5189.6580   1524.902     -3.403      0.001   -8201.777   -2177.539\n",
            "x44        -4507.6827   1013.834     -4.446      0.000   -6510.296   -2505.069\n",
            "x45         6423.8976   1887.480      3.403      0.001    2695.582    1.02e+04\n",
            "x46        -3015.8690   1463.489     -2.061      0.041   -5906.681    -125.057\n",
            "x47         3416.0654   1359.513      2.513      0.013     730.636    6101.495\n",
            "x48        -2165.9647    595.219     -3.639      0.000   -3341.694    -990.235\n",
            "x49         -868.1643    994.312     -0.873      0.384   -2832.216    1095.887\n",
            "==============================================================================\n",
            "Omnibus:                       56.312   Durbin-Watson:                   1.637\n",
            "Prob(Omnibus):                  0.000   Jarque-Bera (JB):              268.481\n",
            "Skew:                           0.954   Prob(JB):                     5.01e-59\n",
            "Kurtosis:                       8.272   Cond. No.                     2.58e+15\n",
            "==============================================================================\n",
            "\n",
            "Notes:\n",
            "[1] Standard Errors assume that the covariance matrix of the errors is correctly specified.\n",
            "[2] The smallest eigenvalue is 1.02e-21. This might indicate that there are\n",
            "strong multicollinearity problems or that the design matrix is singular.\n"
          ]
        }
      ]
    },
    {
      "cell_type": "code",
      "source": [
        "#11,10\n",
        "x_opt=x[: , [0,1,2,3,4,5,6,7,8,10,12,14,15,16,18,19,20,21,22,24,26,27,28,29,30,31,32,33,34,38,40,41,42,43,44,45,46,47,48,49,51,52,53,54,55,56,57,59,61]]\n",
        "ols_reg =sm.OLS(endog=y ,exog=x_opt).fit()\n",
        "print(ols_reg.summary())"
      ],
      "metadata": {
        "colab": {
          "base_uri": "https://localhost:8080/"
        },
        "id": "78c81e19mlBw",
        "outputId": "55b0cd63-6754-49c7-eb09-772f9f0599c8"
      },
      "execution_count": null,
      "outputs": [
        {
          "output_type": "stream",
          "name": "stdout",
          "text": [
            "                            OLS Regression Results                            \n",
            "==============================================================================\n",
            "Dep. Variable:                      y   R-squared:                       0.965\n",
            "Model:                            OLS   Adj. R-squared:                  0.954\n",
            "Method:                 Least Squares   F-statistic:                     91.23\n",
            "Date:                Tue, 03 Jan 2023   Prob (F-statistic):           8.26e-93\n",
            "Time:                        16:07:19   Log-Likelihood:                -1789.8\n",
            "No. Observations:                 205   AIC:                             3676.\n",
            "Df Residuals:                     157   BIC:                             3835.\n",
            "Df Model:                          47                                         \n",
            "Covariance Type:            nonrobust                                         \n",
            "==============================================================================\n",
            "                 coef    std err          t      P>|t|      [0.025      0.975]\n",
            "------------------------------------------------------------------------------\n",
            "const      -1.387e+04   1.22e+04     -1.133      0.259   -3.81e+04    1.03e+04\n",
            "x1          -217.9742    213.406     -1.021      0.309    -639.492     203.543\n",
            "x2           271.6744     84.074      3.231      0.002     105.611     437.737\n",
            "x3          -131.4486     46.580     -2.822      0.005    -223.453     -39.445\n",
            "x4           642.6391    208.581      3.081      0.002     230.652    1054.626\n",
            "x5          -342.8024    125.490     -2.732      0.007    -590.669     -94.936\n",
            "x6             6.0662      1.390      4.364      0.000       3.321       8.812\n",
            "x7           102.9221     18.582      5.539      0.000      66.218     139.626\n",
            "x8         -5545.0895   1251.364     -4.431      0.000   -8016.771   -3073.408\n",
            "x9          -835.2806    416.258     -2.007      0.047   -1657.469     -13.093\n",
            "x10            2.0036      0.502      3.994      0.000       1.013       2.995\n",
            "x11           97.7303     55.626      1.757      0.081     -12.142     207.603\n",
            "x12        -1.158e+04   5870.250     -1.973      0.050   -2.32e+04      13.353\n",
            "x13         1605.6872    610.018      2.632      0.009     400.786    2810.589\n",
            "x14        -2716.5695   1071.848     -2.534      0.012   -4833.671    -599.468\n",
            "x15        -3806.8098    971.293     -3.919      0.000   -5725.298   -1888.322\n",
            "x16        -2903.0504   1033.113     -2.810      0.006   -4943.645    -862.456\n",
            "x17        -3048.5762   1130.095     -2.698      0.008   -5280.727    -816.425\n",
            "x18          491.8482    594.666      0.827      0.409    -682.729    1666.425\n",
            "x19         1.197e+04   2411.929      4.961      0.000    7201.076    1.67e+04\n",
            "x20         -599.0145    777.569     -0.770      0.442   -2134.860     936.831\n",
            "x21         4447.5604   2515.781      1.768      0.079    -521.582    9416.703\n",
            "x22         3709.3312   2836.269      1.308      0.193   -1892.837    9311.500\n",
            "x23        -1547.0493   1944.145     -0.796      0.427   -5387.102    2293.004\n",
            "x24        -5159.6293   2011.005     -2.566      0.011   -9131.745   -1187.514\n",
            "x25        -4672.1583   1813.638     -2.576      0.011   -8254.437   -1089.880\n",
            "x26        -4006.9607   2311.567     -1.733      0.085   -8572.742     558.821\n",
            "x27        -6639.3905   4102.143     -1.619      0.108   -1.47e+04    1463.117\n",
            "x28         2159.5202    737.010      2.930      0.004     703.786    3615.255\n",
            "x29          784.4426    762.187      1.029      0.305    -721.022    2289.907\n",
            "x30         1782.1563   2226.169      0.801      0.425   -2614.949    6179.262\n",
            "x31         2308.2758   1586.645      1.455      0.148    -825.648    5442.199\n",
            "x32         8910.9113    926.298      9.620      0.000    7081.297    1.07e+04\n",
            "x33         3875.1276   1652.609      2.345      0.020     610.912    7139.343\n",
            "x34        -3639.6117   1465.926     -2.483      0.014   -6535.093    -744.131\n",
            "x35        -4598.1567    984.404     -4.671      0.000   -6542.540   -2653.774\n",
            "x36        -2013.6000   1103.767     -1.824      0.070   -4193.749     166.549\n",
            "x37        -2041.0088   1246.826     -1.637      0.104   -4503.725     421.708\n",
            "x38        -1139.9013   2144.094     -0.532      0.596   -5374.892    3095.089\n",
            "x39        -1140.9761    742.855     -1.536      0.127   -2608.256     326.304\n",
            "x40        -4814.6065   1002.090     -4.805      0.000   -6793.923   -2835.290\n",
            "x41        -2019.2713    730.321     -2.765      0.006   -3461.793    -576.750\n",
            "x42        -4694.5078   1364.226     -3.441      0.001   -7389.113   -1999.903\n",
            "x43        -4509.6172   1012.326     -4.455      0.000   -6509.153   -2510.081\n",
            "x44         5911.1756   1749.762      3.378      0.001    2455.065    9367.286\n",
            "x45        -2822.1104   1437.158     -1.964      0.051   -5660.769      16.549\n",
            "x46         3226.4941   1332.578      2.421      0.017     594.401    5858.587\n",
            "x47        -2158.7520    594.255     -3.633      0.000   -3332.518    -984.986\n",
            "x48         -909.2932    991.246     -0.917      0.360   -2867.192    1048.606\n",
            "==============================================================================\n",
            "Omnibus:                       55.799   Durbin-Watson:                   1.644\n",
            "Prob(Omnibus):                  0.000   Jarque-Bera (JB):              257.274\n",
            "Skew:                           0.955   Prob(JB):                     1.36e-56\n",
            "Kurtosis:                       8.145   Cond. No.                     2.58e+15\n",
            "==============================================================================\n",
            "\n",
            "Notes:\n",
            "[1] Standard Errors assume that the covariance matrix of the errors is correctly specified.\n",
            "[2] The smallest eigenvalue is 1.02e-21. This might indicate that there are\n",
            "strong multicollinearity problems or that the design matrix is singular.\n"
          ]
        }
      ]
    },
    {
      "cell_type": "code",
      "source": [
        "#48,38\n",
        "x_opt=x[: , [0,1,2,3,4,5,6,7,8,10,12,14,15,16,18,19,20,21,22,24,26,27,28,29,30,31,32,33,34,38,40,41,42,43,44,45,46,47,49,51,52,53,54,55,56,57,59,61]]\n",
        "ols_reg =sm.OLS(endog=y ,exog=x_opt).fit()\n",
        "print(ols_reg.summary())"
      ],
      "metadata": {
        "colab": {
          "base_uri": "https://localhost:8080/"
        },
        "id": "-TuvzwRVm0PP",
        "outputId": "6384c73e-876f-4f7e-8475-b7d9dd174e4f"
      },
      "execution_count": null,
      "outputs": [
        {
          "output_type": "stream",
          "name": "stdout",
          "text": [
            "                            OLS Regression Results                            \n",
            "==============================================================================\n",
            "Dep. Variable:                      y   R-squared:                       0.965\n",
            "Model:                            OLS   Adj. R-squared:                  0.954\n",
            "Method:                 Least Squares   F-statistic:                     93.63\n",
            "Date:                Tue, 03 Jan 2023   Prob (F-statistic):           9.75e-94\n",
            "Time:                        16:08:43   Log-Likelihood:                -1790.0\n",
            "No. Observations:                 205   AIC:                             3674.\n",
            "Df Residuals:                     158   BIC:                             3830.\n",
            "Df Model:                          46                                         \n",
            "Covariance Type:            nonrobust                                         \n",
            "==============================================================================\n",
            "                 coef    std err          t      P>|t|      [0.025      0.975]\n",
            "------------------------------------------------------------------------------\n",
            "const      -1.566e+04   1.17e+04     -1.334      0.184   -3.89e+04    7529.288\n",
            "x1          -217.9785    212.921     -1.024      0.308    -638.517     202.560\n",
            "x2           255.5714     78.251      3.266      0.001     101.019     410.124\n",
            "x3          -122.5375     43.361     -2.826      0.005    -208.179     -36.896\n",
            "x4           654.0560    207.001      3.160      0.002     245.210    1062.902\n",
            "x5          -322.1148    119.033     -2.706      0.008    -557.217     -87.013\n",
            "x6             5.7928      1.288      4.496      0.000       3.248       8.338\n",
            "x7            99.0713     17.074      5.803      0.000      65.349     132.794\n",
            "x8         -5239.5744   1109.086     -4.724      0.000   -7430.121   -3049.028\n",
            "x9          -816.3918    413.796     -1.973      0.050   -1633.677       0.894\n",
            "x10            2.0100      0.500      4.017      0.000       1.022       2.998\n",
            "x11           93.6108     54.959      1.703      0.090     -14.938     202.160\n",
            "x12        -1.141e+04   5848.284     -1.951      0.053    -2.3e+04     138.707\n",
            "x13         1659.1472    600.306      2.764      0.006     473.488    2844.807\n",
            "x14        -2799.3573   1058.066     -2.646      0.009   -4889.134    -709.580\n",
            "x15        -3866.3539    962.622     -4.016      0.000   -5767.620   -1965.088\n",
            "x16        -3015.1227   1009.080     -2.988      0.003   -5008.148   -1022.097\n",
            "x17        -3154.5600   1109.845     -2.842      0.005   -5346.606    -962.514\n",
            "x18          557.1915    580.503      0.960      0.339    -589.356    1703.739\n",
            "x19         1.184e+04   2394.661      4.944      0.000    7108.658    1.66e+04\n",
            "x20         -430.5842    708.489     -0.608      0.544   -1829.915     968.747\n",
            "x21         4015.1128   2375.244      1.690      0.093    -676.212    8706.438\n",
            "x22         3384.2762   2763.291      1.225      0.223   -2073.477    8842.029\n",
            "x23        -1933.3606   1799.150     -1.075      0.284   -5486.848    1620.127\n",
            "x24        -5397.7654   1956.031     -2.760      0.006   -9261.107   -1534.424\n",
            "x25        -4767.0911   1800.725     -2.647      0.009   -8323.688   -1210.494\n",
            "x26        -3866.6418   2291.230     -1.688      0.093   -8392.033     658.749\n",
            "x27        -7097.0472   4001.689     -1.774      0.078    -1.5e+04     806.657\n",
            "x28         2122.0120    731.958      2.899      0.004     676.327    3567.697\n",
            "x29          819.5524    757.595      1.082      0.281    -676.768    2315.873\n",
            "x30         1710.8304   2217.073      0.772      0.441   -2668.093    6089.754\n",
            "x31         2381.1300   1577.123      1.510      0.133    -733.834    5496.094\n",
            "x32         8963.2956    918.950      9.754      0.000    7148.285    1.08e+04\n",
            "x33         4086.9634   1600.211      2.554      0.012     926.400    7247.527\n",
            "x34        -3456.4105   1421.611     -2.431      0.016   -6264.223    -648.598\n",
            "x35        -4398.1546    907.619     -4.846      0.000   -6190.785   -2605.524\n",
            "x36        -1869.4772   1067.528     -1.751      0.082   -3977.943     238.989\n",
            "x37        -1860.9071   1197.196     -1.554      0.122   -4225.479     503.665\n",
            "x38        -1045.7142    719.283     -1.454      0.148   -2466.364     374.936\n",
            "x39        -4602.8735    917.461     -5.017      0.000   -6414.944   -2790.803\n",
            "x40        -1934.7469    711.186     -2.720      0.007   -3339.404    -530.090\n",
            "x41        -4377.9221   1224.613     -3.575      0.000   -6796.645   -1959.200\n",
            "x42        -4320.2859    945.465     -4.569      0.000   -6187.667   -2452.905\n",
            "x43         5918.5525   1745.730      3.390      0.001    2470.575    9366.530\n",
            "x44        -2762.7666   1429.560     -1.933      0.055   -5586.280      60.747\n",
            "x45         3262.3156   1327.849      2.457      0.015     639.692    5884.939\n",
            "x46        -2030.1745    541.582     -3.749      0.000   -3099.848    -960.501\n",
            "x47         -862.2874    985.052     -0.875      0.383   -2807.855    1083.280\n",
            "==============================================================================\n",
            "Omnibus:                       58.718   Durbin-Watson:                   1.618\n",
            "Prob(Omnibus):                  0.000   Jarque-Bera (JB):              283.193\n",
            "Skew:                           0.999   Prob(JB):                     3.20e-62\n",
            "Kurtosis:                       8.400   Cond. No.                     2.62e+15\n",
            "==============================================================================\n",
            "\n",
            "Notes:\n",
            "[1] Standard Errors assume that the covariance matrix of the errors is correctly specified.\n",
            "[2] The smallest eigenvalue is 9.86e-22. This might indicate that there are\n",
            "strong multicollinearity problems or that the design matrix is singular.\n"
          ]
        }
      ]
    },
    {
      "cell_type": "code",
      "source": [
        "#26,20\n",
        "x_opt=x[: , [0,1,2,3,4,5,6,7,8,10,12,14,15,16,18,19,20,21,22,24,27,28,29,30,31,32,33,34,38,40,41,42,43,44,45,46,47,49,51,52,53,54,55,56,57,59,61]]\n",
        "ols_reg =sm.OLS(endog=y ,exog=x_opt).fit()\n",
        "print(ols_reg.summary())"
      ],
      "metadata": {
        "colab": {
          "base_uri": "https://localhost:8080/"
        },
        "id": "znzUqTVZnDnp",
        "outputId": "4dad498e-f916-4b19-9a23-9f4538dd5492"
      },
      "execution_count": null,
      "outputs": [
        {
          "output_type": "stream",
          "name": "stdout",
          "text": [
            "                            OLS Regression Results                            \n",
            "==============================================================================\n",
            "Dep. Variable:                      y   R-squared:                       0.965\n",
            "Model:                            OLS   Adj. R-squared:                  0.954\n",
            "Method:                 Least Squares   F-statistic:                     96.09\n",
            "Date:                Tue, 03 Jan 2023   Prob (F-statistic):           1.18e-94\n",
            "Time:                        16:09:36   Log-Likelihood:                -1790.2\n",
            "No. Observations:                 205   AIC:                             3672.\n",
            "Df Residuals:                     159   BIC:                             3825.\n",
            "Df Model:                          45                                         \n",
            "Covariance Type:            nonrobust                                         \n",
            "==============================================================================\n",
            "                 coef    std err          t      P>|t|      [0.025      0.975]\n",
            "------------------------------------------------------------------------------\n",
            "const      -1.526e+04   1.17e+04     -1.304      0.194   -3.84e+04    7849.451\n",
            "x1          -201.1171    210.687     -0.955      0.341    -617.223     214.989\n",
            "x2           261.1479     77.557      3.367      0.001     107.974     414.322\n",
            "x3          -119.9767     43.070     -2.786      0.006    -205.040     -34.914\n",
            "x4           622.2324    199.871      3.113      0.002     227.487    1016.977\n",
            "x5          -334.7520    116.971     -2.862      0.005    -565.768    -103.735\n",
            "x6             5.7991      1.286      4.510      0.000       3.260       8.339\n",
            "x7           100.1954     16.940      5.915      0.000      66.740     133.651\n",
            "x8         -5253.0404   1106.663     -4.747      0.000   -7438.696   -3067.385\n",
            "x9          -798.1339    411.885     -1.938      0.054   -1611.605      15.337\n",
            "x10            2.1205      0.465      4.557      0.000       1.202       3.039\n",
            "x11           96.0075     54.708      1.755      0.081     -12.041     204.056\n",
            "x12        -1.119e+04   5825.307     -1.921      0.057   -2.27e+04     314.485\n",
            "x13         1720.2028    590.665      2.912      0.004     553.641    2886.764\n",
            "x14        -2935.9795   1031.856     -2.845      0.005   -4973.892    -898.067\n",
            "x15        -3977.7994    943.119     -4.218      0.000   -5840.455   -2115.144\n",
            "x16        -3108.7237    995.278     -3.123      0.002   -5074.393   -1143.054\n",
            "x17        -3227.7706   1101.098     -2.931      0.004   -5402.436   -1053.106\n",
            "x18          555.6029    579.345      0.959      0.339    -588.601    1699.807\n",
            "x19          1.14e+04   2276.388      5.006      0.000    6899.267    1.59e+04\n",
            "x20         4256.4236   2337.173      1.821      0.070    -359.484    8872.332\n",
            "x21         3757.2085   2688.948      1.397      0.164   -1553.454    9067.871\n",
            "x22        -2004.9691   1791.724     -1.119      0.265   -5543.618    1533.679\n",
            "x23        -5332.0998   1949.168     -2.736      0.007   -9181.699   -1482.501\n",
            "x24        -4723.8018   1795.743     -2.631      0.009   -8270.388   -1177.215\n",
            "x25        -3799.5582   2284.027     -1.664      0.098   -8310.503     711.386\n",
            "x26        -7411.1772   3960.290     -1.871      0.063   -1.52e+04     410.381\n",
            "x27         2142.2854    729.746      2.936      0.004     701.039    3583.531\n",
            "x28          816.0387    756.069      1.079      0.282    -677.195    2309.273\n",
            "x29         1759.2391   2211.243      0.796      0.427   -2607.958    6126.436\n",
            "x30         2228.3448   1553.867      1.434      0.154    -840.538    5297.227\n",
            "x31         8807.9131    880.916      9.999      0.000    7068.108    1.05e+04\n",
            "x32         3938.1943   1578.238      2.495      0.014     821.180    7055.208\n",
            "x33        -3564.1004   1407.725     -2.532      0.012   -6344.351    -783.849\n",
            "x34        -4501.8447    889.669     -5.060      0.000   -6258.938   -2744.752\n",
            "x35        -1954.0951   1056.308     -1.850      0.066   -4040.300     132.110\n",
            "x36        -1963.0716   1182.982     -1.659      0.099   -4299.457     373.313\n",
            "x37        -1038.3236    717.753     -1.447      0.150   -2455.882     379.235\n",
            "x38        -4704.1168    900.419     -5.224      0.000   -6482.442   -2925.792\n",
            "x39        -2047.2929    685.290     -2.987      0.003   -3400.737    -693.849\n",
            "x40        -3940.5078    988.825     -3.985      0.000   -5893.434   -1987.582\n",
            "x41        -4428.9777    926.553     -4.780      0.000   -6258.917   -2599.038\n",
            "x42         6025.5546   1733.381      3.476      0.001    2602.133    9448.976\n",
            "x43        -2792.4682   1425.889     -1.958      0.052   -5608.593      23.656\n",
            "x44         3327.9759   1320.819      2.520      0.013     719.364    5936.588\n",
            "x45        -1992.0579    536.870     -3.711      0.000   -3052.374    -931.741\n",
            "x46         -931.3323    976.536     -0.954      0.342   -2859.987     997.323\n",
            "==============================================================================\n",
            "Omnibus:                       56.555   Durbin-Watson:                   1.627\n",
            "Prob(Omnibus):                  0.000   Jarque-Bera (JB):              262.266\n",
            "Skew:                           0.969   Prob(JB):                     1.12e-57\n",
            "Kurtosis:                       8.191   Cond. No.                     2.61e+15\n",
            "==============================================================================\n",
            "\n",
            "Notes:\n",
            "[1] Standard Errors assume that the covariance matrix of the errors is correctly specified.\n",
            "[2] The smallest eigenvalue is 9.95e-22. This might indicate that there are\n",
            "strong multicollinearity problems or that the design matrix is singular.\n"
          ]
        }
      ]
    },
    {
      "cell_type": "code",
      "source": [
        "#40,29\n",
        "#40,29\n",
        "x_opt=x[: , [0,1,2,3,4,5,6,7,8,10,12,14,15,16,18,19,20,21,22,24,27,28,29,30,31,32,33,34,38,41,42,43,44,45,46,47,49,51,52,53,54,55,56,57,59,61]]\n",
        "ols_reg =sm.OLS(endog=y ,exog=x_opt).fit()\n",
        "print(ols_reg.summary())"
      ],
      "metadata": {
        "colab": {
          "base_uri": "https://localhost:8080/"
        },
        "id": "CelBP3EXnOeq",
        "outputId": "8c33d2cd-fb16-4732-956b-e5290e3d072a"
      },
      "execution_count": null,
      "outputs": [
        {
          "output_type": "stream",
          "name": "stdout",
          "text": [
            "                            OLS Regression Results                            \n",
            "==============================================================================\n",
            "Dep. Variable:                      y   R-squared:                       0.964\n",
            "Model:                            OLS   Adj. R-squared:                  0.955\n",
            "Method:                 Least Squares   F-statistic:                     98.48\n",
            "Date:                Tue, 03 Jan 2023   Prob (F-statistic):           1.62e-95\n",
            "Time:                        16:10:52   Log-Likelihood:                -1790.6\n",
            "No. Observations:                 205   AIC:                             3671.\n",
            "Df Residuals:                     160   BIC:                             3821.\n",
            "Df Model:                          44                                         \n",
            "Covariance Type:            nonrobust                                         \n",
            "==============================================================================\n",
            "                 coef    std err          t      P>|t|      [0.025      0.975]\n",
            "------------------------------------------------------------------------------\n",
            "const      -1.621e+04   1.16e+04     -1.394      0.165   -3.92e+04    6754.394\n",
            "x1          -189.5400    209.943     -0.903      0.368    -604.156     225.076\n",
            "x2           258.5904     77.401      3.341      0.001     105.731     411.450\n",
            "x3          -118.7853     42.995     -2.763      0.006    -203.695     -33.875\n",
            "x4           628.6271    199.480      3.151      0.002     234.673    1022.581\n",
            "x5          -334.1546    116.834     -2.860      0.005    -564.890    -103.419\n",
            "x6             5.9474      1.271      4.680      0.000       3.438       8.457\n",
            "x7            98.0665     16.708      5.870      0.000      65.070     131.063\n",
            "x8         -5231.0883   1105.049     -4.734      0.000   -7413.452   -3048.725\n",
            "x9          -762.9871    409.039     -1.865      0.064   -1570.799      44.825\n",
            "x10            2.0739      0.461      4.498      0.000       1.163       2.984\n",
            "x11           92.1679     54.433      1.693      0.092     -15.331     199.667\n",
            "x12        -1.059e+04   5769.003     -1.835      0.068    -2.2e+04     806.697\n",
            "x13         1646.3990    582.666      2.826      0.005     495.692    2797.106\n",
            "x14        -2893.6157   1029.299     -2.811      0.006   -4926.380    -860.852\n",
            "x15        -3895.4109    936.340     -4.160      0.000   -5744.590   -2046.231\n",
            "x16        -3059.8958    992.243     -3.084      0.002   -5019.479   -1100.313\n",
            "x17        -3202.4872   1099.376     -2.913      0.004   -5373.647   -1031.327\n",
            "x18          567.4943    578.488      0.981      0.328    -574.962    1709.950\n",
            "x19         1.163e+04   2253.911      5.162      0.000    7182.743    1.61e+04\n",
            "x20         3848.1303   2277.516      1.690      0.093    -649.740    8346.001\n",
            "x21         3673.0189   2683.782      1.369      0.173   -1627.186    8973.224\n",
            "x22        -2107.8230   1785.003     -1.181      0.239   -5633.028    1417.382\n",
            "x23        -5430.3639   1943.018     -2.795      0.006   -9267.634   -1593.094\n",
            "x24        -4869.7110   1784.304     -2.729      0.007   -8393.535   -1345.887\n",
            "x25        -3829.3616   2281.099     -1.679      0.095   -8334.307     675.584\n",
            "x26        -7489.4057   3954.526     -1.894      0.060   -1.53e+04     320.394\n",
            "x27         1967.3313    695.026      2.831      0.005     594.724    3339.938\n",
            "x28          654.3194    727.396      0.900      0.370    -782.217    2090.856\n",
            "x29         2206.3625   1551.839      1.422      0.157    -858.366    5271.091\n",
            "x30         8846.4708    878.572     10.069      0.000    7111.378    1.06e+04\n",
            "x31         3902.5407   1575.791      2.477      0.014     790.509    7014.573\n",
            "x32        -3473.5336   1401.504     -2.478      0.014   -6241.366    -705.701\n",
            "x33        -4434.2376    884.585     -5.013      0.000   -6181.206   -2687.269\n",
            "x34        -2033.0315   1050.432     -1.935      0.055   -4107.530      41.467\n",
            "x35        -1533.7676   1051.537     -1.459      0.147   -3610.449     542.914\n",
            "x36        -1021.0011    716.599     -1.425      0.156   -2436.213     394.211\n",
            "x37        -4730.9110    898.757     -5.264      0.000   -6505.867   -2955.955\n",
            "x38        -1994.0644    681.233     -2.927      0.004   -3339.433    -648.696\n",
            "x39        -3999.9187    984.870     -4.061      0.000   -5944.939   -2054.898\n",
            "x40        -4404.4022    924.976     -4.762      0.000   -6231.138   -2577.666\n",
            "x41         5901.4789   1724.370      3.422      0.001    2496.018    9306.940\n",
            "x42        -2792.0254   1424.252     -1.960      0.052   -5604.783      20.732\n",
            "x43         3245.1903   1315.203      2.467      0.015     647.795    5842.586\n",
            "x44        -1993.3587    536.252     -3.717      0.000   -3052.403    -934.315\n",
            "x45         -929.5414    975.413     -0.953      0.342   -2855.885     996.803\n",
            "==============================================================================\n",
            "Omnibus:                       57.125   Durbin-Watson:                   1.619\n",
            "Prob(Omnibus):                  0.000   Jarque-Bera (JB):              267.070\n",
            "Skew:                           0.978   Prob(JB):                     1.02e-58\n",
            "Kurtosis:                       8.239   Cond. No.                     2.62e+15\n",
            "==============================================================================\n",
            "\n",
            "Notes:\n",
            "[1] Standard Errors assume that the covariance matrix of the errors is correctly specified.\n",
            "[2] The smallest eigenvalue is 9.86e-22. This might indicate that there are\n",
            "strong multicollinearity problems or that the design matrix is singular.\n"
          ]
        }
      ]
    },
    {
      "cell_type": "code",
      "source": [
        "#38,28\n",
        "\n",
        "x_opt=x[: , [0,1,2,3,4,5,6,7,8,10,12,14,15,16,18,19,20,21,22,24,27,28,29,30,31,32,33,34,41,42,43,44,45,46,47,49,51,52,53,54,55,56,57,59,61]]\n",
        "ols_reg =sm.OLS(endog=y ,exog=x_opt).fit()\n",
        "print(ols_reg.summary())"
      ],
      "metadata": {
        "colab": {
          "base_uri": "https://localhost:8080/"
        },
        "id": "YUZrOqa_nlvi",
        "outputId": "c64e59f1-64bc-4e36-e124-088a6943ec92"
      },
      "execution_count": null,
      "outputs": [
        {
          "output_type": "stream",
          "name": "stdout",
          "text": [
            "                            OLS Regression Results                            \n",
            "==============================================================================\n",
            "Dep. Variable:                      y   R-squared:                       0.964\n",
            "Model:                            OLS   Adj. R-squared:                  0.955\n",
            "Method:                 Least Squares   F-statistic:                     100.9\n",
            "Date:                Tue, 03 Jan 2023   Prob (F-statistic):           2.39e-96\n",
            "Time:                        16:11:58   Log-Likelihood:                -1791.1\n",
            "No. Observations:                 205   AIC:                             3670.\n",
            "Df Residuals:                     161   BIC:                             3816.\n",
            "Df Model:                          43                                         \n",
            "Covariance Type:            nonrobust                                         \n",
            "==============================================================================\n",
            "                 coef    std err          t      P>|t|      [0.025      0.975]\n",
            "------------------------------------------------------------------------------\n",
            "const      -1.718e+04   1.16e+04     -1.485      0.140      -4e+04    5670.411\n",
            "x1          -213.7021    208.094     -1.027      0.306    -624.647     197.243\n",
            "x2           262.7880     77.214      3.403      0.001     110.304     415.272\n",
            "x3          -121.9843     42.822     -2.849      0.005    -206.549     -37.419\n",
            "x4           635.4071    199.220      3.189      0.002     241.986    1028.828\n",
            "x5          -345.2846    116.108     -2.974      0.003    -574.576    -115.993\n",
            "x6             5.9793      1.270      4.710      0.000       3.472       8.486\n",
            "x7            98.3985     16.694      5.894      0.000      65.431     131.366\n",
            "x8         -5235.3557   1104.384     -4.741      0.000   -7416.302   -3054.409\n",
            "x9          -706.7163    403.988     -1.749      0.082   -1504.515      91.082\n",
            "x10            2.0979      0.460      4.560      0.000       1.189       3.006\n",
            "x11           89.1282     54.295      1.642      0.103     -18.095     196.351\n",
            "x12        -9275.9458   5578.691     -1.663      0.098   -2.03e+04    1740.897\n",
            "x13         1595.8776    579.609      2.753      0.007     451.262    2740.493\n",
            "x14        -2925.1526   1028.092     -2.845      0.005   -4955.437    -894.868\n",
            "x15        -3995.5085    929.153     -4.300      0.000   -5830.408   -2160.609\n",
            "x16        -3115.2339    989.748     -3.148      0.002   -5069.795   -1160.673\n",
            "x17        -3260.3893   1096.840     -2.973      0.003   -5426.437   -1094.341\n",
            "x18          607.1719    576.462      1.053      0.294    -531.229    1745.573\n",
            "x19         1.161e+04   2252.441      5.155      0.000    7163.782    1.61e+04\n",
            "x20         3387.9873   2218.012      1.527      0.129    -992.160    7768.135\n",
            "x21         3760.5262   2680.428      1.403      0.163   -1532.805    9053.857\n",
            "x22        -2153.4559   1783.224     -1.208      0.229   -5674.982    1368.070\n",
            "x23        -5491.6377   1940.673     -2.830      0.005   -9324.094   -1659.182\n",
            "x24        -4901.0309   1782.906     -2.749      0.007   -8421.929   -1380.133\n",
            "x25        -3922.9059   2277.376     -1.723      0.087   -8420.287     574.475\n",
            "x26        -7855.3082   3931.218     -1.998      0.047   -1.56e+04     -91.907\n",
            "x27         1515.4188    479.998      3.157      0.002     567.516    2463.322\n",
            "x28         2335.6817   1544.249      1.513      0.132    -713.914    5385.278\n",
            "x29         8876.1917    877.430     10.116      0.000    7143.436    1.06e+04\n",
            "x30         3892.6204   1574.818      2.472      0.014     782.657    7002.584\n",
            "x31        -3588.2476   1394.863     -2.572      0.011   -6342.834    -833.661\n",
            "x32        -4505.4111    880.517     -5.117      0.000   -6244.263   -2766.559\n",
            "x33        -2509.1521    906.795     -2.767      0.006   -4299.898    -718.407\n",
            "x34        -1772.2658   1016.959     -1.743      0.083   -3780.565     236.034\n",
            "x35        -1046.8292    715.599     -1.463      0.145   -2460.000     366.341\n",
            "x36        -4990.0547    850.830     -5.865      0.000   -6670.280   -3309.829\n",
            "x37        -2018.3489    680.294     -2.967      0.003   -3361.800    -674.898\n",
            "x38        -3927.1389    980.959     -4.003      0.000   -5864.344   -1989.933\n",
            "x39        -4597.3959    899.216     -5.113      0.000   -6373.175   -2821.617\n",
            "x40         5884.4210   1723.244      3.415      0.001    2481.345    9287.497\n",
            "x41        -2649.2147   1414.537     -1.873      0.063   -5442.653     144.224\n",
            "x42         3438.6815   1296.724      2.652      0.009     877.900    5999.463\n",
            "x43        -1993.6574    535.934     -3.720      0.000   -3052.023    -935.292\n",
            "x44         -815.7865    966.607     -0.844      0.400   -2724.650    1093.077\n",
            "==============================================================================\n",
            "Omnibus:                       57.008   Durbin-Watson:                   1.631\n",
            "Prob(Omnibus):                  0.000   Jarque-Bera (JB):              259.330\n",
            "Skew:                           0.985   Prob(JB):                     4.87e-57\n",
            "Kurtosis:                       8.146   Cond. No.                     2.60e+15\n",
            "==============================================================================\n",
            "\n",
            "Notes:\n",
            "[1] Standard Errors assume that the covariance matrix of the errors is correctly specified.\n",
            "[2] The smallest eigenvalue is 1.01e-21. This might indicate that there are\n",
            "strong multicollinearity problems or that the design matrix is singular.\n"
          ]
        }
      ]
    },
    {
      "cell_type": "code",
      "source": [
        "\n",
        "#61,44\n",
        "\n",
        "x_opt=x[: , [0,1,2,3,4,5,6,7,8,10,12,14,15,16,18,19,20,21,22,24,27,28,29,30,31,32,33,34,41,42,43,44,45,46,47,49,51,52,53,54,55,56,57,59]]\n",
        "ols_reg =sm.OLS(endog=y ,exog=x_opt).fit()\n",
        "print(ols_reg.summary())"
      ],
      "metadata": {
        "colab": {
          "base_uri": "https://localhost:8080/"
        },
        "id": "2SdK6DftoCzu",
        "outputId": "94261392-3113-4465-99f1-16e1ad94d9a4"
      },
      "execution_count": null,
      "outputs": [
        {
          "output_type": "stream",
          "name": "stdout",
          "text": [
            "                            OLS Regression Results                            \n",
            "==============================================================================\n",
            "Dep. Variable:                      y   R-squared:                       0.964\n",
            "Model:                            OLS   Adj. R-squared:                  0.955\n",
            "Method:                 Least Squares   F-statistic:                     103.4\n",
            "Date:                Tue, 03 Jan 2023   Prob (F-statistic):           3.31e-97\n",
            "Time:                        16:12:37   Log-Likelihood:                -1791.6\n",
            "No. Observations:                 205   AIC:                             3669.\n",
            "Df Residuals:                     162   BIC:                             3812.\n",
            "Df Model:                          42                                         \n",
            "Covariance Type:            nonrobust                                         \n",
            "==============================================================================\n",
            "                 coef    std err          t      P>|t|      [0.025      0.975]\n",
            "------------------------------------------------------------------------------\n",
            "const      -1.544e+04   1.14e+04     -1.357      0.177   -3.79e+04    7021.694\n",
            "x1          -300.6251    180.658     -1.664      0.098    -657.373      56.123\n",
            "x2           266.5671     77.016      3.461      0.001     114.483     418.652\n",
            "x3          -128.7822     42.020     -3.065      0.003    -211.760     -45.804\n",
            "x4           627.5887    198.827      3.156      0.002     234.961    1020.216\n",
            "x5          -373.7088    111.017     -3.366      0.001    -592.937    -154.481\n",
            "x6             6.0446      1.266      4.774      0.000       3.544       8.545\n",
            "x7            97.0621     16.604      5.846      0.000      64.274     129.850\n",
            "x8         -4894.8888   1027.154     -4.765      0.000   -6923.227   -2866.551\n",
            "x9          -715.1877    403.504     -1.772      0.078   -1511.994      81.618\n",
            "x10            2.0391      0.454      4.488      0.000       1.142       2.936\n",
            "x11           86.8402     54.179      1.603      0.111     -20.149     193.829\n",
            "x12        -9344.7114   5573.140     -1.677      0.096   -2.04e+04    1660.656\n",
            "x13         1623.7612    578.152      2.809      0.006     482.075    2765.447\n",
            "x14        -2951.3427   1026.711     -2.875      0.005   -4978.804    -923.881\n",
            "x15        -4026.7328    927.591     -4.341      0.000   -5858.462   -2195.003\n",
            "x16        -3180.9320    985.805     -3.227      0.002   -5127.617   -1234.247\n",
            "x17        -3259.0581   1095.864     -2.974      0.003   -5423.078   -1095.038\n",
            "x18          773.5403    541.228      1.429      0.155    -295.232    1842.312\n",
            "x19         1.166e+04   2249.740      5.183      0.000    7216.730    1.61e+04\n",
            "x20         3592.4484   2202.783      1.631      0.105    -757.422    7942.318\n",
            "x21         4049.4615   2656.113      1.525      0.129   -1195.607    9294.530\n",
            "x22        -1931.4112   1762.142     -1.096      0.275   -5411.141    1548.319\n",
            "x23        -5478.7923   1938.889     -2.826      0.005   -9307.547   -1650.038\n",
            "x24        -4550.5762   1732.336     -2.627      0.009   -7971.447   -1129.706\n",
            "x25        -3727.6919   2263.587     -1.647      0.102   -8197.632     742.248\n",
            "x26        -7392.6982   3889.358     -1.901      0.059   -1.51e+04     287.679\n",
            "x27         1660.0851    447.949      3.706      0.000     775.513    2544.658\n",
            "x28         3088.9200   1259.102      2.453      0.015     602.551    5575.289\n",
            "x29         9042.1235    854.359     10.584      0.000    7355.007    1.07e+04\n",
            "x30         4264.4244   1510.601      2.823      0.005    1281.417    7247.432\n",
            "x31        -3380.6545   1371.784     -2.464      0.015   -6089.538    -671.771\n",
            "x32        -4258.8182    829.888     -5.132      0.000   -5897.612   -2620.025\n",
            "x33        -2097.0400    763.414     -2.747      0.007   -3604.565    -589.515\n",
            "x34        -1628.9888   1001.798     -1.626      0.106   -3607.256     349.278\n",
            "x35         -790.5599    647.406     -1.221      0.224   -2069.002     487.882\n",
            "x36        -4679.1051    766.238     -6.107      0.000   -6192.207   -3166.003\n",
            "x37        -1739.9257    594.424     -2.927      0.004   -2913.744    -566.108\n",
            "x38        -3740.2184    954.781     -3.917      0.000   -5625.639   -1854.798\n",
            "x39        -4357.8940    852.505     -5.112      0.000   -6041.350   -2674.438\n",
            "x40         6004.9917   1715.786      3.500      0.001    2616.802    9393.181\n",
            "x41        -2281.6490   1344.626     -1.697      0.092   -4936.904     373.606\n",
            "x42         4101.7719   1030.684      3.980      0.000    2066.464    6137.080\n",
            "x43        -1787.8706    476.829     -3.749      0.000   -2729.473    -846.268\n",
            "==============================================================================\n",
            "Omnibus:                       55.035   Durbin-Watson:                   1.625\n",
            "Prob(Omnibus):                  0.000   Jarque-Bera (JB):              240.943\n",
            "Skew:                           0.959   Prob(JB):                     4.78e-53\n",
            "Kurtosis:                       7.953   Cond. No.                     2.59e+15\n",
            "==============================================================================\n",
            "\n",
            "Notes:\n",
            "[1] Standard Errors assume that the covariance matrix of the errors is correctly specified.\n",
            "[2] The smallest eigenvalue is 1.01e-21. This might indicate that there are\n",
            "strong multicollinearity problems or that the design matrix is singular.\n"
          ]
        }
      ]
    },
    {
      "cell_type": "code",
      "source": [
        "#29,22\n",
        "\n",
        "x_opt=x[: , [0,1,2,3,4,5,6,7,8,10,12,14,15,16,18,19,20,21,22,24,27,28,30,31,32,33,34,41,42,43,44,45,46,47,49,51,52,53,54,55,56,57,59]]\n",
        "ols_reg =sm.OLS(endog=y ,exog=x_opt).fit()\n",
        "print(ols_reg.summary())"
      ],
      "metadata": {
        "colab": {
          "base_uri": "https://localhost:8080/"
        },
        "id": "IAyjBMtMoSD3",
        "outputId": "1941188d-5339-4515-ac09-bae0e2d1cc2d"
      },
      "execution_count": null,
      "outputs": [
        {
          "output_type": "stream",
          "name": "stdout",
          "text": [
            "                            OLS Regression Results                            \n",
            "==============================================================================\n",
            "Dep. Variable:                      y   R-squared:                       0.964\n",
            "Model:                            OLS   Adj. R-squared:                  0.955\n",
            "Method:                 Least Squares   F-statistic:                     103.4\n",
            "Date:                Tue, 03 Jan 2023   Prob (F-statistic):           3.31e-97\n",
            "Time:                        16:13:39   Log-Likelihood:                -1791.6\n",
            "No. Observations:                 205   AIC:                             3669.\n",
            "Df Residuals:                     162   BIC:                             3812.\n",
            "Df Model:                          42                                         \n",
            "Covariance Type:            nonrobust                                         \n",
            "==============================================================================\n",
            "                 coef    std err          t      P>|t|      [0.025      0.975]\n",
            "------------------------------------------------------------------------------\n",
            "const      -1.737e+04   1.29e+04     -1.345      0.181   -4.29e+04    8139.518\n",
            "x1          -300.6251    180.658     -1.664      0.098    -657.373      56.123\n",
            "x2           266.5671     77.016      3.461      0.001     114.483     418.652\n",
            "x3          -128.7822     42.020     -3.065      0.003    -211.760     -45.804\n",
            "x4           627.5887    198.827      3.156      0.002     234.961    1020.216\n",
            "x5          -373.7088    111.017     -3.366      0.001    -592.937    -154.481\n",
            "x6             6.0446      1.266      4.774      0.000       3.544       8.545\n",
            "x7            97.0621     16.604      5.846      0.000      64.274     129.850\n",
            "x8         -4894.8888   1027.154     -4.765      0.000   -6923.227   -2866.551\n",
            "x9          -715.1877    403.504     -1.772      0.078   -1511.994      81.618\n",
            "x10            2.0391      0.454      4.488      0.000       1.142       2.936\n",
            "x11           86.8402     54.179      1.603      0.111     -20.149     193.829\n",
            "x12        -9344.7114   5573.140     -1.677      0.096   -2.04e+04    1660.656\n",
            "x13         1623.7612    578.152      2.809      0.006     482.075    2765.447\n",
            "x14        -2951.3427   1026.711     -2.875      0.005   -4978.804    -923.881\n",
            "x15        -4026.7328    927.591     -4.341      0.000   -5858.462   -2195.003\n",
            "x16        -3180.9320    985.805     -3.227      0.002   -5127.617   -1234.247\n",
            "x17        -3259.0581   1095.864     -2.974      0.003   -5423.078   -1095.038\n",
            "x18          773.5403    541.228      1.429      0.155    -295.232    1842.312\n",
            "x19         1.166e+04   2249.740      5.183      0.000    7216.730    1.61e+04\n",
            "x20         5523.8596   1436.796      3.845      0.000    2686.596    8361.123\n",
            "x21         5980.8727   2207.120      2.710      0.007    1622.437    1.03e+04\n",
            "x22        -3547.3811   1267.455     -2.799      0.006   -6050.244   -1044.518\n",
            "x23        -2619.1650   1096.050     -2.390      0.018   -4783.552    -454.778\n",
            "x24        -1796.2807   1923.145     -0.934      0.352   -5593.946    2001.385\n",
            "x25        -5461.2870   3988.911     -1.369      0.173   -1.33e+04    2415.679\n",
            "x26         1660.0851    447.949      3.706      0.000     775.513    2544.658\n",
            "x27         3088.9200   1259.102      2.453      0.015     602.551    5575.289\n",
            "x28         9042.1235    854.359     10.584      0.000    7355.007    1.07e+04\n",
            "x29         4264.4244   1510.601      2.823      0.005    1281.417    7247.432\n",
            "x30        -3380.6545   1371.784     -2.464      0.015   -6089.538    -671.771\n",
            "x31        -4258.8182    829.888     -5.132      0.000   -5897.612   -2620.025\n",
            "x32        -2097.0400    763.414     -2.747      0.007   -3604.565    -589.515\n",
            "x33        -1628.9888   1001.798     -1.626      0.106   -3607.256     349.278\n",
            "x34         -790.5599    647.406     -1.221      0.224   -2069.002     487.882\n",
            "x35        -4679.1051    766.238     -6.107      0.000   -6192.207   -3166.003\n",
            "x36        -1739.9257    594.424     -2.927      0.004   -2913.744    -566.108\n",
            "x37        -3740.2184    954.781     -3.917      0.000   -5625.639   -1854.798\n",
            "x38        -4357.8940    852.505     -5.112      0.000   -6041.350   -2674.438\n",
            "x39         6004.9917   1715.786      3.500      0.001    2616.802    9393.181\n",
            "x40        -2281.6490   1344.626     -1.697      0.092   -4936.904     373.606\n",
            "x41         4101.7719   1030.684      3.980      0.000    2066.464    6137.080\n",
            "x42        -1787.8706    476.829     -3.749      0.000   -2729.473    -846.268\n",
            "==============================================================================\n",
            "Omnibus:                       55.035   Durbin-Watson:                   1.625\n",
            "Prob(Omnibus):                  0.000   Jarque-Bera (JB):              240.943\n",
            "Skew:                           0.959   Prob(JB):                     4.78e-53\n",
            "Kurtosis:                       7.953   Cond. No.                     6.40e+05\n",
            "==============================================================================\n",
            "\n",
            "Notes:\n",
            "[1] Standard Errors assume that the covariance matrix of the errors is correctly specified.\n",
            "[2] The condition number is large, 6.4e+05. This might indicate that there are\n",
            "strong multicollinearity or other numerical problems.\n"
          ]
        }
      ]
    },
    {
      "cell_type": "code",
      "source": [
        "\n",
        "#32,24\n",
        "\n",
        "x_opt=x[: , [0,1,2,3,4,5,6,7,8,10,12,14,15,16,18,19,20,21,22,24,27,28,30,31,33,34,41,42,43,44,45,46,47,49,51,52,53,54,55,56,57,59]]\n",
        "ols_reg =sm.OLS(endog=y ,exog=x_opt).fit()\n",
        "print(ols_reg.summary())"
      ],
      "metadata": {
        "id": "y-q2WjXnoj1g",
        "colab": {
          "base_uri": "https://localhost:8080/"
        },
        "outputId": "020428ba-439c-42a4-b02b-ec64730dadb1"
      },
      "execution_count": null,
      "outputs": [
        {
          "output_type": "stream",
          "name": "stdout",
          "text": [
            "                            OLS Regression Results                            \n",
            "==============================================================================\n",
            "Dep. Variable:                      y   R-squared:                       0.964\n",
            "Model:                            OLS   Adj. R-squared:                  0.955\n",
            "Method:                 Least Squares   F-statistic:                     106.0\n",
            "Date:                Tue, 03 Jan 2023   Prob (F-statistic):           4.91e-98\n",
            "Time:                        20:33:19   Log-Likelihood:                -1792.1\n",
            "No. Observations:                 205   AIC:                             3668.\n",
            "Df Residuals:                     163   BIC:                             3808.\n",
            "Df Model:                          41                                         \n",
            "Covariance Type:            nonrobust                                         \n",
            "==============================================================================\n",
            "                 coef    std err          t      P>|t|      [0.025      0.975]\n",
            "------------------------------------------------------------------------------\n",
            "const      -1.637e+04   1.29e+04     -1.272      0.205   -4.18e+04    9038.902\n",
            "x1          -264.7750    176.465     -1.500      0.135    -613.226      83.676\n",
            "x2           278.6010     75.901      3.671      0.000     128.725     428.477\n",
            "x3          -123.2742     41.588     -2.964      0.003    -205.395     -41.154\n",
            "x4           584.4357    193.310      3.023      0.003     202.722     966.150\n",
            "x5          -372.0927    110.960     -3.353      0.001    -591.198    -152.987\n",
            "x6             6.1574      1.260      4.888      0.000       3.670       8.645\n",
            "x7            88.8096     14.052      6.320      0.000      61.062     116.558\n",
            "x8         -4480.2616    925.915     -4.839      0.000   -6308.595   -2651.928\n",
            "x9          -765.4906    399.737     -1.915      0.057   -1554.822      23.841\n",
            "x10            1.9977      0.452      4.420      0.000       1.105       2.890\n",
            "x11           93.5717     53.677      1.743      0.083     -12.420     199.564\n",
            "x12        -1.006e+04   5518.261     -1.823      0.070    -2.1e+04     837.490\n",
            "x13         1616.8315    577.878      2.798      0.006     475.739    2757.924\n",
            "x14        -2898.7987   1024.767     -2.829      0.005   -4922.329    -875.269\n",
            "x15        -4039.3328    927.130     -4.357      0.000   -5870.067   -2208.598\n",
            "x16        -3211.5941    984.873     -3.261      0.001   -5156.348   -1266.841\n",
            "x17        -3332.0540   1092.646     -3.050      0.003   -5489.620   -1174.488\n",
            "x18          819.6797    538.758      1.521      0.130    -244.166    1883.525\n",
            "x19         1.211e+04   2197.590      5.509      0.000    7766.051    1.64e+04\n",
            "x20         5224.9997   1400.167      3.732      0.000    2460.195    7989.804\n",
            "x21         5707.8416   2186.821      2.610      0.010    1389.691       1e+04\n",
            "x22        -2858.0207   1029.999     -2.775      0.006   -4891.881    -824.160\n",
            "x23        -2106.1814    948.148     -2.221      0.028   -3978.418    -233.944\n",
            "x24        -3626.7255   3470.471     -1.045      0.298   -1.05e+04    3226.153\n",
            "x25         1637.2514    447.107      3.662      0.000     754.383    2520.119\n",
            "x26         2773.0190   1212.353      2.287      0.023     379.077    5166.961\n",
            "x27         8943.5658    847.486     10.553      0.000    7270.099    1.06e+04\n",
            "x28         3662.9689   1365.944      2.682      0.008     965.743    6360.195\n",
            "x29        -3291.4599   1367.921     -2.406      0.017   -5992.590    -590.330\n",
            "x30        -4131.0101    818.209     -5.049      0.000   -5746.666   -2515.354\n",
            "x31        -1912.2528    737.045     -2.594      0.010   -3367.640    -456.866\n",
            "x32        -1600.5701   1000.944     -1.599      0.112   -3577.059     375.919\n",
            "x33         -727.5069    643.625     -1.130      0.260   -1998.424     543.410\n",
            "x34        -4562.6665    755.733     -6.037      0.000   -6054.956   -3070.377\n",
            "x35        -1686.7952    591.464     -2.852      0.005   -2854.715    -518.876\n",
            "x36        -3875.0037    943.443     -4.107      0.000   -5737.950   -2012.058\n",
            "x37        -4245.7506    843.678     -5.032      0.000   -5911.698   -2579.803\n",
            "x38         5578.9147   1653.387      3.374      0.001    2314.095    8843.734\n",
            "x39        -2104.8679   1330.718     -1.582      0.116   -4732.537     522.801\n",
            "x40         4100.5966   1030.280      3.980      0.000    2066.181    6135.012\n",
            "x41        -1775.0384    476.445     -3.726      0.000   -2715.838    -834.239\n",
            "==============================================================================\n",
            "Omnibus:                       56.681   Durbin-Watson:                   1.615\n",
            "Prob(Omnibus):                  0.000   Jarque-Bera (JB):              259.820\n",
            "Skew:                           0.976   Prob(JB):                     3.81e-57\n",
            "Kurtosis:                       8.159   Cond. No.                     6.37e+05\n",
            "==============================================================================\n",
            "\n",
            "Notes:\n",
            "[1] Standard Errors assume that the covariance matrix of the errors is correctly specified.\n",
            "[2] The condition number is large, 6.37e+05. This might indicate that there are\n",
            "strong multicollinearity or other numerical problems.\n"
          ]
        }
      ]
    },
    {
      "cell_type": "code",
      "source": [
        "#33,24\n",
        "\n",
        "x_opt=x[: , [0,1,2,3,4,5,6,7,8,10,12,14,15,16,18,19,20,21,22,24,27,28,30,31,34,41,42,43,44,45,46,47,49,51,52,53,54,55,56,57,59]]\n",
        "ols_reg =sm.OLS(endog=y ,exog=x_opt).fit()\n",
        "print(ols_reg.summary())"
      ],
      "metadata": {
        "colab": {
          "base_uri": "https://localhost:8080/"
        },
        "id": "6d3ZoNxgafcs",
        "outputId": "5992a325-7227-4315-d223-d5d615564675"
      },
      "execution_count": null,
      "outputs": [
        {
          "output_type": "stream",
          "name": "stdout",
          "text": [
            "                            OLS Regression Results                            \n",
            "==============================================================================\n",
            "Dep. Variable:                      y   R-squared:                       0.964\n",
            "Model:                            OLS   Adj. R-squared:                  0.955\n",
            "Method:                 Least Squares   F-statistic:                     108.6\n",
            "Date:                Tue, 03 Jan 2023   Prob (F-statistic):           8.01e-99\n",
            "Time:                        20:34:54   Log-Likelihood:                -1792.8\n",
            "No. Observations:                 205   AIC:                             3668.\n",
            "Df Residuals:                     164   BIC:                             3804.\n",
            "Df Model:                          40                                         \n",
            "Covariance Type:            nonrobust                                         \n",
            "==============================================================================\n",
            "                 coef    std err          t      P>|t|      [0.025      0.975]\n",
            "------------------------------------------------------------------------------\n",
            "const       -1.54e+04   1.28e+04     -1.199      0.232   -4.07e+04    9953.539\n",
            "x1          -219.3179    171.067     -1.282      0.202    -557.096     118.461\n",
            "x2           292.4230     74.761      3.911      0.000     144.806     440.040\n",
            "x3          -115.1126     40.860     -2.817      0.005    -195.791     -34.434\n",
            "x4           590.0554    193.289      3.053      0.003     208.400     971.711\n",
            "x5          -352.6328    109.418     -3.223      0.002    -568.681    -136.584\n",
            "x6             6.1286      1.260      4.864      0.000       3.641       8.616\n",
            "x7            79.1701     10.604      7.466      0.000      58.232     100.108\n",
            "x8         -4112.5881    856.705     -4.800      0.000   -5804.182   -2420.994\n",
            "x9         -1015.5474    320.298     -3.171      0.002   -1647.988    -383.107\n",
            "x10            2.0090      0.452      4.445      0.000       1.117       2.901\n",
            "x11          108.1149     51.856      2.085      0.039       5.723     210.507\n",
            "x12        -1.338e+04   4513.980     -2.964      0.003   -2.23e+04   -4464.932\n",
            "x13         1433.2738    550.691      2.603      0.010     345.915    2520.633\n",
            "x14        -2935.2429   1024.461     -2.865      0.005   -4958.076    -912.410\n",
            "x15        -4238.8709    907.510     -4.671      0.000   -6030.781   -2446.961\n",
            "x16        -3445.2395    959.428     -3.591      0.000   -5339.664   -1550.815\n",
            "x17        -3645.0210   1051.097     -3.468      0.001   -5720.449   -1569.593\n",
            "x18          864.1541    537.225      1.609      0.110    -196.616    1924.924\n",
            "x19         1.157e+04   2137.448      5.413      0.000    7348.791    1.58e+04\n",
            "x20         5104.2243   1395.781      3.657      0.000    2348.207    7860.242\n",
            "x21         5420.6659   2170.095      2.498      0.013    1135.738    9705.594\n",
            "x22        -3129.1333    997.071     -3.138      0.002   -5097.884   -1160.383\n",
            "x23        -1461.9184    720.554     -2.029      0.044   -2884.676     -39.160\n",
            "x24         1619.5413    446.911      3.624      0.000     737.100    2501.982\n",
            "x25         3084.6944   1175.425      2.624      0.010     763.777    5405.611\n",
            "x26         8737.1073    824.368     10.599      0.000    7109.364    1.04e+04\n",
            "x27         4399.1933   1170.574      3.758      0.000    2087.854    6710.533\n",
            "x28        -3174.2933   1363.701     -2.328      0.021   -5866.968    -481.619\n",
            "x29        -4013.5706    810.682     -4.951      0.000   -5614.291   -2412.850\n",
            "x30        -1757.7743    722.272     -2.434      0.016   -3183.925    -331.624\n",
            "x31        -1495.8324    996.193     -1.502      0.135   -3462.851     471.186\n",
            "x32         -783.6641    641.557     -1.222      0.224   -2050.441     483.113\n",
            "x33        -4526.0353    755.132     -5.994      0.000   -6017.069   -3035.002\n",
            "x34        -1659.4069    591.049     -2.808      0.006   -2826.454    -492.360\n",
            "x35        -4157.2424    904.213     -4.598      0.000   -5942.642   -2371.843\n",
            "x36        -4148.5279    838.768     -4.946      0.000   -5804.704   -2492.351\n",
            "x37         6192.5159   1546.049      4.005      0.000    3139.788    9245.244\n",
            "x38        -2003.9683   1327.583     -1.509      0.133   -4625.327     617.391\n",
            "x39         4098.0622   1030.566      3.977      0.000    2063.174    6132.951\n",
            "x40        -1761.3731    476.399     -3.697      0.000   -2702.039    -820.707\n",
            "==============================================================================\n",
            "Omnibus:                       59.645   Durbin-Watson:                   1.604\n",
            "Prob(Omnibus):                  0.000   Jarque-Bera (JB):              275.558\n",
            "Skew:                           1.034   Prob(JB):                     1.46e-60\n",
            "Kurtosis:                       8.290   Cond. No.                     6.32e+05\n",
            "==============================================================================\n",
            "\n",
            "Notes:\n",
            "[1] Standard Errors assume that the covariance matrix of the errors is correctly specified.\n",
            "[2] The condition number is large, 6.32e+05. This might indicate that there are\n",
            "strong multicollinearity or other numerical problems.\n"
          ]
        }
      ]
    },
    {
      "cell_type": "code",
      "source": [
        "#49,32\n",
        "\n",
        "x_opt=x[: , [0,1,2,3,4,5,6,7,8,10,12,14,15,16,18,19,20,21,22,24,27,28,30,31,34,41,42,43,44,45,46,47,51,52,53,54,55,56,57,59]]\n",
        "ols_reg =sm.OLS(endog=y ,exog=x_opt).fit()\n",
        "print(ols_reg.summary())"
      ],
      "metadata": {
        "colab": {
          "base_uri": "https://localhost:8080/"
        },
        "id": "a8R-HB9eavmq",
        "outputId": "a8b6c537-9c22-4557-ff3c-1abb9b242f66"
      },
      "execution_count": null,
      "outputs": [
        {
          "output_type": "stream",
          "name": "stdout",
          "text": [
            "                            OLS Regression Results                            \n",
            "==============================================================================\n",
            "Dep. Variable:                      y   R-squared:                       0.963\n",
            "Model:                            OLS   Adj. R-squared:                  0.955\n",
            "Method:                 Least Squares   F-statistic:                     111.0\n",
            "Date:                Tue, 03 Jan 2023   Prob (F-statistic):           1.58e-99\n",
            "Time:                        16:16:22   Log-Likelihood:                -1793.7\n",
            "No. Observations:                 205   AIC:                             3667.\n",
            "Df Residuals:                     165   BIC:                             3800.\n",
            "Df Model:                          39                                         \n",
            "Covariance Type:            nonrobust                                         \n",
            "==============================================================================\n",
            "                 coef    std err          t      P>|t|      [0.025      0.975]\n",
            "------------------------------------------------------------------------------\n",
            "const      -1.706e+04   1.28e+04     -1.334      0.184   -4.23e+04    8188.627\n",
            "x1          -202.5994    170.773     -1.186      0.237    -539.781     134.583\n",
            "x2           303.4423     74.325      4.083      0.000     156.692     450.193\n",
            "x3          -120.3775     40.692     -2.958      0.004    -200.722     -40.033\n",
            "x4           558.5426    191.845      2.911      0.004     179.755     937.330\n",
            "x5          -362.6730    109.271     -3.319      0.001    -578.423    -146.924\n",
            "x6             6.3636      1.247      5.103      0.000       3.902       8.826\n",
            "x7            77.8986     10.568      7.371      0.000      57.032      98.766\n",
            "x8         -3950.6988    847.653     -4.661      0.000   -5624.343   -2277.055\n",
            "x9          -887.9138    303.227     -2.928      0.004   -1486.619    -289.209\n",
            "x10            2.0177      0.453      4.458      0.000       1.124       2.911\n",
            "x11          107.7771     51.933      2.075      0.040       5.239     210.315\n",
            "x12        -1.153e+04   4257.984     -2.707      0.008   -1.99e+04   -3118.486\n",
            "x13         1559.6512    541.691      2.879      0.005     490.112    2629.191\n",
            "x14        -3003.3946   1024.465     -2.932      0.004   -5026.144    -980.645\n",
            "x15        -4319.5628    906.451     -4.765      0.000   -6109.301   -2529.825\n",
            "x16        -3461.8202    960.762     -3.603      0.000   -5358.792   -1564.848\n",
            "x17        -3620.2968   1052.468     -3.440      0.001   -5698.338   -1542.256\n",
            "x18          770.2117    532.484      1.446      0.150    -281.150    1821.573\n",
            "x19         1.155e+04   2140.582      5.396      0.000    7324.776    1.58e+04\n",
            "x20         4401.9680   1273.776      3.456      0.001    1886.967    6916.969\n",
            "x21         5413.4993   2173.321      2.491      0.014    1122.396    9704.603\n",
            "x22        -3044.8808    996.164     -3.057      0.003   -5011.753   -1078.009\n",
            "x23        -1438.1862    721.365     -1.994      0.048   -2862.482     -13.891\n",
            "x24         1476.9777    432.045      3.419      0.001     623.929    2330.027\n",
            "x25         3216.6730   1172.192      2.744      0.007     902.243    5531.103\n",
            "x26         8941.5221    808.406     11.061      0.000    7345.368    1.05e+04\n",
            "x27         4659.1192   1152.786      4.042      0.000    2383.006    6935.232\n",
            "x28        -2949.6998   1353.262     -2.180      0.031   -5621.642    -277.758\n",
            "x29        -3795.2566    791.914     -4.793      0.000   -5358.848   -2231.666\n",
            "x30        -1601.9695    711.979     -2.250      0.026   -3007.733    -196.206\n",
            "x31        -1288.8095    983.133     -1.311      0.192   -3229.953     652.334\n",
            "x32        -4282.4024    729.400     -5.871      0.000   -5722.563   -2842.242\n",
            "x33        -1425.6215    560.036     -2.546      0.012   -2531.383    -319.860\n",
            "x34        -3943.4857    888.440     -4.439      0.000   -5697.661   -2189.310\n",
            "x35        -3901.7706    815.291     -4.786      0.000   -5511.519   -2292.023\n",
            "x36         6286.7886   1546.423      4.065      0.000    3233.461    9340.116\n",
            "x37        -1802.6718   1319.278     -1.366      0.174   -4407.515     802.172\n",
            "x38         4169.6581   1030.431      4.047      0.000    2135.128    6204.188\n",
            "x39        -1544.3660    442.693     -3.489      0.001   -2418.439    -670.293\n",
            "==============================================================================\n",
            "Omnibus:                       58.934   Durbin-Watson:                   1.558\n",
            "Prob(Omnibus):                  0.000   Jarque-Bera (JB):              284.121\n",
            "Skew:                           1.003   Prob(JB):                     2.01e-62\n",
            "Kurtosis:                       8.407   Cond. No.                     6.27e+05\n",
            "==============================================================================\n",
            "\n",
            "Notes:\n",
            "[1] Standard Errors assume that the covariance matrix of the errors is correctly specified.\n",
            "[2] The condition number is large, 6.27e+05. This might indicate that there are\n",
            "strong multicollinearity or other numerical problems.\n"
          ]
        }
      ]
    },
    {
      "cell_type": "code",
      "source": [
        "#1,1\n",
        "\n",
        "x_opt=x[: , [0,2,3,4,5,6,7,8,10,12,14,15,16,18,19,20,21,22,24,27,28,30,31,34,41,42,43,44,45,46,47,51,52,53,54,55,56,57,59]]\n",
        "ols_reg =sm.OLS(endog=y ,exog=x_opt).fit()\n",
        "print(ols_reg.summary())"
      ],
      "metadata": {
        "colab": {
          "base_uri": "https://localhost:8080/"
        },
        "id": "jyZg-ZsLa9J3",
        "outputId": "8ab2e5df-96d2-423c-ce5d-fd67ab9481a2"
      },
      "execution_count": null,
      "outputs": [
        {
          "output_type": "stream",
          "name": "stdout",
          "text": [
            "                            OLS Regression Results                            \n",
            "==============================================================================\n",
            "Dep. Variable:                      y   R-squared:                       0.963\n",
            "Model:                            OLS   Adj. R-squared:                  0.954\n",
            "Method:                 Least Squares   F-statistic:                     113.6\n",
            "Date:                Tue, 03 Jan 2023   Prob (F-statistic):          2.94e-100\n",
            "Time:                        16:17:18   Log-Likelihood:                -1794.6\n",
            "No. Observations:                 205   AIC:                             3667.\n",
            "Df Residuals:                     166   BIC:                             3797.\n",
            "Df Model:                          38                                         \n",
            "Covariance Type:            nonrobust                                         \n",
            "==============================================================================\n",
            "                 coef    std err          t      P>|t|      [0.025      0.975]\n",
            "------------------------------------------------------------------------------\n",
            "const       -2.03e+04   1.25e+04     -1.623      0.106    -4.5e+04    4389.609\n",
            "x1           329.5751     71.073      4.637      0.000     189.252     469.898\n",
            "x2          -122.7405     40.693     -3.016      0.003    -203.083     -42.398\n",
            "x3           558.1873    192.080      2.906      0.004     178.952     937.422\n",
            "x4          -354.9972    109.213     -3.251      0.001    -570.623    -139.372\n",
            "x5             6.5318      1.240      5.266      0.000       4.083       8.981\n",
            "x6            76.0387     10.464      7.266      0.000      55.378      96.699\n",
            "x7         -3917.1794    848.221     -4.618      0.000   -5591.870   -2242.488\n",
            "x8          -889.1181    303.597     -2.929      0.004   -1488.527    -289.709\n",
            "x9             2.0050      0.453      4.426      0.000       1.111       2.899\n",
            "x10          109.1132     51.984      2.099      0.037       6.478     211.748\n",
            "x11        -1.149e+04   4263.101     -2.695      0.008   -1.99e+04   -3073.288\n",
            "x12         1565.9227    542.330      2.887      0.004     495.170    2636.675\n",
            "x13        -2958.9829   1025.036     -2.887      0.004   -4982.771    -935.195\n",
            "x14        -4167.7064    898.469     -4.639      0.000   -5941.605   -2393.808\n",
            "x15        -3161.7428    928.005     -3.407      0.001   -4993.958   -1329.528\n",
            "x16        -3325.9639   1024.063     -3.248      0.001   -5347.831   -1304.097\n",
            "x17          743.7974    532.671      1.396      0.164    -307.886    1795.481\n",
            "x18         1.177e+04   2135.168      5.513      0.000    7555.410     1.6e+04\n",
            "x19         4103.7570   1250.259      3.282      0.001    1635.298    6572.216\n",
            "x20         5294.9723   2173.686      2.436      0.016    1003.339    9586.606\n",
            "x21        -2947.0295    993.961     -2.965      0.003   -4909.465    -984.594\n",
            "x22        -1480.6289    721.361     -2.053      0.042   -2904.853     -56.404\n",
            "x23         1544.1093    428.848      3.601      0.000     697.409    2390.810\n",
            "x24         2883.2553   1139.399      2.531      0.012     633.674    5132.836\n",
            "x25         8917.5790    809.146     11.021      0.000    7320.036    1.05e+04\n",
            "x26         4547.9020   1150.377      3.953      0.000    2276.646    6819.158\n",
            "x27        -2838.9875   1351.696     -2.100      0.037   -5507.720    -170.255\n",
            "x28        -3770.2410    792.604     -4.757      0.000   -5335.125   -2205.357\n",
            "x29        -1446.0478    700.602     -2.064      0.041   -2829.286     -62.810\n",
            "x30        -1261.7650    984.074     -1.282      0.202   -3204.680     681.150\n",
            "x31        -4394.0393    724.192     -6.068      0.000   -5823.852   -2964.226\n",
            "x32        -1411.2365    560.592     -2.517      0.013   -2518.045    -304.428\n",
            "x33        -4204.8657    861.744     -4.879      0.000   -5906.256   -2503.475\n",
            "x34        -3882.6347    816.131     -4.757      0.000   -5493.970   -2271.299\n",
            "x35         6217.2043   1547.205      4.018      0.000    3162.468    9271.941\n",
            "x36        -1749.8309   1320.144     -1.325      0.187   -4356.267     856.605\n",
            "x37         3780.7985    978.108      3.865      0.000    1849.663    5711.934\n",
            "x38        -1473.8018    439.217     -3.356      0.001   -2340.973    -606.630\n",
            "==============================================================================\n",
            "Omnibus:                       61.385   Durbin-Watson:                   1.554\n",
            "Prob(Omnibus):                  0.000   Jarque-Bera (JB):              306.023\n",
            "Skew:                           1.041   Prob(JB):                     3.53e-67\n",
            "Kurtosis:                       8.612   Cond. No.                     6.14e+05\n",
            "==============================================================================\n",
            "\n",
            "Notes:\n",
            "[1] Standard Errors assume that the covariance matrix of the errors is correctly specified.\n",
            "[2] The condition number is large, 6.14e+05. This might indicate that there are\n",
            "strong multicollinearity or other numerical problems.\n"
          ]
        }
      ]
    },
    {
      "cell_type": "code",
      "source": [
        "#47,30\n",
        "\n",
        "x_opt=x[: , [0,2,3,4,5,6,7,8,10,12,14,15,16,18,19,20,21,22,24,27,28,30,31,34,41,42,43,44,45,46,51,52,53,54,55,56,57,59]]\n",
        "ols_reg =sm.OLS(endog=y ,exog=x_opt).fit()\n",
        "print(ols_reg.summary())"
      ],
      "metadata": {
        "colab": {
          "base_uri": "https://localhost:8080/"
        },
        "id": "NUOag25bbH-B",
        "outputId": "99eed857-ce95-45b2-e1b7-5c7b8317ed9e"
      },
      "execution_count": null,
      "outputs": [
        {
          "output_type": "stream",
          "name": "stdout",
          "text": [
            "                            OLS Regression Results                            \n",
            "==============================================================================\n",
            "Dep. Variable:                      y   R-squared:                       0.963\n",
            "Model:                            OLS   Adj. R-squared:                  0.954\n",
            "Method:                 Least Squares   F-statistic:                     116.2\n",
            "Date:                Tue, 03 Jan 2023   Prob (F-statistic):          6.08e-101\n",
            "Time:                        16:18:13   Log-Likelihood:                -1795.6\n",
            "No. Observations:                 205   AIC:                             3667.\n",
            "Df Residuals:                     167   BIC:                             3794.\n",
            "Df Model:                          37                                         \n",
            "Covariance Type:            nonrobust                                         \n",
            "==============================================================================\n",
            "                 coef    std err          t      P>|t|      [0.025      0.975]\n",
            "------------------------------------------------------------------------------\n",
            "const      -2.489e+04    1.2e+04     -2.073      0.040   -4.86e+04   -1183.643\n",
            "x1           317.8915     70.622      4.501      0.000     178.464     457.319\n",
            "x2          -117.7613     40.585     -2.902      0.004    -197.888     -37.635\n",
            "x3           615.1842    187.225      3.286      0.001     245.550     984.818\n",
            "x4          -328.9250    107.510     -3.059      0.003    -541.179    -116.671\n",
            "x5             6.2758      1.227      5.117      0.000       3.854       8.697\n",
            "x6            76.3917     10.481      7.289      0.000      55.700      97.084\n",
            "x7         -3805.8334    845.389     -4.502      0.000   -5474.860   -2136.807\n",
            "x8          -869.1975    303.783     -2.861      0.005   -1468.948    -269.447\n",
            "x9             1.9909      0.454      4.388      0.000       1.095       2.887\n",
            "x10          100.8598     51.683      1.951      0.053      -1.177     202.897\n",
            "x11        -1.133e+04   4269.383     -2.653      0.009   -1.98e+04   -2896.937\n",
            "x12         1558.4253    543.343      2.868      0.005     485.720    2631.131\n",
            "x13        -3080.8345   1022.587     -3.013      0.003   -5099.699   -1061.970\n",
            "x14        -4283.1985    895.664     -4.782      0.000   -6051.482   -2514.915\n",
            "x15        -3326.9802    920.784     -3.613      0.000   -5144.857   -1509.103\n",
            "x16        -3486.9195   1018.298     -3.424      0.001   -5497.315   -1476.524\n",
            "x17          663.4652    529.993      1.252      0.212    -382.884    1709.814\n",
            "x18         1.182e+04   2138.869      5.528      0.000    7601.986     1.6e+04\n",
            "x19         4263.8012   1246.409      3.421      0.001    1803.052    6724.551\n",
            "x20         5437.1387   2175.038      2.500      0.013    1143.025    9731.253\n",
            "x21        -2949.4563    995.874     -2.962      0.004   -4915.582    -983.331\n",
            "x22        -1436.0056    721.909     -1.989      0.048   -2861.249     -10.762\n",
            "x23         1501.4366    428.379      3.505      0.001     655.701    2347.172\n",
            "x24         2838.0782   1141.048      2.487      0.014     585.341    5090.816\n",
            "x25         9034.3886    805.549     11.215      0.000    7444.016    1.06e+04\n",
            "x26         4497.2664   1151.914      3.904      0.000    2223.077    6771.456\n",
            "x27        -2539.1664   1333.881     -1.904      0.059   -5172.609      94.276\n",
            "x28        -3519.9765    769.675     -4.573      0.000   -5039.523   -2000.430\n",
            "x29        -1283.2265    690.324     -1.859      0.065   -2646.113      79.660\n",
            "x30        -4204.6760    710.338     -5.919      0.000   -5607.075   -2802.276\n",
            "x31        -1291.1939    553.783     -2.332      0.021   -2384.512    -197.876\n",
            "x32        -4128.6647    861.348     -4.793      0.000   -5829.199   -2428.130\n",
            "x33        -3637.1456    794.884     -4.576      0.000   -5206.461   -2067.830\n",
            "x34         6181.7257   1549.938      3.988      0.000    3121.729    9241.723\n",
            "x35        -1762.2663   1322.651     -1.332      0.185   -4373.537     849.005\n",
            "x36         3723.5020    978.969      3.803      0.000    1790.752    5656.252\n",
            "x37        -1324.1526    424.241     -3.121      0.002   -2161.720    -486.585\n",
            "==============================================================================\n",
            "Omnibus:                       59.620   Durbin-Watson:                   1.530\n",
            "Prob(Omnibus):                  0.000   Jarque-Bera (JB):              278.062\n",
            "Skew:                           1.030   Prob(JB):                     4.16e-61\n",
            "Kurtosis:                       8.321   Cond. No.                     5.89e+05\n",
            "==============================================================================\n",
            "\n",
            "Notes:\n",
            "[1] Standard Errors assume that the covariance matrix of the errors is correctly specified.\n",
            "[2] The condition number is large, 5.89e+05. This might indicate that there are\n",
            "strong multicollinearity or other numerical problems.\n"
          ]
        }
      ]
    },
    {
      "cell_type": "code",
      "source": [
        "#22,17\n",
        "\n",
        "x_opt=x[: , [0,2,3,4,5,6,7,8,10,12,14,15,16,18,19,20,21,24,27,28,30,31,34,41,42,43,44,45,46,51,52,53,54,55,56,57,59]]\n",
        "ols_reg =sm.OLS(endog=y ,exog=x_opt).fit()\n",
        "print(ols_reg.summary())"
      ],
      "metadata": {
        "colab": {
          "base_uri": "https://localhost:8080/"
        },
        "id": "akmw1lZpbUni",
        "outputId": "803a12fc-e63b-43a7-81c8-c7119a5847fe"
      },
      "execution_count": null,
      "outputs": [
        {
          "output_type": "stream",
          "name": "stdout",
          "text": [
            "                            OLS Regression Results                            \n",
            "==============================================================================\n",
            "Dep. Variable:                      y   R-squared:                       0.962\n",
            "Model:                            OLS   Adj. R-squared:                  0.954\n",
            "Method:                 Least Squares   F-statistic:                     119.0\n",
            "Date:                Tue, 03 Jan 2023   Prob (F-statistic):          1.20e-101\n",
            "Time:                        16:18:52   Log-Likelihood:                -1796.6\n",
            "No. Observations:                 205   AIC:                             3667.\n",
            "Df Residuals:                     168   BIC:                             3790.\n",
            "Df Model:                          36                                         \n",
            "Covariance Type:            nonrobust                                         \n",
            "==============================================================================\n",
            "                 coef    std err          t      P>|t|      [0.025      0.975]\n",
            "------------------------------------------------------------------------------\n",
            "const      -2.524e+04    1.2e+04     -2.100      0.037    -4.9e+04   -1506.932\n",
            "x1           331.0472     69.954      4.732      0.000     192.946     469.148\n",
            "x2          -116.2006     40.635     -2.860      0.005    -196.421     -35.980\n",
            "x3           565.7082    183.315      3.086      0.002     203.811     927.606\n",
            "x4          -361.2507    104.539     -3.456      0.001    -567.630    -154.872\n",
            "x5             6.7365      1.172      5.748      0.000       4.423       9.050\n",
            "x6            74.5312     10.393      7.172      0.000      54.014      95.048\n",
            "x7         -3590.2452    829.057     -4.331      0.000   -5226.958   -1953.533\n",
            "x8          -789.8709    297.602     -2.654      0.009   -1377.392    -202.350\n",
            "x9             2.1249      0.442      4.811      0.000       1.253       2.997\n",
            "x10          102.3578     51.757      1.978      0.050       0.181     204.535\n",
            "x11        -1.025e+04   4188.270     -2.446      0.015   -1.85e+04   -1976.904\n",
            "x12         1602.8827    543.095      2.951      0.004     530.712    2675.053\n",
            "x13        -3047.8980   1023.973     -2.977      0.003   -5069.409   -1026.387\n",
            "x14        -4369.9814    894.483     -4.885      0.000   -6135.857   -2604.106\n",
            "x15        -3478.5380    914.329     -3.804      0.000   -5283.594   -1673.483\n",
            "x16        -3694.3519   1006.420     -3.671      0.000   -5681.211   -1707.493\n",
            "x17          1.17e+04   2140.095      5.466      0.000    7473.561    1.59e+04\n",
            "x18         4347.4156   1246.717      3.487      0.001    1886.165    6808.666\n",
            "x19         5576.8270   2175.837      2.563      0.011    1281.322    9872.332\n",
            "x20        -2993.0661    996.943     -3.002      0.003   -4961.217   -1024.916\n",
            "x21        -1343.3760    719.318     -1.868      0.064   -2763.442      76.690\n",
            "x22         1457.4698    427.656      3.408      0.001     613.197    2301.743\n",
            "x23         2644.2005   1132.395      2.335      0.021     408.643    4879.757\n",
            "x24         9285.5747    781.475     11.882      0.000    7742.799    1.08e+04\n",
            "x25         4754.9016   1135.291      4.188      0.000    2513.627    6996.176\n",
            "x26        -2669.0282   1332.084     -2.004      0.047   -5298.808     -39.248\n",
            "x27        -3691.1765    758.705     -4.865      0.000   -5189.000   -2193.353\n",
            "x28        -1457.1627    677.337     -2.151      0.033   -2794.351    -119.974\n",
            "x29        -4443.0493    685.494     -6.482      0.000   -5796.341   -3089.758\n",
            "x30        -1381.2129    550.021     -2.511      0.013   -2467.056    -295.370\n",
            "x31        -3846.8954    832.821     -4.619      0.000   -5491.038   -2202.752\n",
            "x32        -3733.7220    792.465     -4.712      0.000   -5298.195   -2169.249\n",
            "x33         6271.2114   1550.899      4.044      0.000    3209.449    9332.974\n",
            "x34        -1964.0478   1315.006     -1.494      0.137   -4560.113     632.018\n",
            "x35         3358.9923    936.239      3.588      0.000    1510.683    5207.301\n",
            "x36        -1277.8819    423.341     -3.019      0.003   -2113.635    -442.129\n",
            "==============================================================================\n",
            "Omnibus:                       55.494   Durbin-Watson:                   1.517\n",
            "Prob(Omnibus):                  0.000   Jarque-Bera (JB):              236.661\n",
            "Skew:                           0.978   Prob(JB):                     4.07e-52\n",
            "Kurtosis:                       7.887   Cond. No.                     5.89e+05\n",
            "==============================================================================\n",
            "\n",
            "Notes:\n",
            "[1] Standard Errors assume that the covariance matrix of the errors is correctly specified.\n",
            "[2] The condition number is large, 5.89e+05. This might indicate that there are\n",
            "strong multicollinearity or other numerical problems.\n"
          ]
        }
      ]
    },
    {
      "cell_type": "code",
      "source": [
        "#56,34\n",
        "\n",
        "x_opt=x[: , [0,2,3,4,5,6,7,8,10,12,14,15,16,18,19,20,21,24,27,28,30,31,34,41,42,43,44,45,46,51,52,53,54,55,57,59]]\n",
        "ols_reg =sm.OLS(endog=y ,exog=x_opt).fit()\n",
        "print(ols_reg.summary())"
      ],
      "metadata": {
        "colab": {
          "base_uri": "https://localhost:8080/"
        },
        "id": "KbVJWhGVbhJr",
        "outputId": "6cbb19fb-071e-4d4f-ed69-bcf90e1541d4"
      },
      "execution_count": null,
      "outputs": [
        {
          "output_type": "stream",
          "name": "stdout",
          "text": [
            "                            OLS Regression Results                            \n",
            "==============================================================================\n",
            "Dep. Variable:                      y   R-squared:                       0.962\n",
            "Model:                            OLS   Adj. R-squared:                  0.954\n",
            "Method:                 Least Squares   F-statistic:                     121.4\n",
            "Date:                Tue, 03 Jan 2023   Prob (F-statistic):          3.23e-102\n",
            "Time:                        16:19:57   Log-Likelihood:                -1797.9\n",
            "No. Observations:                 205   AIC:                             3668.\n",
            "Df Residuals:                     169   BIC:                             3788.\n",
            "Df Model:                          35                                         \n",
            "Covariance Type:            nonrobust                                         \n",
            "==============================================================================\n",
            "                 coef    std err          t      P>|t|      [0.025      0.975]\n",
            "------------------------------------------------------------------------------\n",
            "const      -2.514e+04   1.21e+04     -2.083      0.039    -4.9e+04   -1317.885\n",
            "x1           349.6654     69.084      5.061      0.000     213.286     486.044\n",
            "x2          -126.9029     40.143     -3.161      0.002    -206.150     -47.656\n",
            "x3           545.1804    183.463      2.972      0.003     183.005     907.356\n",
            "x4          -354.2872    104.814     -3.380      0.001    -561.201    -147.373\n",
            "x5             6.9353      1.169      5.934      0.000       4.628       9.242\n",
            "x6            73.6604     10.414      7.073      0.000      53.102      94.218\n",
            "x7         -3598.0102    832.054     -4.324      0.000   -5240.569   -1955.452\n",
            "x8          -756.0887    297.819     -2.539      0.012   -1344.014    -168.163\n",
            "x9             2.1210      0.443      4.785      0.000       1.246       2.996\n",
            "x10           97.2643     51.832      1.877      0.062      -5.057     199.586\n",
            "x11        -9828.6682   4194.158     -2.343      0.020   -1.81e+04   -1548.979\n",
            "x12         1646.3722    544.285      3.025      0.003     571.899    2720.846\n",
            "x13        -3104.6750   1026.986     -3.023      0.003   -5132.048   -1077.302\n",
            "x14        -4502.7850    893.288     -5.041      0.000   -6266.224   -2739.346\n",
            "x15        -3568.4773    915.660     -3.897      0.000   -5376.083   -1760.872\n",
            "x16        -3907.7104    999.851     -3.908      0.000   -5881.516   -1933.905\n",
            "x17         1.164e+04   2147.510      5.420      0.000    7400.233    1.59e+04\n",
            "x18         4429.2441   1250.040      3.543      0.001    1961.540    6896.948\n",
            "x19         5569.0334   2183.739      2.550      0.012    1258.114    9879.953\n",
            "x20        -3010.9035   1000.495     -3.009      0.003   -4985.981   -1035.826\n",
            "x21        -1333.9954    721.905     -1.848      0.066   -2759.107      91.117\n",
            "x22         1544.9163    425.169      3.634      0.000     705.589    2384.243\n",
            "x23         2776.6376   1133.021      2.451      0.015     539.941    5013.335\n",
            "x24         9333.1657    783.663     11.910      0.000    7786.137    1.09e+04\n",
            "x25         4724.2562   1139.231      4.147      0.000    2475.299    6973.213\n",
            "x26        -2656.6128   1336.899     -1.987      0.049   -5295.786     -17.439\n",
            "x27        -3657.3199    761.122     -4.805      0.000   -5159.852   -2154.788\n",
            "x28        -1362.4792    676.815     -2.013      0.046   -2698.580     -26.379\n",
            "x29        -4333.9447    684.068     -6.336      0.000   -5684.363   -2983.527\n",
            "x30        -1290.6915    548.658     -2.352      0.020   -2373.798    -207.585\n",
            "x31        -3881.3909    835.527     -4.645      0.000   -5530.804   -2231.978\n",
            "x32        -3674.2784    794.342     -4.626      0.000   -5242.389   -2106.168\n",
            "x33         6430.1378   1552.868      4.141      0.000    3364.619    9495.656\n",
            "x34         3495.9634    935.123      3.739      0.000    1649.937    5341.990\n",
            "x35        -1223.3596    423.297     -2.890      0.004   -2058.990    -387.729\n",
            "==============================================================================\n",
            "Omnibus:                       56.229   Durbin-Watson:                   1.517\n",
            "Prob(Omnibus):                  0.000   Jarque-Bera (JB):              240.529\n",
            "Skew:                           0.992   Prob(JB):                     5.89e-53\n",
            "Kurtosis:                       7.922   Cond. No.                     5.89e+05\n",
            "==============================================================================\n",
            "\n",
            "Notes:\n",
            "[1] Standard Errors assume that the covariance matrix of the errors is correctly specified.\n",
            "[2] The condition number is large, 5.89e+05. This might indicate that there are\n",
            "strong multicollinearity or other numerical problems.\n"
          ]
        }
      ]
    },
    {
      "cell_type": "code",
      "source": [
        "#31,21\n",
        "\n",
        "x_opt=x[: , [0,2,3,4,5,6,7,8,10,12,14,15,16,18,19,20,21,24,27,28,30,34,41,42,43,44,45,46,51,52,53,54,55,57,59]]\n",
        "ols_reg =sm.OLS(endog=y ,exog=x_opt).fit()\n",
        "print(ols_reg.summary())"
      ],
      "metadata": {
        "colab": {
          "base_uri": "https://localhost:8080/"
        },
        "id": "scZHdOv-bwS4",
        "outputId": "e54073d1-2ad7-4edb-9601-f6c7958c9480"
      },
      "execution_count": null,
      "outputs": [
        {
          "output_type": "stream",
          "name": "stdout",
          "text": [
            "                            OLS Regression Results                            \n",
            "==============================================================================\n",
            "Dep. Variable:                      y   R-squared:                       0.961\n",
            "Model:                            OLS   Adj. R-squared:                  0.953\n",
            "Method:                 Least Squares   F-statistic:                     123.1\n",
            "Date:                Tue, 03 Jan 2023   Prob (F-statistic):          1.54e-102\n",
            "Time:                        16:20:53   Log-Likelihood:                -1800.0\n",
            "No. Observations:                 205   AIC:                             3670.\n",
            "Df Residuals:                     170   BIC:                             3786.\n",
            "Df Model:                          34                                         \n",
            "Covariance Type:            nonrobust                                         \n",
            "==============================================================================\n",
            "                 coef    std err          t      P>|t|      [0.025      0.975]\n",
            "------------------------------------------------------------------------------\n",
            "const      -2.804e+04    1.2e+04     -2.328      0.021   -5.18e+04   -4261.191\n",
            "x1           336.7905     69.218      4.866      0.000     200.153     473.428\n",
            "x2          -112.6659     39.676     -2.840      0.005    -190.987     -34.345\n",
            "x3           529.9135    184.574      2.871      0.005     165.561     894.266\n",
            "x4          -331.7018    104.836     -3.164      0.002    -538.650    -124.754\n",
            "x5             6.2182      1.110      5.601      0.000       4.027       8.410\n",
            "x6            73.3172     10.486      6.992      0.000      52.618      94.017\n",
            "x7         -2942.4411    757.958     -3.882      0.000   -4438.663   -1446.220\n",
            "x8          -745.8132    299.875     -2.487      0.014   -1337.771    -153.855\n",
            "x9             2.1863      0.445      4.913      0.000       1.308       3.065\n",
            "x10          114.7643     51.320      2.236      0.027      13.458     216.071\n",
            "x11        -9563.4629   4221.366     -2.265      0.025   -1.79e+04   -1230.415\n",
            "x12         1831.0555    538.817      3.398      0.001     767.422    2894.689\n",
            "x13        -3259.9462   1030.786     -3.163      0.002   -5294.735   -1225.157\n",
            "x14        -4769.0646    887.827     -5.372      0.000   -6521.651   -3016.479\n",
            "x15        -3832.6782    910.830     -4.208      0.000   -5630.671   -2034.685\n",
            "x16        -4139.1168    998.998     -4.143      0.000   -6111.155   -2167.078\n",
            "x17         9941.8726   1954.788      5.086      0.000    6083.089    1.38e+04\n",
            "x18         4720.5682   1248.834      3.780      0.000    2255.349    7185.788\n",
            "x19         5270.3694   2193.161      2.403      0.017     941.033    9599.706\n",
            "x20        -2914.1246   1006.194     -2.896      0.004   -4900.368    -927.881\n",
            "x21         1544.3459    428.178      3.607      0.000     699.115    2389.577\n",
            "x22         3166.5782   1121.075      2.825      0.005     953.558    5379.598\n",
            "x23         8733.6945    718.411     12.157      0.000    7315.540    1.02e+04\n",
            "x24         5583.8621   1047.288      5.332      0.000    3516.498    7651.226\n",
            "x25        -2779.4072   1344.696     -2.067      0.040   -5433.860    -124.954\n",
            "x26        -3559.3043    764.645     -4.655      0.000   -5068.727   -2049.882\n",
            "x27        -1286.3688    680.341     -1.891      0.060   -2629.374      56.636\n",
            "x28        -4179.8396    683.770     -6.113      0.000   -5529.613   -2830.066\n",
            "x29        -1639.2006    518.871     -3.159      0.002   -2663.460    -614.941\n",
            "x30        -3424.9742    803.833     -4.261      0.000   -5011.754   -1838.194\n",
            "x31        -3590.5490    798.661     -4.496      0.000   -5167.119   -2013.979\n",
            "x32         6794.5054   1551.199      4.380      0.000    3732.412    9856.599\n",
            "x33         3586.0986    940.459      3.813      0.000    1729.617    5442.580\n",
            "x34        -1249.7897    426.049     -2.933      0.004   -2090.818    -408.762\n",
            "==============================================================================\n",
            "Omnibus:                       52.964   Durbin-Watson:                   1.499\n",
            "Prob(Omnibus):                  0.000   Jarque-Bera (JB):              201.190\n",
            "Skew:                           0.968   Prob(JB):                     2.05e-44\n",
            "Kurtosis:                       7.450   Cond. No.                     5.84e+05\n",
            "==============================================================================\n",
            "\n",
            "Notes:\n",
            "[1] Standard Errors assume that the covariance matrix of the errors is correctly specified.\n",
            "[2] The condition number is large, 5.84e+05. This might indicate that there are\n",
            "strong multicollinearity or other numerical problems.\n"
          ]
        }
      ]
    },
    {
      "cell_type": "code",
      "source": [
        "df_after_extract=df_dummies.drop(\"price\" ,axis=1)#... delete the target variable column to only have features\n"
      ],
      "metadata": {
        "id": "phXst9Z1dr70"
      },
      "execution_count": null,
      "outputs": []
    },
    {
      "cell_type": "code",
      "source": [
        "df_after_extract.iloc[: , [1,2,3,4,5,6,7,9,11,13,14,15,17,18,19,20,23,26,27,29,33,40,41,42,43,44,45,50,51,52,53,54,56,58]].columns #columns after backword elimination "
      ],
      "metadata": {
        "colab": {
          "base_uri": "https://localhost:8080/"
        },
        "id": "BxCmXBOEp72C",
        "outputId": "f840a92d-60bc-4557-c681-fe0e928fbbcf"
      },
      "execution_count": null,
      "outputs": [
        {
          "output_type": "execute_result",
          "data": {
            "text/plain": [
              "Index(['wheelbase', 'carlength', 'carwidth', 'carheight', 'curbweight',\n",
              "       'enginesize', 'boreratio', 'compressionratio', 'peakrpm', 'highwaympg',\n",
              "       'fueltype_gas', 'aspiration_turbo', 'carbody_hardtop',\n",
              "       'carbody_hatchback', 'carbody_sedan', 'carbody_wagon',\n",
              "       'enginelocation_0', 'enginetype_rotor', 'cylindernumber_3',\n",
              "       'cylindernumber_5', 'fuelsystem_2bbl', 'CarCompany_audi',\n",
              "       'CarCompany_bmw', 'CarCompany_buick', 'CarCompany_chevrolet',\n",
              "       'CarCompany_dodge', 'CarCompany_honda', 'CarCompany_mitsubishi',\n",
              "       'CarCompany_nissan', 'CarCompany_peugeot', 'CarCompany_plymouth',\n",
              "       'CarCompany_porsche', 'CarCompany_saab', 'CarCompany_toyota'],\n",
              "      dtype='object')"
            ]
          },
          "metadata": {},
          "execution_count": 105
        }
      ]
    },
    {
      "cell_type": "code",
      "source": [
        "df_after_extract=df_after_extract.iloc[: , [1,2,3,4,5,6,7,9,11,13,14,15,17,18,19,20,23,26,27,29,33,40,41,42,43,44,45,50,51,52,53,54,56,58]]"
      ],
      "metadata": {
        "id": "0vYYuWJ-raFG"
      },
      "execution_count": null,
      "outputs": []
    },
    {
      "cell_type": "code",
      "source": [
        "from sklearn.linear_model import LinearRegression\n",
        "from sklearn.model_selection import train_test_split ,cross_val_score , KFold\n",
        "from sklearn.preprocessing import StandardScaler \n",
        "from sklearn.tree import DecisionTreeRegressor\n",
        "from sklearn.ensemble import RandomForestRegressor\n",
        "from sklearn.svm import SVR\n",
        "\n",
        "X=df_after_extract\n",
        "y=pd.Series(y) \n",
        "X_train,X_test ,y_train ,y_test = train_test_split(X,y,test_size=0.2 ,random_state=0)\n",
        "scaler=StandardScaler()\n",
        "X_train_scaled=scaler.fit_transform(X_train)\n",
        "X_test_scaled=scaler.transform(X_test)"
      ],
      "metadata": {
        "id": "akEUeJLRsbRu"
      },
      "execution_count": null,
      "outputs": []
    },
    {
      "cell_type": "code",
      "source": [
        "#models = {\"LinearRegression\" : LinearRegression() ,\n",
        "#\"decision tree\" :DecisionTreeRegressor(), \n",
        "#\"RandomForestRegressor\" :RandomForestRegressor(n_estimators=50)}\n",
        "reg=LinearRegression()\n",
        "reg.fit(X_train_scaled,y_train)\n",
        "reg.score(X_test_scaled,y_test)\n",
        "reg.score(X_train_scaled,y_train)"
      ],
      "metadata": {
        "colab": {
          "base_uri": "https://localhost:8080/"
        },
        "id": "iW8xO3ijszSh",
        "outputId": "702580d8-f010-4392-fac8-cacf0faee225"
      },
      "execution_count": null,
      "outputs": [
        {
          "output_type": "execute_result",
          "data": {
            "text/plain": [
              "0.902599568345554"
            ]
          },
          "metadata": {},
          "execution_count": 108
        }
      ]
    },
    {
      "cell_type": "code",
      "source": [
        "dt=DecisionTreeRegressor()\n",
        "dt.fit(X_train ,y_train)\n",
        "dt.score(X_test,y_test)"
      ],
      "metadata": {
        "colab": {
          "base_uri": "https://localhost:8080/"
        },
        "id": "LE1kLECStHw0",
        "outputId": "ae2360b6-f241-496d-bd02-af57cee77587"
      },
      "execution_count": null,
      "outputs": [
        {
          "output_type": "execute_result",
          "data": {
            "text/plain": [
              "0.8112818305582723"
            ]
          },
          "metadata": {},
          "execution_count": 109
        }
      ]
    },
    {
      "cell_type": "code",
      "source": [
        "rf=RandomForestRegressor(n_estimators=50)\n",
        "rf.fit(X_train ,y_train)\n",
        "rf.score(X_test,y_test)"
      ],
      "metadata": {
        "colab": {
          "base_uri": "https://localhost:8080/"
        },
        "id": "5a_93a9itKzz",
        "outputId": "a8312669-dea4-4ce7-8f0b-add01d13858f"
      },
      "execution_count": null,
      "outputs": [
        {
          "output_type": "execute_result",
          "data": {
            "text/plain": [
              "0.9017831286491943"
            ]
          },
          "metadata": {},
          "execution_count": 110
        }
      ]
    },
    {
      "cell_type": "code",
      "source": [
        "svr=SVR()\n",
        "svr.fit(X_train_scaled ,y_train)\n",
        "svr.score(X_test_scaled,y_test)"
      ],
      "metadata": {
        "colab": {
          "base_uri": "https://localhost:8080/"
        },
        "id": "3aMsr9e8tPCT",
        "outputId": "6d334033-d836-444b-ec8b-8e51545a7690"
      },
      "execution_count": null,
      "outputs": [
        {
          "output_type": "execute_result",
          "data": {
            "text/plain": [
              "-0.0920179103333627"
            ]
          },
          "metadata": {},
          "execution_count": 111
        }
      ]
    },
    {
      "cell_type": "code",
      "source": [
        "from sklearn.linear_model import Lasso\n",
        "import matplotlib.pyplot as plt\n",
        "import seaborn as sns \n",
        "las=Lasso()\n",
        "coef=las.fit(X_train_scaled , y_train).coef_ \n",
        "columns=X.columns \n",
        "sns.barplot(columns,np.abs(coef))\n",
        "plt.xticks(rotation=90) \n",
        "print(np.abs(coef))"
      ],
      "metadata": {
        "colab": {
          "base_uri": "https://localhost:8080/",
          "height": 564
        },
        "id": "ctx9htn9tRtq",
        "outputId": "aa7cdaa6-cd25-491f-d7ef-e517a2325292"
      },
      "execution_count": null,
      "outputs": [
        {
          "output_type": "stream",
          "name": "stderr",
          "text": [
            "/usr/local/lib/python3.8/dist-packages/seaborn/_decorators.py:36: FutureWarning: Pass the following variables as keyword args: x, y. From version 0.12, the only valid positional argument will be `data`, and passing other arguments without an explicit keyword will result in an error or misinterpretation.\n",
            "  warnings.warn(\n"
          ]
        },
        {
          "output_type": "stream",
          "name": "stdout",
          "text": [
            "[2456.74217973 1702.25378003 1005.44459598  947.25829477 3367.14389373\n",
            " 2670.30210849  802.33492449 1592.87493776  879.72156024  719.56689188\n",
            " 1265.72403905  880.59243627  891.50144428 2430.86014    2119.0068519\n",
            " 1451.39583938 2396.43232033  621.99629739    0.          385.22044388\n",
            "  513.64117718  385.71887167 1442.62483591  943.45268988  340.45781904\n",
            "  834.51187689  334.8380005  1009.69976501  424.04192391  876.78250473\n",
            "  736.32363818    0.          554.22129372  454.97979524]\n"
          ]
        },
        {
          "output_type": "display_data",
          "data": {
            "text/plain": [
              "<Figure size 432x288 with 1 Axes>"
            ],
            "image/png": "[encoded data removed]"
          },
          "metadata": {
            "needs_background": "light"
          }
        }
      ]
    },
    {
      "cell_type": "code",
      "source": [
        "rf=RandomForestRegressor(n_estimators=50)\n",
        "rf.fit(X_train ,y_train)\n",
        "importance_feature= pd.Series ( rf.feature_importances_, index=X.columns).sort_values() \n",
        "importance_feature.plot(kind=\"bar\") \n",
        "plt.show( ) "
      ],
      "metadata": {
        "colab": {
          "base_uri": "https://localhost:8080/",
          "height": 377
        },
        "id": "qYP8vzI7tbgF",
        "outputId": "6753e3a0-6cec-4106-8389-e430cb205212"
      },
      "execution_count": null,
      "outputs": [
        {
          "output_type": "display_data",
          "data": {
            "text/plain": [
              "<Figure size 432x288 with 1 Axes>"
            ],
            "image/png": "[encoded data removed]"
          },
          "metadata": {
            "needs_background": "light"
          }
        }
      ]
    },
    {
      "cell_type": "code",
      "source": [
        "from sklearn.linear_model import LinearRegression \n"
      ],
      "metadata": {
        "id": "h6-TdDJV8ZWG"
      },
      "execution_count": null,
      "outputs": []
    }
  ]
}